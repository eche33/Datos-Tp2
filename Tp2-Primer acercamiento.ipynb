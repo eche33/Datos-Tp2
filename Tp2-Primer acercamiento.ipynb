{
 "cells": [
  {
   "cell_type": "code",
   "execution_count": 1,
   "metadata": {},
   "outputs": [],
   "source": [
    "\n",
    "# importacion general de librerias y de visualizacion (matplotlib y seaborn)# import \n",
    "import pandas as pd\n",
    "import numpy as np\n",
    "import matplotlib.pyplot as plt\n",
    "import seaborn as sns\n",
    "\n",
    "%matplotlib inline\n",
    "\n",
    "plt.style.use('default') # haciendo los graficos un poco mas bonitos en matplotlib\n",
    "#plt.rcParams['figure.figsize'] = (20, 10)\n",
    "\n",
    "sns.set(style=\"whitegrid\") # seteando tipo de grid en seaborn"
   ]
  },
  {
   "cell_type": "markdown",
   "metadata": {},
   "source": [
    "# Data Tp1"
   ]
  },
  {
   "cell_type": "code",
   "execution_count": 9,
   "metadata": {},
   "outputs": [],
   "source": [
    "postulaciones = pd.read_csv('/home/rodrigo/ENV/Data/Tp2/datos_navent_fiuba/fiuba_4_postulaciones.csv', low_memory=False)\n",
    "educacion = pd.read_csv('/home/rodrigo/ENV/Data/Tp2/datos_navent_fiuba/fiuba_1_postulantes_educacion.csv', low_memory=False)\n",
    "genero_y_edad = pd.read_csv('/home/rodrigo/ENV/Data/Tp2/datos_navent_fiuba/fiuba_2_postulantes_genero_y_edad.csv', low_memory=False)\n",
    "vistas = pd.read_csv('/home/rodrigo/ENV/Data/Tp2/datos_navent_fiuba/fiuba_3_vistas.csv', low_memory=False)\n",
    "avisos_online = pd.read_csv('/home/rodrigo/ENV/Data/Tp2/datos_navent_fiuba/fiuba_5_avisos_online.csv', low_memory=False)\n",
    "detale = pd.read_csv('/home/rodrigo/ENV/Data/Tp2/datos_navent_fiuba/fiuba_6_avisos_detalle.csv', low_memory=False)"
   ]
  },
  {
   "cell_type": "markdown",
   "metadata": {},
   "source": [
    "# Data hasta 15 de abril"
   ]
  },
  {
   "cell_type": "code",
   "execution_count": 10,
   "metadata": {},
   "outputs": [],
   "source": [
    "postulaciones_abril = pd.read_csv('/home/rodrigo/ENV/Data/Tp2/hasta_15_abril/fiuba_4_postulaciones.csv', low_memory=False)\n",
    "educacion_abril = pd.read_csv('/home/rodrigo/ENV/Data/Tp2/hasta_15_abril/fiuba_1_postulantes_educacion.csv', low_memory=False)\n",
    "genero_y_edad_abril = pd.read_csv('/home/rodrigo/ENV/Data/Tp2/hasta_15_abril/fiuba_2_postulantes_genero_y_edad.csv', low_memory=False)\n",
    "vistas_abril = pd.read_csv('/home/rodrigo/ENV/Data/Tp2/hasta_15_abril/fiuba_3_vistas.csv', low_memory=False)\n",
    "avisos_online_abril = pd.read_csv('/home/rodrigo/ENV/Data/Tp2/hasta_15_abril/fiuba_5_avisos_online.csv', low_memory=False)\n",
    "detale_abril = pd.read_csv('/home/rodrigo/ENV/Data/Tp2/hasta_15_abril/fiuba_6_avisos_detalle.csv', low_memory=False)"
   ]
  },
  {
   "cell_type": "markdown",
   "metadata": {},
   "source": [
    "# Data post 15 de abril"
   ]
  },
  {
   "cell_type": "code",
   "execution_count": 13,
   "metadata": {},
   "outputs": [],
   "source": [
    "educacion_post_abril = pd.read_csv('/home/rodrigo/ENV/Data/Tp2/desde_15_abril/fiuba_1_postulantes_educacion.csv', low_memory=False)\n",
    "genero_y_edad_post_abril = pd.read_csv('/home/rodrigo/ENV/Data/Tp2/desde_15_abril/fiuba_2_postulantes_genero_y_edad.csv', low_memory=False)\n",
    "vistas_post_abril = pd.read_csv('/home/rodrigo/ENV/Data/Tp2/desde_15_abril/fiuba_3_vistas.csv', low_memory=False)\n",
    "detale_post_abril = pd.read_csv('/home/rodrigo/ENV/Data/Tp2/desde_15_abril/fiuba_6_avisos_detalle.csv', low_memory=False)"
   ]
  },
  {
   "cell_type": "markdown",
   "metadata": {},
   "source": [
    "# Test final"
   ]
  },
  {
   "cell_type": "code",
   "execution_count": 14,
   "metadata": {},
   "outputs": [],
   "source": [
    "test_final = pd.read_csv('/home/rodrigo/ENV/Data/Tp2/test_final_100k.csv', low_memory=False)"
   ]
  },
  {
   "cell_type": "markdown",
   "metadata": {},
   "source": [
    "## Tratando de unificar\n",
    "\n",
    "Trato de juntar la info de los 3 sets en uno"
   ]
  },
  {
   "cell_type": "code",
   "execution_count": 60,
   "metadata": {},
   "outputs": [],
   "source": [
    "lista_educacion = [educacion, educacion_abril, educacion_post_abril]\n",
    "educacion_total = pd.concat(lista_educacion)\n",
    "\n",
    "lista_genero = [genero_y_edad, genero_y_edad_abril, genero_y_edad_post_abril]\n",
    "genero_total = pd.concat(lista_genero)\n",
    "\n",
    "lista_vistas = [vistas, vistas_abril, vistas_post_abril]\n",
    "vistas_total = pd.concat(lista_vistas)\n",
    "\n",
    "detalle_faltante = pd.read_csv('/home/rodrigo/ENV/Data/Tp2/fiuba_6_avisos_detalle_missing_nivel_laboral.csv', low_memory=False)\n",
    "lista_detalle = [detale, detale_abril, detale_post_abril, detalle_faltante]\n",
    "detalle_total = pd.concat(lista_detalle)"
   ]
  },
  {
   "cell_type": "markdown",
   "metadata": {},
   "source": [
    "## Saco duplicados"
   ]
  },
  {
   "cell_type": "code",
   "execution_count": 61,
   "metadata": {},
   "outputs": [],
   "source": [
    "educacion_total = educacion_total.drop_duplicates(subset=['idpostulante','nombre', 'estado'])"
   ]
  },
  {
   "cell_type": "code",
   "execution_count": 62,
   "metadata": {},
   "outputs": [],
   "source": [
    "genero_total = genero_total.drop_duplicates(subset='idpostulante')"
   ]
  },
  {
   "cell_type": "code",
   "execution_count": 65,
   "metadata": {},
   "outputs": [],
   "source": [
    "vistas_total = vistas_total.drop_duplicates(subset=['idAviso', 'timestamp', 'idpostulante'])"
   ]
  },
  {
   "cell_type": "code",
   "execution_count": 68,
   "metadata": {},
   "outputs": [],
   "source": [
    "detalle_total = detalle_total.drop_duplicates(subset='idaviso')"
   ]
  },
  {
   "cell_type": "markdown",
   "metadata": {},
   "source": [
    "Chequeando que todo lo de test este en los otros sets. Un chico ya lo habia hecho en piazza, asi que solo controle que dieron los mismos numeros"
   ]
  },
  {
   "cell_type": "code",
   "execution_count": 70,
   "metadata": {},
   "outputs": [
    {
     "name": "stdout",
     "output_type": "stream",
     "text": [
      "<class 'pandas.core.frame.DataFrame'>\n",
      "Int64Index: 64646 entries, 0 to 64645\n",
      "Data columns (total 5 columns):\n",
      "idpostulante       64646 non-null object\n",
      "fechanacimiento    62179 non-null object\n",
      "sexo               64646 non-null object\n",
      "id                 64646 non-null int64\n",
      "idaviso            64646 non-null int64\n",
      "dtypes: int64(2), object(3)\n",
      "memory usage: 3.0+ MB\n"
     ]
    }
   ],
   "source": [
    "genero_total.merge(test_final.drop_duplicates(subset='idpostulante'), on='idpostulante', how='inner').info()"
   ]
  },
  {
   "cell_type": "code",
   "execution_count": 72,
   "metadata": {},
   "outputs": [
    {
     "name": "stdout",
     "output_type": "stream",
     "text": [
      "<class 'pandas.core.frame.DataFrame'>\n",
      "Int64Index: 14140 entries, 0 to 14139\n",
      "Data columns (total 13 columns):\n",
      "idaviso                 14140 non-null int64\n",
      "idpais                  14140 non-null int64\n",
      "titulo                  14140 non-null object\n",
      "descripcion             14140 non-null object\n",
      "nombre_zona             14140 non-null object\n",
      "ciudad                  114 non-null object\n",
      "mapacalle               1292 non-null object\n",
      "tipo_de_trabajo         14140 non-null object\n",
      "nivel_laboral           13805 non-null object\n",
      "nombre_area             14140 non-null object\n",
      "denominacion_empresa    14137 non-null object\n",
      "id                      14140 non-null int64\n",
      "idpostulante            14140 non-null object\n",
      "dtypes: int64(3), object(10)\n",
      "memory usage: 1.5+ MB\n"
     ]
    }
   ],
   "source": [
    "detalle_total.merge(test_final.drop_duplicates(subset='idaviso'),on='idaviso', how='inner').info()"
   ]
  },
  {
   "cell_type": "markdown",
   "metadata": {},
   "source": [
    "# KNN \n",
    "## Set de entrenamiento"
   ]
  },
  {
   "cell_type": "code",
   "execution_count": null,
   "metadata": {},
   "outputs": [],
   "source": []
  }
 ],
 "metadata": {
  "kernelspec": {
   "display_name": "Python 3",
   "language": "python",
   "name": "python3"
  },
  "language_info": {
   "codemirror_mode": {
    "name": "ipython",
    "version": 3
   },
   "file_extension": ".py",
   "mimetype": "text/x-python",
   "name": "python",
   "nbconvert_exporter": "python",
   "pygments_lexer": "ipython3",
   "version": "3.5.2"
  }
 },
 "nbformat": 4,
 "nbformat_minor": 2
}
