{
 "cells": [
  {
   "cell_type": "code",
   "execution_count": 64,
   "metadata": {},
   "outputs": [],
   "source": [
    "import pandas as pd\n",
    "import numpy as np\n",
    "from datetime import datetime\n",
    "\n",
    "from sklearn import tree\n",
    "from sklearn import preprocessing\n",
    "from sklearn.feature_extraction import FeatureHasher\n",
    "from sklearn.neighbors import KNeighborsClassifier\n",
    "from sklearn.svm import SVC\n",
    "from sklearn import tree\n",
    "from sklearn.model_selection import train_test_split"
   ]
  },
  {
   "cell_type": "code",
   "execution_count": 65,
   "metadata": {},
   "outputs": [
    {
     "name": "stdout",
     "output_type": "stream",
     "text": [
      "<class 'pandas.core.frame.DataFrame'>\n",
      "RangeIndex: 13208286 entries, 0 to 13208285\n",
      "Data columns (total 16 columns):\n",
      "sepostulo               int8\n",
      "idaviso                 int64\n",
      "idpostulante            object\n",
      "fechapostulacion        datetime64[ns]\n",
      "ultima_vista            datetime64[ns]\n",
      "veces_visto             int16\n",
      "estudios                category\n",
      "estado                  category\n",
      "sexo                    category\n",
      "edad                    int8\n",
      "titulo                  object\n",
      "nombre_zona             category\n",
      "tipo_de_trabajo         category\n",
      "nivel_laboral           category\n",
      "nombre_area             category\n",
      "denominacion_empresa    object\n",
      "dtypes: category(7), datetime64[ns](2), int16(1), int64(1), int8(2), object(3)\n",
      "memory usage: 755.8+ MB\n"
     ]
    }
   ],
   "source": [
    "data_set_complete = pd.read_csv('/home/rodrigo/ENV/Notebooks/Tp2/Datos-Tp2/Csvs/data_set_complete.csv', parse_dates=['fechapostulacion', 'ultima_vista'], dtype={'sepostulo':'int8', 'idaviso':'int64', 'idpostulante':'object', 'veces_visto':'int16', 'estudios':'category', 'estado':'category', 'edad':'int8', 'sexo':'category','nombre_zona':'category', 'tipo_de_trabajo':'category', 'nivel_laboral':'category', 'nombre_area':'category'})\n",
    "data_set_complete.info()"
   ]
  },
  {
   "cell_type": "code",
   "execution_count": 66,
   "metadata": {},
   "outputs": [],
   "source": [
    "def df_encode_categorical_vars(df):\n",
    "    for column in df.columns:\n",
    "        if (df[column].dtype.name == 'category'):\n",
    "            le = preprocessing.LabelEncoder()\n",
    "            df[column] = le.fit_transform(df[column].astype(str))"
   ]
  },
  {
   "cell_type": "code",
   "execution_count": 67,
   "metadata": {},
   "outputs": [],
   "source": [
    "def df_encode_object_vars(df):\n",
    "    for column in df.columns:\n",
    "        if (df[column].dtype == type(object)):\n",
    "            le = preprocessing.LabelEncoder()\n",
    "            df[column] = le.fit_transform(df[column].astype(str))"
   ]
  },
  {
   "cell_type": "code",
   "execution_count": 68,
   "metadata": {},
   "outputs": [
    {
     "data": {
      "text/html": [
       "<div>\n",
       "<style scoped>\n",
       "    .dataframe tbody tr th:only-of-type {\n",
       "        vertical-align: middle;\n",
       "    }\n",
       "\n",
       "    .dataframe tbody tr th {\n",
       "        vertical-align: top;\n",
       "    }\n",
       "\n",
       "    .dataframe thead th {\n",
       "        text-align: right;\n",
       "    }\n",
       "</style>\n",
       "<table border=\"1\" class=\"dataframe\">\n",
       "  <thead>\n",
       "    <tr style=\"text-align: right;\">\n",
       "      <th></th>\n",
       "      <th>sepostulo</th>\n",
       "      <th>idaviso</th>\n",
       "      <th>idpostulante</th>\n",
       "      <th>fechapostulacion</th>\n",
       "      <th>ultima_vista</th>\n",
       "      <th>veces_visto</th>\n",
       "      <th>estudios</th>\n",
       "      <th>estado</th>\n",
       "      <th>sexo</th>\n",
       "      <th>edad</th>\n",
       "      <th>titulo</th>\n",
       "      <th>nombre_zona</th>\n",
       "      <th>tipo_de_trabajo</th>\n",
       "      <th>nivel_laboral</th>\n",
       "      <th>nombre_area</th>\n",
       "      <th>denominacion_empresa</th>\n",
       "    </tr>\n",
       "  </thead>\n",
       "  <tbody>\n",
       "    <tr>\n",
       "      <th>0</th>\n",
       "      <td>1</td>\n",
       "      <td>1112384041</td>\n",
       "      <td>0z5Dmrd</td>\n",
       "      <td>2018-03-28 16:24:37</td>\n",
       "      <td>2018-03-28 15:58:15</td>\n",
       "      <td>1</td>\n",
       "      <td>Universitario</td>\n",
       "      <td>Graduado</td>\n",
       "      <td>MASC</td>\n",
       "      <td>52</td>\n",
       "      <td>Gerente de RRHH- Para Importante Cadena de Far...</td>\n",
       "      <td>Gran Buenos Aires</td>\n",
       "      <td>Full-time</td>\n",
       "      <td>Senior / Semi-Senior</td>\n",
       "      <td>Recursos Humanos</td>\n",
       "      <td>PilarArtigas</td>\n",
       "    </tr>\n",
       "    <tr>\n",
       "      <th>1</th>\n",
       "      <td>1</td>\n",
       "      <td>1112420060</td>\n",
       "      <td>0z5Dmrd</td>\n",
       "      <td>2018-03-28 16:47:11</td>\n",
       "      <td>2018-03-28 16:25:03</td>\n",
       "      <td>1</td>\n",
       "      <td>Universitario</td>\n",
       "      <td>Graduado</td>\n",
       "      <td>MASC</td>\n",
       "      <td>52</td>\n",
       "      <td>Coordinador/a de RRHH</td>\n",
       "      <td>Gran Buenos Aires</td>\n",
       "      <td>Full-time</td>\n",
       "      <td>Senior / Semi-Senior</td>\n",
       "      <td>Recursos Humanos</td>\n",
       "      <td>Importante Empresa</td>\n",
       "    </tr>\n",
       "    <tr>\n",
       "      <th>2</th>\n",
       "      <td>1</td>\n",
       "      <td>1112428361</td>\n",
       "      <td>0z5JW1r</td>\n",
       "      <td>2018-04-01 07:26:12</td>\n",
       "      <td>2018-04-01 07:23:35</td>\n",
       "      <td>2</td>\n",
       "      <td>Terciario/Técnico</td>\n",
       "      <td>Graduado</td>\n",
       "      <td>MASC</td>\n",
       "      <td>47</td>\n",
       "      <td>Gerente Nacional de Operaciones de Tiendas - R...</td>\n",
       "      <td>Gran Buenos Aires</td>\n",
       "      <td>Full-time</td>\n",
       "      <td>Gerencia / Alta Gerencia / Dirección</td>\n",
       "      <td>Ventas</td>\n",
       "      <td>Complement Group (holding)</td>\n",
       "    </tr>\n",
       "    <tr>\n",
       "      <th>3</th>\n",
       "      <td>1</td>\n",
       "      <td>1112309728</td>\n",
       "      <td>0z5JW1r</td>\n",
       "      <td>2018-03-02 03:49:53</td>\n",
       "      <td>NaT</td>\n",
       "      <td>1</td>\n",
       "      <td>Terciario/Técnico</td>\n",
       "      <td>Graduado</td>\n",
       "      <td>MASC</td>\n",
       "      <td>47</td>\n",
       "      <td>Asesor de Franquicias Gastronómicas</td>\n",
       "      <td>Gran Buenos Aires</td>\n",
       "      <td>Full-time</td>\n",
       "      <td>Senior / Semi-Senior</td>\n",
       "      <td>Gastronomia</td>\n",
       "      <td>Grupo Myth</td>\n",
       "    </tr>\n",
       "    <tr>\n",
       "      <th>4</th>\n",
       "      <td>1</td>\n",
       "      <td>1112292169</td>\n",
       "      <td>0z5JW1r</td>\n",
       "      <td>2018-02-19 05:12:24</td>\n",
       "      <td>NaT</td>\n",
       "      <td>1</td>\n",
       "      <td>Terciario/Técnico</td>\n",
       "      <td>Graduado</td>\n",
       "      <td>MASC</td>\n",
       "      <td>47</td>\n",
       "      <td>Gerente de Operaciones de Franquicias ( Zona N...</td>\n",
       "      <td>Gran Buenos Aires</td>\n",
       "      <td>Full-time</td>\n",
       "      <td>Gerencia / Alta Gerencia / Dirección</td>\n",
       "      <td>Desarrollo de Negocios</td>\n",
       "      <td>Costumbres Argentinas</td>\n",
       "    </tr>\n",
       "  </tbody>\n",
       "</table>\n",
       "</div>"
      ],
      "text/plain": [
       "   sepostulo     idaviso idpostulante    fechapostulacion        ultima_vista  \\\n",
       "0          1  1112384041      0z5Dmrd 2018-03-28 16:24:37 2018-03-28 15:58:15   \n",
       "1          1  1112420060      0z5Dmrd 2018-03-28 16:47:11 2018-03-28 16:25:03   \n",
       "2          1  1112428361      0z5JW1r 2018-04-01 07:26:12 2018-04-01 07:23:35   \n",
       "3          1  1112309728      0z5JW1r 2018-03-02 03:49:53                 NaT   \n",
       "4          1  1112292169      0z5JW1r 2018-02-19 05:12:24                 NaT   \n",
       "\n",
       "   veces_visto           estudios    estado  sexo  edad  \\\n",
       "0            1      Universitario  Graduado  MASC    52   \n",
       "1            1      Universitario  Graduado  MASC    52   \n",
       "2            2  Terciario/Técnico  Graduado  MASC    47   \n",
       "3            1  Terciario/Técnico  Graduado  MASC    47   \n",
       "4            1  Terciario/Técnico  Graduado  MASC    47   \n",
       "\n",
       "                                              titulo        nombre_zona  \\\n",
       "0  Gerente de RRHH- Para Importante Cadena de Far...  Gran Buenos Aires   \n",
       "1                              Coordinador/a de RRHH  Gran Buenos Aires   \n",
       "2  Gerente Nacional de Operaciones de Tiendas - R...  Gran Buenos Aires   \n",
       "3                Asesor de Franquicias Gastronómicas  Gran Buenos Aires   \n",
       "4  Gerente de Operaciones de Franquicias ( Zona N...  Gran Buenos Aires   \n",
       "\n",
       "  tipo_de_trabajo                         nivel_laboral  \\\n",
       "0       Full-time                  Senior / Semi-Senior   \n",
       "1       Full-time                  Senior / Semi-Senior   \n",
       "2       Full-time  Gerencia / Alta Gerencia / Dirección   \n",
       "3       Full-time                  Senior / Semi-Senior   \n",
       "4       Full-time  Gerencia / Alta Gerencia / Dirección   \n",
       "\n",
       "              nombre_area        denominacion_empresa  \n",
       "0        Recursos Humanos                PilarArtigas  \n",
       "1        Recursos Humanos          Importante Empresa  \n",
       "2                  Ventas  Complement Group (holding)  \n",
       "3             Gastronomia                  Grupo Myth  \n",
       "4  Desarrollo de Negocios       Costumbres Argentinas  "
      ]
     },
     "execution_count": 68,
     "metadata": {},
     "output_type": "execute_result"
    }
   ],
   "source": [
    "data_set_complete.head()"
   ]
  },
  {
   "cell_type": "code",
   "execution_count": 69,
   "metadata": {},
   "outputs": [],
   "source": [
    "df_encode_categorical_vars(data_set_complete)"
   ]
  },
  {
   "cell_type": "code",
   "execution_count": 70,
   "metadata": {},
   "outputs": [],
   "source": [
    "data_set_complete.drop(columns=['veces_visto','idaviso','idpostulante','fechapostulacion','ultima_vista','titulo','denominacion_empresa'], inplace=True)"
   ]
  },
  {
   "cell_type": "code",
   "execution_count": 71,
   "metadata": {},
   "outputs": [],
   "source": [
    "train_set, test_set, train_classes, test_classes = train_test_split(data_set_complete, data_set_complete['sepostulo'], test_size=0.3)"
   ]
  },
  {
   "cell_type": "code",
   "execution_count": 72,
   "metadata": {},
   "outputs": [
    {
     "name": "stderr",
     "output_type": "stream",
     "text": [
      "/home/rodrigo/ENV/lib/python3.5/site-packages/ipykernel_launcher.py:1: SettingWithCopyWarning: \n",
      "A value is trying to be set on a copy of a slice from a DataFrame\n",
      "\n",
      "See the caveats in the documentation: http://pandas.pydata.org/pandas-docs/stable/indexing.html#indexing-view-versus-copy\n",
      "  \"\"\"Entry point for launching an IPython kernel.\n",
      "/home/rodrigo/ENV/lib/python3.5/site-packages/ipykernel_launcher.py:2: SettingWithCopyWarning: \n",
      "A value is trying to be set on a copy of a slice from a DataFrame\n",
      "\n",
      "See the caveats in the documentation: http://pandas.pydata.org/pandas-docs/stable/indexing.html#indexing-view-versus-copy\n",
      "  \n"
     ]
    }
   ],
   "source": [
    "train_set.drop(columns=['sepostulo'], inplace=True)\n",
    "test_set.drop(columns=['sepostulo'], inplace=True)\n",
    "train_classes.drop(columns=['sepostulo'], inplace=True)\n",
    "test_classes.drop(columns=['sepostulo'], inplace=True)"
   ]
  },
  {
   "cell_type": "code",
   "execution_count": 73,
   "metadata": {},
   "outputs": [
    {
     "data": {
      "text/plain": [
       "DecisionTreeClassifier(class_weight=None, criterion='gini', max_depth=None,\n",
       "            max_features=None, max_leaf_nodes=None,\n",
       "            min_impurity_decrease=0.0, min_impurity_split=None,\n",
       "            min_samples_leaf=1, min_samples_split=2,\n",
       "            min_weight_fraction_leaf=0.0, presort=False, random_state=None,\n",
       "            splitter='best')"
      ]
     },
     "execution_count": 73,
     "metadata": {},
     "output_type": "execute_result"
    }
   ],
   "source": [
    "clf = tree.DecisionTreeClassifier()\n",
    "clf.fit(train_set, train_classes)"
   ]
  },
  {
   "cell_type": "code",
   "execution_count": 74,
   "metadata": {},
   "outputs": [
    {
     "data": {
      "text/plain": [
       "0.6463260690384773"
      ]
     },
     "execution_count": 74,
     "metadata": {},
     "output_type": "execute_result"
    }
   ],
   "source": [
    "clf.score(test_set, test_classes)"
   ]
  },
  {
   "cell_type": "code",
   "execution_count": null,
   "metadata": {},
   "outputs": [],
   "source": []
  },
  {
   "cell_type": "code",
   "execution_count": null,
   "metadata": {},
   "outputs": [],
   "source": []
  },
  {
   "cell_type": "markdown",
   "metadata": {},
   "source": [
    "## Prediccion"
   ]
  },
  {
   "cell_type": "code",
   "execution_count": 75,
   "metadata": {},
   "outputs": [
    {
     "name": "stdout",
     "output_type": "stream",
     "text": [
      "<class 'pandas.core.frame.DataFrame'>\n",
      "RangeIndex: 100000 entries, 0 to 99999\n",
      "Data columns (total 16 columns):\n",
      "id                      100000 non-null int64\n",
      "idaviso                 100000 non-null int64\n",
      "idpostulante            100000 non-null object\n",
      "fechapostulacion        0 non-null float64\n",
      "ultima_vista            34161 non-null object\n",
      "veces_visto             100000 non-null int64\n",
      "estudios                94388 non-null object\n",
      "estado                  94388 non-null object\n",
      "sexo                    100000 non-null object\n",
      "edad                    100000 non-null int64\n",
      "titulo                  100000 non-null object\n",
      "nombre_zona             100000 non-null object\n",
      "tipo_de_trabajo         100000 non-null object\n",
      "nivel_laboral           95569 non-null object\n",
      "nombre_area             100000 non-null object\n",
      "denominacion_empresa    99988 non-null object\n",
      "dtypes: float64(1), int64(4), object(11)\n",
      "memory usage: 12.2+ MB\n"
     ]
    },
    {
     "name": "stderr",
     "output_type": "stream",
     "text": [
      "/home/rodrigo/ENV/lib/python3.5/site-packages/IPython/core/interactiveshell.py:2728: DtypeWarning: Columns (4) have mixed types. Specify dtype option on import or set low_memory=False.\n",
      "  interactivity=interactivity, compiler=compiler, result=result)\n"
     ]
    }
   ],
   "source": [
    "test_100k = pd.read_csv('/home/rodrigo/ENV/Notebooks/Tp2/Datos-Tp2/Csvs/test_final_100k_complete.csv')\n",
    "test_100k.info()"
   ]
  },
  {
   "cell_type": "code",
   "execution_count": 76,
   "metadata": {},
   "outputs": [
    {
     "data": {
      "text/html": [
       "<div>\n",
       "<style scoped>\n",
       "    .dataframe tbody tr th:only-of-type {\n",
       "        vertical-align: middle;\n",
       "    }\n",
       "\n",
       "    .dataframe tbody tr th {\n",
       "        vertical-align: top;\n",
       "    }\n",
       "\n",
       "    .dataframe thead th {\n",
       "        text-align: right;\n",
       "    }\n",
       "</style>\n",
       "<table border=\"1\" class=\"dataframe\">\n",
       "  <thead>\n",
       "    <tr style=\"text-align: right;\">\n",
       "      <th></th>\n",
       "      <th>id</th>\n",
       "      <th>idaviso</th>\n",
       "      <th>idpostulante</th>\n",
       "      <th>fechapostulacion</th>\n",
       "      <th>ultima_vista</th>\n",
       "      <th>veces_visto</th>\n",
       "      <th>estudios</th>\n",
       "      <th>estado</th>\n",
       "      <th>sexo</th>\n",
       "      <th>edad</th>\n",
       "      <th>titulo</th>\n",
       "      <th>nombre_zona</th>\n",
       "      <th>tipo_de_trabajo</th>\n",
       "      <th>nivel_laboral</th>\n",
       "      <th>nombre_area</th>\n",
       "      <th>denominacion_empresa</th>\n",
       "    </tr>\n",
       "  </thead>\n",
       "  <tbody>\n",
       "    <tr>\n",
       "      <th>0</th>\n",
       "      <td>0</td>\n",
       "      <td>739260</td>\n",
       "      <td>6M9ZQR</td>\n",
       "      <td>NaN</td>\n",
       "      <td>NaN</td>\n",
       "      <td>0</td>\n",
       "      <td>Doctorado</td>\n",
       "      <td>Graduado</td>\n",
       "      <td>FEM</td>\n",
       "      <td>42</td>\n",
       "      <td>Asistente Comercial</td>\n",
       "      <td>Capital Federal</td>\n",
       "      <td>Full-time</td>\n",
       "      <td>Jefe / Supervisor / Responsable</td>\n",
       "      <td>Comercial</td>\n",
       "      <td>BUMERAN.COM ARGENTINA</td>\n",
       "    </tr>\n",
       "    <tr>\n",
       "      <th>1</th>\n",
       "      <td>1</td>\n",
       "      <td>739260</td>\n",
       "      <td>6v1xdL</td>\n",
       "      <td>NaN</td>\n",
       "      <td>NaN</td>\n",
       "      <td>0</td>\n",
       "      <td>Terciario/Técnico</td>\n",
       "      <td>Graduado</td>\n",
       "      <td>MASC</td>\n",
       "      <td>30</td>\n",
       "      <td>Asistente Comercial</td>\n",
       "      <td>Capital Federal</td>\n",
       "      <td>Full-time</td>\n",
       "      <td>Jefe / Supervisor / Responsable</td>\n",
       "      <td>Comercial</td>\n",
       "      <td>BUMERAN.COM ARGENTINA</td>\n",
       "    </tr>\n",
       "    <tr>\n",
       "      <th>2</th>\n",
       "      <td>2</td>\n",
       "      <td>739260</td>\n",
       "      <td>ezRKm9</td>\n",
       "      <td>NaN</td>\n",
       "      <td>NaN</td>\n",
       "      <td>0</td>\n",
       "      <td>Universitario</td>\n",
       "      <td>Graduado</td>\n",
       "      <td>FEM</td>\n",
       "      <td>36</td>\n",
       "      <td>Asistente Comercial</td>\n",
       "      <td>Capital Federal</td>\n",
       "      <td>Full-time</td>\n",
       "      <td>Jefe / Supervisor / Responsable</td>\n",
       "      <td>Comercial</td>\n",
       "      <td>BUMERAN.COM ARGENTINA</td>\n",
       "    </tr>\n",
       "    <tr>\n",
       "      <th>3</th>\n",
       "      <td>3</td>\n",
       "      <td>758580</td>\n",
       "      <td>1Q35ej</td>\n",
       "      <td>NaN</td>\n",
       "      <td>NaN</td>\n",
       "      <td>0</td>\n",
       "      <td>Posgrado</td>\n",
       "      <td>Graduado</td>\n",
       "      <td>MASC</td>\n",
       "      <td>68</td>\n",
       "      <td>Oracle Financials Sr. Application Developer</td>\n",
       "      <td>Capital Federal</td>\n",
       "      <td>Full-time</td>\n",
       "      <td>Otro</td>\n",
       "      <td>Tecnologia / Sistemas</td>\n",
       "      <td>TeleTech</td>\n",
       "    </tr>\n",
       "    <tr>\n",
       "      <th>4</th>\n",
       "      <td>4</td>\n",
       "      <td>758580</td>\n",
       "      <td>EAN4J6</td>\n",
       "      <td>NaN</td>\n",
       "      <td>NaN</td>\n",
       "      <td>0</td>\n",
       "      <td>Universitario</td>\n",
       "      <td>En Curso</td>\n",
       "      <td>FEM</td>\n",
       "      <td>32</td>\n",
       "      <td>Oracle Financials Sr. Application Developer</td>\n",
       "      <td>Capital Federal</td>\n",
       "      <td>Full-time</td>\n",
       "      <td>Otro</td>\n",
       "      <td>Tecnologia / Sistemas</td>\n",
       "      <td>TeleTech</td>\n",
       "    </tr>\n",
       "  </tbody>\n",
       "</table>\n",
       "</div>"
      ],
      "text/plain": [
       "   id  idaviso idpostulante  fechapostulacion ultima_vista  veces_visto  \\\n",
       "0   0   739260       6M9ZQR               NaN          NaN            0   \n",
       "1   1   739260       6v1xdL               NaN          NaN            0   \n",
       "2   2   739260       ezRKm9               NaN          NaN            0   \n",
       "3   3   758580       1Q35ej               NaN          NaN            0   \n",
       "4   4   758580       EAN4J6               NaN          NaN            0   \n",
       "\n",
       "            estudios    estado  sexo  edad  \\\n",
       "0          Doctorado  Graduado   FEM    42   \n",
       "1  Terciario/Técnico  Graduado  MASC    30   \n",
       "2      Universitario  Graduado   FEM    36   \n",
       "3           Posgrado  Graduado  MASC    68   \n",
       "4      Universitario  En Curso   FEM    32   \n",
       "\n",
       "                                        titulo      nombre_zona  \\\n",
       "0                          Asistente Comercial  Capital Federal   \n",
       "1                          Asistente Comercial  Capital Federal   \n",
       "2                          Asistente Comercial  Capital Federal   \n",
       "3  Oracle Financials Sr. Application Developer  Capital Federal   \n",
       "4  Oracle Financials Sr. Application Developer  Capital Federal   \n",
       "\n",
       "  tipo_de_trabajo                    nivel_laboral            nombre_area  \\\n",
       "0       Full-time  Jefe / Supervisor / Responsable              Comercial   \n",
       "1       Full-time  Jefe / Supervisor / Responsable              Comercial   \n",
       "2       Full-time  Jefe / Supervisor / Responsable              Comercial   \n",
       "3       Full-time                             Otro  Tecnologia / Sistemas   \n",
       "4       Full-time                             Otro  Tecnologia / Sistemas   \n",
       "\n",
       "    denominacion_empresa  \n",
       "0  BUMERAN.COM ARGENTINA  \n",
       "1  BUMERAN.COM ARGENTINA  \n",
       "2  BUMERAN.COM ARGENTINA  \n",
       "3               TeleTech  \n",
       "4               TeleTech  "
      ]
     },
     "execution_count": 76,
     "metadata": {},
     "output_type": "execute_result"
    }
   ],
   "source": [
    "test_100k.head()"
   ]
  },
  {
   "cell_type": "code",
   "execution_count": 77,
   "metadata": {},
   "outputs": [],
   "source": [
    "test_100k.drop(columns=['veces_visto','idaviso','idpostulante','fechapostulacion','ultima_vista','titulo','denominacion_empresa'], inplace=True)"
   ]
  },
  {
   "cell_type": "code",
   "execution_count": 78,
   "metadata": {},
   "outputs": [
    {
     "name": "stdout",
     "output_type": "stream",
     "text": [
      "<class 'pandas.core.frame.DataFrame'>\n",
      "RangeIndex: 100000 entries, 0 to 99999\n",
      "Data columns (total 9 columns):\n",
      "id                 100000 non-null int64\n",
      "estudios           94388 non-null object\n",
      "estado             94388 non-null object\n",
      "sexo               100000 non-null object\n",
      "edad               100000 non-null int64\n",
      "nombre_zona        100000 non-null object\n",
      "tipo_de_trabajo    100000 non-null object\n",
      "nivel_laboral      95569 non-null object\n",
      "nombre_area        100000 non-null object\n",
      "dtypes: int64(2), object(7)\n",
      "memory usage: 6.9+ MB\n"
     ]
    }
   ],
   "source": [
    "test_100k.info()"
   ]
  },
  {
   "cell_type": "code",
   "execution_count": 79,
   "metadata": {},
   "outputs": [],
   "source": [
    "df_encode_object_vars(test_100k)"
   ]
  },
  {
   "cell_type": "code",
   "execution_count": 80,
   "metadata": {},
   "outputs": [
    {
     "name": "stdout",
     "output_type": "stream",
     "text": [
      "<class 'pandas.core.frame.DataFrame'>\n",
      "RangeIndex: 100000 entries, 0 to 99999\n",
      "Data columns (total 9 columns):\n",
      "id                 100000 non-null int64\n",
      "estudios           100000 non-null int64\n",
      "estado             100000 non-null int64\n",
      "sexo               100000 non-null int64\n",
      "edad               100000 non-null int64\n",
      "nombre_zona        100000 non-null int64\n",
      "tipo_de_trabajo    100000 non-null int64\n",
      "nivel_laboral      100000 non-null int64\n",
      "nombre_area        100000 non-null int64\n",
      "dtypes: int64(9)\n",
      "memory usage: 6.9 MB\n"
     ]
    }
   ],
   "source": [
    "test_100k.info()"
   ]
  },
  {
   "cell_type": "code",
   "execution_count": 81,
   "metadata": {},
   "outputs": [
    {
     "data": {
      "text/html": [
       "<div>\n",
       "<style scoped>\n",
       "    .dataframe tbody tr th:only-of-type {\n",
       "        vertical-align: middle;\n",
       "    }\n",
       "\n",
       "    .dataframe tbody tr th {\n",
       "        vertical-align: top;\n",
       "    }\n",
       "\n",
       "    .dataframe thead th {\n",
       "        text-align: right;\n",
       "    }\n",
       "</style>\n",
       "<table border=\"1\" class=\"dataframe\">\n",
       "  <thead>\n",
       "    <tr style=\"text-align: right;\">\n",
       "      <th></th>\n",
       "      <th>id</th>\n",
       "      <th>estudios</th>\n",
       "      <th>estado</th>\n",
       "      <th>sexo</th>\n",
       "      <th>edad</th>\n",
       "      <th>nombre_zona</th>\n",
       "      <th>tipo_de_trabajo</th>\n",
       "      <th>nivel_laboral</th>\n",
       "      <th>nombre_area</th>\n",
       "    </tr>\n",
       "  </thead>\n",
       "  <tbody>\n",
       "    <tr>\n",
       "      <th>0</th>\n",
       "      <td>0</td>\n",
       "      <td>0</td>\n",
       "      <td>2</td>\n",
       "      <td>0</td>\n",
       "      <td>42</td>\n",
       "      <td>1</td>\n",
       "      <td>1</td>\n",
       "      <td>1</td>\n",
       "      <td>29</td>\n",
       "    </tr>\n",
       "    <tr>\n",
       "      <th>1</th>\n",
       "      <td>1</td>\n",
       "      <td>5</td>\n",
       "      <td>2</td>\n",
       "      <td>1</td>\n",
       "      <td>30</td>\n",
       "      <td>1</td>\n",
       "      <td>1</td>\n",
       "      <td>1</td>\n",
       "      <td>29</td>\n",
       "    </tr>\n",
       "    <tr>\n",
       "      <th>2</th>\n",
       "      <td>2</td>\n",
       "      <td>6</td>\n",
       "      <td>2</td>\n",
       "      <td>0</td>\n",
       "      <td>36</td>\n",
       "      <td>1</td>\n",
       "      <td>1</td>\n",
       "      <td>1</td>\n",
       "      <td>29</td>\n",
       "    </tr>\n",
       "    <tr>\n",
       "      <th>3</th>\n",
       "      <td>3</td>\n",
       "      <td>3</td>\n",
       "      <td>2</td>\n",
       "      <td>1</td>\n",
       "      <td>68</td>\n",
       "      <td>1</td>\n",
       "      <td>1</td>\n",
       "      <td>3</td>\n",
       "      <td>164</td>\n",
       "    </tr>\n",
       "    <tr>\n",
       "      <th>4</th>\n",
       "      <td>4</td>\n",
       "      <td>6</td>\n",
       "      <td>1</td>\n",
       "      <td>0</td>\n",
       "      <td>32</td>\n",
       "      <td>1</td>\n",
       "      <td>1</td>\n",
       "      <td>3</td>\n",
       "      <td>164</td>\n",
       "    </tr>\n",
       "  </tbody>\n",
       "</table>\n",
       "</div>"
      ],
      "text/plain": [
       "   id  estudios  estado  sexo  edad  nombre_zona  tipo_de_trabajo  \\\n",
       "0   0         0       2     0    42            1                1   \n",
       "1   1         5       2     1    30            1                1   \n",
       "2   2         6       2     0    36            1                1   \n",
       "3   3         3       2     1    68            1                1   \n",
       "4   4         6       1     0    32            1                1   \n",
       "\n",
       "   nivel_laboral  nombre_area  \n",
       "0              1           29  \n",
       "1              1           29  \n",
       "2              1           29  \n",
       "3              3          164  \n",
       "4              3          164  "
      ]
     },
     "execution_count": 81,
     "metadata": {},
     "output_type": "execute_result"
    }
   ],
   "source": [
    "test_100k.head()"
   ]
  },
  {
   "cell_type": "code",
   "execution_count": 82,
   "metadata": {},
   "outputs": [],
   "source": [
    "test_100k['sepostulo'] = clf.predict(test_100k.drop(columns='id'))"
   ]
  },
  {
   "cell_type": "code",
   "execution_count": 83,
   "metadata": {},
   "outputs": [
    {
     "data": {
      "text/plain": [
       "0    54436\n",
       "1    45564\n",
       "Name: sepostulo, dtype: int64"
      ]
     },
     "execution_count": 83,
     "metadata": {},
     "output_type": "execute_result"
    }
   ],
   "source": [
    "test_100k['sepostulo'].value_counts()"
   ]
  },
  {
   "cell_type": "code",
   "execution_count": null,
   "metadata": {},
   "outputs": [],
   "source": []
  },
  {
   "cell_type": "code",
   "execution_count": null,
   "metadata": {},
   "outputs": [],
   "source": []
  },
  {
   "cell_type": "code",
   "execution_count": 85,
   "metadata": {},
   "outputs": [],
   "source": [
    "test_100k[['id','sepostulo']].to_csv('Decision_tree_sin_veces_visto_todo_default.csv', index=False)"
   ]
  },
  {
   "cell_type": "code",
   "execution_count": null,
   "metadata": {},
   "outputs": [],
   "source": []
  }
 ],
 "metadata": {
  "kernelspec": {
   "display_name": "Python 3",
   "language": "python",
   "name": "python3"
  },
  "language_info": {
   "codemirror_mode": {
    "name": "ipython",
    "version": 3
   },
   "file_extension": ".py",
   "mimetype": "text/x-python",
   "name": "python",
   "nbconvert_exporter": "python",
   "pygments_lexer": "ipython3",
   "version": "3.5.2"
  }
 },
 "nbformat": 4,
 "nbformat_minor": 2
}
