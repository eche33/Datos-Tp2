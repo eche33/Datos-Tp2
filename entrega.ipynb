{
 "cells": [
  {
   "cell_type": "code",
   "execution_count": 1,
   "metadata": {},
   "outputs": [
    {
     "name": "stdout",
     "output_type": "stream",
     "text": [
      "[nltk_data] Downloading package stopwords to\n",
      "[nltk_data]     /home/rodrigo/nltk_data...\n",
      "[nltk_data]   Package stopwords is already up-to-date!\n",
      "[nltk_data] Downloading package punkt to /home/rodrigo/nltk_data...\n",
      "[nltk_data]   Package punkt is already up-to-date!\n"
     ]
    }
   ],
   "source": [
    "import pandas as pd\n",
    "import numpy as np\n",
    "\n",
    "from datetime import datetime\n",
    "from IPython.display import clear_output\n",
    "\n",
    "from collections import Counter\n",
    "\n",
    "import nltk\n",
    "\n",
    "from sklearn.model_selection import train_test_split\n",
    "from sklearn import preprocessing\n",
    "from sklearn.preprocessing import MinMaxScaler\n",
    "from sklearn.preprocessing import Normalizer\n",
    "from sklearn.preprocessing import normalize\n",
    "from sklearn import tree\n",
    "from sklearn import svm\n",
    "from sklearn.ensemble import RandomForestClassifier\n",
    "from sklearn.ensemble import ExtraTreesClassifier\n",
    "from sklearn.ensemble import AdaBoostClassifier\n",
    "from sklearn.ensemble import GradientBoostingClassifier\n",
    "from sklearn.model_selection import GridSearchCV\n",
    "from sklearn.ensemble import BaggingClassifier\n",
    "from sklearn.model_selection import cross_val_score\n",
    "from sklearn.naive_bayes import GaussianNB\n",
    "from sklearn.neighbors import KNeighborsClassifier\n",
    "from sklearn.neural_network import MLPClassifier\n",
    "from sklearn.linear_model import LogisticRegression\n",
    "\n",
    "import gensim\n",
    "# Instrucciones: https://radimrehurek.com/gensim/install.html\n",
    "# Yo baje el 'gensim-3.4.0.tar.gz' de  'https://pypi.org/project/gensim/#files' y se instala facil tirando terminal desde el directorio extraido y  'python setup.py install'\n",
    "# Restar Kernel y sale andando\n",
    "from gensim import corpora\n",
    "from gensim.models.word2vec import Word2Vec\n",
    "\n",
    "import nltk\n",
    "nltk.download('stopwords')\n",
    "nltk.download('punkt')\n",
    "from nltk.corpus import stopwords\n",
    "from nltk.stem.snowball import SnowballStemmer"
   ]
  },
  {
   "cell_type": "markdown",
   "metadata": {},
   "source": [
    "### Preparo y entreno el label encoder y el one hot encoder con la info de todos los avisos existentes"
   ]
  },
  {
   "cell_type": "code",
   "execution_count": 2,
   "metadata": {},
   "outputs": [
    {
     "name": "stdout",
     "output_type": "stream",
     "text": [
      "<class 'pandas.core.frame.DataFrame'>\n",
      "RangeIndex: 25288 entries, 0 to 25287\n",
      "Data columns (total 2 columns):\n",
      "idaviso        25288 non-null int64\n",
      "nombre_area    25288 non-null object\n",
      "dtypes: int64(1), object(1)\n",
      "memory usage: 395.2+ KB\n"
     ]
    }
   ],
   "source": [
    "avisos_totales = pd.concat([pd.read_csv('/home/rodrigo/ENV/Notebooks/Tp2/Datos-Tp2/Data/datos_navent_fiuba/fiuba_6_avisos_detalle.csv', usecols=['idaviso', 'nombre_area']), pd.read_csv('/home/rodrigo/ENV/Notebooks/Tp2/Datos-Tp2/Data/fiuba_hasta_15_abril/fiuba_6_avisos_detalle.csv', usecols=['idaviso', 'nombre_area']), pd.read_csv('/home/rodrigo/ENV/Notebooks/Tp2/Datos-Tp2/Data/Fiuba desde 15 Abril/fiuba_6_avisos_detalle.csv', usecols=['idaviso', 'nombre_area']), pd.read_csv('/home/rodrigo/ENV/Notebooks/Tp2/Datos-Tp2/Data/fiuba_6_avisos_detalle_missing_nivel_laboral.csv', usecols=['idaviso', 'nombre_area'])])\n",
    "avisos_totales.drop_duplicates(subset=['idaviso'], inplace=True)\n",
    "avisos_totales.reset_index(drop=True, inplace=True)\n",
    "avisos_totales.info()"
   ]
  },
  {
   "cell_type": "code",
   "execution_count": 3,
   "metadata": {},
   "outputs": [
    {
     "data": {
      "text/plain": [
       "188"
      ]
     },
     "execution_count": 3,
     "metadata": {},
     "output_type": "execute_result"
    }
   ],
   "source": [
    "avisos_totales['nombre_area'].value_counts().size"
   ]
  },
  {
   "cell_type": "markdown",
   "metadata": {},
   "source": [
    "- Label encoding para las 188 areas, y entreno el One Hot Encoding con esos 188 codigos (0-187)"
   ]
  },
  {
   "cell_type": "code",
   "execution_count": 4,
   "metadata": {},
   "outputs": [
    {
     "data": {
      "text/html": [
       "<div>\n",
       "<style scoped>\n",
       "    .dataframe tbody tr th:only-of-type {\n",
       "        vertical-align: middle;\n",
       "    }\n",
       "\n",
       "    .dataframe tbody tr th {\n",
       "        vertical-align: top;\n",
       "    }\n",
       "\n",
       "    .dataframe thead th {\n",
       "        text-align: right;\n",
       "    }\n",
       "</style>\n",
       "<table border=\"1\" class=\"dataframe\">\n",
       "  <thead>\n",
       "    <tr style=\"text-align: right;\">\n",
       "      <th></th>\n",
       "      <th>idaviso</th>\n",
       "      <th>nombre_area</th>\n",
       "      <th>codigo_area</th>\n",
       "    </tr>\n",
       "  </thead>\n",
       "  <tbody>\n",
       "    <tr>\n",
       "      <th>0</th>\n",
       "      <td>8725750</td>\n",
       "      <td>Comercial</td>\n",
       "      <td>30</td>\n",
       "    </tr>\n",
       "    <tr>\n",
       "      <th>1</th>\n",
       "      <td>17903700</td>\n",
       "      <td>Salud</td>\n",
       "      <td>158</td>\n",
       "    </tr>\n",
       "    <tr>\n",
       "      <th>2</th>\n",
       "      <td>1000150677</td>\n",
       "      <td>Transporte</td>\n",
       "      <td>181</td>\n",
       "    </tr>\n",
       "    <tr>\n",
       "      <th>3</th>\n",
       "      <td>1000610287</td>\n",
       "      <td>Transporte</td>\n",
       "      <td>181</td>\n",
       "    </tr>\n",
       "    <tr>\n",
       "      <th>4</th>\n",
       "      <td>1000872556</td>\n",
       "      <td>Producción</td>\n",
       "      <td>143</td>\n",
       "    </tr>\n",
       "  </tbody>\n",
       "</table>\n",
       "</div>"
      ],
      "text/plain": [
       "      idaviso nombre_area  codigo_area\n",
       "0     8725750   Comercial           30\n",
       "1    17903700       Salud          158\n",
       "2  1000150677  Transporte          181\n",
       "3  1000610287  Transporte          181\n",
       "4  1000872556  Producción          143"
      ]
     },
     "execution_count": 4,
     "metadata": {},
     "output_type": "execute_result"
    }
   ],
   "source": [
    "#Fundamental usar para el label encoder una columna DF que contenga TODOS los posibles valores categoricos del nombre de area, es decir, lo saco del DF de TODOS los anuncios.\n",
    "#Esto es para que si en un set no estan todos, igual los codifique de la misma forma. SI lo entreno con un set que no tiene todos, al ingresar un set con valores nuevos\n",
    "#va a tirar error porque no tenia esos labels entrenados\n",
    "\n",
    "#UNA VEZ ENTRENADO EL LABEL ENCODER, Y EL ONEHOTENCODER, USAR SIEMRE EL MISMO PARA EL RESTO DEL NOTEBOOK CODIFICAR LOS SETS DE DATA (TEST Y TRAIN) Y EL SET DE TEST100K\n",
    "\n",
    "le = preprocessing.LabelEncoder()\n",
    "avisos_totales['codigo_area'] = le.fit_transform(avisos_totales['nombre_area'].astype(str))\n",
    "\n",
    "#PARA EL ONE HOT ENCODING, AVISARLE QUE LA CANTIDAD DE VALORES CATEGORICOS ES EL DE TODAS LAS CATEGORIAS EN EL DF DE TODOS LOS ANUNCIOS:188\n",
    "enc = preprocessing.OneHotEncoder(188)   \n",
    "enc.fit(avisos_totales['codigo_area'].values.reshape(-1,1))\n",
    "\n",
    "avisos_totales.head()"
   ]
  },
  {
   "cell_type": "code",
   "execution_count": null,
   "metadata": {},
   "outputs": [],
   "source": []
  },
  {
   "cell_type": "code",
   "execution_count": null,
   "metadata": {},
   "outputs": [],
   "source": []
  },
  {
   "cell_type": "markdown",
   "metadata": {},
   "source": [
    "### Cargo historial de postulaciones x usuario x area, ya encodeado con One Hot Encoding"
   ]
  },
  {
   "cell_type": "code",
   "execution_count": 5,
   "metadata": {},
   "outputs": [
    {
     "name": "stdout",
     "output_type": "stream",
     "text": [
      "<class 'pandas.core.frame.DataFrame'>\n",
      "RangeIndex: 346764 entries, 0 to 346763\n",
      "Columns: 189 entries, idpostulante to h187\n",
      "dtypes: int16(188), object(1)\n",
      "memory usage: 127.0+ MB\n"
     ]
    }
   ],
   "source": [
    "users_ids_history = pd.read_csv('/home/rodrigo/ENV/Notebooks/Tp2/Datos-Tp2/Csvs/historial_cant_post_xuser_xarea.csv', dtype={i+1:'int16' for i in range(188)})\n",
    "users_ids_history.rename(columns={col:('h'+col) for col in users_ids_history.columns[1:]}, inplace=True)\n",
    "users_ids_history.info()"
   ]
  },
  {
   "cell_type": "code",
   "execution_count": null,
   "metadata": {},
   "outputs": [],
   "source": []
  },
  {
   "cell_type": "code",
   "execution_count": null,
   "metadata": {},
   "outputs": [],
   "source": []
  },
  {
   "cell_type": "markdown",
   "metadata": {},
   "source": [
    "### Cargo Dataset y test100k para operar"
   ]
  },
  {
   "cell_type": "code",
   "execution_count": 6,
   "metadata": {},
   "outputs": [
    {
     "name": "stdout",
     "output_type": "stream",
     "text": [
      "<class 'pandas.core.frame.DataFrame'>\n",
      "RangeIndex: 3000000 entries, 0 to 2999999\n",
      "Data columns (total 21 columns):\n",
      "sepostulo           int8\n",
      "idpostulante        object\n",
      "veces_visto         int16\n",
      "sexo                int8\n",
      "edad                int8\n",
      "titulo              object\n",
      "nombre_area         category\n",
      "estudio_encurso     int8\n",
      "estudio_graduado    int8\n",
      "tipo_full-time      int8\n",
      "tipo_part-time      int8\n",
      "tipo_otro           int8\n",
      "zona_gba            int8\n",
      "zona_caba           int8\n",
      "nivel_senior        int8\n",
      "nivel_junior        int8\n",
      "nivel_otro          int8\n",
      "nivel_jefe          int8\n",
      "nivel_gerente       int8\n",
      "post_x_aviso        int32\n",
      "vistas_x_aviso      int32\n",
      "dtypes: category(1), int16(1), int32(2), int8(15), object(2)\n",
      "memory usage: 123.0+ MB\n"
     ]
    }
   ],
   "source": [
    "data_set_complete_v2 = pd.read_csv('/home/rodrigo/ENV/Notebooks/Tp2/Datos-Tp2/Csvs/data_set_complete_v2.csv', usecols=['sepostulo','idpostulante','veces_visto','sexo','edad','titulo','nombre_area',\\\n",
    "                                                                  'estudio_encurso','estudio_graduado','tipo_full-time','tipo_part-time','tipo_otro',\\\n",
    "                                                                  'zona_gba','zona_caba','nivel_senior','nivel_junior','nivel_otro','nivel_jefe','nivel_gerente','post_x_aviso','vistas_x_aviso'],\\\n",
    "                                dtype={'sepostulo':'int8', 'idpostulante':'object', 'veces_visto':'int16', 'sexo':'int8', 'edad':'int8', 'nombre_area':'category',\\\n",
    "                                       'estudio_encurso':'int8', 'estudio_graduado':'int8', 'tipo_full-time':'int8','tipo_part-time':'int8','tipo_otro':'int8',\\\n",
    "                                       'zona_gba':'int8','zona_caba':'int8','nivel_senior':'int8','nivel_junior':'int8','nivel_otro':'int8','nivel_jefe':'int8','nivel_gerente':'int8', 'post_x_aviso':'int32','vistas_x_aviso':'int32'})\n",
    "\n",
    "data_set_complete_v2.info()"
   ]
  },
  {
   "cell_type": "code",
   "execution_count": 7,
   "metadata": {},
   "outputs": [
    {
     "name": "stdout",
     "output_type": "stream",
     "text": [
      "<class 'pandas.core.frame.DataFrame'>\n",
      "RangeIndex: 1000000 entries, 0 to 999999\n",
      "Data columns (total 21 columns):\n",
      "sepostulo           1000000 non-null int8\n",
      "idpostulante        1000000 non-null object\n",
      "veces_visto         1000000 non-null int16\n",
      "sexo                1000000 non-null int8\n",
      "edad                1000000 non-null int8\n",
      "titulo              1000000 non-null object\n",
      "nombre_area         1000000 non-null category\n",
      "estudio_encurso     1000000 non-null int8\n",
      "estudio_graduado    1000000 non-null int8\n",
      "tipo_full-time      1000000 non-null int8\n",
      "tipo_part-time      1000000 non-null int8\n",
      "tipo_otro           1000000 non-null int8\n",
      "zona_gba            1000000 non-null int8\n",
      "zona_caba           1000000 non-null int8\n",
      "nivel_senior        1000000 non-null int8\n",
      "nivel_junior        1000000 non-null int8\n",
      "nivel_otro          1000000 non-null int8\n",
      "nivel_jefe          1000000 non-null int8\n",
      "nivel_gerente       1000000 non-null int8\n",
      "post_x_aviso        1000000 non-null int32\n",
      "vistas_x_aviso      1000000 non-null int32\n",
      "dtypes: category(1), int16(1), int32(2), int8(15), object(2)\n",
      "memory usage: 41.0+ MB\n"
     ]
    }
   ],
   "source": [
    "#Achico a 1 millon para maniabrabilidad en terminos de performance\n",
    "data = data_set_complete_v2.sample(1000000)\n",
    "\n",
    "del data_set_complete_v2\n",
    "\n",
    "data.reset_index(drop=True, inplace=True)\n",
    "\n",
    "data.info()"
   ]
  },
  {
   "cell_type": "code",
   "execution_count": 8,
   "metadata": {},
   "outputs": [
    {
     "name": "stdout",
     "output_type": "stream",
     "text": [
      "<class 'pandas.core.frame.DataFrame'>\n",
      "RangeIndex: 100000 entries, 0 to 99999\n",
      "Data columns (total 21 columns):\n",
      "id                  100000 non-null int64\n",
      "idpostulante        100000 non-null object\n",
      "veces_visto         100000 non-null int16\n",
      "sexo                100000 non-null int8\n",
      "edad                100000 non-null int8\n",
      "titulo              100000 non-null object\n",
      "nombre_area         100000 non-null category\n",
      "estudio_encurso     100000 non-null int8\n",
      "estudio_graduado    100000 non-null int8\n",
      "tipo_full-time      100000 non-null int8\n",
      "tipo_part-time      100000 non-null int8\n",
      "tipo_otro           100000 non-null int8\n",
      "zona_gba            100000 non-null int8\n",
      "zona_caba           100000 non-null int8\n",
      "nivel_senior        100000 non-null int8\n",
      "nivel_junior        100000 non-null int8\n",
      "nivel_otro          100000 non-null int8\n",
      "nivel_jefe          100000 non-null int8\n",
      "nivel_gerente       100000 non-null int8\n",
      "post_x_aviso        100000 non-null int32\n",
      "vistas_x_aviso      100000 non-null int32\n",
      "dtypes: category(1), int16(1), int32(2), int64(1), int8(14), object(2)\n",
      "memory usage: 4.8+ MB\n"
     ]
    }
   ],
   "source": [
    "test100k = pd.read_csv('/home/rodrigo/ENV/Notebooks/Tp2/Datos-Tp2/Csvs/test100k_complete_v2.csv', usecols=['id','idpostulante','veces_visto','sexo','edad','titulo','nombre_area',\\\n",
    "                                                                  'estudio_encurso','estudio_graduado','tipo_full-time','tipo_part-time','tipo_otro',\\\n",
    "                                                                  'zona_gba','zona_caba','nivel_senior','nivel_junior','nivel_otro','nivel_jefe','nivel_gerente','post_x_aviso','vistas_x_aviso'],\\\n",
    "                                dtype={'id':'int64', 'idpostulante':'object', 'veces_visto':'int16', 'sexo':'int8', 'edad':'int8', 'nombre_area':'category',\\\n",
    "                                       'estudio_encurso':'int8', 'estudio_graduado':'int8', 'tipo_full-time':'int8','tipo_part-time':'int8','tipo_otro':'int8',\\\n",
    "                                       'zona_gba':'int8','zona_caba':'int8','nivel_senior':'int8','nivel_junior':'int8','nivel_otro':'int8','nivel_jefe':'int8','nivel_gerente':'int8','post_x_aviso':'int32','vistas_x_aviso':'int32'})\n",
    "\n",
    "test100k.info()"
   ]
  },
  {
   "cell_type": "code",
   "execution_count": null,
   "metadata": {},
   "outputs": [],
   "source": []
  },
  {
   "cell_type": "code",
   "execution_count": null,
   "metadata": {},
   "outputs": [],
   "source": []
  },
  {
   "cell_type": "markdown",
   "metadata": {},
   "source": [
    "### Preprocessing del titulo"
   ]
  },
  {
   "cell_type": "code",
   "execution_count": 9,
   "metadata": {},
   "outputs": [],
   "source": [
    "# Palabras del tipo para, con, el, de, y, sin, la, que, en, ... etc. \n",
    "stop = stopwords.words('spanish')\n",
    "\n",
    "# Stemmer, trata de convertir palabras derivadas de una palabra, a la palabra raiz\n",
    "stemmer = SnowballStemmer(\"spanish\")"
   ]
  },
  {
   "cell_type": "markdown",
   "metadata": {},
   "source": [
    "- Para data"
   ]
  },
  {
   "cell_type": "code",
   "execution_count": 10,
   "metadata": {},
   "outputs": [
    {
     "data": {
      "text/plain": [
       "0                 Recepcionista\n",
       "1    Auxiliar Técnico Part Time\n",
       "2                 Recepcionista\n",
       "3          Analista Contable Jr\n",
       "4     Asistente de Arquitectura\n",
       "Name: titulo, dtype: object"
      ]
     },
     "execution_count": 10,
     "metadata": {},
     "output_type": "execute_result"
    }
   ],
   "source": [
    "data['titulo'].head()"
   ]
  },
  {
   "cell_type": "code",
   "execution_count": 11,
   "metadata": {},
   "outputs": [
    {
     "data": {
      "text/plain": [
       "0                 recepcion\n",
       "1    auxili tecnic part tim\n",
       "2                 recepcion\n",
       "3              anal contabl\n",
       "4      asistent arquitectur\n",
       "Name: titulo_processed, dtype: object"
      ]
     },
     "execution_count": 11,
     "metadata": {},
     "output_type": "execute_result"
    }
   ],
   "source": [
    "#Remuevo esos caracteres\n",
    "data['titulo_processed'] = data['titulo'].str.replace('/', ' ').str.replace('-', ' ').str.replace('(', ' ').str.replace(')', ' ')\n",
    "#Codifico de esta forma y paso caracteres con tildes u otras cosas raras a caracteres base\n",
    "data['titulo_processed'] = data['titulo_processed'].str.normalize('NFKD').str.encode('ascii', errors='ignore').str.decode('utf-8')\n",
    "#Remuevo puntuaciones\n",
    "data['titulo_processed'] = data['titulo_processed'].str.replace('[^\\w\\s]',' ')\n",
    "#Processing\n",
    "data['titulo_processed'] = data['titulo_processed'].apply(lambda x: ' '.join(stemmer.stem(x.lower()) for x in x.split() if ((not x.isdigit()) and (x not in stop) and (len(x)>2))))  \n",
    "\n",
    "data['titulo_processed'].head()"
   ]
  },
  {
   "cell_type": "code",
   "execution_count": null,
   "metadata": {},
   "outputs": [],
   "source": []
  },
  {
   "cell_type": "markdown",
   "metadata": {},
   "source": [
    "- Para test100k"
   ]
  },
  {
   "cell_type": "code",
   "execution_count": 12,
   "metadata": {},
   "outputs": [
    {
     "data": {
      "text/plain": [
       "0                            Asistente Comercial\n",
       "1                            Asistente Comercial\n",
       "2                            Asistente Comercial\n",
       "3    Oracle Financials Sr. Application Developer\n",
       "4    Oracle Financials Sr. Application Developer\n",
       "Name: titulo, dtype: object"
      ]
     },
     "execution_count": 12,
     "metadata": {},
     "output_type": "execute_result"
    }
   ],
   "source": [
    "test100k['titulo'].head()"
   ]
  },
  {
   "cell_type": "code",
   "execution_count": 13,
   "metadata": {},
   "outputs": [
    {
     "data": {
      "text/plain": [
       "0                      asistent comercial\n",
       "1                      asistent comercial\n",
       "2                      asistent comercial\n",
       "3    oracl financials application develop\n",
       "4    oracl financials application develop\n",
       "Name: titulo_processed, dtype: object"
      ]
     },
     "execution_count": 13,
     "metadata": {},
     "output_type": "execute_result"
    }
   ],
   "source": [
    "#Remuevo esos caracteres\n",
    "test100k['titulo_processed'] = test100k['titulo'].str.replace('/', ' ').str.replace('-', ' ').str.replace('(', ' ').str.replace(')', ' ')\n",
    "#Codifico de esta forma y paso caracteres con tildes u otras cosas raras a caracter base\n",
    "test100k['titulo_processed'] = test100k['titulo_processed'].str.normalize('NFKD').str.encode('ascii', errors='ignore').str.decode('utf-8')\n",
    "#Remuevo puntuaciones\n",
    "test100k['titulo_processed'] = test100k['titulo_processed'].str.replace('[^\\w\\s]',' ')\n",
    "#Processing\n",
    "test100k['titulo_processed'] = test100k['titulo_processed'].apply(lambda x: ' '.join(stemmer.stem(x.lower()) for x in x.split() if ((not x.isdigit()) and (x not in stop) and (len(x)>2))))  \n",
    "\n",
    "test100k['titulo_processed'].head()"
   ]
  },
  {
   "cell_type": "markdown",
   "metadata": {},
   "source": [
    "- Saco palabras de poca frecuencia"
   ]
  },
  {
   "cell_type": "code",
   "execution_count": 14,
   "metadata": {},
   "outputs": [
    {
     "data": {
      "text/plain": [
       "3275"
      ]
     },
     "execution_count": 14,
     "metadata": {},
     "output_type": "execute_result"
    }
   ],
   "source": [
    "low_freq_data = pd.Series(' '.join(data['titulo_processed']).split()).value_counts().to_frame()\n",
    "low_freq_test100k = pd.Series(' '.join(test100k['titulo_processed']).split()).value_counts().to_frame()\n",
    "low_freq = pd.concat([low_freq_data, low_freq_test100k]).reset_index().groupby(by='index').sum()\n",
    "low_freq = low_freq[low_freq[0]<300]\n",
    "low_freq = list(low_freq.index)\n",
    "len(low_freq)"
   ]
  },
  {
   "cell_type": "code",
   "execution_count": 15,
   "metadata": {},
   "outputs": [],
   "source": [
    "data['titulo_processed'] = data['titulo_processed'].apply(lambda x: ' '.join(set(x.split()) - set(low_freq)))\n",
    "                                                          \n",
    "test100k['titulo_processed'] = test100k['titulo_processed'].apply(lambda x: ' '.join(set(x.split()) - set(low_freq)))\n",
    "\n",
    "del low_freq"
   ]
  },
  {
   "cell_type": "code",
   "execution_count": null,
   "metadata": {},
   "outputs": [],
   "source": []
  },
  {
   "cell_type": "code",
   "execution_count": null,
   "metadata": {},
   "outputs": [],
   "source": []
  },
  {
   "cell_type": "markdown",
   "metadata": {},
   "source": [
    "### Uso label encoding para nombre_area"
   ]
  },
  {
   "cell_type": "code",
   "execution_count": 16,
   "metadata": {},
   "outputs": [],
   "source": [
    "data['nombre_area'] = (le.transform(data['nombre_area'].astype(str))).astype('int16')"
   ]
  },
  {
   "cell_type": "code",
   "execution_count": 17,
   "metadata": {},
   "outputs": [],
   "source": [
    "test100k['nombre_area'] = (le.transform(test100k['nombre_area'].astype(str))).astype('int16')"
   ]
  },
  {
   "cell_type": "code",
   "execution_count": null,
   "metadata": {},
   "outputs": [],
   "source": []
  },
  {
   "cell_type": "markdown",
   "metadata": {},
   "source": [
    "### One Hot Encoding para nombre_area"
   ]
  },
  {
   "cell_type": "code",
   "execution_count": 18,
   "metadata": {},
   "outputs": [
    {
     "name": "stdout",
     "output_type": "stream",
     "text": [
      "<class 'pandas.core.frame.DataFrame'>\n",
      "RangeIndex: 1000000 entries, 0 to 999999\n",
      "Columns: 210 entries, sepostulo to a187\n",
      "dtypes: int16(2), int32(2), int8(203), object(3)\n",
      "memory usage: 227.9+ MB\n"
     ]
    }
   ],
   "source": [
    "#encoded_areas = enc.transform(data['nombre_area'].values.reshape(-1,1))\n",
    "#encoded_areas_df = pd.DataFrame(encoded_areas.toarray()).astype('int8')\n",
    "\n",
    "#data = data.merge(encoded_areas_df, left_index=True, right_index=True)\n",
    "\n",
    "#del encoded_areas, encoded_areas_df\n",
    "\n",
    "data = data.merge((pd.DataFrame((enc.transform(data['nombre_area'].values.reshape(-1,1))).toarray()).astype('int8').rename(columns={col:('a'+str(col)) for col in list(range(188))})), left_index=True, right_index=True)\n",
    "\n",
    "data.info()"
   ]
  },
  {
   "cell_type": "code",
   "execution_count": 19,
   "metadata": {},
   "outputs": [
    {
     "data": {
      "text/html": [
       "<div>\n",
       "<style scoped>\n",
       "    .dataframe tbody tr th:only-of-type {\n",
       "        vertical-align: middle;\n",
       "    }\n",
       "\n",
       "    .dataframe tbody tr th {\n",
       "        vertical-align: top;\n",
       "    }\n",
       "\n",
       "    .dataframe thead th {\n",
       "        text-align: right;\n",
       "    }\n",
       "</style>\n",
       "<table border=\"1\" class=\"dataframe\">\n",
       "  <thead>\n",
       "    <tr style=\"text-align: right;\">\n",
       "      <th></th>\n",
       "      <th>sepostulo</th>\n",
       "      <th>idpostulante</th>\n",
       "      <th>veces_visto</th>\n",
       "      <th>sexo</th>\n",
       "      <th>edad</th>\n",
       "      <th>titulo</th>\n",
       "      <th>nombre_area</th>\n",
       "      <th>estudio_encurso</th>\n",
       "      <th>estudio_graduado</th>\n",
       "      <th>tipo_full-time</th>\n",
       "      <th>...</th>\n",
       "      <th>a178</th>\n",
       "      <th>a179</th>\n",
       "      <th>a180</th>\n",
       "      <th>a181</th>\n",
       "      <th>a182</th>\n",
       "      <th>a183</th>\n",
       "      <th>a184</th>\n",
       "      <th>a185</th>\n",
       "      <th>a186</th>\n",
       "      <th>a187</th>\n",
       "    </tr>\n",
       "  </thead>\n",
       "  <tbody>\n",
       "    <tr>\n",
       "      <th>0</th>\n",
       "      <td>0</td>\n",
       "      <td>Nzd4qNB</td>\n",
       "      <td>0</td>\n",
       "      <td>0</td>\n",
       "      <td>39</td>\n",
       "      <td>Recepcionista</td>\n",
       "      <td>153</td>\n",
       "      <td>4</td>\n",
       "      <td>0</td>\n",
       "      <td>1</td>\n",
       "      <td>...</td>\n",
       "      <td>0</td>\n",
       "      <td>0</td>\n",
       "      <td>0</td>\n",
       "      <td>0</td>\n",
       "      <td>0</td>\n",
       "      <td>0</td>\n",
       "      <td>0</td>\n",
       "      <td>0</td>\n",
       "      <td>0</td>\n",
       "      <td>0</td>\n",
       "    </tr>\n",
       "    <tr>\n",
       "      <th>1</th>\n",
       "      <td>0</td>\n",
       "      <td>pzNQ48b</td>\n",
       "      <td>0</td>\n",
       "      <td>1</td>\n",
       "      <td>27</td>\n",
       "      <td>Auxiliar Técnico Part Time</td>\n",
       "      <td>168</td>\n",
       "      <td>0</td>\n",
       "      <td>4</td>\n",
       "      <td>1</td>\n",
       "      <td>...</td>\n",
       "      <td>0</td>\n",
       "      <td>0</td>\n",
       "      <td>0</td>\n",
       "      <td>0</td>\n",
       "      <td>0</td>\n",
       "      <td>0</td>\n",
       "      <td>0</td>\n",
       "      <td>0</td>\n",
       "      <td>0</td>\n",
       "      <td>0</td>\n",
       "    </tr>\n",
       "  </tbody>\n",
       "</table>\n",
       "<p>2 rows × 210 columns</p>\n",
       "</div>"
      ],
      "text/plain": [
       "   sepostulo idpostulante  veces_visto  sexo  edad  \\\n",
       "0          0      Nzd4qNB            0     0    39   \n",
       "1          0      pzNQ48b            0     1    27   \n",
       "\n",
       "                       titulo  nombre_area  estudio_encurso  estudio_graduado  \\\n",
       "0               Recepcionista          153                4                 0   \n",
       "1  Auxiliar Técnico Part Time          168                0                 4   \n",
       "\n",
       "   tipo_full-time  ...   a178  a179  a180  a181  a182  a183  a184  a185  a186  \\\n",
       "0               1  ...      0     0     0     0     0     0     0     0     0   \n",
       "1               1  ...      0     0     0     0     0     0     0     0     0   \n",
       "\n",
       "   a187  \n",
       "0     0  \n",
       "1     0  \n",
       "\n",
       "[2 rows x 210 columns]"
      ]
     },
     "execution_count": 19,
     "metadata": {},
     "output_type": "execute_result"
    }
   ],
   "source": [
    "data.head(2)"
   ]
  },
  {
   "cell_type": "code",
   "execution_count": 20,
   "metadata": {},
   "outputs": [
    {
     "name": "stdout",
     "output_type": "stream",
     "text": [
      "<class 'pandas.core.frame.DataFrame'>\n",
      "RangeIndex: 100000 entries, 0 to 99999\n",
      "Columns: 210 entries, id to a187\n",
      "dtypes: int16(2), int32(2), int64(1), int8(202), object(3)\n",
      "memory usage: 23.5+ MB\n"
     ]
    }
   ],
   "source": [
    "#encoded_areas = enc.transform(test100k['nombre_area'].values.reshape(-1,1))\n",
    "#encoded_areas_df = pd.DataFrame(encoded_areas.toarray()).astype('int8')\n",
    "\n",
    "#test100k = test100k.merge(encoded_areas_df, left_index=True, right_index=True)\n",
    "\n",
    "#del encoded_areas, encoded_areas_df\n",
    "\n",
    "test100k = test100k.merge((pd.DataFrame((enc.transform(test100k['nombre_area'].values.reshape(-1,1))).toarray()).astype('int8').rename(columns={col:('a'+str(col)) for col in list(range(188))})), left_index=True, right_index=True)\n",
    "\n",
    "test100k.info()"
   ]
  },
  {
   "cell_type": "code",
   "execution_count": 21,
   "metadata": {},
   "outputs": [
    {
     "data": {
      "text/html": [
       "<div>\n",
       "<style scoped>\n",
       "    .dataframe tbody tr th:only-of-type {\n",
       "        vertical-align: middle;\n",
       "    }\n",
       "\n",
       "    .dataframe tbody tr th {\n",
       "        vertical-align: top;\n",
       "    }\n",
       "\n",
       "    .dataframe thead th {\n",
       "        text-align: right;\n",
       "    }\n",
       "</style>\n",
       "<table border=\"1\" class=\"dataframe\">\n",
       "  <thead>\n",
       "    <tr style=\"text-align: right;\">\n",
       "      <th></th>\n",
       "      <th>id</th>\n",
       "      <th>idpostulante</th>\n",
       "      <th>veces_visto</th>\n",
       "      <th>sexo</th>\n",
       "      <th>edad</th>\n",
       "      <th>titulo</th>\n",
       "      <th>nombre_area</th>\n",
       "      <th>estudio_encurso</th>\n",
       "      <th>estudio_graduado</th>\n",
       "      <th>tipo_full-time</th>\n",
       "      <th>...</th>\n",
       "      <th>a178</th>\n",
       "      <th>a179</th>\n",
       "      <th>a180</th>\n",
       "      <th>a181</th>\n",
       "      <th>a182</th>\n",
       "      <th>a183</th>\n",
       "      <th>a184</th>\n",
       "      <th>a185</th>\n",
       "      <th>a186</th>\n",
       "      <th>a187</th>\n",
       "    </tr>\n",
       "  </thead>\n",
       "  <tbody>\n",
       "    <tr>\n",
       "      <th>0</th>\n",
       "      <td>0</td>\n",
       "      <td>6M9ZQR</td>\n",
       "      <td>0</td>\n",
       "      <td>0</td>\n",
       "      <td>42</td>\n",
       "      <td>Asistente Comercial</td>\n",
       "      <td>30</td>\n",
       "      <td>0</td>\n",
       "      <td>7</td>\n",
       "      <td>1</td>\n",
       "      <td>...</td>\n",
       "      <td>0</td>\n",
       "      <td>0</td>\n",
       "      <td>0</td>\n",
       "      <td>0</td>\n",
       "      <td>0</td>\n",
       "      <td>0</td>\n",
       "      <td>0</td>\n",
       "      <td>0</td>\n",
       "      <td>0</td>\n",
       "      <td>0</td>\n",
       "    </tr>\n",
       "    <tr>\n",
       "      <th>1</th>\n",
       "      <td>1</td>\n",
       "      <td>6v1xdL</td>\n",
       "      <td>0</td>\n",
       "      <td>1</td>\n",
       "      <td>30</td>\n",
       "      <td>Asistente Comercial</td>\n",
       "      <td>30</td>\n",
       "      <td>2</td>\n",
       "      <td>3</td>\n",
       "      <td>1</td>\n",
       "      <td>...</td>\n",
       "      <td>0</td>\n",
       "      <td>0</td>\n",
       "      <td>0</td>\n",
       "      <td>0</td>\n",
       "      <td>0</td>\n",
       "      <td>0</td>\n",
       "      <td>0</td>\n",
       "      <td>0</td>\n",
       "      <td>0</td>\n",
       "      <td>0</td>\n",
       "    </tr>\n",
       "  </tbody>\n",
       "</table>\n",
       "<p>2 rows × 210 columns</p>\n",
       "</div>"
      ],
      "text/plain": [
       "   id idpostulante  veces_visto  sexo  edad               titulo  nombre_area  \\\n",
       "0   0       6M9ZQR            0     0    42  Asistente Comercial           30   \n",
       "1   1       6v1xdL            0     1    30  Asistente Comercial           30   \n",
       "\n",
       "   estudio_encurso  estudio_graduado  tipo_full-time  ...   a178  a179  a180  \\\n",
       "0                0                 7               1  ...      0     0     0   \n",
       "1                2                 3               1  ...      0     0     0   \n",
       "\n",
       "   a181  a182  a183  a184  a185  a186  a187  \n",
       "0     0     0     0     0     0     0     0  \n",
       "1     0     0     0     0     0     0     0  \n",
       "\n",
       "[2 rows x 210 columns]"
      ]
     },
     "execution_count": 21,
     "metadata": {},
     "output_type": "execute_result"
    }
   ],
   "source": [
    "test100k.head(2)"
   ]
  },
  {
   "cell_type": "code",
   "execution_count": null,
   "metadata": {},
   "outputs": [],
   "source": []
  },
  {
   "cell_type": "code",
   "execution_count": null,
   "metadata": {},
   "outputs": [],
   "source": []
  },
  {
   "cell_type": "markdown",
   "metadata": {},
   "source": [
    "### Merge del historial con One Hot Coding"
   ]
  },
  {
   "cell_type": "code",
   "execution_count": 22,
   "metadata": {},
   "outputs": [
    {
     "name": "stdout",
     "output_type": "stream",
     "text": [
      "<class 'pandas.core.frame.DataFrame'>\n",
      "RangeIndex: 1000000 entries, 0 to 999999\n",
      "Columns: 398 entries, sepostulo to h187\n",
      "dtypes: int16(190), int32(2), int8(203), object(3)\n",
      "memory usage: 586.5+ MB\n"
     ]
    }
   ],
   "source": [
    "#Aca meto la info del historial (matriz de 188 con el one hot encoding)\n",
    "data = data.merge((data['idpostulante'].to_frame().merge(users_ids_history, how='left', on='idpostulante').drop(columns='idpostulante').fillna(value=0).astype('int16')), left_index=True, right_index=True)\n",
    "\n",
    "#Estandarizacion (no dio buenos resultados)\n",
    "#data = data.merge(pd.DataFrame(preprocessing.scale(data['idpostulante'].to_frame().merge(users_ids_history, how='left', on='idpostulante').drop(columns='idpostulante').fillna(value=0))).astype('int16'), left_index=True, right_index=True)\n",
    "\n",
    "\n",
    "data.info()"
   ]
  },
  {
   "cell_type": "code",
   "execution_count": 23,
   "metadata": {},
   "outputs": [
    {
     "data": {
      "text/html": [
       "<div>\n",
       "<style scoped>\n",
       "    .dataframe tbody tr th:only-of-type {\n",
       "        vertical-align: middle;\n",
       "    }\n",
       "\n",
       "    .dataframe tbody tr th {\n",
       "        vertical-align: top;\n",
       "    }\n",
       "\n",
       "    .dataframe thead th {\n",
       "        text-align: right;\n",
       "    }\n",
       "</style>\n",
       "<table border=\"1\" class=\"dataframe\">\n",
       "  <thead>\n",
       "    <tr style=\"text-align: right;\">\n",
       "      <th></th>\n",
       "      <th>sepostulo</th>\n",
       "      <th>idpostulante</th>\n",
       "      <th>veces_visto</th>\n",
       "      <th>sexo</th>\n",
       "      <th>edad</th>\n",
       "      <th>titulo</th>\n",
       "      <th>nombre_area</th>\n",
       "      <th>estudio_encurso</th>\n",
       "      <th>estudio_graduado</th>\n",
       "      <th>tipo_full-time</th>\n",
       "      <th>...</th>\n",
       "      <th>h178</th>\n",
       "      <th>h179</th>\n",
       "      <th>h180</th>\n",
       "      <th>h181</th>\n",
       "      <th>h182</th>\n",
       "      <th>h183</th>\n",
       "      <th>h184</th>\n",
       "      <th>h185</th>\n",
       "      <th>h186</th>\n",
       "      <th>h187</th>\n",
       "    </tr>\n",
       "  </thead>\n",
       "  <tbody>\n",
       "    <tr>\n",
       "      <th>0</th>\n",
       "      <td>0</td>\n",
       "      <td>Nzd4qNB</td>\n",
       "      <td>0</td>\n",
       "      <td>0</td>\n",
       "      <td>39</td>\n",
       "      <td>Recepcionista</td>\n",
       "      <td>153</td>\n",
       "      <td>4</td>\n",
       "      <td>0</td>\n",
       "      <td>1</td>\n",
       "      <td>...</td>\n",
       "      <td>0</td>\n",
       "      <td>0</td>\n",
       "      <td>0</td>\n",
       "      <td>0</td>\n",
       "      <td>0</td>\n",
       "      <td>0</td>\n",
       "      <td>0</td>\n",
       "      <td>0</td>\n",
       "      <td>0</td>\n",
       "      <td>0</td>\n",
       "    </tr>\n",
       "    <tr>\n",
       "      <th>1</th>\n",
       "      <td>0</td>\n",
       "      <td>pzNQ48b</td>\n",
       "      <td>0</td>\n",
       "      <td>1</td>\n",
       "      <td>27</td>\n",
       "      <td>Auxiliar Técnico Part Time</td>\n",
       "      <td>168</td>\n",
       "      <td>0</td>\n",
       "      <td>4</td>\n",
       "      <td>1</td>\n",
       "      <td>...</td>\n",
       "      <td>0</td>\n",
       "      <td>0</td>\n",
       "      <td>0</td>\n",
       "      <td>0</td>\n",
       "      <td>0</td>\n",
       "      <td>0</td>\n",
       "      <td>0</td>\n",
       "      <td>0</td>\n",
       "      <td>0</td>\n",
       "      <td>0</td>\n",
       "    </tr>\n",
       "  </tbody>\n",
       "</table>\n",
       "<p>2 rows × 398 columns</p>\n",
       "</div>"
      ],
      "text/plain": [
       "   sepostulo idpostulante  veces_visto  sexo  edad  \\\n",
       "0          0      Nzd4qNB            0     0    39   \n",
       "1          0      pzNQ48b            0     1    27   \n",
       "\n",
       "                       titulo  nombre_area  estudio_encurso  estudio_graduado  \\\n",
       "0               Recepcionista          153                4                 0   \n",
       "1  Auxiliar Técnico Part Time          168                0                 4   \n",
       "\n",
       "   tipo_full-time  ...   h178  h179  h180  h181  h182  h183  h184  h185  h186  \\\n",
       "0               1  ...      0     0     0     0     0     0     0     0     0   \n",
       "1               1  ...      0     0     0     0     0     0     0     0     0   \n",
       "\n",
       "   h187  \n",
       "0     0  \n",
       "1     0  \n",
       "\n",
       "[2 rows x 398 columns]"
      ]
     },
     "execution_count": 23,
     "metadata": {},
     "output_type": "execute_result"
    }
   ],
   "source": [
    "data.head(2)"
   ]
  },
  {
   "cell_type": "code",
   "execution_count": null,
   "metadata": {},
   "outputs": [],
   "source": []
  },
  {
   "cell_type": "code",
   "execution_count": 24,
   "metadata": {},
   "outputs": [
    {
     "name": "stdout",
     "output_type": "stream",
     "text": [
      "<class 'pandas.core.frame.DataFrame'>\n",
      "RangeIndex: 100000 entries, 0 to 99999\n",
      "Columns: 398 entries, id to h187\n",
      "dtypes: int16(190), int32(2), int64(1), int8(202), object(3)\n",
      "memory usage: 59.3+ MB\n"
     ]
    }
   ],
   "source": [
    "#Aca meto la info del historial (matriz de 188 con el one hot encoding)\n",
    "test100k = test100k.merge((test100k['idpostulante'].to_frame().merge(users_ids_history, how='left', on='idpostulante').drop(columns='idpostulante').fillna(value=0).astype('int16')), left_index=True, right_index=True)\n",
    "\n",
    "#Estandarizacion (no dio buenos resultados)\n",
    "#test100k = test100k.merge(pd.DataFrame(preprocessing.scale(test100k['idpostulante'].to_frame().merge(users_ids_history, how='left', on='idpostulante').drop(columns='idpostulante').fillna(value=0))).astype('int16'), left_index=True, right_index=True)\n",
    "\n",
    "test100k.info()"
   ]
  },
  {
   "cell_type": "code",
   "execution_count": 25,
   "metadata": {},
   "outputs": [
    {
     "data": {
      "text/html": [
       "<div>\n",
       "<style scoped>\n",
       "    .dataframe tbody tr th:only-of-type {\n",
       "        vertical-align: middle;\n",
       "    }\n",
       "\n",
       "    .dataframe tbody tr th {\n",
       "        vertical-align: top;\n",
       "    }\n",
       "\n",
       "    .dataframe thead th {\n",
       "        text-align: right;\n",
       "    }\n",
       "</style>\n",
       "<table border=\"1\" class=\"dataframe\">\n",
       "  <thead>\n",
       "    <tr style=\"text-align: right;\">\n",
       "      <th></th>\n",
       "      <th>id</th>\n",
       "      <th>idpostulante</th>\n",
       "      <th>veces_visto</th>\n",
       "      <th>sexo</th>\n",
       "      <th>edad</th>\n",
       "      <th>titulo</th>\n",
       "      <th>nombre_area</th>\n",
       "      <th>estudio_encurso</th>\n",
       "      <th>estudio_graduado</th>\n",
       "      <th>tipo_full-time</th>\n",
       "      <th>...</th>\n",
       "      <th>h178</th>\n",
       "      <th>h179</th>\n",
       "      <th>h180</th>\n",
       "      <th>h181</th>\n",
       "      <th>h182</th>\n",
       "      <th>h183</th>\n",
       "      <th>h184</th>\n",
       "      <th>h185</th>\n",
       "      <th>h186</th>\n",
       "      <th>h187</th>\n",
       "    </tr>\n",
       "  </thead>\n",
       "  <tbody>\n",
       "    <tr>\n",
       "      <th>0</th>\n",
       "      <td>0</td>\n",
       "      <td>6M9ZQR</td>\n",
       "      <td>0</td>\n",
       "      <td>0</td>\n",
       "      <td>42</td>\n",
       "      <td>Asistente Comercial</td>\n",
       "      <td>30</td>\n",
       "      <td>0</td>\n",
       "      <td>7</td>\n",
       "      <td>1</td>\n",
       "      <td>...</td>\n",
       "      <td>0</td>\n",
       "      <td>0</td>\n",
       "      <td>0</td>\n",
       "      <td>0</td>\n",
       "      <td>0</td>\n",
       "      <td>0</td>\n",
       "      <td>0</td>\n",
       "      <td>0</td>\n",
       "      <td>0</td>\n",
       "      <td>0</td>\n",
       "    </tr>\n",
       "    <tr>\n",
       "      <th>1</th>\n",
       "      <td>1</td>\n",
       "      <td>6v1xdL</td>\n",
       "      <td>0</td>\n",
       "      <td>1</td>\n",
       "      <td>30</td>\n",
       "      <td>Asistente Comercial</td>\n",
       "      <td>30</td>\n",
       "      <td>2</td>\n",
       "      <td>3</td>\n",
       "      <td>1</td>\n",
       "      <td>...</td>\n",
       "      <td>0</td>\n",
       "      <td>0</td>\n",
       "      <td>0</td>\n",
       "      <td>0</td>\n",
       "      <td>0</td>\n",
       "      <td>0</td>\n",
       "      <td>0</td>\n",
       "      <td>4</td>\n",
       "      <td>0</td>\n",
       "      <td>0</td>\n",
       "    </tr>\n",
       "  </tbody>\n",
       "</table>\n",
       "<p>2 rows × 398 columns</p>\n",
       "</div>"
      ],
      "text/plain": [
       "   id idpostulante  veces_visto  sexo  edad               titulo  nombre_area  \\\n",
       "0   0       6M9ZQR            0     0    42  Asistente Comercial           30   \n",
       "1   1       6v1xdL            0     1    30  Asistente Comercial           30   \n",
       "\n",
       "   estudio_encurso  estudio_graduado  tipo_full-time  ...   h178  h179  h180  \\\n",
       "0                0                 7               1  ...      0     0     0   \n",
       "1                2                 3               1  ...      0     0     0   \n",
       "\n",
       "   h181  h182  h183  h184  h185  h186  h187  \n",
       "0     0     0     0     0     0     0     0  \n",
       "1     0     0     0     0     4     0     0  \n",
       "\n",
       "[2 rows x 398 columns]"
      ]
     },
     "execution_count": 25,
     "metadata": {},
     "output_type": "execute_result"
    }
   ],
   "source": [
    "test100k.head(2)"
   ]
  },
  {
   "cell_type": "code",
   "execution_count": null,
   "metadata": {},
   "outputs": [],
   "source": []
  },
  {
   "cell_type": "code",
   "execution_count": null,
   "metadata": {},
   "outputs": [],
   "source": []
  },
  {
   "cell_type": "markdown",
   "metadata": {},
   "source": [
    "### Vectorizing del titulo"
   ]
  },
  {
   "cell_type": "markdown",
   "metadata": {},
   "source": [
    "- Entreno el modelo que me va a transformar palabras a vectores. Lo entreno con todas las palabras de titulo_processed de ambos DF, data y test100k"
   ]
  },
  {
   "cell_type": "code",
   "execution_count": 26,
   "metadata": {},
   "outputs": [],
   "source": [
    "#Armo lista de tokens para entrenar modelo que va a pasar palabras a vectores\n",
    "token_list = [nltk.word_tokenize(x) for x in data['titulo_processed'].values] + [nltk.word_tokenize(y) for y in test100k['titulo_processed'].values]\n",
    "# train model\n",
    "model = Word2Vec(token_list, min_count=1, workers=6)\n",
    "# save model\n",
    "model.save('model.bin')"
   ]
  },
  {
   "cell_type": "markdown",
   "metadata": {},
   "source": [
    "- Lo armo para Data"
   ]
  },
  {
   "cell_type": "code",
   "execution_count": 27,
   "metadata": {},
   "outputs": [],
   "source": [
    "#Me genero una estructura matriz de 100 dimensiones, que es la dimension de los vectores que me va a entrengar Word2Vec model\n",
    "encoded_text = pd.DataFrame(np.zeros((data.shape[0], 100)))\n",
    "\n",
    "#Aca lo que hago es agarrar cada titulo procesado, calculo el vector para cada palabra que tiene, y luego hago el promedio de los vectores de todas las palabras en el titulo\n",
    "i=0\n",
    "vec=0\n",
    "count=0\n",
    "total_size=data.shape[0]\n",
    "\n",
    "if(data.columns[21]=='titulo_processed'):\n",
    "    \n",
    "    while(i<total_size):\n",
    "\n",
    "        vec=0\n",
    "        count=1\n",
    "\n",
    "        for word in data.iat[i,21].split():\n",
    "            vec = vec + model.wv.__getitem__(word)\n",
    "            count += 1\n",
    "\n",
    "        if(count!=0):\n",
    "            vec = vec / count\n",
    "            encoded_text.iloc[i,:] = vec\n",
    "\n",
    "        i+=1\n",
    "else:\n",
    "    print('Ver que numero de columna es titulo_processed en data')"
   ]
  },
  {
   "cell_type": "code",
   "execution_count": 28,
   "metadata": {},
   "outputs": [
    {
     "data": {
      "text/html": [
       "<div>\n",
       "<style scoped>\n",
       "    .dataframe tbody tr th:only-of-type {\n",
       "        vertical-align: middle;\n",
       "    }\n",
       "\n",
       "    .dataframe tbody tr th {\n",
       "        vertical-align: top;\n",
       "    }\n",
       "\n",
       "    .dataframe thead th {\n",
       "        text-align: right;\n",
       "    }\n",
       "</style>\n",
       "<table border=\"1\" class=\"dataframe\">\n",
       "  <thead>\n",
       "    <tr style=\"text-align: right;\">\n",
       "      <th></th>\n",
       "      <th>sepostulo</th>\n",
       "      <th>idpostulante</th>\n",
       "      <th>veces_visto</th>\n",
       "      <th>sexo</th>\n",
       "      <th>edad</th>\n",
       "      <th>titulo</th>\n",
       "      <th>nombre_area</th>\n",
       "      <th>estudio_encurso</th>\n",
       "      <th>estudio_graduado</th>\n",
       "      <th>tipo_full-time</th>\n",
       "      <th>...</th>\n",
       "      <th>t90</th>\n",
       "      <th>t91</th>\n",
       "      <th>t92</th>\n",
       "      <th>t93</th>\n",
       "      <th>t94</th>\n",
       "      <th>t95</th>\n",
       "      <th>t96</th>\n",
       "      <th>t97</th>\n",
       "      <th>t98</th>\n",
       "      <th>t99</th>\n",
       "    </tr>\n",
       "  </thead>\n",
       "  <tbody>\n",
       "    <tr>\n",
       "      <th>0</th>\n",
       "      <td>0</td>\n",
       "      <td>Nzd4qNB</td>\n",
       "      <td>0</td>\n",
       "      <td>0</td>\n",
       "      <td>39</td>\n",
       "      <td>Recepcionista</td>\n",
       "      <td>153</td>\n",
       "      <td>4</td>\n",
       "      <td>0</td>\n",
       "      <td>1</td>\n",
       "      <td>...</td>\n",
       "      <td>-0.068614</td>\n",
       "      <td>-0.130280</td>\n",
       "      <td>-0.029324</td>\n",
       "      <td>0.053977</td>\n",
       "      <td>-0.047982</td>\n",
       "      <td>0.055445</td>\n",
       "      <td>0.030157</td>\n",
       "      <td>0.079307</td>\n",
       "      <td>-0.186681</td>\n",
       "      <td>0.124011</td>\n",
       "    </tr>\n",
       "    <tr>\n",
       "      <th>1</th>\n",
       "      <td>0</td>\n",
       "      <td>pzNQ48b</td>\n",
       "      <td>0</td>\n",
       "      <td>1</td>\n",
       "      <td>27</td>\n",
       "      <td>Auxiliar Técnico Part Time</td>\n",
       "      <td>168</td>\n",
       "      <td>0</td>\n",
       "      <td>4</td>\n",
       "      <td>1</td>\n",
       "      <td>...</td>\n",
       "      <td>-0.080211</td>\n",
       "      <td>-0.087083</td>\n",
       "      <td>-0.074131</td>\n",
       "      <td>-0.021384</td>\n",
       "      <td>-0.073854</td>\n",
       "      <td>-0.091832</td>\n",
       "      <td>-0.110122</td>\n",
       "      <td>-0.085452</td>\n",
       "      <td>0.082681</td>\n",
       "      <td>0.090163</td>\n",
       "    </tr>\n",
       "  </tbody>\n",
       "</table>\n",
       "<p>2 rows × 498 columns</p>\n",
       "</div>"
      ],
      "text/plain": [
       "   sepostulo idpostulante  veces_visto  sexo  edad  \\\n",
       "0          0      Nzd4qNB            0     0    39   \n",
       "1          0      pzNQ48b            0     1    27   \n",
       "\n",
       "                       titulo  nombre_area  estudio_encurso  estudio_graduado  \\\n",
       "0               Recepcionista          153                4                 0   \n",
       "1  Auxiliar Técnico Part Time          168                0                 4   \n",
       "\n",
       "   tipo_full-time    ...          t90       t91       t92       t93       t94  \\\n",
       "0               1    ...    -0.068614 -0.130280 -0.029324  0.053977 -0.047982   \n",
       "1               1    ...    -0.080211 -0.087083 -0.074131 -0.021384 -0.073854   \n",
       "\n",
       "        t95       t96       t97       t98       t99  \n",
       "0  0.055445  0.030157  0.079307 -0.186681  0.124011  \n",
       "1 -0.091832 -0.110122 -0.085452  0.082681  0.090163  \n",
       "\n",
       "[2 rows x 498 columns]"
      ]
     },
     "execution_count": 28,
     "metadata": {},
     "output_type": "execute_result"
    }
   ],
   "source": [
    "#normalizo\n",
    "encoded_text = pd.DataFrame(normalize(encoded_text)).astype('float32').rename(columns={col:('t'+str(col)) for col in list(range(100))})\n",
    "\n",
    "data = pd.concat([data,encoded_text], axis=1)\n",
    "\n",
    "del encoded_text\n",
    "\n",
    "data.head(2)"
   ]
  },
  {
   "cell_type": "code",
   "execution_count": 29,
   "metadata": {},
   "outputs": [
    {
     "name": "stdout",
     "output_type": "stream",
     "text": [
      "<class 'pandas.core.frame.DataFrame'>\n",
      "RangeIndex: 1000000 entries, 0 to 999999\n",
      "Columns: 498 entries, sepostulo to t99\n",
      "dtypes: float32(100), int16(190), int32(2), int8(203), object(3)\n",
      "memory usage: 968.0+ MB\n"
     ]
    }
   ],
   "source": [
    "data.info()"
   ]
  },
  {
   "cell_type": "code",
   "execution_count": null,
   "metadata": {},
   "outputs": [],
   "source": []
  },
  {
   "cell_type": "markdown",
   "metadata": {},
   "source": [
    "- Lo armo para Test100k"
   ]
  },
  {
   "cell_type": "code",
   "execution_count": 30,
   "metadata": {},
   "outputs": [],
   "source": [
    "#Me genero una estructura matriz de 100 dimensiones, que es la dimension de los vectores que me va a entrengar Word2Vec model\n",
    "encoded_text = pd.DataFrame(np.zeros((test100k.shape[0], 100)))\n",
    "\n",
    "#Aca lo que hago es agarrar cada titulo procesado, calculo el vector para cada palabra que tiene, y luego hago el promedio de los vectores de todas las palabras en el titulo\n",
    "i=0\n",
    "vec=0\n",
    "count=0\n",
    "total_size=test100k.shape[0]\n",
    "\n",
    "if(test100k.columns[21]=='titulo_processed'):\n",
    "    \n",
    "    while(i<total_size):\n",
    "\n",
    "        vec=0\n",
    "        count=0\n",
    "\n",
    "        for word in test100k.iat[i,21].split():\n",
    "            vec = vec + model.wv.__getitem__(word)\n",
    "            count += 1\n",
    "\n",
    "        if(count!=0):\n",
    "            vec = vec / count\n",
    "            encoded_text.iloc[i,:] = vec\n",
    "\n",
    "        i+=1\n",
    "else:\n",
    "    print('Ver que numero de columna es titulo_processed en test100k')"
   ]
  },
  {
   "cell_type": "code",
   "execution_count": 31,
   "metadata": {},
   "outputs": [
    {
     "data": {
      "text/html": [
       "<div>\n",
       "<style scoped>\n",
       "    .dataframe tbody tr th:only-of-type {\n",
       "        vertical-align: middle;\n",
       "    }\n",
       "\n",
       "    .dataframe tbody tr th {\n",
       "        vertical-align: top;\n",
       "    }\n",
       "\n",
       "    .dataframe thead th {\n",
       "        text-align: right;\n",
       "    }\n",
       "</style>\n",
       "<table border=\"1\" class=\"dataframe\">\n",
       "  <thead>\n",
       "    <tr style=\"text-align: right;\">\n",
       "      <th></th>\n",
       "      <th>id</th>\n",
       "      <th>idpostulante</th>\n",
       "      <th>veces_visto</th>\n",
       "      <th>sexo</th>\n",
       "      <th>edad</th>\n",
       "      <th>titulo</th>\n",
       "      <th>nombre_area</th>\n",
       "      <th>estudio_encurso</th>\n",
       "      <th>estudio_graduado</th>\n",
       "      <th>tipo_full-time</th>\n",
       "      <th>...</th>\n",
       "      <th>t90</th>\n",
       "      <th>t91</th>\n",
       "      <th>t92</th>\n",
       "      <th>t93</th>\n",
       "      <th>t94</th>\n",
       "      <th>t95</th>\n",
       "      <th>t96</th>\n",
       "      <th>t97</th>\n",
       "      <th>t98</th>\n",
       "      <th>t99</th>\n",
       "    </tr>\n",
       "  </thead>\n",
       "  <tbody>\n",
       "    <tr>\n",
       "      <th>0</th>\n",
       "      <td>0</td>\n",
       "      <td>6M9ZQR</td>\n",
       "      <td>0</td>\n",
       "      <td>0</td>\n",
       "      <td>42</td>\n",
       "      <td>Asistente Comercial</td>\n",
       "      <td>30</td>\n",
       "      <td>0</td>\n",
       "      <td>7</td>\n",
       "      <td>1</td>\n",
       "      <td>...</td>\n",
       "      <td>-0.069899</td>\n",
       "      <td>-0.169342</td>\n",
       "      <td>-0.085861</td>\n",
       "      <td>-0.058281</td>\n",
       "      <td>0.157024</td>\n",
       "      <td>0.08219</td>\n",
       "      <td>-0.029177</td>\n",
       "      <td>0.040164</td>\n",
       "      <td>0.149889</td>\n",
       "      <td>-0.102072</td>\n",
       "    </tr>\n",
       "    <tr>\n",
       "      <th>1</th>\n",
       "      <td>1</td>\n",
       "      <td>6v1xdL</td>\n",
       "      <td>0</td>\n",
       "      <td>1</td>\n",
       "      <td>30</td>\n",
       "      <td>Asistente Comercial</td>\n",
       "      <td>30</td>\n",
       "      <td>2</td>\n",
       "      <td>3</td>\n",
       "      <td>1</td>\n",
       "      <td>...</td>\n",
       "      <td>-0.069899</td>\n",
       "      <td>-0.169342</td>\n",
       "      <td>-0.085861</td>\n",
       "      <td>-0.058281</td>\n",
       "      <td>0.157024</td>\n",
       "      <td>0.08219</td>\n",
       "      <td>-0.029177</td>\n",
       "      <td>0.040164</td>\n",
       "      <td>0.149889</td>\n",
       "      <td>-0.102072</td>\n",
       "    </tr>\n",
       "  </tbody>\n",
       "</table>\n",
       "<p>2 rows × 498 columns</p>\n",
       "</div>"
      ],
      "text/plain": [
       "   id idpostulante  veces_visto  sexo  edad               titulo  nombre_area  \\\n",
       "0   0       6M9ZQR            0     0    42  Asistente Comercial           30   \n",
       "1   1       6v1xdL            0     1    30  Asistente Comercial           30   \n",
       "\n",
       "   estudio_encurso  estudio_graduado  tipo_full-time    ...          t90  \\\n",
       "0                0                 7               1    ...    -0.069899   \n",
       "1                2                 3               1    ...    -0.069899   \n",
       "\n",
       "        t91       t92       t93       t94      t95       t96       t97  \\\n",
       "0 -0.169342 -0.085861 -0.058281  0.157024  0.08219 -0.029177  0.040164   \n",
       "1 -0.169342 -0.085861 -0.058281  0.157024  0.08219 -0.029177  0.040164   \n",
       "\n",
       "        t98       t99  \n",
       "0  0.149889 -0.102072  \n",
       "1  0.149889 -0.102072  \n",
       "\n",
       "[2 rows x 498 columns]"
      ]
     },
     "execution_count": 31,
     "metadata": {},
     "output_type": "execute_result"
    }
   ],
   "source": [
    "#normalizo\n",
    "encoded_text = pd.DataFrame(normalize(encoded_text)).astype('float32').rename(columns={col:('t'+str(col)) for col in list(range(100))})\n",
    "\n",
    "test100k = pd.concat([test100k,encoded_text], axis=1)\n",
    "\n",
    "del encoded_text\n",
    "\n",
    "test100k.head(2)"
   ]
  },
  {
   "cell_type": "code",
   "execution_count": 32,
   "metadata": {},
   "outputs": [
    {
     "name": "stdout",
     "output_type": "stream",
     "text": [
      "<class 'pandas.core.frame.DataFrame'>\n",
      "RangeIndex: 100000 entries, 0 to 99999\n",
      "Columns: 498 entries, id to t99\n",
      "dtypes: float32(100), int16(190), int32(2), int64(1), int8(202), object(3)\n",
      "memory usage: 97.5+ MB\n"
     ]
    }
   ],
   "source": [
    "test100k.info()"
   ]
  },
  {
   "cell_type": "code",
   "execution_count": null,
   "metadata": {},
   "outputs": [],
   "source": []
  },
  {
   "cell_type": "code",
   "execution_count": null,
   "metadata": {},
   "outputs": [],
   "source": []
  },
  {
   "cell_type": "markdown",
   "metadata": {},
   "source": [
    "### Pruebo con Random Forest"
   ]
  },
  {
   "cell_type": "code",
   "execution_count": 33,
   "metadata": {},
   "outputs": [],
   "source": [
    "#Saco edad porque vimos que resta score\n",
    "#del train_set, test_set, train_classes, test_classes\n",
    "train_set, test_set, train_classes, test_classes = train_test_split(data.drop(columns=['edad', 'sepostulo', 'idpostulante', 'titulo', 'titulo_processed']), data['sepostulo'], test_size=0.3)"
   ]
  },
  {
   "cell_type": "code",
   "execution_count": 34,
   "metadata": {},
   "outputs": [
    {
     "ename": "MemoryError",
     "evalue": "",
     "output_type": "error",
     "traceback": [
      "\u001b[0;31m---------------------------------------------------------------------------\u001b[0m",
      "\u001b[0;31mMemoryError\u001b[0m                               Traceback (most recent call last)",
      "\u001b[0;32m<ipython-input-34-5d0231c2432e>\u001b[0m in \u001b[0;36m<module>\u001b[0;34m()\u001b[0m\n\u001b[0;32m----> 1\u001b[0;31m \u001b[0mclf\u001b[0m \u001b[0;34m=\u001b[0m \u001b[0mRandomForestClassifier\u001b[0m\u001b[0;34m(\u001b[0m\u001b[0mn_estimators\u001b[0m\u001b[0;34m=\u001b[0m\u001b[0;36m60\u001b[0m\u001b[0;34m,\u001b[0m \u001b[0mmin_samples_leaf\u001b[0m\u001b[0;34m=\u001b[0m\u001b[0;36m10\u001b[0m\u001b[0;34m,\u001b[0m \u001b[0mmin_samples_split\u001b[0m\u001b[0;34m=\u001b[0m\u001b[0;36m5\u001b[0m\u001b[0;34m,\u001b[0m \u001b[0mn_jobs\u001b[0m\u001b[0;34m=\u001b[0m\u001b[0;34m-\u001b[0m\u001b[0;36m1\u001b[0m\u001b[0;34m)\u001b[0m\u001b[0;34m.\u001b[0m\u001b[0mfit\u001b[0m\u001b[0;34m(\u001b[0m\u001b[0mtrain_set\u001b[0m\u001b[0;34m,\u001b[0m \u001b[0mtrain_classes\u001b[0m\u001b[0;34m)\u001b[0m\u001b[0;34m\u001b[0m\u001b[0m\n\u001b[0m\u001b[1;32m      2\u001b[0m \u001b[0mprint\u001b[0m\u001b[0;34m(\u001b[0m\u001b[0;34m'Test:'\u001b[0m\u001b[0;34m,\u001b[0m \u001b[0mclf\u001b[0m\u001b[0;34m.\u001b[0m\u001b[0mscore\u001b[0m\u001b[0;34m(\u001b[0m\u001b[0mtest_set\u001b[0m\u001b[0;34m,\u001b[0m \u001b[0mtest_classes\u001b[0m\u001b[0;34m)\u001b[0m\u001b[0;34m,\u001b[0m \u001b[0;34m'Entrenamiento:'\u001b[0m\u001b[0;34m,\u001b[0m \u001b[0mclf\u001b[0m\u001b[0;34m.\u001b[0m\u001b[0mscore\u001b[0m\u001b[0;34m(\u001b[0m\u001b[0mtrain_set\u001b[0m\u001b[0;34m,\u001b[0m \u001b[0mtrain_classes\u001b[0m\u001b[0;34m)\u001b[0m\u001b[0;34m)\u001b[0m\u001b[0;34m\u001b[0m\u001b[0m\n",
      "\u001b[0;32m~/ENV/lib/python3.5/site-packages/sklearn/ensemble/forest.py\u001b[0m in \u001b[0;36mfit\u001b[0;34m(self, X, y, sample_weight)\u001b[0m\n\u001b[1;32m    245\u001b[0m         \"\"\"\n\u001b[1;32m    246\u001b[0m         \u001b[0;31m# Validate or convert input data\u001b[0m\u001b[0;34m\u001b[0m\u001b[0;34m\u001b[0m\u001b[0m\n\u001b[0;32m--> 247\u001b[0;31m         \u001b[0mX\u001b[0m \u001b[0;34m=\u001b[0m \u001b[0mcheck_array\u001b[0m\u001b[0;34m(\u001b[0m\u001b[0mX\u001b[0m\u001b[0;34m,\u001b[0m \u001b[0maccept_sparse\u001b[0m\u001b[0;34m=\u001b[0m\u001b[0;34m\"csc\"\u001b[0m\u001b[0;34m,\u001b[0m \u001b[0mdtype\u001b[0m\u001b[0;34m=\u001b[0m\u001b[0mDTYPE\u001b[0m\u001b[0;34m)\u001b[0m\u001b[0;34m\u001b[0m\u001b[0m\n\u001b[0m\u001b[1;32m    248\u001b[0m         \u001b[0my\u001b[0m \u001b[0;34m=\u001b[0m \u001b[0mcheck_array\u001b[0m\u001b[0;34m(\u001b[0m\u001b[0my\u001b[0m\u001b[0;34m,\u001b[0m \u001b[0maccept_sparse\u001b[0m\u001b[0;34m=\u001b[0m\u001b[0;34m'csc'\u001b[0m\u001b[0;34m,\u001b[0m \u001b[0mensure_2d\u001b[0m\u001b[0;34m=\u001b[0m\u001b[0;32mFalse\u001b[0m\u001b[0;34m,\u001b[0m \u001b[0mdtype\u001b[0m\u001b[0;34m=\u001b[0m\u001b[0;32mNone\u001b[0m\u001b[0;34m)\u001b[0m\u001b[0;34m\u001b[0m\u001b[0m\n\u001b[1;32m    249\u001b[0m         \u001b[0;32mif\u001b[0m \u001b[0msample_weight\u001b[0m \u001b[0;32mis\u001b[0m \u001b[0;32mnot\u001b[0m \u001b[0;32mNone\u001b[0m\u001b[0;34m:\u001b[0m\u001b[0;34m\u001b[0m\u001b[0m\n",
      "\u001b[0;32m~/ENV/lib/python3.5/site-packages/sklearn/utils/validation.py\u001b[0m in \u001b[0;36mcheck_array\u001b[0;34m(array, accept_sparse, dtype, order, copy, force_all_finite, ensure_2d, allow_nd, ensure_min_samples, ensure_min_features, warn_on_dtype, estimator)\u001b[0m\n\u001b[1;32m    431\u001b[0m                                       force_all_finite)\n\u001b[1;32m    432\u001b[0m     \u001b[0;32melse\u001b[0m\u001b[0;34m:\u001b[0m\u001b[0;34m\u001b[0m\u001b[0m\n\u001b[0;32m--> 433\u001b[0;31m         \u001b[0marray\u001b[0m \u001b[0;34m=\u001b[0m \u001b[0mnp\u001b[0m\u001b[0;34m.\u001b[0m\u001b[0marray\u001b[0m\u001b[0;34m(\u001b[0m\u001b[0marray\u001b[0m\u001b[0;34m,\u001b[0m \u001b[0mdtype\u001b[0m\u001b[0;34m=\u001b[0m\u001b[0mdtype\u001b[0m\u001b[0;34m,\u001b[0m \u001b[0morder\u001b[0m\u001b[0;34m=\u001b[0m\u001b[0morder\u001b[0m\u001b[0;34m,\u001b[0m \u001b[0mcopy\u001b[0m\u001b[0;34m=\u001b[0m\u001b[0mcopy\u001b[0m\u001b[0;34m)\u001b[0m\u001b[0;34m\u001b[0m\u001b[0m\n\u001b[0m\u001b[1;32m    434\u001b[0m \u001b[0;34m\u001b[0m\u001b[0m\n\u001b[1;32m    435\u001b[0m         \u001b[0;32mif\u001b[0m \u001b[0mensure_2d\u001b[0m\u001b[0;34m:\u001b[0m\u001b[0;34m\u001b[0m\u001b[0m\n",
      "\u001b[0;32m~/ENV/lib/python3.5/site-packages/pandas/core/generic.py\u001b[0m in \u001b[0;36m__array__\u001b[0;34m(self, dtype)\u001b[0m\n\u001b[1;32m   1149\u001b[0m \u001b[0;34m\u001b[0m\u001b[0m\n\u001b[1;32m   1150\u001b[0m     \u001b[0;32mdef\u001b[0m \u001b[0m__array__\u001b[0m\u001b[0;34m(\u001b[0m\u001b[0mself\u001b[0m\u001b[0;34m,\u001b[0m \u001b[0mdtype\u001b[0m\u001b[0;34m=\u001b[0m\u001b[0;32mNone\u001b[0m\u001b[0;34m)\u001b[0m\u001b[0;34m:\u001b[0m\u001b[0;34m\u001b[0m\u001b[0m\n\u001b[0;32m-> 1151\u001b[0;31m         \u001b[0;32mreturn\u001b[0m \u001b[0m_values_from_object\u001b[0m\u001b[0;34m(\u001b[0m\u001b[0mself\u001b[0m\u001b[0;34m)\u001b[0m\u001b[0;34m\u001b[0m\u001b[0m\n\u001b[0m\u001b[1;32m   1152\u001b[0m \u001b[0;34m\u001b[0m\u001b[0m\n\u001b[1;32m   1153\u001b[0m     \u001b[0;32mdef\u001b[0m \u001b[0m__array_wrap__\u001b[0m\u001b[0;34m(\u001b[0m\u001b[0mself\u001b[0m\u001b[0;34m,\u001b[0m \u001b[0mresult\u001b[0m\u001b[0;34m,\u001b[0m \u001b[0mcontext\u001b[0m\u001b[0;34m=\u001b[0m\u001b[0;32mNone\u001b[0m\u001b[0;34m)\u001b[0m\u001b[0;34m:\u001b[0m\u001b[0;34m\u001b[0m\u001b[0m\n",
      "\u001b[0;32mpandas/_libs/lib.pyx\u001b[0m in \u001b[0;36mpandas._libs.lib.values_from_object\u001b[0;34m()\u001b[0m\n",
      "\u001b[0;32m~/ENV/lib/python3.5/site-packages/pandas/core/generic.py\u001b[0m in \u001b[0;36mget_values\u001b[0;34m(self)\u001b[0m\n\u001b[1;32m   3823\u001b[0m     \u001b[0;32mdef\u001b[0m \u001b[0mget_values\u001b[0m\u001b[0;34m(\u001b[0m\u001b[0mself\u001b[0m\u001b[0;34m)\u001b[0m\u001b[0;34m:\u001b[0m\u001b[0;34m\u001b[0m\u001b[0m\n\u001b[1;32m   3824\u001b[0m         \u001b[0;34m\"\"\"same as values (but handles sparseness conversions)\"\"\"\u001b[0m\u001b[0;34m\u001b[0m\u001b[0m\n\u001b[0;32m-> 3825\u001b[0;31m         \u001b[0;32mreturn\u001b[0m \u001b[0mself\u001b[0m\u001b[0;34m.\u001b[0m\u001b[0mas_matrix\u001b[0m\u001b[0;34m(\u001b[0m\u001b[0;34m)\u001b[0m\u001b[0;34m\u001b[0m\u001b[0m\n\u001b[0m\u001b[1;32m   3826\u001b[0m \u001b[0;34m\u001b[0m\u001b[0m\n\u001b[1;32m   3827\u001b[0m     \u001b[0;32mdef\u001b[0m \u001b[0mget_dtype_counts\u001b[0m\u001b[0;34m(\u001b[0m\u001b[0mself\u001b[0m\u001b[0;34m)\u001b[0m\u001b[0;34m:\u001b[0m\u001b[0;34m\u001b[0m\u001b[0m\n",
      "\u001b[0;32m~/ENV/lib/python3.5/site-packages/pandas/core/generic.py\u001b[0m in \u001b[0;36mas_matrix\u001b[0;34m(self, columns)\u001b[0m\n\u001b[1;32m   3790\u001b[0m         \u001b[0mself\u001b[0m\u001b[0;34m.\u001b[0m\u001b[0m_consolidate_inplace\u001b[0m\u001b[0;34m(\u001b[0m\u001b[0;34m)\u001b[0m\u001b[0;34m\u001b[0m\u001b[0m\n\u001b[1;32m   3791\u001b[0m         \u001b[0;32mif\u001b[0m \u001b[0mself\u001b[0m\u001b[0;34m.\u001b[0m\u001b[0m_AXIS_REVERSED\u001b[0m\u001b[0;34m:\u001b[0m\u001b[0;34m\u001b[0m\u001b[0m\n\u001b[0;32m-> 3792\u001b[0;31m             \u001b[0;32mreturn\u001b[0m \u001b[0mself\u001b[0m\u001b[0;34m.\u001b[0m\u001b[0m_data\u001b[0m\u001b[0;34m.\u001b[0m\u001b[0mas_matrix\u001b[0m\u001b[0;34m(\u001b[0m\u001b[0mcolumns\u001b[0m\u001b[0;34m)\u001b[0m\u001b[0;34m.\u001b[0m\u001b[0mT\u001b[0m\u001b[0;34m\u001b[0m\u001b[0m\n\u001b[0m\u001b[1;32m   3793\u001b[0m         \u001b[0;32mreturn\u001b[0m \u001b[0mself\u001b[0m\u001b[0;34m.\u001b[0m\u001b[0m_data\u001b[0m\u001b[0;34m.\u001b[0m\u001b[0mas_matrix\u001b[0m\u001b[0;34m(\u001b[0m\u001b[0mcolumns\u001b[0m\u001b[0;34m)\u001b[0m\u001b[0;34m\u001b[0m\u001b[0m\n\u001b[1;32m   3794\u001b[0m \u001b[0;34m\u001b[0m\u001b[0m\n",
      "\u001b[0;32m~/ENV/lib/python3.5/site-packages/pandas/core/internals.py\u001b[0m in \u001b[0;36mas_matrix\u001b[0;34m(self, items)\u001b[0m\n\u001b[1;32m   3676\u001b[0m             \u001b[0;32mreturn\u001b[0m \u001b[0mmgr\u001b[0m\u001b[0;34m.\u001b[0m\u001b[0mblocks\u001b[0m\u001b[0;34m[\u001b[0m\u001b[0;36m0\u001b[0m\u001b[0;34m]\u001b[0m\u001b[0;34m.\u001b[0m\u001b[0mget_values\u001b[0m\u001b[0;34m(\u001b[0m\u001b[0;34m)\u001b[0m\u001b[0;34m\u001b[0m\u001b[0m\n\u001b[1;32m   3677\u001b[0m         \u001b[0;32melse\u001b[0m\u001b[0;34m:\u001b[0m\u001b[0;34m\u001b[0m\u001b[0m\n\u001b[0;32m-> 3678\u001b[0;31m             \u001b[0;32mreturn\u001b[0m \u001b[0mmgr\u001b[0m\u001b[0;34m.\u001b[0m\u001b[0m_interleave\u001b[0m\u001b[0;34m(\u001b[0m\u001b[0;34m)\u001b[0m\u001b[0;34m\u001b[0m\u001b[0m\n\u001b[0m\u001b[1;32m   3679\u001b[0m \u001b[0;34m\u001b[0m\u001b[0m\n\u001b[1;32m   3680\u001b[0m     \u001b[0;32mdef\u001b[0m \u001b[0m_interleave\u001b[0m\u001b[0;34m(\u001b[0m\u001b[0mself\u001b[0m\u001b[0;34m)\u001b[0m\u001b[0;34m:\u001b[0m\u001b[0;34m\u001b[0m\u001b[0m\n",
      "\u001b[0;32m~/ENV/lib/python3.5/site-packages/pandas/core/internals.py\u001b[0m in \u001b[0;36m_interleave\u001b[0;34m(self)\u001b[0m\n\u001b[1;32m   3685\u001b[0m         \u001b[0mdtype\u001b[0m \u001b[0;34m=\u001b[0m \u001b[0m_interleaved_dtype\u001b[0m\u001b[0;34m(\u001b[0m\u001b[0mself\u001b[0m\u001b[0;34m.\u001b[0m\u001b[0mblocks\u001b[0m\u001b[0;34m)\u001b[0m\u001b[0;34m\u001b[0m\u001b[0m\n\u001b[1;32m   3686\u001b[0m \u001b[0;34m\u001b[0m\u001b[0m\n\u001b[0;32m-> 3687\u001b[0;31m         \u001b[0mresult\u001b[0m \u001b[0;34m=\u001b[0m \u001b[0mnp\u001b[0m\u001b[0;34m.\u001b[0m\u001b[0mempty\u001b[0m\u001b[0;34m(\u001b[0m\u001b[0mself\u001b[0m\u001b[0;34m.\u001b[0m\u001b[0mshape\u001b[0m\u001b[0;34m,\u001b[0m \u001b[0mdtype\u001b[0m\u001b[0;34m=\u001b[0m\u001b[0mdtype\u001b[0m\u001b[0;34m)\u001b[0m\u001b[0;34m\u001b[0m\u001b[0m\n\u001b[0m\u001b[1;32m   3688\u001b[0m \u001b[0;34m\u001b[0m\u001b[0m\n\u001b[1;32m   3689\u001b[0m         \u001b[0;32mif\u001b[0m \u001b[0mresult\u001b[0m\u001b[0;34m.\u001b[0m\u001b[0mshape\u001b[0m\u001b[0;34m[\u001b[0m\u001b[0;36m0\u001b[0m\u001b[0;34m]\u001b[0m \u001b[0;34m==\u001b[0m \u001b[0;36m0\u001b[0m\u001b[0;34m:\u001b[0m\u001b[0;34m\u001b[0m\u001b[0m\n",
      "\u001b[0;31mMemoryError\u001b[0m: "
     ]
    }
   ],
   "source": [
    "clf = RandomForestClassifier(n_estimators=60, min_samples_leaf=10, min_samples_split=5, n_jobs=-1).fit(train_set, train_classes)\n",
    "print('Test:', clf.score(test_set, test_classes), 'Entrenamiento:', clf.score(train_set, train_classes))"
   ]
  },
  {
   "cell_type": "code",
   "execution_count": null,
   "metadata": {},
   "outputs": [],
   "source": [
    "test100k['sepostulo'] = clf.predict(test100k.drop(columns=['edad', 'id', 'idpostulante', 'titulo', 'titulo_processed']))\n",
    "test100k[['id','sepostulo']].to_csv('Resultados/n60_minl10_mins5.csv', index=False)"
   ]
  },
  {
   "cell_type": "code",
   "execution_count": null,
   "metadata": {},
   "outputs": [],
   "source": []
  },
  {
   "cell_type": "code",
   "execution_count": null,
   "metadata": {},
   "outputs": [],
   "source": []
  },
  {
   "cell_type": "markdown",
   "metadata": {},
   "source": [
    "- Con Normalization, stemming, low_freq 100\n",
    "    - Con Standardization de historial\n",
    "        - (n_estimators=30, min_samples_leaf=10, min_samples_split=5, n_jobs=-1)\n",
    "            - 0.8558233333333334 Entrenamiento: 0.8896028571428571\n",
    "    - Sin Standardization de historial\n",
    "        - (n_estimators=30, min_samples_leaf=10, min_samples_split=5, n_jobs=-1)\n",
    "            - Test: 0.9083366666666667 Entrenamiento: 0.944 "
   ]
  },
  {
   "cell_type": "markdown",
   "metadata": {},
   "source": [
    "- Doc2Vec Segundo intento, con stemming.\n",
    "    - Sin normalizacion\n",
    "        - Con filtro low_freq 100\n",
    "            - (n_estimators=30, min_samples_leaf=7, min_samples_split=4, n_jobs=-1)\n",
    "                - Test: 0.9106366666666666 Entrenamiento: 0.9535442857142857\n",
    "            - (n_estimators=30, min_samples_leaf=10, min_samples_split=5, n_jobs=-1)\n",
    "                - Test: 0.9075733333333333 Entrenamiento: 0.9435157142857142\n",
    "    - Con normalizacion\n",
    "        - Con filtro low_freq 100\n",
    "            - (n_estimators=30, min_samples_leaf=10, min_samples_split=5, n_jobs=-1)\n",
    "                - Test: 0.9083366666666667 Entrenamiento: 0.944\n",
    "            - Sin stemming:\n",
    "                - Test: 0.9068966666666667 Entrenamiento: 0.9434057142857143\n",
    "        - Con filtro low_freq 20\n",
    "            - (n_estimators=30, min_samples_leaf=10, min_samples_split=5, n_jobs=-1)\n",
    "                - 0.9080766666666666 Entrenamiento: 0.9439728571428572\n",
    "        - Con filtro low_freq 300\n",
    "            - (n_estimators=30, min_samples_leaf=10, min_samples_split=5, n_jobs=-1)\n",
    "                - Test: 0.9078933333333333 Entrenamiento: 0.9435942857142857\n",
    "        - Con filtro low_freq 1000\n",
    "            - (n_estimators=30, min_samples_leaf=10, min_samples_split=5, n_jobs=-1)\n",
    "                - Test: 0.9076933333333334 Entrenamiento: 0.9428942857142857"
   ]
  },
  {
   "cell_type": "markdown",
   "metadata": {},
   "source": [
    "- Doc2Vec Primer intento, filtro low_freq separados de 20/5 para data/test100k respectivamente\n",
    "    - (n_estimators=30, min_samples_leaf=7, min_samples_split=4, n_jobs=-1)\n",
    "        - Test: 0.9112666666666667 Entrenamiento: 0.9538957142857143\n",
    "    - (n_estimators=30, min_samples_leaf=8, min_samples_split=4, n_jobs=-1)\n",
    "        - Test: 0.9103733333333334 Entrenamiento: 0.9507428571428571\n",
    "    - (n_estimators=30, min_samples_leaf=10, min_samples_split=4, n_jobs=-1)\n",
    "        - Test: 0.90886 Entrenamiento: 0.9441471428571429\n",
    "    - (n_estimators=30, min_samples_leaf=10, min_samples_split=5, n_jobs=-1)\n",
    "        - Test: 0.9077866666666666 Entrenamiento: 0.9438542857142858\n",
    "    - (n_estimators=30, min_samples_leaf=7, min_samples_split=6, n_jobs=-1)\n",
    "        - Test: 0.9103166666666667 Entrenamiento: 0.9541357142857143\n",
    "    - (n_estimators=60, min_samples_leaf=7, min_samples_split=4, n_jobs=-1)\n",
    "        - Comun\n",
    "            - Test: 0.91227 Entrenamiento: 0.9548971428571429"
   ]
  },
  {
   "cell_type": "markdown",
   "metadata": {},
   "source": [
    "### Busco el parametro optimo con GridSearch"
   ]
  },
  {
   "cell_type": "code",
   "execution_count": null,
   "metadata": {},
   "outputs": [],
   "source": [
    "del data"
   ]
  },
  {
   "cell_type": "markdown",
   "metadata": {},
   "source": [
    "- Pruebo distinta cantidad de arboles"
   ]
  },
  {
   "cell_type": "markdown",
   "metadata": {},
   "source": [
    "#GridSearch, busco los mejores parametros\n",
    "parameters = {'n_estimators':[4, 8, 12, 16, 32, 64, 100, 128]}\n",
    "rndmtree = RandomForestClassifier(n_jobs=-1)\n",
    "rndmtreeGS = GridSearchCV(rndmtree, parameters)\n",
    "rndmtreeGS.fit(train_set, train_classes)\n",
    "rndmtreeGS.best_params_\n",
    "#128"
   ]
  },
  {
   "cell_type": "markdown",
   "metadata": {},
   "source": [
    "print('Test:', rndmtreeGS.score(test_set, test_classes), 'Entrenamiento:', rndmtreeGS.score(train_set, train_classes))"
   ]
  },
  {
   "cell_type": "markdown",
   "metadata": {},
   "source": [
    "rndmtreeGS.cv_results_"
   ]
  },
  {
   "cell_type": "markdown",
   "metadata": {},
   "source": [
    "- {'mean_fit_time': array([ 10.65733536,  18.0809954 ,  21.97569235,  28.99000303,\n",
    "         53.74215492, 105.21326248, 165.86294913, 200.48018638]),\n",
    " 'mean_score_time': array([1.22243245, 1.42882133, 1.56605172, 1.70461313, 2.45767085,\n",
    "        4.24544422, 6.11957598, 7.0762221 ]),\n",
    " 'mean_test_score': array([0.85763714, 0.88921143, 0.89835143, 0.90388714, 0.91139143,\n",
    "        0.91462143, 0.91596429, 0.91653714]),\n",
    " 'mean_train_score': array([0.97680929, 0.994175  , 0.99758643, 0.99872   , 0.99975   ,\n",
    "        0.99994071, 0.99995357, 0.99995429]),\n",
    " 'param_n_estimators': masked_array(data=[4, 8, 12, 16, 32, 64, 100, 128],\n",
    "              mask=[False, False, False, False, False, False, False, False],\n",
    "        fill_value='?',\n",
    "             dtype=object),\n",
    " 'params': [{'n_estimators': 4},\n",
    "  {'n_estimators': 8},\n",
    "  {'n_estimators': 12},\n",
    "  {'n_estimators': 16},\n",
    "  {'n_estimators': 32},\n",
    "  {'n_estimators': 64},\n",
    "  {'n_estimators': 100},\n",
    "  {'n_estimators': 128}],\n",
    " 'rank_test_score': array([8, 7, 6, 5, 4, 3, 2, 1], dtype=int32),\n",
    " 'split0_test_score': array([0.85991326, 0.88871318, 0.89882743, 0.9045617 , 0.91193311,\n",
    "        0.91495881, 0.91656595, 0.91700738]),\n",
    " 'split0_train_score': array([0.9768764 , 0.99425713, 0.99749285, 0.99868643, 0.99976429,\n",
    "        0.99994   , 0.99995071, 0.99995071]),\n",
    " 'split1_test_score': array([0.8577398 , 0.89007984, 0.89808985, 0.90435986, 0.9104413 ,\n",
    "        0.91443559, 0.91535702, 0.91634702]),\n",
    " 'split1_train_score': array([0.9768593 , 0.99422072, 0.99760429, 0.99873357, 0.99973   ,\n",
    "        0.99994429, 0.999955  , 0.99995714]),\n",
    " 'split2_test_score': array([0.85525836, 0.88884127, 0.898137  , 0.90273986, 0.91179987,\n",
    "        0.91446988, 0.91596988, 0.91625702]),\n",
    " 'split2_train_score': array([0.97669216, 0.99404715, 0.99766214, 0.99874   , 0.99975571,\n",
    "        0.99993786, 0.999955  , 0.999955  ]),\n",
    " 'std_fit_time': array([0.26896197, 0.31426464, 0.20138819, 0.45966349, 0.57356212,\n",
    "        3.9532968 , 1.7151291 , 5.1175697 ]),\n",
    " 'std_score_time': array([0.01616008, 0.02108894, 0.06959461, 0.00881401, 0.05376479,\n",
    "        0.19489816, 0.1942703 , 0.0453662 ]),\n",
    " 'std_test_score': array([0.00190174, 0.00061628, 0.00033714, 0.00081542, 0.00067404,\n",
    "        0.00023898, 0.00049356, 0.00033453]),\n",
    " 'std_train_score': array([8.31142393e-05, 9.16199328e-05, 7.02569739e-05, 2.38845211e-05,\n",
    "        1.45684517e-05, 2.67262196e-06, 2.02035343e-06, 2.67265755e-06])}"
   ]
  },
  {
   "cell_type": "markdown",
   "metadata": {},
   "source": [
    "- Pruebo distinta cantidad de muestras necesarias para cada split"
   ]
  },
  {
   "cell_type": "markdown",
   "metadata": {},
   "source": [
    "#GridSearch, busco los mejores parametros\n",
    "parameters = {'min_samples_split':[3, 6, 10, 0.05, 0.1, 0.3, 0.5]}\n",
    "rndmtree = RandomForestClassifier(n_estimators=20, n_jobs=-1)\n",
    "rndmtreeGS = GridSearchCV(rndmtree, parameters)\n",
    "rndmtreeGS.fit(train_set, train_classes)\n",
    "rndmtreeGS.best_params_\n",
    "#3"
   ]
  },
  {
   "cell_type": "markdown",
   "metadata": {},
   "source": [
    "print('Test:', rndmtreeGS.score(test_set, test_classes), 'Entrenamiento:', rndmtreeGS.score(train_set, train_classes))"
   ]
  },
  {
   "cell_type": "markdown",
   "metadata": {},
   "source": [
    "rndmtreeGS.cv_results_"
   ]
  },
  {
   "cell_type": "markdown",
   "metadata": {},
   "source": [
    "- {'mean_fit_time': array([35.96888089, 34.96881421, 34.66049409, 13.40506005, 11.07682443,\n",
    "         7.60593661,  4.91088072]),\n",
    " 'mean_score_time': array([1.85439777, 1.7807653 , 1.85489082, 1.1338714 , 1.0313789 ,\n",
    "        1.06492782, 0.93730863]),\n",
    " 'mean_test_score': array([0.90792571, 0.90747571, 0.90735571, 0.81649857, 0.80138714,\n",
    "        0.78183286, 0.75766   ]),\n",
    " 'mean_train_score': array([0.99698571, 0.98917643, 0.98124071, 0.81721786, 0.80162   ,\n",
    "        0.78222786, 0.75768786]),\n",
    " 'param_min_samples_split': masked_array(data=[3, 6, 10, 0.05, 0.1, 0.3, 0.5],\n",
    "              mask=[False, False, False, False, False, False, False],\n",
    "        fill_value='?',\n",
    "             dtype=object),\n",
    " 'params': [{'min_samples_split': 3},\n",
    "  {'min_samples_split': 6},\n",
    "  {'min_samples_split': 10},\n",
    "  {'min_samples_split': 0.05},\n",
    "  {'min_samples_split': 0.1},\n",
    "  {'min_samples_split': 0.3},\n",
    "  {'min_samples_split': 0.5}],\n",
    " 'rank_test_score': array([1, 2, 3, 4, 5, 6, 7], dtype=int32),\n",
    " 'split0_test_score': array([0.90796026, 0.90807169, 0.90778455, 0.8161991 , 0.79630487,\n",
    "        0.79154345, 0.75760926]),\n",
    " 'split0_train_score': array([0.99701714, 0.9892707 , 0.98090926, 0.81576974, 0.79567185,\n",
    "        0.78992256, 0.75607608]),\n",
    " 'split1_test_score': array([0.90821701, 0.90717987, 0.90686272, 0.81468974, 0.80388972,\n",
    "        0.78382826, 0.75106393]),\n",
    " 'split1_train_score': array([0.99697429, 0.98908644, 0.98147287, 0.81622656, 0.80455443,\n",
    "        0.78515087, 0.75143946]),\n",
    " 'split2_test_score': array([0.90759987, 0.90717558, 0.90741987, 0.81860688, 0.80396686,\n",
    "        0.77012681, 0.76430681]),\n",
    " 'split2_train_score': array([0.99696572, 0.98917215, 0.98134001, 0.81965727, 0.80463371,\n",
    "        0.77161016, 0.76554802]),\n",
    " 'std_fit_time': array([0.87112457, 0.26412723, 0.32180851, 0.76698661, 0.5504719 ,\n",
    "        0.17955934, 0.25931883]),\n",
    " 'std_score_time': array([0.03482148, 0.01006607, 0.06159025, 0.12525036, 0.06793082,\n",
    "        0.07233111, 0.07399855]),\n",
    " 'std_test_score': array([0.00025313, 0.00042142, 0.00037906, 0.00161313, 0.00359386,\n",
    "        0.00885643, 0.0054065 ]),\n",
    " 'std_train_score': array([2.24941728e-05, 7.52856866e-05, 2.40568581e-04, 1.73497993e-03,\n",
    "        4.20609807e-03, 7.75645588e-03, 5.87147012e-03])}"
   ]
  },
  {
   "cell_type": "markdown",
   "metadata": {},
   "source": [
    "- Pruebo distinta cantidad min de muestras por hoja"
   ]
  },
  {
   "cell_type": "markdown",
   "metadata": {},
   "source": [
    "#GridSearch, busco los mejores parametros\n",
    "parameters = {'min_samples_leaf':[5, 10, 15, 0.1, 0.2, 0.3]}\n",
    "rndmtree = RandomForestClassifier(n_estimators=20, min_samples_split=3, n_jobs=-1)\n",
    "rndmtreeGS = GridSearchCV(rndmtree, parameters)\n",
    "rndmtreeGS.fit(train_set, train_classes)\n",
    "rndmtreeGS.best_params_\n",
    "#5"
   ]
  },
  {
   "cell_type": "markdown",
   "metadata": {},
   "source": [
    "print('Test:', rndmtreeGS.score(test_set, test_classes), 'Entrenamiento:', rndmtreeGS.score(train_set, train_classes))"
   ]
  },
  {
   "cell_type": "markdown",
   "metadata": {},
   "source": [
    "rndmtreeGS.cv_results_"
   ]
  },
  {
   "cell_type": "markdown",
   "metadata": {},
   "source": [
    "- {'mean_fit_time': array([34.12834422, 31.69489098, 29.53571296,  5.74226379,  4.48574471,\n",
    "         4.32093422]),\n",
    " 'mean_score_time': array([1.91369001, 1.71238804, 1.7388409 , 1.02940671, 0.9464554 ,\n",
    "        1.048045  ]),\n",
    " 'mean_test_score': array([0.90461857, 0.90086714, 0.89893143, 0.72985714, 0.70999143,\n",
    "        0.63916   ]),\n",
    " 'mean_train_score': array([0.95974429, 0.94108929, 0.92990714, 0.73038571, 0.71052499,\n",
    "        0.63978133]),\n",
    " 'param_min_samples_leaf': masked_array(data=[5, 10, 15, 0.1, 0.2, 0.3],\n",
    "              mask=[False, False, False, False, False, False],\n",
    "        fill_value='?',\n",
    "             dtype=object),\n",
    " 'params': [{'min_samples_leaf': 5},\n",
    "  {'min_samples_leaf': 10},\n",
    "  {'min_samples_leaf': 15},\n",
    "  {'min_samples_leaf': 0.1},\n",
    "  {'min_samples_leaf': 0.2},\n",
    "  {'min_samples_leaf': 0.3}],\n",
    " 'rank_test_score': array([1, 2, 3, 4, 5, 6], dtype=int32),\n",
    " 'split0_test_score': array([0.90523456, 0.90191742, 0.89975743, 0.7312222 , 0.70183942,\n",
    "        0.50290142]),\n",
    " 'split0_train_score': array([0.96031423, 0.94238277, 0.93039133, 0.7304539 , 0.70249386,\n",
    "        0.50290358]),\n",
    " 'split1_test_score': array([0.90397843, 0.900267  , 0.898917  , 0.72487389, 0.70053529,\n",
    "        0.70704101]),\n",
    " 'split1_train_score': array([0.95944003, 0.94068147, 0.93065291, 0.72652877, 0.70204236,\n",
    "        0.70834449]),\n",
    " 'split2_test_score': array([0.90464272, 0.900417  , 0.89811985, 0.73347533, 0.72759961,\n",
    "        0.70753815]),\n",
    " 'split2_train_score': array([0.9594786 , 0.94020361, 0.92867719, 0.73417448, 0.72703877,\n",
    "        0.70809592]),\n",
    " 'std_fit_time': array([1.71880513, 0.43632298, 0.52407372, 0.12021351, 0.06704027,\n",
    "        0.16466184]),\n",
    " 'std_score_time': array([0.19792525, 0.15922938, 0.35129798, 0.0386923 , 0.05522493,\n",
    "        0.03755701]),\n",
    " 'std_test_score': array([0.00051309, 0.00074518, 0.00066862, 0.00364177, 0.01246223,\n",
    "        0.09634979]),\n",
    " 'std_train_score': array([0.00040332, 0.00093521, 0.00087624, 0.00312172, 0.01167846,\n",
    "        0.09678724])}\n"
   ]
  },
  {
   "cell_type": "markdown",
   "metadata": {},
   "source": [
    "- Integrando varios"
   ]
  },
  {
   "cell_type": "markdown",
   "metadata": {},
   "source": [
    "#GridSearch, busco los mejores parametros\n",
    "parameters = {'min_samples_leaf':[4,5,6], 'min_samples_split':[2,3,4]}\n",
    "rndmtree = RandomForestClassifier(n_estimators=20, n_jobs=-1)\n",
    "rndmtreeGS = GridSearchCV(rndmtree, parameters)\n",
    "rndmtreeGS.fit(train_set, train_classes)\n",
    "rndmtreeGS.best_params_\n",
    "#{'min_samples_leaf': 4, 'min_samples_split': 3}"
   ]
  },
  {
   "cell_type": "markdown",
   "metadata": {},
   "source": [
    "print('Test:', rndmtreeGS.score(test_set, test_classes), 'Entrenamiento:', rndmtreeGS.score(train_set, train_classes))"
   ]
  },
  {
   "cell_type": "markdown",
   "metadata": {},
   "source": [
    "rndmtreeGS.cv_results_"
   ]
  },
  {
   "cell_type": "markdown",
   "metadata": {},
   "source": [
    "{'mean_fit_time': array([34.72823882, 34.23876715, 33.93140038, 32.66352145, 33.4588023 ,\n",
    "        33.58448966, 33.14943576, 33.16646902, 32.01965721]),\n",
    " 'mean_score_time': array([1.94264499, 1.92731341, 3.14476267, 1.66642451, 1.76112358,\n",
    "        2.63814982, 1.77258134, 1.63486902, 1.58408912]),\n",
    " 'mean_test_score': array([0.90530143, 0.90588286, 0.90509571, 0.90517286, 0.90467571,\n",
    "        0.90454857, 0.90399571, 0.90402   , 0.90407714]),\n",
    " 'mean_train_score': array([0.96595714, 0.965945  , 0.96606214, 0.96040357, 0.95977643,\n",
    "        0.95955857, 0.95472643, 0.95461929, 0.95435714]),\n",
    " 'param_min_samples_leaf': masked_array(data=[4, 4, 4, 5, 5, 5, 6, 6, 6],\n",
    "              mask=[False, False, False, False, False, False, False, False,\n",
    "                    False],\n",
    "        fill_value='?',\n",
    "             dtype=object),\n",
    " 'param_min_samples_split': masked_array(data=[2, 3, 4, 2, 3, 4, 2, 3, 4],\n",
    "              mask=[False, False, False, False, False, False, False, False,\n",
    "                    False],\n",
    "        fill_value='?',\n",
    "             dtype=object),\n",
    " 'params': [{'min_samples_leaf': 4, 'min_samples_split': 2},\n",
    "  {'min_samples_leaf': 4, 'min_samples_split': 3},\n",
    "  {'min_samples_leaf': 4, 'min_samples_split': 4},\n",
    "  {'min_samples_leaf': 5, 'min_samples_split': 2},\n",
    "  {'min_samples_leaf': 5, 'min_samples_split': 3},\n",
    "  {'min_samples_leaf': 5, 'min_samples_split': 4},\n",
    "  {'min_samples_leaf': 6, 'min_samples_split': 2},\n",
    "  {'min_samples_leaf': 6, 'min_samples_split': 3},\n",
    "  {'min_samples_leaf': 6, 'min_samples_split': 4}],\n",
    " 'rank_test_score': array([2, 1, 4, 3, 5, 6, 9, 8, 7], dtype=int32),\n",
    " 'split0_test_score': array([0.90601455, 0.90652455, 0.9060017 , 0.90523027, 0.90562884,\n",
    "        0.9049517 , 0.90445884, 0.9044417 , 0.90484027]),\n",
    " 'split0_train_score': array([0.96583852, 0.96558781, 0.96594781, 0.96024137, 0.96033566,\n",
    "        0.95990923, 0.95438279, 0.95462065, 0.95427779]),\n",
    " 'split1_test_score': array([0.90470272, 0.90615129, 0.90438986, 0.90548272, 0.90399986,\n",
    "        0.90459986, 0.90386701, 0.90405986, 0.90353272]),\n",
    " 'split1_train_score': array([0.96589431, 0.96580217, 0.96596074, 0.96004646, 0.95931574,\n",
    "        0.9594936 , 0.95525503, 0.95476432, 0.95384932]),\n",
    " 'split2_test_score': array([0.90518701, 0.90497272, 0.90489558, 0.90480558, 0.90439843,\n",
    "        0.90409415, 0.90366129, 0.90355843, 0.90385843]),\n",
    " 'split2_train_score': array([0.9661386 , 0.96644502, 0.96627788, 0.96092289, 0.95967789,\n",
    "        0.95927289, 0.95454146, 0.95447289, 0.95494432]),\n",
    " 'std_fit_time': array([0.7692752 , 0.94786775, 1.47604292, 0.37104263, 1.17804001,\n",
    "        0.73667547, 0.56061798, 0.73302194, 0.18785483]),\n",
    " 'std_score_time': array([0.0557437 , 0.06053902, 1.67110932, 0.06282441, 0.09425761,\n",
    "        1.31127325, 0.00825542, 0.06364949, 0.00286982]),\n",
    " 'std_test_score': array([0.00054163, 0.00066136, 0.00067307, 0.00027941, 0.00069333,\n",
    "        0.00035197, 0.00033808, 0.00036169, 0.00055576]),\n",
    " 'std_train_score': array([0.00013031, 0.00036424, 0.00015264, 0.00037573, 0.00042217,\n",
    "        0.00026382, 0.00037935, 0.00011898, 0.00045054])}"
   ]
  },
  {
   "cell_type": "code",
   "execution_count": null,
   "metadata": {},
   "outputs": [],
   "source": []
  },
  {
   "cell_type": "code",
   "execution_count": null,
   "metadata": {},
   "outputs": [],
   "source": []
  }
 ],
 "metadata": {
  "kernelspec": {
   "display_name": "Python 3",
   "language": "python",
   "name": "python3"
  },
  "language_info": {
   "codemirror_mode": {
    "name": "ipython",
    "version": 3
   },
   "file_extension": ".py",
   "mimetype": "text/x-python",
   "name": "python",
   "nbconvert_exporter": "python",
   "pygments_lexer": "ipython3",
   "version": "3.5.2"
  }
 },
 "nbformat": 4,
 "nbformat_minor": 2
}
