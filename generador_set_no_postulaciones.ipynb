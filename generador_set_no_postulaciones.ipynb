{
 "cells": [
  {
   "cell_type": "code",
   "execution_count": 1,
   "metadata": {},
   "outputs": [],
   "source": [
    "import pandas as pd\n",
    "import numpy as np\n",
    "\n",
    "from datetime import datetime\n",
    "\n",
    "from IPython.display import clear_output"
   ]
  },
  {
   "cell_type": "markdown",
   "metadata": {},
   "source": [
    "- Concateno toda la info de educacion"
   ]
  },
  {
   "cell_type": "code",
   "execution_count": 2,
   "metadata": {},
   "outputs": [
    {
     "name": "stdout",
     "output_type": "stream",
     "text": [
      "<class 'pandas.core.frame.DataFrame'>\n",
      "Int64Index: 693641 entries, 0 to 397508\n",
      "Data columns (total 3 columns):\n",
      "idpostulante    693641 non-null object\n",
      "estudios        693641 non-null category\n",
      "estado          693641 non-null category\n",
      "dtypes: category(2), object(1)\n",
      "memory usage: 11.9+ MB\n"
     ]
    }
   ],
   "source": [
    "edu_totales = pd.concat([pd.read_csv('datos_navent_fiuba/fiuba_1_postulantes_educacion.csv'), pd.read_csv('fiuba_hasta_15_abril/fiuba_1_postulantes_educacion.csv'), pd.read_csv('Fiuba desde 15 Abril/fiuba_1_postulantes_educacion.csv')])\n",
    "edu_totales.drop_duplicates(inplace=True)\n",
    "\n",
    "edu_totales = edu_totales.rename(columns={'nombre':'estudios'})\n",
    "edu_totales['estudios'] = edu_totales['estudios'].astype('category')\n",
    "edu_totales['estado'] = edu_totales['estado'].astype('category')\n",
    "\n",
    "edu_totales.info()"
   ]
  },
  {
   "cell_type": "code",
   "execution_count": 3,
   "metadata": {},
   "outputs": [
    {
     "data": {
      "text/html": [
       "<div>\n",
       "<style scoped>\n",
       "    .dataframe tbody tr th:only-of-type {\n",
       "        vertical-align: middle;\n",
       "    }\n",
       "\n",
       "    .dataframe tbody tr th {\n",
       "        vertical-align: top;\n",
       "    }\n",
       "\n",
       "    .dataframe thead th {\n",
       "        text-align: right;\n",
       "    }\n",
       "</style>\n",
       "<table border=\"1\" class=\"dataframe\">\n",
       "  <thead>\n",
       "    <tr style=\"text-align: right;\">\n",
       "      <th></th>\n",
       "      <th>idpostulante</th>\n",
       "      <th>estudios</th>\n",
       "      <th>estado</th>\n",
       "      <th>nivel_estado</th>\n",
       "      <th>nivel_estudios</th>\n",
       "    </tr>\n",
       "  </thead>\n",
       "  <tbody>\n",
       "    <tr>\n",
       "      <th>0</th>\n",
       "      <td>NdJl</td>\n",
       "      <td>Posgrado</td>\n",
       "      <td>En Curso</td>\n",
       "      <td>1</td>\n",
       "      <td>4</td>\n",
       "    </tr>\n",
       "    <tr>\n",
       "      <th>1</th>\n",
       "      <td>8BkL</td>\n",
       "      <td>Universitario</td>\n",
       "      <td>En Curso</td>\n",
       "      <td>1</td>\n",
       "      <td>3</td>\n",
       "    </tr>\n",
       "    <tr>\n",
       "      <th>2</th>\n",
       "      <td>1d2B</td>\n",
       "      <td>Universitario</td>\n",
       "      <td>En Curso</td>\n",
       "      <td>1</td>\n",
       "      <td>3</td>\n",
       "    </tr>\n",
       "    <tr>\n",
       "      <th>3</th>\n",
       "      <td>NPBx</td>\n",
       "      <td>Universitario</td>\n",
       "      <td>En Curso</td>\n",
       "      <td>1</td>\n",
       "      <td>3</td>\n",
       "    </tr>\n",
       "    <tr>\n",
       "      <th>4</th>\n",
       "      <td>NPBx</td>\n",
       "      <td>Master</td>\n",
       "      <td>En Curso</td>\n",
       "      <td>1</td>\n",
       "      <td>5</td>\n",
       "    </tr>\n",
       "  </tbody>\n",
       "</table>\n",
       "</div>"
      ],
      "text/plain": [
       "  idpostulante       estudios    estado  nivel_estado  nivel_estudios\n",
       "0         NdJl       Posgrado  En Curso             1               4\n",
       "1         8BkL  Universitario  En Curso             1               3\n",
       "2         1d2B  Universitario  En Curso             1               3\n",
       "3         NPBx  Universitario  En Curso             1               3\n",
       "4         NPBx         Master  En Curso             1               5"
      ]
     },
     "execution_count": 3,
     "metadata": {},
     "output_type": "execute_result"
    }
   ],
   "source": [
    "# Creo nuevas columnas indicando el nivel del estudio y del estado, para filtrar mas facilmente luego\n",
    "\n",
    "edu_estado_list = ['Abandonado','En Curso', 'Graduado']\n",
    "edu_estudios_list = ['Otro', 'Secundario','Terciario/Técnico', 'Universitario', 'Posgrado', 'Master', 'Doctorado']\n",
    "\n",
    "edu_totales['nivel_estado'] = edu_totales['estado'].apply(lambda x: edu_estado_list.index(x)).astype('int8')\n",
    "edu_totales['nivel_estudios'] = edu_totales['estudios'].apply(lambda x: edu_estudios_list.index(x)).astype('int8')\n",
    "\n",
    "edu_totales.head()"
   ]
  },
  {
   "cell_type": "code",
   "execution_count": 4,
   "metadata": {},
   "outputs": [
    {
     "data": {
      "text/html": [
       "<div>\n",
       "<style scoped>\n",
       "    .dataframe tbody tr th:only-of-type {\n",
       "        vertical-align: middle;\n",
       "    }\n",
       "\n",
       "    .dataframe tbody tr th {\n",
       "        vertical-align: top;\n",
       "    }\n",
       "\n",
       "    .dataframe thead th {\n",
       "        text-align: right;\n",
       "    }\n",
       "</style>\n",
       "<table border=\"1\" class=\"dataframe\">\n",
       "  <thead>\n",
       "    <tr style=\"text-align: right;\">\n",
       "      <th></th>\n",
       "      <th>idpostulante</th>\n",
       "      <th>estudios</th>\n",
       "      <th>estado</th>\n",
       "      <th>nivel_estado</th>\n",
       "      <th>nivel_estudios</th>\n",
       "    </tr>\n",
       "  </thead>\n",
       "  <tbody>\n",
       "    <tr>\n",
       "      <th>48497</th>\n",
       "      <td>5vmKGM</td>\n",
       "      <td>Universitario</td>\n",
       "      <td>En Curso</td>\n",
       "      <td>1</td>\n",
       "      <td>3</td>\n",
       "    </tr>\n",
       "    <tr>\n",
       "      <th>50630</th>\n",
       "      <td>5vmKGM</td>\n",
       "      <td>Terciario/Técnico</td>\n",
       "      <td>Graduado</td>\n",
       "      <td>2</td>\n",
       "      <td>2</td>\n",
       "    </tr>\n",
       "    <tr>\n",
       "      <th>51662</th>\n",
       "      <td>5vmKGM</td>\n",
       "      <td>Universitario</td>\n",
       "      <td>Abandonado</td>\n",
       "      <td>0</td>\n",
       "      <td>3</td>\n",
       "    </tr>\n",
       "    <tr>\n",
       "      <th>51663</th>\n",
       "      <td>5vmKGM</td>\n",
       "      <td>Terciario/Técnico</td>\n",
       "      <td>Abandonado</td>\n",
       "      <td>0</td>\n",
       "      <td>2</td>\n",
       "    </tr>\n",
       "    <tr>\n",
       "      <th>169914</th>\n",
       "      <td>5vmKGM</td>\n",
       "      <td>Doctorado</td>\n",
       "      <td>Graduado</td>\n",
       "      <td>2</td>\n",
       "      <td>6</td>\n",
       "    </tr>\n",
       "  </tbody>\n",
       "</table>\n",
       "</div>"
      ],
      "text/plain": [
       "       idpostulante           estudios      estado  nivel_estado  \\\n",
       "48497        5vmKGM      Universitario    En Curso             1   \n",
       "50630        5vmKGM  Terciario/Técnico    Graduado             2   \n",
       "51662        5vmKGM      Universitario  Abandonado             0   \n",
       "51663        5vmKGM  Terciario/Técnico  Abandonado             0   \n",
       "169914       5vmKGM          Doctorado    Graduado             2   \n",
       "\n",
       "        nivel_estudios  \n",
       "48497                3  \n",
       "50630                2  \n",
       "51662                3  \n",
       "51663                2  \n",
       "169914               6  "
      ]
     },
     "execution_count": 4,
     "metadata": {},
     "output_type": "execute_result"
    }
   ],
   "source": [
    "edu_totales[edu_totales['idpostulante']=='5vmKGM']"
   ]
  },
  {
   "cell_type": "code",
   "execution_count": 5,
   "metadata": {},
   "outputs": [
    {
     "data": {
      "text/html": [
       "<div>\n",
       "<style scoped>\n",
       "    .dataframe tbody tr th:only-of-type {\n",
       "        vertical-align: middle;\n",
       "    }\n",
       "\n",
       "    .dataframe tbody tr th {\n",
       "        vertical-align: top;\n",
       "    }\n",
       "\n",
       "    .dataframe thead th {\n",
       "        text-align: right;\n",
       "    }\n",
       "</style>\n",
       "<table border=\"1\" class=\"dataframe\">\n",
       "  <thead>\n",
       "    <tr style=\"text-align: right;\">\n",
       "      <th></th>\n",
       "      <th>idpostulante</th>\n",
       "      <th>estudios</th>\n",
       "      <th>estado</th>\n",
       "      <th>nivel_estado</th>\n",
       "      <th>nivel_estudios</th>\n",
       "    </tr>\n",
       "  </thead>\n",
       "  <tbody>\n",
       "    <tr>\n",
       "      <th>51663</th>\n",
       "      <td>5vmKGM</td>\n",
       "      <td>Terciario/Técnico</td>\n",
       "      <td>Abandonado</td>\n",
       "      <td>0</td>\n",
       "      <td>2</td>\n",
       "    </tr>\n",
       "    <tr>\n",
       "      <th>51662</th>\n",
       "      <td>5vmKGM</td>\n",
       "      <td>Universitario</td>\n",
       "      <td>Abandonado</td>\n",
       "      <td>0</td>\n",
       "      <td>3</td>\n",
       "    </tr>\n",
       "    <tr>\n",
       "      <th>48497</th>\n",
       "      <td>5vmKGM</td>\n",
       "      <td>Universitario</td>\n",
       "      <td>En Curso</td>\n",
       "      <td>1</td>\n",
       "      <td>3</td>\n",
       "    </tr>\n",
       "    <tr>\n",
       "      <th>50630</th>\n",
       "      <td>5vmKGM</td>\n",
       "      <td>Terciario/Técnico</td>\n",
       "      <td>Graduado</td>\n",
       "      <td>2</td>\n",
       "      <td>2</td>\n",
       "    </tr>\n",
       "    <tr>\n",
       "      <th>169914</th>\n",
       "      <td>5vmKGM</td>\n",
       "      <td>Doctorado</td>\n",
       "      <td>Graduado</td>\n",
       "      <td>2</td>\n",
       "      <td>6</td>\n",
       "    </tr>\n",
       "  </tbody>\n",
       "</table>\n",
       "</div>"
      ],
      "text/plain": [
       "       idpostulante           estudios      estado  nivel_estado  \\\n",
       "51663        5vmKGM  Terciario/Técnico  Abandonado             0   \n",
       "51662        5vmKGM      Universitario  Abandonado             0   \n",
       "48497        5vmKGM      Universitario    En Curso             1   \n",
       "50630        5vmKGM  Terciario/Técnico    Graduado             2   \n",
       "169914       5vmKGM          Doctorado    Graduado             2   \n",
       "\n",
       "        nivel_estudios  \n",
       "51663                2  \n",
       "51662                3  \n",
       "48497                3  \n",
       "50630                2  \n",
       "169914               6  "
      ]
     },
     "execution_count": 5,
     "metadata": {},
     "output_type": "execute_result"
    }
   ],
   "source": [
    "#Ordeno por niveles de importancia, primero por estado, luego por estudio\n",
    "\n",
    "edu_totales = edu_totales.sort_values(['nivel_estado','nivel_estudios'], ascending=[True, True])\n",
    "edu_totales[edu_totales['idpostulante']=='5vmKGM']"
   ]
  },
  {
   "cell_type": "code",
   "execution_count": 6,
   "metadata": {},
   "outputs": [
    {
     "name": "stdout",
     "output_type": "stream",
     "text": [
      "<class 'pandas.core.frame.DataFrame'>\n",
      "Int64Index: 447909 entries, 7621 to 385512\n",
      "Data columns (total 5 columns):\n",
      "idpostulante      447909 non-null object\n",
      "estudios          447909 non-null category\n",
      "estado            447909 non-null category\n",
      "nivel_estado      447909 non-null int8\n",
      "nivel_estudios    447909 non-null int8\n",
      "dtypes: category(2), int8(2), object(1)\n",
      "memory usage: 8.5+ MB\n"
     ]
    }
   ],
   "source": [
    "#Ante duplicados me quedo con el de nivel de importancia de estado mas alto, y dentro de ellos, con el de nivel de estudio mas alto. Esto es para evitar borrar \n",
    "#datos de personas que solo tengan estudios en curso o abandonados.\n",
    "\n",
    "edu_totales = edu_totales.drop_duplicates(subset=['idpostulante'], keep='last')\n",
    "edu_totales.info()"
   ]
  },
  {
   "cell_type": "code",
   "execution_count": 7,
   "metadata": {},
   "outputs": [
    {
     "data": {
      "text/html": [
       "<div>\n",
       "<style scoped>\n",
       "    .dataframe tbody tr th:only-of-type {\n",
       "        vertical-align: middle;\n",
       "    }\n",
       "\n",
       "    .dataframe tbody tr th {\n",
       "        vertical-align: top;\n",
       "    }\n",
       "\n",
       "    .dataframe thead th {\n",
       "        text-align: right;\n",
       "    }\n",
       "</style>\n",
       "<table border=\"1\" class=\"dataframe\">\n",
       "  <thead>\n",
       "    <tr style=\"text-align: right;\">\n",
       "      <th></th>\n",
       "      <th>idpostulante</th>\n",
       "      <th>estudios</th>\n",
       "      <th>estado</th>\n",
       "      <th>nivel_estado</th>\n",
       "      <th>nivel_estudios</th>\n",
       "    </tr>\n",
       "  </thead>\n",
       "  <tbody>\n",
       "    <tr>\n",
       "      <th>169914</th>\n",
       "      <td>5vmKGM</td>\n",
       "      <td>Doctorado</td>\n",
       "      <td>Graduado</td>\n",
       "      <td>2</td>\n",
       "      <td>6</td>\n",
       "    </tr>\n",
       "  </tbody>\n",
       "</table>\n",
       "</div>"
      ],
      "text/plain": [
       "       idpostulante   estudios    estado  nivel_estado  nivel_estudios\n",
       "169914       5vmKGM  Doctorado  Graduado             2               6"
      ]
     },
     "execution_count": 7,
     "metadata": {},
     "output_type": "execute_result"
    }
   ],
   "source": [
    "edu_totales[edu_totales['idpostulante']=='5vmKGM']"
   ]
  },
  {
   "cell_type": "code",
   "execution_count": 8,
   "metadata": {},
   "outputs": [],
   "source": [
    "edu_totales.drop(columns=['nivel_estado','nivel_estudios'], inplace=True)"
   ]
  },
  {
   "cell_type": "code",
   "execution_count": 9,
   "metadata": {},
   "outputs": [
    {
     "data": {
      "text/html": [
       "<div>\n",
       "<style scoped>\n",
       "    .dataframe tbody tr th:only-of-type {\n",
       "        vertical-align: middle;\n",
       "    }\n",
       "\n",
       "    .dataframe tbody tr th {\n",
       "        vertical-align: top;\n",
       "    }\n",
       "\n",
       "    .dataframe thead th {\n",
       "        text-align: right;\n",
       "    }\n",
       "</style>\n",
       "<table border=\"1\" class=\"dataframe\">\n",
       "  <thead>\n",
       "    <tr style=\"text-align: right;\">\n",
       "      <th></th>\n",
       "      <th>idpostulante</th>\n",
       "      <th>estudios</th>\n",
       "      <th>estado</th>\n",
       "    </tr>\n",
       "  </thead>\n",
       "  <tbody>\n",
       "    <tr>\n",
       "      <th>0</th>\n",
       "      <td>0z5Dmrd</td>\n",
       "      <td>Universitario</td>\n",
       "      <td>Graduado</td>\n",
       "    </tr>\n",
       "    <tr>\n",
       "      <th>1</th>\n",
       "      <td>0z5JW1r</td>\n",
       "      <td>Terciario/Técnico</td>\n",
       "      <td>Graduado</td>\n",
       "    </tr>\n",
       "    <tr>\n",
       "      <th>2</th>\n",
       "      <td>0z5VvGv</td>\n",
       "      <td>Secundario</td>\n",
       "      <td>Graduado</td>\n",
       "    </tr>\n",
       "    <tr>\n",
       "      <th>3</th>\n",
       "      <td>0zB01pE</td>\n",
       "      <td>Terciario/Técnico</td>\n",
       "      <td>Graduado</td>\n",
       "    </tr>\n",
       "    <tr>\n",
       "      <th>4</th>\n",
       "      <td>0zB026d</td>\n",
       "      <td>Terciario/Técnico</td>\n",
       "      <td>Graduado</td>\n",
       "    </tr>\n",
       "  </tbody>\n",
       "</table>\n",
       "</div>"
      ],
      "text/plain": [
       "  idpostulante           estudios    estado\n",
       "0      0z5Dmrd      Universitario  Graduado\n",
       "1      0z5JW1r  Terciario/Técnico  Graduado\n",
       "2      0z5VvGv         Secundario  Graduado\n",
       "3      0zB01pE  Terciario/Técnico  Graduado\n",
       "4      0zB026d  Terciario/Técnico  Graduado"
      ]
     },
     "execution_count": 9,
     "metadata": {},
     "output_type": "execute_result"
    }
   ],
   "source": [
    "edu_totales.sort_values(by=['idpostulante'], ascending=True, inplace=True)\n",
    "edu_totales.reset_index(drop=True, inplace=True)\n",
    "edu_totales.head()"
   ]
  },
  {
   "cell_type": "code",
   "execution_count": null,
   "metadata": {},
   "outputs": [],
   "source": []
  },
  {
   "cell_type": "code",
   "execution_count": null,
   "metadata": {},
   "outputs": [],
   "source": []
  },
  {
   "cell_type": "code",
   "execution_count": null,
   "metadata": {},
   "outputs": [],
   "source": []
  },
  {
   "cell_type": "markdown",
   "metadata": {},
   "source": [
    "- Concateno todas las postulaciones"
   ]
  },
  {
   "cell_type": "code",
   "execution_count": 10,
   "metadata": {},
   "outputs": [
    {
     "name": "stdout",
     "output_type": "stream",
     "text": [
      "<class 'pandas.core.frame.DataFrame'>\n",
      "Int64Index: 8311264 entries, 0 to 4909640\n",
      "Data columns (total 3 columns):\n",
      "idaviso             int64\n",
      "idpostulante        object\n",
      "fechapostulacion    object\n",
      "dtypes: int64(1), object(2)\n",
      "memory usage: 253.6+ MB\n"
     ]
    }
   ],
   "source": [
    "post_totales = pd.concat([pd.read_csv('datos_navent_fiuba/fiuba_4_postulaciones.csv'), pd.read_csv('fiuba_hasta_15_abril/fiuba_4_postulaciones.csv')])\n",
    "post_totales.info()"
   ]
  },
  {
   "cell_type": "code",
   "execution_count": 11,
   "metadata": {},
   "outputs": [
    {
     "name": "stdout",
     "output_type": "stream",
     "text": [
      "<class 'pandas.core.frame.DataFrame'>\n",
      "RangeIndex: 6603752 entries, 0 to 6603751\n",
      "Data columns (total 3 columns):\n",
      "idaviso             int64\n",
      "idpostulante        object\n",
      "fechapostulacion    datetime64[ns]\n",
      "dtypes: datetime64[ns](1), int64(1), object(1)\n",
      "memory usage: 151.1+ MB\n"
     ]
    }
   ],
   "source": [
    "post_totales.drop_duplicates(inplace=True)\n",
    "post_totales['fechapostulacion'] = pd.to_datetime(post_totales['fechapostulacion'])\n",
    "post_totales.sort_values(by=['fechapostulacion'], ascending=True, inplace=True)\n",
    "post_totales.drop_duplicates(subset=['idaviso','idpostulante'], keep='first', inplace=True)\n",
    "post_totales.sort_values(by=['idpostulante'], ascending=True, inplace=True)\n",
    "post_totales.reset_index(drop=True, inplace=True)\n",
    "post_totales.info()"
   ]
  },
  {
   "cell_type": "code",
   "execution_count": 12,
   "metadata": {},
   "outputs": [
    {
     "data": {
      "text/html": [
       "<div>\n",
       "<style scoped>\n",
       "    .dataframe tbody tr th:only-of-type {\n",
       "        vertical-align: middle;\n",
       "    }\n",
       "\n",
       "    .dataframe tbody tr th {\n",
       "        vertical-align: top;\n",
       "    }\n",
       "\n",
       "    .dataframe thead th {\n",
       "        text-align: right;\n",
       "    }\n",
       "</style>\n",
       "<table border=\"1\" class=\"dataframe\">\n",
       "  <thead>\n",
       "    <tr style=\"text-align: right;\">\n",
       "      <th></th>\n",
       "      <th>idaviso</th>\n",
       "      <th>idpostulante</th>\n",
       "      <th>fechapostulacion</th>\n",
       "    </tr>\n",
       "  </thead>\n",
       "  <tbody>\n",
       "    <tr>\n",
       "      <th>0</th>\n",
       "      <td>1112384041</td>\n",
       "      <td>0z5Dmrd</td>\n",
       "      <td>2018-03-28 16:24:37</td>\n",
       "    </tr>\n",
       "    <tr>\n",
       "      <th>1</th>\n",
       "      <td>1112420060</td>\n",
       "      <td>0z5Dmrd</td>\n",
       "      <td>2018-03-28 16:47:11</td>\n",
       "    </tr>\n",
       "    <tr>\n",
       "      <th>2</th>\n",
       "      <td>1112428361</td>\n",
       "      <td>0z5JW1r</td>\n",
       "      <td>2018-04-01 07:26:12</td>\n",
       "    </tr>\n",
       "    <tr>\n",
       "      <th>3</th>\n",
       "      <td>1112309728</td>\n",
       "      <td>0z5JW1r</td>\n",
       "      <td>2018-03-02 03:49:53</td>\n",
       "    </tr>\n",
       "    <tr>\n",
       "      <th>4</th>\n",
       "      <td>1112292169</td>\n",
       "      <td>0z5JW1r</td>\n",
       "      <td>2018-02-19 05:12:24</td>\n",
       "    </tr>\n",
       "  </tbody>\n",
       "</table>\n",
       "</div>"
      ],
      "text/plain": [
       "      idaviso idpostulante    fechapostulacion\n",
       "0  1112384041      0z5Dmrd 2018-03-28 16:24:37\n",
       "1  1112420060      0z5Dmrd 2018-03-28 16:47:11\n",
       "2  1112428361      0z5JW1r 2018-04-01 07:26:12\n",
       "3  1112309728      0z5JW1r 2018-03-02 03:49:53\n",
       "4  1112292169      0z5JW1r 2018-02-19 05:12:24"
      ]
     },
     "execution_count": 12,
     "metadata": {},
     "output_type": "execute_result"
    }
   ],
   "source": [
    "post_totales.head()"
   ]
  },
  {
   "cell_type": "code",
   "execution_count": null,
   "metadata": {},
   "outputs": [],
   "source": []
  },
  {
   "cell_type": "code",
   "execution_count": null,
   "metadata": {},
   "outputs": [],
   "source": []
  },
  {
   "cell_type": "code",
   "execution_count": null,
   "metadata": {},
   "outputs": [],
   "source": []
  },
  {
   "cell_type": "markdown",
   "metadata": {},
   "source": [
    "- Calculo para cada aviso cuantos postulantes hubo, para realizar las no-postulaciones con las mismas cantidades por aviso, para que los sets de post y no-post sean balanceados"
   ]
  },
  {
   "cell_type": "code",
   "execution_count": null,
   "metadata": {},
   "outputs": [
    {
     "data": {
      "text/html": [
       "<div>\n",
       "<style scoped>\n",
       "    .dataframe tbody tr th:only-of-type {\n",
       "        vertical-align: middle;\n",
       "    }\n",
       "\n",
       "    .dataframe tbody tr th {\n",
       "        vertical-align: top;\n",
       "    }\n",
       "\n",
       "    .dataframe thead th {\n",
       "        text-align: right;\n",
       "    }\n",
       "</style>\n",
       "<table border=\"1\" class=\"dataframe\">\n",
       "  <thead>\n",
       "    <tr style=\"text-align: right;\">\n",
       "      <th></th>\n",
       "      <th>count</th>\n",
       "    </tr>\n",
       "    <tr>\n",
       "      <th>idaviso</th>\n",
       "      <th></th>\n",
       "    </tr>\n",
       "  </thead>\n",
       "  <tbody>\n",
       "    <tr>\n",
       "      <th>1112334791</th>\n",
       "      <td>24420</td>\n",
       "    </tr>\n",
       "    <tr>\n",
       "      <th>1112094756</th>\n",
       "      <td>22424</td>\n",
       "    </tr>\n",
       "    <tr>\n",
       "      <th>1112033906</th>\n",
       "      <td>20570</td>\n",
       "    </tr>\n",
       "    <tr>\n",
       "      <th>1112334788</th>\n",
       "      <td>16687</td>\n",
       "    </tr>\n",
       "    <tr>\n",
       "      <th>1112196813</th>\n",
       "      <td>13619</td>\n",
       "    </tr>\n",
       "  </tbody>\n",
       "</table>\n",
       "</div>"
      ],
      "text/plain": [
       "            count\n",
       "idaviso          \n",
       "1112334791  24420\n",
       "1112094756  22424\n",
       "1112033906  20570\n",
       "1112334788  16687\n",
       "1112196813  13619"
      ]
     },
     "execution_count": 13,
     "metadata": {},
     "output_type": "execute_result"
    }
   ],
   "source": [
    "post_por_avisos = post_totales.groupby(by='idaviso').count()\n",
    "post_por_avisos.drop(columns='fechapostulacion', inplace=True)\n",
    "post_por_avisos.rename(columns={'idpostulante':'count'},inplace=True)\n",
    "post_por_avisos.sort_values(by=['count'], ascending=False, inplace=True)\n",
    "post_por_avisos.head(5)"
   ]
  },
  {
   "cell_type": "code",
   "execution_count": null,
   "metadata": {},
   "outputs": [],
   "source": []
  },
  {
   "cell_type": "code",
   "execution_count": null,
   "metadata": {},
   "outputs": [],
   "source": []
  },
  {
   "cell_type": "code",
   "execution_count": null,
   "metadata": {},
   "outputs": [],
   "source": []
  },
  {
   "cell_type": "markdown",
   "metadata": {},
   "source": [
    "- Calculo el set aleatorio de no-postulaciones, con las cantidades de usuarios por aviso calculadas antes"
   ]
  },
  {
   "cell_type": "code",
   "execution_count": null,
   "metadata": {},
   "outputs": [
    {
     "name": "stdout",
     "output_type": "stream",
     "text": [
      "remaining: 19988 - total progress: 1.2011269833423952 %\n"
     ]
    }
   ],
   "source": [
    "users_id = edu_totales['idpostulante'].to_frame()\n",
    "\n",
    "users_sample = pd.DataFrame(columns=['idpostulante','idaviso'])\n",
    "no_post_totales = pd.DataFrame(columns=['idpostulante','idaviso'])\n",
    "post_totales_reduced = pd.DataFrame(columns=['idpostulante','idaviso']) \n",
    "available_users = pd.DataFrame(columns=['idpostulante'])\n",
    "\n",
    "progress=0\n",
    "progress_size = post_por_avisos.count()\n",
    "success = 0\n",
    "\n",
    "for index, row in post_por_avisos.iterrows():\n",
    "\n",
    "    progress += 1\n",
    "    success = 0\n",
    "    post_totales_reduced = (post_totales[post_totales['idaviso']==index])[['idpostulante', 'idaviso']]\n",
    "    \n",
    "    if(row['count']>600):\n",
    "    \n",
    "        available_users = pd.concat([users_id, (pd.merge(users_id, post_totales_reduced['idpostulante'].to_frame()))]).drop_duplicates(keep=False)\n",
    "\n",
    "        users_sample = available_users.sample(n=row['count'])\n",
    "        users_sample['idaviso'] = index\n",
    "\n",
    "    else:\n",
    "\n",
    "        while(success == 0):\n",
    "\n",
    "            users_sample = users_id.sample(n=row['count'])\n",
    "            users_sample['idaviso'] = index\n",
    "\n",
    "            if((pd.merge(post_totales_reduced, users_sample).size) == 0):\n",
    "                success = 1\n",
    "            \n",
    "    no_post_totales = pd.concat([no_post_totales, users_sample])\n",
    "    clear_output(wait=True)\n",
    "    print('remaining:', np.int(progress_size-progress), '- total progress:', np.float((progress/progress_size)*100), '%')"
   ]
  },
  {
   "cell_type": "code",
   "execution_count": null,
   "metadata": {},
   "outputs": [],
   "source": [
    "no_post_totales['fechapostulacion'] = ''\n",
    "no_post_totales.head()"
   ]
  },
  {
   "cell_type": "code",
   "execution_count": null,
   "metadata": {},
   "outputs": [],
   "source": [
    "#no_post_totales.to_csv('no_post_totales.csv', index=False)"
   ]
  },
  {
   "cell_type": "code",
   "execution_count": null,
   "metadata": {},
   "outputs": [],
   "source": []
  }
 ],
 "metadata": {
  "kernelspec": {
   "display_name": "Python 3",
   "language": "python",
   "name": "python3"
  },
  "language_info": {
   "codemirror_mode": {
    "name": "ipython",
    "version": 3
   },
   "file_extension": ".py",
   "mimetype": "text/x-python",
   "name": "python",
   "nbconvert_exporter": "python",
   "pygments_lexer": "ipython3",
   "version": "3.6.4"
  }
 },
 "nbformat": 4,
 "nbformat_minor": 2
}
