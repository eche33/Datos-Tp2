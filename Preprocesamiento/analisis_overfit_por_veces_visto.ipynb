{
 "cells": [
  {
   "cell_type": "code",
   "execution_count": 1,
   "metadata": {},
   "outputs": [],
   "source": [
    "import pandas as pd\n",
    "import numpy as np\n",
    "from datetime import datetime\n",
    "\n",
    "from sklearn import preprocessing\n",
    "from sklearn.model_selection import train_test_split\n",
    "from sklearn.ensemble import RandomForestClassifier\n",
    "from sklearn.ensemble import ExtraTreesClassifier\n",
    "from sklearn.ensemble import AdaBoostClassifier\n",
    "from sklearn import tree\n",
    "from collections import Counter"
   ]
  },
  {
   "cell_type": "code",
   "execution_count": 2,
   "metadata": {},
   "outputs": [
    {
     "name": "stdout",
     "output_type": "stream",
     "text": [
      "<class 'pandas.core.frame.DataFrame'>\n",
      "RangeIndex: 13208286 entries, 0 to 13208285\n",
      "Data columns (total 16 columns):\n",
      "sepostulo               int8\n",
      "idaviso                 int64\n",
      "idpostulante            object\n",
      "fechapostulacion        datetime64[ns]\n",
      "ultima_vista            datetime64[ns]\n",
      "veces_visto             int16\n",
      "estudios                category\n",
      "estado                  category\n",
      "sexo                    category\n",
      "edad                    int8\n",
      "titulo                  object\n",
      "nombre_zona             category\n",
      "tipo_de_trabajo         category\n",
      "nivel_laboral           category\n",
      "nombre_area             category\n",
      "denominacion_empresa    object\n",
      "dtypes: category(7), datetime64[ns](2), int16(1), int64(1), int8(2), object(3)\n",
      "memory usage: 755.8+ MB\n"
     ]
    }
   ],
   "source": [
    "data_set_complete = pd.read_csv('data_set_complete.csv', parse_dates=['fechapostulacion', 'ultima_vista'], dtype={'sepostulo':'int8', 'idaviso':'int64', 'idpostulante':'object', 'veces_visto':'int16', 'estudios':'category', 'estado':'category', 'edad':'int8', 'sexo':'category','nombre_zona':'category', 'tipo_de_trabajo':'category', 'nivel_laboral':'category', 'nombre_area':'category'})\n",
    "data_set_complete.info()"
   ]
  },
  {
   "cell_type": "code",
   "execution_count": null,
   "metadata": {},
   "outputs": [],
   "source": [
    "data = data_set_complete.sample(1000000)\n",
    "del data_set_complete"
   ]
  },
  {
   "cell_type": "code",
   "execution_count": null,
   "metadata": {},
   "outputs": [],
   "source": [
    "data['nombre_zona'].fillna(value='Gran Buenos Aires',inplace=True)\n",
    "data['tipo_de_trabajo'].fillna(value='Full-time',inplace=True)\n",
    "data['nivel_laboral'].fillna(value='Senior / Semi-Senior',inplace=True)\n",
    "data['nombre_area'].fillna(value='Ventas',inplace=True)\n",
    "data['estado'].fillna(value='Graduado',inplace=True)\n",
    "data['estudios'].fillna(value='Secundario',inplace=True)"
   ]
  },
  {
   "cell_type": "code",
   "execution_count": 25,
   "metadata": {},
   "outputs": [
    {
     "name": "stdout",
     "output_type": "stream",
     "text": [
      "<class 'pandas.core.frame.DataFrame'>\n",
      "Int64Index: 1000000 entries, 9656002 to 476313\n",
      "Data columns (total 16 columns):\n",
      "sepostulo               1000000 non-null int8\n",
      "idaviso                 1000000 non-null int64\n",
      "idpostulante            1000000 non-null object\n",
      "fechapostulacion        499865 non-null datetime64[ns]\n",
      "ultima_vista            134827 non-null datetime64[ns]\n",
      "veces_visto             1000000 non-null int16\n",
      "estudios                1000000 non-null category\n",
      "estado                  1000000 non-null category\n",
      "sexo                    1000000 non-null category\n",
      "edad                    1000000 non-null int8\n",
      "titulo                  937435 non-null object\n",
      "nombre_zona             1000000 non-null category\n",
      "tipo_de_trabajo         1000000 non-null category\n",
      "nivel_laboral           1000000 non-null category\n",
      "nombre_area             1000000 non-null category\n",
      "denominacion_empresa    937385 non-null object\n",
      "dtypes: category(7), datetime64[ns](2), int16(1), int64(1), int8(2), object(3)\n",
      "memory usage: 64.9+ MB\n"
     ]
    }
   ],
   "source": [
    "data.info()"
   ]
  },
  {
   "cell_type": "code",
   "execution_count": 35,
   "metadata": {},
   "outputs": [],
   "source": [
    "def df_encode_categorical_vars(df):\n",
    "    for column in df.columns:\n",
    "        if (df[column].dtype.name == 'category'):\n",
    "            le = preprocessing.LabelEncoder()\n",
    "            df[column] = le.fit_transform(df[column].astype(str))"
   ]
  },
  {
   "cell_type": "code",
   "execution_count": 36,
   "metadata": {},
   "outputs": [
    {
     "data": {
      "text/html": [
       "<div>\n",
       "<style scoped>\n",
       "    .dataframe tbody tr th:only-of-type {\n",
       "        vertical-align: middle;\n",
       "    }\n",
       "\n",
       "    .dataframe tbody tr th {\n",
       "        vertical-align: top;\n",
       "    }\n",
       "\n",
       "    .dataframe thead th {\n",
       "        text-align: right;\n",
       "    }\n",
       "</style>\n",
       "<table border=\"1\" class=\"dataframe\">\n",
       "  <thead>\n",
       "    <tr style=\"text-align: right;\">\n",
       "      <th></th>\n",
       "      <th>sepostulo</th>\n",
       "      <th>idaviso</th>\n",
       "      <th>idpostulante</th>\n",
       "      <th>fechapostulacion</th>\n",
       "      <th>ultima_vista</th>\n",
       "      <th>veces_visto</th>\n",
       "      <th>estudios</th>\n",
       "      <th>estado</th>\n",
       "      <th>sexo</th>\n",
       "      <th>edad</th>\n",
       "      <th>titulo</th>\n",
       "      <th>nombre_zona</th>\n",
       "      <th>tipo_de_trabajo</th>\n",
       "      <th>nivel_laboral</th>\n",
       "      <th>nombre_area</th>\n",
       "      <th>denominacion_empresa</th>\n",
       "    </tr>\n",
       "  </thead>\n",
       "  <tbody>\n",
       "    <tr>\n",
       "      <th>9656002</th>\n",
       "      <td>0</td>\n",
       "      <td>1112033906</td>\n",
       "      <td>Np8Q4</td>\n",
       "      <td>NaT</td>\n",
       "      <td>NaT</td>\n",
       "      <td>0</td>\n",
       "      <td>6</td>\n",
       "      <td>2</td>\n",
       "      <td>1</td>\n",
       "      <td>42</td>\n",
       "      <td>Cajero/a-Repositor/a (Capital Federal)</td>\n",
       "      <td>5</td>\n",
       "      <td>1</td>\n",
       "      <td>4</td>\n",
       "      <td>179</td>\n",
       "      <td>Farmacity</td>\n",
       "    </tr>\n",
       "    <tr>\n",
       "      <th>5126576</th>\n",
       "      <td>1</td>\n",
       "      <td>1112237543</td>\n",
       "      <td>ekoYaeE</td>\n",
       "      <td>2018-01-23 09:59:03</td>\n",
       "      <td>NaT</td>\n",
       "      <td>1</td>\n",
       "      <td>5</td>\n",
       "      <td>2</td>\n",
       "      <td>1</td>\n",
       "      <td>23</td>\n",
       "      <td>Ejecutivos de Cuenta JR canal Farmacia</td>\n",
       "      <td>5</td>\n",
       "      <td>1</td>\n",
       "      <td>2</td>\n",
       "      <td>29</td>\n",
       "      <td>DNM FARMA S.A</td>\n",
       "    </tr>\n",
       "    <tr>\n",
       "      <th>274586</th>\n",
       "      <td>1</td>\n",
       "      <td>1111753928</td>\n",
       "      <td>1QPxbXB</td>\n",
       "      <td>2018-02-05 09:38:51</td>\n",
       "      <td>NaT</td>\n",
       "      <td>1</td>\n",
       "      <td>4</td>\n",
       "      <td>2</td>\n",
       "      <td>0</td>\n",
       "      <td>21</td>\n",
       "      <td>CAJEROS (Caba) - Eventual</td>\n",
       "      <td>5</td>\n",
       "      <td>1</td>\n",
       "      <td>2</td>\n",
       "      <td>170</td>\n",
       "      <td>BAYTON</td>\n",
       "    </tr>\n",
       "    <tr>\n",
       "      <th>11648245</th>\n",
       "      <td>0</td>\n",
       "      <td>1112355178</td>\n",
       "      <td>eb58j2</td>\n",
       "      <td>NaT</td>\n",
       "      <td>NaT</td>\n",
       "      <td>0</td>\n",
       "      <td>5</td>\n",
       "      <td>2</td>\n",
       "      <td>1</td>\n",
       "      <td>36</td>\n",
       "      <td>Maquilladoras Profesionales</td>\n",
       "      <td>5</td>\n",
       "      <td>1</td>\n",
       "      <td>4</td>\n",
       "      <td>179</td>\n",
       "      <td>Adecco -Sales &amp; Marketing</td>\n",
       "    </tr>\n",
       "    <tr>\n",
       "      <th>3112641</th>\n",
       "      <td>1</td>\n",
       "      <td>1112267958</td>\n",
       "      <td>NzjQva5</td>\n",
       "      <td>2018-01-18 07:37:18</td>\n",
       "      <td>NaT</td>\n",
       "      <td>1</td>\n",
       "      <td>4</td>\n",
       "      <td>2</td>\n",
       "      <td>1</td>\n",
       "      <td>24</td>\n",
       "      <td>Operario de producción con experiencia en Mont...</td>\n",
       "      <td>5</td>\n",
       "      <td>1</td>\n",
       "      <td>4</td>\n",
       "      <td>139</td>\n",
       "      <td>Pullmen Servicios Empresarios S.A.</td>\n",
       "    </tr>\n",
       "  </tbody>\n",
       "</table>\n",
       "</div>"
      ],
      "text/plain": [
       "          sepostulo     idaviso idpostulante    fechapostulacion ultima_vista  \\\n",
       "9656002           0  1112033906        Np8Q4                 NaT          NaT   \n",
       "5126576           1  1112237543      ekoYaeE 2018-01-23 09:59:03          NaT   \n",
       "274586            1  1111753928      1QPxbXB 2018-02-05 09:38:51          NaT   \n",
       "11648245          0  1112355178       eb58j2                 NaT          NaT   \n",
       "3112641           1  1112267958      NzjQva5 2018-01-18 07:37:18          NaT   \n",
       "\n",
       "          veces_visto  estudios  estado  sexo  edad  \\\n",
       "9656002             0         6       2     1    42   \n",
       "5126576             1         5       2     1    23   \n",
       "274586              1         4       2     0    21   \n",
       "11648245            0         5       2     1    36   \n",
       "3112641             1         4       2     1    24   \n",
       "\n",
       "                                                     titulo  nombre_zona  \\\n",
       "9656002              Cajero/a-Repositor/a (Capital Federal)            5   \n",
       "5126576              Ejecutivos de Cuenta JR canal Farmacia            5   \n",
       "274586                            CAJEROS (Caba) - Eventual            5   \n",
       "11648245                        Maquilladoras Profesionales            5   \n",
       "3112641   Operario de producción con experiencia en Mont...            5   \n",
       "\n",
       "          tipo_de_trabajo  nivel_laboral  nombre_area  \\\n",
       "9656002                 1              4          179   \n",
       "5126576                 1              2           29   \n",
       "274586                  1              2          170   \n",
       "11648245                1              4          179   \n",
       "3112641                 1              4          139   \n",
       "\n",
       "                        denominacion_empresa  \n",
       "9656002                            Farmacity  \n",
       "5126576                        DNM FARMA S.A  \n",
       "274586                                BAYTON  \n",
       "11648245          Adecco -Sales & Marketing   \n",
       "3112641   Pullmen Servicios Empresarios S.A.  "
      ]
     },
     "execution_count": 36,
     "metadata": {},
     "output_type": "execute_result"
    }
   ],
   "source": [
    "df_encode_categorical_vars(data)\n",
    "data.head()"
   ]
  },
  {
   "cell_type": "code",
   "execution_count": null,
   "metadata": {},
   "outputs": [],
   "source": []
  },
  {
   "cell_type": "code",
   "execution_count": 37,
   "metadata": {},
   "outputs": [],
   "source": [
    "train_set, test_set, train_classes, test_classes = train_test_split(data.drop(columns=['sepostulo','idaviso','idpostulante', 'fechapostulacion','ultima_vista','titulo','denominacion_empresa']), data['sepostulo'], test_size=0.3)"
   ]
  },
  {
   "cell_type": "code",
   "execution_count": 43,
   "metadata": {},
   "outputs": [
    {
     "data": {
      "text/plain": [
       "0.9989466666666666"
      ]
     },
     "execution_count": 43,
     "metadata": {},
     "output_type": "execute_result"
    }
   ],
   "source": [
    "clf = tree.DecisionTreeClassifier().fit(train_set, train_classes)\n",
    "clf.score(test_set, test_classes)"
   ]
  },
  {
   "cell_type": "code",
   "execution_count": null,
   "metadata": {},
   "outputs": [],
   "source": []
  },
  {
   "cell_type": "code",
   "execution_count": null,
   "metadata": {},
   "outputs": [],
   "source": [
    "test100k=pd.read_csv('test_final_100k_complete.csv', parse_dates=['fechapostulacion', 'ultima_vista'], dtype={'sepostulo':'int8', 'idaviso':'int64', 'idpostulante':'object', 'veces_visto':'int16', 'estudios':'category', 'estado':'category', 'edad':'int8', 'sexo':'category','nombre_zona':'category', 'tipo_de_trabajo':'category', 'nivel_laboral':'category', 'nombre_area':'category'})\n",
    "test100k['nombre_zona'].fillna(value='Gran Buenos Aires',inplace=True)\n",
    "test100k['tipo_de_trabajo'].fillna(value='Full-time',inplace=True)\n",
    "test100k['nivel_laboral'].fillna(value='Senior / Semi-Senior',inplace=True)\n",
    "test100k['nombre_area'].fillna(value='Ventas',inplace=True)\n",
    "test100k['estado'].fillna(value='Graduado',inplace=True)\n",
    "test100k['estudios'].fillna(value='Secundario',inplace=True)\n",
    "df_encode_categorical_vars(test100k)\n",
    "test100k.info()"
   ]
  },
  {
   "cell_type": "code",
   "execution_count": 82,
   "metadata": {},
   "outputs": [
    {
     "data": {
      "text/html": [
       "<div>\n",
       "<style scoped>\n",
       "    .dataframe tbody tr th:only-of-type {\n",
       "        vertical-align: middle;\n",
       "    }\n",
       "\n",
       "    .dataframe tbody tr th {\n",
       "        vertical-align: top;\n",
       "    }\n",
       "\n",
       "    .dataframe thead th {\n",
       "        text-align: right;\n",
       "    }\n",
       "</style>\n",
       "<table border=\"1\" class=\"dataframe\">\n",
       "  <thead>\n",
       "    <tr style=\"text-align: right;\">\n",
       "      <th></th>\n",
       "      <th>id</th>\n",
       "      <th>sepostulo</th>\n",
       "    </tr>\n",
       "  </thead>\n",
       "  <tbody>\n",
       "    <tr>\n",
       "      <th>0</th>\n",
       "      <td>0</td>\n",
       "      <td>0</td>\n",
       "    </tr>\n",
       "    <tr>\n",
       "      <th>1</th>\n",
       "      <td>1</td>\n",
       "      <td>0</td>\n",
       "    </tr>\n",
       "    <tr>\n",
       "      <th>2</th>\n",
       "      <td>2</td>\n",
       "      <td>0</td>\n",
       "    </tr>\n",
       "    <tr>\n",
       "      <th>3</th>\n",
       "      <td>3</td>\n",
       "      <td>0</td>\n",
       "    </tr>\n",
       "    <tr>\n",
       "      <th>4</th>\n",
       "      <td>4</td>\n",
       "      <td>0</td>\n",
       "    </tr>\n",
       "  </tbody>\n",
       "</table>\n",
       "</div>"
      ],
      "text/plain": [
       "   id  sepostulo\n",
       "0   0          0\n",
       "1   1          0\n",
       "2   2          0\n",
       "3   3          0\n",
       "4   4          0"
      ]
     },
     "execution_count": 82,
     "metadata": {},
     "output_type": "execute_result"
    }
   ],
   "source": [
    "test100k['sepostulo'] = clf.predict(test100k.drop(columns=['id','sepostulo','idaviso','idpostulante', 'fechapostulacion','ultima_vista','titulo','denominacion_empresa']))\n",
    "test100k[['id','sepostulo']].head()"
   ]
  },
  {
   "cell_type": "code",
   "execution_count": 83,
   "metadata": {},
   "outputs": [
    {
     "data": {
      "text/plain": [
       "0.34086"
      ]
     },
     "execution_count": 83,
     "metadata": {},
     "output_type": "execute_result"
    }
   ],
   "source": [
    "test100k['sepostulo'].mean()"
   ]
  },
  {
   "cell_type": "code",
   "execution_count": 84,
   "metadata": {},
   "outputs": [],
   "source": [
    "test100k[['id','sepostulo']].to_csv('Resultados/tree_confillna_convecesvisto.csv', index=False)"
   ]
  },
  {
   "cell_type": "code",
   "execution_count": null,
   "metadata": {},
   "outputs": [],
   "source": []
  },
  {
   "cell_type": "code",
   "execution_count": 59,
   "metadata": {},
   "outputs": [
    {
     "data": {
      "text/plain": [
       "0    511843\n",
       "1    470657\n",
       "2     17500\n",
       "Name: sexo, dtype: int64"
      ]
     },
     "execution_count": 59,
     "metadata": {},
     "output_type": "execute_result"
    }
   ],
   "source": [
    "data['sexo'].value_counts()"
   ]
  },
  {
   "cell_type": "code",
   "execution_count": 61,
   "metadata": {},
   "outputs": [],
   "source": [
    "data['sexo'] = data['sexo'].apply(lambda x: 0 if (x==2) else x)"
   ]
  },
  {
   "cell_type": "code",
   "execution_count": 64,
   "metadata": {},
   "outputs": [],
   "source": [
    "train_set, test_set, train_classes, test_classes = train_test_split(data.drop(columns=['sepostulo','idaviso','idpostulante', 'fechapostulacion','ultima_vista','titulo','denominacion_empresa']), data['sepostulo'], test_size=0.4)"
   ]
  },
  {
   "cell_type": "code",
   "execution_count": 65,
   "metadata": {},
   "outputs": [
    {
     "data": {
      "text/plain": [
       "0.9991825"
      ]
     },
     "execution_count": 65,
     "metadata": {},
     "output_type": "execute_result"
    }
   ],
   "source": [
    "clf2 = tree.DecisionTreeClassifier().fit(train_set, train_classes)\n",
    "clf2.score(test_set, test_classes)"
   ]
  },
  {
   "cell_type": "code",
   "execution_count": null,
   "metadata": {},
   "outputs": [],
   "source": []
  },
  {
   "cell_type": "code",
   "execution_count": null,
   "metadata": {},
   "outputs": [],
   "source": []
  },
  {
   "cell_type": "code",
   "execution_count": 66,
   "metadata": {},
   "outputs": [],
   "source": [
    "train_set, test_set, train_classes, test_classes = train_test_split(data.drop(columns=['veces_visto','sepostulo','idaviso','idpostulante', 'fechapostulacion','ultima_vista','titulo','denominacion_empresa']), data['sepostulo'], test_size=0.4)"
   ]
  },
  {
   "cell_type": "code",
   "execution_count": 67,
   "metadata": {},
   "outputs": [
    {
     "data": {
      "text/plain": [
       "0.6125825"
      ]
     },
     "execution_count": 67,
     "metadata": {},
     "output_type": "execute_result"
    }
   ],
   "source": [
    "clf3 = tree.DecisionTreeClassifier().fit(train_set, train_classes)\n",
    "clf3.score(test_set, test_classes)"
   ]
  },
  {
   "cell_type": "markdown",
   "metadata": {},
   "source": [
    "- CLARAMENTE VEMOS QUE EL OVERFITTING ME LO CAUSABA EL CAMPO VECES_VISTO, PORQUE COMO LAS NO POSTULACIONES, CASI TODAS TENIAN VECES_VISTO EN 0, Y LAS POSTULACIONES EN 1 O MAS, PRACTICAMENTE QUE EL FEATURE FUNDAMENTAL DE LA DIVISION DE CLASES LO TOMABA COMO VECES_VISTO"
   ]
  },
  {
   "cell_type": "code",
   "execution_count": 75,
   "metadata": {},
   "outputs": [
    {
     "data": {
      "text/html": [
       "<div>\n",
       "<style scoped>\n",
       "    .dataframe tbody tr th:only-of-type {\n",
       "        vertical-align: middle;\n",
       "    }\n",
       "\n",
       "    .dataframe tbody tr th {\n",
       "        vertical-align: top;\n",
       "    }\n",
       "\n",
       "    .dataframe thead th {\n",
       "        text-align: right;\n",
       "    }\n",
       "</style>\n",
       "<table border=\"1\" class=\"dataframe\">\n",
       "  <thead>\n",
       "    <tr style=\"text-align: right;\">\n",
       "      <th></th>\n",
       "      <th>id</th>\n",
       "      <th>idaviso</th>\n",
       "      <th>idpostulante</th>\n",
       "      <th>fechapostulacion</th>\n",
       "      <th>ultima_vista</th>\n",
       "      <th>veces_visto</th>\n",
       "      <th>estudios</th>\n",
       "      <th>estado</th>\n",
       "      <th>sexo</th>\n",
       "      <th>edad</th>\n",
       "      <th>titulo</th>\n",
       "      <th>nombre_zona</th>\n",
       "      <th>tipo_de_trabajo</th>\n",
       "      <th>nivel_laboral</th>\n",
       "      <th>nombre_area</th>\n",
       "      <th>denominacion_empresa</th>\n",
       "      <th>sepostulo</th>\n",
       "    </tr>\n",
       "  </thead>\n",
       "  <tbody>\n",
       "    <tr>\n",
       "      <th>0</th>\n",
       "      <td>0</td>\n",
       "      <td>739260</td>\n",
       "      <td>6M9ZQR</td>\n",
       "      <td>NaT</td>\n",
       "      <td>NaT</td>\n",
       "      <td>0</td>\n",
       "      <td>0</td>\n",
       "      <td>2</td>\n",
       "      <td>0</td>\n",
       "      <td>42</td>\n",
       "      <td>Asistente Comercial</td>\n",
       "      <td>1</td>\n",
       "      <td>1</td>\n",
       "      <td>1</td>\n",
       "      <td>29</td>\n",
       "      <td>BUMERAN.COM ARGENTINA</td>\n",
       "      <td>0</td>\n",
       "    </tr>\n",
       "    <tr>\n",
       "      <th>1</th>\n",
       "      <td>1</td>\n",
       "      <td>739260</td>\n",
       "      <td>6v1xdL</td>\n",
       "      <td>NaT</td>\n",
       "      <td>NaT</td>\n",
       "      <td>0</td>\n",
       "      <td>5</td>\n",
       "      <td>2</td>\n",
       "      <td>1</td>\n",
       "      <td>30</td>\n",
       "      <td>Asistente Comercial</td>\n",
       "      <td>1</td>\n",
       "      <td>1</td>\n",
       "      <td>1</td>\n",
       "      <td>29</td>\n",
       "      <td>BUMERAN.COM ARGENTINA</td>\n",
       "      <td>0</td>\n",
       "    </tr>\n",
       "    <tr>\n",
       "      <th>2</th>\n",
       "      <td>2</td>\n",
       "      <td>739260</td>\n",
       "      <td>ezRKm9</td>\n",
       "      <td>NaT</td>\n",
       "      <td>NaT</td>\n",
       "      <td>0</td>\n",
       "      <td>6</td>\n",
       "      <td>2</td>\n",
       "      <td>0</td>\n",
       "      <td>36</td>\n",
       "      <td>Asistente Comercial</td>\n",
       "      <td>1</td>\n",
       "      <td>1</td>\n",
       "      <td>1</td>\n",
       "      <td>29</td>\n",
       "      <td>BUMERAN.COM ARGENTINA</td>\n",
       "      <td>0</td>\n",
       "    </tr>\n",
       "    <tr>\n",
       "      <th>3</th>\n",
       "      <td>3</td>\n",
       "      <td>758580</td>\n",
       "      <td>1Q35ej</td>\n",
       "      <td>NaT</td>\n",
       "      <td>NaT</td>\n",
       "      <td>0</td>\n",
       "      <td>3</td>\n",
       "      <td>2</td>\n",
       "      <td>1</td>\n",
       "      <td>68</td>\n",
       "      <td>Oracle Financials Sr. Application Developer</td>\n",
       "      <td>1</td>\n",
       "      <td>1</td>\n",
       "      <td>3</td>\n",
       "      <td>164</td>\n",
       "      <td>TeleTech</td>\n",
       "      <td>0</td>\n",
       "    </tr>\n",
       "    <tr>\n",
       "      <th>4</th>\n",
       "      <td>4</td>\n",
       "      <td>758580</td>\n",
       "      <td>EAN4J6</td>\n",
       "      <td>NaT</td>\n",
       "      <td>NaT</td>\n",
       "      <td>0</td>\n",
       "      <td>6</td>\n",
       "      <td>1</td>\n",
       "      <td>0</td>\n",
       "      <td>32</td>\n",
       "      <td>Oracle Financials Sr. Application Developer</td>\n",
       "      <td>1</td>\n",
       "      <td>1</td>\n",
       "      <td>3</td>\n",
       "      <td>164</td>\n",
       "      <td>TeleTech</td>\n",
       "      <td>0</td>\n",
       "    </tr>\n",
       "  </tbody>\n",
       "</table>\n",
       "</div>"
      ],
      "text/plain": [
       "   id  idaviso idpostulante fechapostulacion ultima_vista  veces_visto  \\\n",
       "0   0   739260       6M9ZQR              NaT          NaT            0   \n",
       "1   1   739260       6v1xdL              NaT          NaT            0   \n",
       "2   2   739260       ezRKm9              NaT          NaT            0   \n",
       "3   3   758580       1Q35ej              NaT          NaT            0   \n",
       "4   4   758580       EAN4J6              NaT          NaT            0   \n",
       "\n",
       "   estudios  estado  sexo  edad                                       titulo  \\\n",
       "0         0       2     0    42                          Asistente Comercial   \n",
       "1         5       2     1    30                          Asistente Comercial   \n",
       "2         6       2     0    36                          Asistente Comercial   \n",
       "3         3       2     1    68  Oracle Financials Sr. Application Developer   \n",
       "4         6       1     0    32  Oracle Financials Sr. Application Developer   \n",
       "\n",
       "   nombre_zona  tipo_de_trabajo  nivel_laboral  nombre_area  \\\n",
       "0            1                1              1           29   \n",
       "1            1                1              1           29   \n",
       "2            1                1              1           29   \n",
       "3            1                1              3          164   \n",
       "4            1                1              3          164   \n",
       "\n",
       "    denominacion_empresa  sepostulo  \n",
       "0  BUMERAN.COM ARGENTINA          0  \n",
       "1  BUMERAN.COM ARGENTINA          0  \n",
       "2  BUMERAN.COM ARGENTINA          0  \n",
       "3               TeleTech          0  \n",
       "4               TeleTech          0  "
      ]
     },
     "execution_count": 75,
     "metadata": {},
     "output_type": "execute_result"
    }
   ],
   "source": [
    "test100k.head()"
   ]
  },
  {
   "cell_type": "code",
   "execution_count": 68,
   "metadata": {},
   "outputs": [
    {
     "data": {
      "text/plain": [
       "1    49226\n",
       "0    48039\n",
       "2     2735\n",
       "Name: sexo, dtype: int64"
      ]
     },
     "execution_count": 68,
     "metadata": {},
     "output_type": "execute_result"
    }
   ],
   "source": [
    "test100k['sexo'].value_counts()"
   ]
  },
  {
   "cell_type": "code",
   "execution_count": 78,
   "metadata": {},
   "outputs": [
    {
     "data": {
      "text/plain": [
       "0.44906"
      ]
     },
     "execution_count": 78,
     "metadata": {},
     "output_type": "execute_result"
    }
   ],
   "source": [
    "test100k['sexo'] = test100k['sexo'].apply(lambda x: 1 if (x==2) else x)\n",
    "test100k['sepostulo'] = clf3.predict(test100k.drop(columns=['id','sepostulo','veces_visto','idaviso','idpostulante','fechapostulacion','ultima_vista','titulo','denominacion_empresa']))\n",
    "test100k['sepostulo'].mean()"
   ]
  },
  {
   "cell_type": "code",
   "execution_count": 80,
   "metadata": {},
   "outputs": [],
   "source": [
    "test100k[['id','sepostulo']].to_csv('Resultados/tree_confillna_sinvecesvisto.csv', index=False)"
   ]
  },
  {
   "cell_type": "code",
   "execution_count": null,
   "metadata": {},
   "outputs": [],
   "source": []
  },
  {
   "cell_type": "code",
   "execution_count": null,
   "metadata": {},
   "outputs": [],
   "source": []
  },
  {
   "cell_type": "code",
   "execution_count": 34,
   "metadata": {},
   "outputs": [
    {
     "data": {
      "text/plain": [
       "[('de', 469730),\n",
       " ('-', 236679),\n",
       " ('para', 113055),\n",
       " ('Analista', 76133),\n",
       " ('y', 67859),\n",
       " ('nan', 62565),\n",
       " ('DE', 60855),\n",
       " ('en', 59389),\n",
       " ('al', 50044),\n",
       " ('Administrativo', 49606),\n",
       " ('Zona', 44277),\n",
       " ('/', 39307),\n",
       " ('Recepcionista', 37451),\n",
       " ('Atención', 36004),\n",
       " ('Operario', 35983),\n",
       " ('Asistente', 33395),\n",
       " ('Vendedor', 32448),\n",
       " ('Part', 30268),\n",
       " ('Time', 29568),\n",
       " ('con', 28773),\n",
       " ('CABA', 26663),\n",
       " ('Representante', 23051),\n",
       " ('Administrativa', 22985),\n",
       " ('Ventas', 22694),\n",
       " ('Call', 21949),\n",
       " ('Operarios', 21457),\n",
       " ('Comercial', 19540),\n",
       " ('Cliente', 19257),\n",
       " ('cliente', 19008),\n",
       " ('Contable', 18568),\n",
       " ('Center', 18428),\n",
       " ('Importante', 17445),\n",
       " ('Capital', 17356),\n",
       " ('Operador', 17185),\n",
       " ('a', 16805),\n",
       " ('Técnico', 16346),\n",
       " ('PARA', 16145),\n",
       " ('Federal', 15949),\n",
       " ('Personal', 15311),\n",
       " ('Y', 13667),\n",
       " ('Ejecutivo', 13086),\n",
       " ('Vendedores', 13082),\n",
       " ('Producción', 12425),\n",
       " ('experiencia', 12212),\n",
       " ('Jefe', 11822),\n",
       " ('Supervisor', 11639),\n",
       " ('importante', 11628),\n",
       " ('Asesores', 11348),\n",
       " ('GBA', 11333),\n",
       " ('Z/', 11231),\n",
       " ('ZONA', 11189),\n",
       " ('Asesor', 10941),\n",
       " ('Responsable', 10925),\n",
       " ('Turno', 10848),\n",
       " ('Secretaria', 10733),\n",
       " ('Administrativo/a', 10634),\n",
       " ('San', 10386),\n",
       " ('Cobranzas', 10287),\n",
       " ('zona', 10241),\n",
       " ('ventas', 10234),\n",
       " ('Empresa', 10218),\n",
       " ('Empleado', 9943),\n",
       " ('Jr.', 9895),\n",
       " ('telefónico', 9373),\n",
       " ('o', 9317),\n",
       " ('Banco', 9178),\n",
       " ('Telemarketer', 9145),\n",
       " ('Auxiliar', 8785),\n",
       " ('Cajero/a', 8776),\n",
       " ('Norte', 8615),\n",
       " ('producción', 8586),\n",
       " ('empresa', 8516),\n",
       " ('\\x96', 8468),\n",
       " ('Venta', 8452),\n",
       " ('Limpieza', 8405),\n",
       " ('Marketing', 8305),\n",
       " ('RRHH', 8060),\n",
       " ('(Capital', 8041),\n",
       " ('AL', 8004),\n",
       " ('Sur', 7941),\n",
       " ('Eventual', 7904),\n",
       " ('Administración', 7891),\n",
       " ('Cajero', 7844),\n",
       " ('Ingeniero', 7831),\n",
       " ('ANALISTA', 7799),\n",
       " ('Jr', 7709),\n",
       " ('Jóvenes', 7678),\n",
       " ('Cuentas', 7570),\n",
       " ('Recursos', 7409),\n",
       " ('Mantenimiento', 7360),\n",
       " ('Microcentro', 7316),\n",
       " ('Humanos', 7232),\n",
       " ('Cajeros', 7216),\n",
       " ('Gerente', 7179),\n",
       " ('Oficial', 7163),\n",
       " ('Compras', 6944),\n",
       " ('Telefónico', 6858),\n",
       " ('Profesionales', 6832),\n",
       " ('Repositores', 6775),\n",
       " ('Coordinador', 6720)]"
      ]
     },
     "execution_count": 34,
     "metadata": {},
     "output_type": "execute_result"
    }
   ],
   "source": [
    "Counter(\" \".join(data[\"titulo\"].astype(str)).split()).most_common(100)[1]"
   ]
  },
  {
   "cell_type": "code",
   "execution_count": null,
   "metadata": {},
   "outputs": [],
   "source": []
  }
 ],
 "metadata": {
  "kernelspec": {
   "display_name": "Python 3",
   "language": "python",
   "name": "python3"
  },
  "language_info": {
   "codemirror_mode": {
    "name": "ipython",
    "version": 3
   },
   "file_extension": ".py",
   "mimetype": "text/x-python",
   "name": "python",
   "nbconvert_exporter": "python",
   "pygments_lexer": "ipython3",
   "version": "3.6.4"
  }
 },
 "nbformat": 4,
 "nbformat_minor": 2
}
