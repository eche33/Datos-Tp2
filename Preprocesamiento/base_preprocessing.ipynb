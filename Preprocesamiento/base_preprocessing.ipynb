{
 "cells": [
  {
   "cell_type": "code",
   "execution_count": 1,
   "metadata": {},
   "outputs": [],
   "source": [
    "import pandas as pd\n",
    "import numpy as np\n",
    "from datetime import datetime"
   ]
  },
  {
   "cell_type": "code",
   "execution_count": 2,
   "metadata": {},
   "outputs": [],
   "source": [
    "#edu_tp1 = pd.read_csv('datos_navent_fiuba/fiuba_1_postulantes_educacion.csv')\n",
    "#edad_tp1 = pd.read_csv('datos_navent_fiuba/fiuba_2_postulantes_genero_y_edad.csv')\n",
    "#vistas_tp1 = pd.read_csv('datos_navent_fiuba/fiuba_3_vistas.csv')\n",
    "#avisos_tp1 = pd.read_csv('datos_navent_fiuba/fiuba_6_avisos_detalle.csv')\n",
    "#post_tp1 = pd.read_csv('datos_navent_fiuba/fiuba_4_postulaciones.csv')"
   ]
  },
  {
   "cell_type": "code",
   "execution_count": 3,
   "metadata": {},
   "outputs": [],
   "source": [
    "#post_hasta_abril = pd.read_csv('fiuba_hasta_15_abril/fiuba_4_postulaciones.csv')\n",
    "#edu_hasta_abril = pd.read_csv('fiuba_hasta_15_abril/fiuba_1_postulantes_educacion.csv')\n",
    "#edad_hasta_abril = pd.read_csv('fiuba_hasta_15_abril/fiuba_2_postulantes_genero_y_edad.csv')\n",
    "#avisos_hasta_abril = pd.read_csv('fiuba_hasta_15_abril/fiuba_6_avisos_detalle.csv')\n",
    "#vistas_hasta_abril = pd.read_csv('fiuba_hasta_15_abril/fiuba_3_vistas.csv')"
   ]
  },
  {
   "cell_type": "code",
   "execution_count": 4,
   "metadata": {},
   "outputs": [],
   "source": [
    "#edu_desp_abril = pd.read_csv('Fiuba desde 15 Abril/fiuba_1_postulantes_educacion.csv')\n",
    "#edad_desp_abril = pd.read_csv('Fiuba desde 15 Abril/fiuba_2_postulantes_genero_y_edad.csv')\n",
    "#avisos_desp_abril = pd.read_csv('Fiuba desde 15 Abril/fiuba_6_avisos_detalle.csv')\n",
    "#vistas_desp_abril = pd.read_csv('Fiuba desde 15 Abril/fiuba_3_vistas.csv')"
   ]
  },
  {
   "cell_type": "code",
   "execution_count": 5,
   "metadata": {},
   "outputs": [],
   "source": [
    "#avisos_faltantes = pd.read_csv('fiuba_6_avisos_detalle_missing_nivel_laboral.csv')"
   ]
  },
  {
   "cell_type": "code",
   "execution_count": null,
   "metadata": {},
   "outputs": [],
   "source": []
  },
  {
   "cell_type": "code",
   "execution_count": null,
   "metadata": {},
   "outputs": [],
   "source": []
  },
  {
   "cell_type": "code",
   "execution_count": null,
   "metadata": {},
   "outputs": [],
   "source": []
  },
  {
   "cell_type": "markdown",
   "metadata": {},
   "source": [
    "- Concateno todos los set de vistas"
   ]
  },
  {
   "cell_type": "code",
   "execution_count": 6,
   "metadata": {},
   "outputs": [
    {
     "name": "stdout",
     "output_type": "stream",
     "text": [
      "<class 'pandas.core.frame.DataFrame'>\n",
      "Int64Index: 18368813 entries, 0 to 11648229\n",
      "Data columns (total 3 columns):\n",
      "idAviso         int64\n",
      "timestamp       object\n",
      "idpostulante    object\n",
      "dtypes: int64(1), object(2)\n",
      "memory usage: 560.6+ MB\n"
     ]
    }
   ],
   "source": [
    "vistas_totales = pd.concat([pd.read_csv('datos_navent_fiuba/fiuba_3_vistas.csv'), pd.read_csv('fiuba_hasta_15_abril/fiuba_3_vistas.csv'), pd.read_csv('Fiuba desde 15 Abril/fiuba_3_vistas.csv')])\n",
    "vistas_totales.info()"
   ]
  },
  {
   "cell_type": "code",
   "execution_count": 7,
   "metadata": {},
   "outputs": [
    {
     "name": "stdout",
     "output_type": "stream",
     "text": [
      "<class 'pandas.core.frame.DataFrame'>\n",
      "Int64Index: 16323504 entries, 0 to 11648229\n",
      "Data columns (total 3 columns):\n",
      "idAviso         int64\n",
      "timestamp       datetime64[ns]\n",
      "idpostulante    object\n",
      "dtypes: datetime64[ns](1), int64(1), object(1)\n",
      "memory usage: 498.2+ MB\n"
     ]
    }
   ],
   "source": [
    "def normalize_str(date_str):\n",
    "    return (date_str[:10]+' '+date_str[11:19])\n",
    "    \n",
    "vistas_totales['timestamp'] = vistas_totales['timestamp'].apply(normalize_str)\n",
    "vistas_totales['timestamp'] = pd.to_datetime(vistas_totales['timestamp'])\n",
    "\n",
    "vistas_totales.drop_duplicates(inplace=True)\n",
    "\n",
    "vistas_totales.info()"
   ]
  },
  {
   "cell_type": "code",
   "execution_count": 8,
   "metadata": {},
   "outputs": [],
   "source": [
    "vistas_totales.rename(columns={'idAviso':'idaviso'}, inplace=True)"
   ]
  },
  {
   "cell_type": "code",
   "execution_count": 9,
   "metadata": {},
   "outputs": [
    {
     "data": {
      "text/html": [
       "<div>\n",
       "<style scoped>\n",
       "    .dataframe tbody tr th:only-of-type {\n",
       "        vertical-align: middle;\n",
       "    }\n",
       "\n",
       "    .dataframe tbody tr th {\n",
       "        vertical-align: top;\n",
       "    }\n",
       "\n",
       "    .dataframe thead th {\n",
       "        text-align: right;\n",
       "    }\n",
       "</style>\n",
       "<table border=\"1\" class=\"dataframe\">\n",
       "  <thead>\n",
       "    <tr style=\"text-align: right;\">\n",
       "      <th></th>\n",
       "      <th>idaviso</th>\n",
       "      <th>timestamp</th>\n",
       "      <th>idpostulante</th>\n",
       "    </tr>\n",
       "  </thead>\n",
       "  <tbody>\n",
       "    <tr>\n",
       "      <th>0</th>\n",
       "      <td>1111780242</td>\n",
       "      <td>2018-02-23 13:38:13</td>\n",
       "      <td>YjVJQ6Z</td>\n",
       "    </tr>\n",
       "    <tr>\n",
       "      <th>1</th>\n",
       "      <td>1112263876</td>\n",
       "      <td>2018-02-23 13:38:14</td>\n",
       "      <td>BmVpYoR</td>\n",
       "    </tr>\n",
       "    <tr>\n",
       "      <th>2</th>\n",
       "      <td>1112327963</td>\n",
       "      <td>2018-02-23 13:38:14</td>\n",
       "      <td>wVkBzZd</td>\n",
       "    </tr>\n",
       "    <tr>\n",
       "      <th>3</th>\n",
       "      <td>1112318643</td>\n",
       "      <td>2018-02-23 13:38:17</td>\n",
       "      <td>OqmP9pv</td>\n",
       "    </tr>\n",
       "    <tr>\n",
       "      <th>4</th>\n",
       "      <td>1111903673</td>\n",
       "      <td>2018-02-23 13:38:18</td>\n",
       "      <td>DrpbXDP</td>\n",
       "    </tr>\n",
       "  </tbody>\n",
       "</table>\n",
       "</div>"
      ],
      "text/plain": [
       "      idaviso           timestamp idpostulante\n",
       "0  1111780242 2018-02-23 13:38:13      YjVJQ6Z\n",
       "1  1112263876 2018-02-23 13:38:14      BmVpYoR\n",
       "2  1112327963 2018-02-23 13:38:14      wVkBzZd\n",
       "3  1112318643 2018-02-23 13:38:17      OqmP9pv\n",
       "4  1111903673 2018-02-23 13:38:18      DrpbXDP"
      ]
     },
     "execution_count": 9,
     "metadata": {},
     "output_type": "execute_result"
    }
   ],
   "source": [
    "vistas_totales.head()"
   ]
  },
  {
   "cell_type": "code",
   "execution_count": null,
   "metadata": {},
   "outputs": [],
   "source": []
  },
  {
   "cell_type": "code",
   "execution_count": null,
   "metadata": {},
   "outputs": [],
   "source": []
  },
  {
   "cell_type": "code",
   "execution_count": null,
   "metadata": {},
   "outputs": [],
   "source": []
  },
  {
   "cell_type": "markdown",
   "metadata": {},
   "source": [
    "- Calculo la fecha de la ultima visita del usuario a cada anuncio"
   ]
  },
  {
   "cell_type": "code",
   "execution_count": 10,
   "metadata": {},
   "outputs": [
    {
     "name": "stdout",
     "output_type": "stream",
     "text": [
      "<class 'pandas.core.frame.DataFrame'>\n",
      "RangeIndex: 8597915 entries, 0 to 8597914\n",
      "Data columns (total 3 columns):\n",
      "idaviso         int64\n",
      "ultima_vista    datetime64[ns]\n",
      "idpostulante    object\n",
      "dtypes: datetime64[ns](1), int64(1), object(1)\n",
      "memory usage: 196.8+ MB\n"
     ]
    }
   ],
   "source": [
    "ultima_vista = vistas_totales.sort_values(by='timestamp', ascending=True).drop_duplicates(subset=['idaviso', 'idpostulante'], keep='last') #me quedo con la ultima vista\n",
    "ultima_vista.sort_values(by='idaviso', ascending=True, inplace=True)\n",
    "ultima_vista.reset_index(drop=True, inplace=True)\n",
    "ultima_vista.rename(columns={'timestamp':'ultima_vista'}, inplace=True)\n",
    "ultima_vista.info()"
   ]
  },
  {
   "cell_type": "code",
   "execution_count": 11,
   "metadata": {},
   "outputs": [
    {
     "data": {
      "text/html": [
       "<div>\n",
       "<style scoped>\n",
       "    .dataframe tbody tr th:only-of-type {\n",
       "        vertical-align: middle;\n",
       "    }\n",
       "\n",
       "    .dataframe tbody tr th {\n",
       "        vertical-align: top;\n",
       "    }\n",
       "\n",
       "    .dataframe thead th {\n",
       "        text-align: right;\n",
       "    }\n",
       "</style>\n",
       "<table border=\"1\" class=\"dataframe\">\n",
       "  <thead>\n",
       "    <tr style=\"text-align: right;\">\n",
       "      <th></th>\n",
       "      <th>idaviso</th>\n",
       "      <th>ultima_vista</th>\n",
       "      <th>idpostulante</th>\n",
       "    </tr>\n",
       "  </thead>\n",
       "  <tbody>\n",
       "    <tr>\n",
       "      <th>0</th>\n",
       "      <td>18</td>\n",
       "      <td>2018-04-27 16:06:28</td>\n",
       "      <td>BolNL</td>\n",
       "    </tr>\n",
       "    <tr>\n",
       "      <th>1</th>\n",
       "      <td>48375</td>\n",
       "      <td>2018-04-19 10:53:17</td>\n",
       "      <td>RwVdKR</td>\n",
       "    </tr>\n",
       "    <tr>\n",
       "      <th>2</th>\n",
       "      <td>169730</td>\n",
       "      <td>2018-04-16 19:55:45</td>\n",
       "      <td>Y0qD8J</td>\n",
       "    </tr>\n",
       "    <tr>\n",
       "      <th>3</th>\n",
       "      <td>169730</td>\n",
       "      <td>2018-04-29 14:36:03</td>\n",
       "      <td>dVQBxY</td>\n",
       "    </tr>\n",
       "    <tr>\n",
       "      <th>4</th>\n",
       "      <td>169730</td>\n",
       "      <td>2018-04-30 07:28:13</td>\n",
       "      <td>rzRElb</td>\n",
       "    </tr>\n",
       "  </tbody>\n",
       "</table>\n",
       "</div>"
      ],
      "text/plain": [
       "   idaviso        ultima_vista idpostulante\n",
       "0       18 2018-04-27 16:06:28        BolNL\n",
       "1    48375 2018-04-19 10:53:17       RwVdKR\n",
       "2   169730 2018-04-16 19:55:45       Y0qD8J\n",
       "3   169730 2018-04-29 14:36:03       dVQBxY\n",
       "4   169730 2018-04-30 07:28:13       rzRElb"
      ]
     },
     "execution_count": 11,
     "metadata": {},
     "output_type": "execute_result"
    }
   ],
   "source": [
    "ultima_vista.head()"
   ]
  },
  {
   "cell_type": "code",
   "execution_count": null,
   "metadata": {},
   "outputs": [],
   "source": []
  },
  {
   "cell_type": "code",
   "execution_count": null,
   "metadata": {},
   "outputs": [],
   "source": []
  },
  {
   "cell_type": "code",
   "execution_count": null,
   "metadata": {},
   "outputs": [],
   "source": []
  },
  {
   "cell_type": "markdown",
   "metadata": {},
   "source": [
    "- Calculo cantidad de vistas de cada usuario a cada anuncio"
   ]
  },
  {
   "cell_type": "code",
   "execution_count": 12,
   "metadata": {},
   "outputs": [
    {
     "name": "stdout",
     "output_type": "stream",
     "text": [
      "<class 'pandas.core.frame.DataFrame'>\n",
      "RangeIndex: 8597915 entries, 0 to 8597914\n",
      "Data columns (total 3 columns):\n",
      "idaviso         int64\n",
      "idpostulante    object\n",
      "veces_visto     int64\n",
      "dtypes: int64(2), object(1)\n",
      "memory usage: 196.8+ MB\n"
     ]
    }
   ],
   "source": [
    "vistas_totales_count = vistas_totales.groupby(by=['idaviso', 'idpostulante']).count()\n",
    "vistas_totales_count.reset_index(drop=False, inplace=True)\n",
    "vistas_totales_count.rename(columns={'timestamp':'veces_visto'}, inplace=True)\n",
    "vistas_totales_count.info()"
   ]
  },
  {
   "cell_type": "code",
   "execution_count": 13,
   "metadata": {},
   "outputs": [
    {
     "data": {
      "text/html": [
       "<div>\n",
       "<style scoped>\n",
       "    .dataframe tbody tr th:only-of-type {\n",
       "        vertical-align: middle;\n",
       "    }\n",
       "\n",
       "    .dataframe tbody tr th {\n",
       "        vertical-align: top;\n",
       "    }\n",
       "\n",
       "    .dataframe thead th {\n",
       "        text-align: right;\n",
       "    }\n",
       "</style>\n",
       "<table border=\"1\" class=\"dataframe\">\n",
       "  <thead>\n",
       "    <tr style=\"text-align: right;\">\n",
       "      <th></th>\n",
       "      <th>idaviso</th>\n",
       "      <th>idpostulante</th>\n",
       "      <th>veces_visto</th>\n",
       "    </tr>\n",
       "  </thead>\n",
       "  <tbody>\n",
       "    <tr>\n",
       "      <th>0</th>\n",
       "      <td>18</td>\n",
       "      <td>BolNL</td>\n",
       "      <td>2</td>\n",
       "    </tr>\n",
       "    <tr>\n",
       "      <th>1</th>\n",
       "      <td>48375</td>\n",
       "      <td>RwVdKR</td>\n",
       "      <td>1</td>\n",
       "    </tr>\n",
       "    <tr>\n",
       "      <th>2</th>\n",
       "      <td>169730</td>\n",
       "      <td>1KjXB</td>\n",
       "      <td>2</td>\n",
       "    </tr>\n",
       "    <tr>\n",
       "      <th>3</th>\n",
       "      <td>169730</td>\n",
       "      <td>2AKzxa</td>\n",
       "      <td>2</td>\n",
       "    </tr>\n",
       "    <tr>\n",
       "      <th>4</th>\n",
       "      <td>169730</td>\n",
       "      <td>6LJ64</td>\n",
       "      <td>1</td>\n",
       "    </tr>\n",
       "  </tbody>\n",
       "</table>\n",
       "</div>"
      ],
      "text/plain": [
       "   idaviso idpostulante  veces_visto\n",
       "0       18        BolNL            2\n",
       "1    48375       RwVdKR            1\n",
       "2   169730        1KjXB            2\n",
       "3   169730       2AKzxa            2\n",
       "4   169730        6LJ64            1"
      ]
     },
     "execution_count": 13,
     "metadata": {},
     "output_type": "execute_result"
    }
   ],
   "source": [
    "vistas_totales_count.head(5)"
   ]
  },
  {
   "cell_type": "code",
   "execution_count": null,
   "metadata": {},
   "outputs": [],
   "source": []
  },
  {
   "cell_type": "code",
   "execution_count": null,
   "metadata": {},
   "outputs": [],
   "source": []
  },
  {
   "cell_type": "code",
   "execution_count": null,
   "metadata": {},
   "outputs": [],
   "source": []
  },
  {
   "cell_type": "markdown",
   "metadata": {},
   "source": [
    "- Concateno toda la info de educacion"
   ]
  },
  {
   "cell_type": "code",
   "execution_count": 14,
   "metadata": {},
   "outputs": [
    {
     "name": "stdout",
     "output_type": "stream",
     "text": [
      "<class 'pandas.core.frame.DataFrame'>\n",
      "Int64Index: 693641 entries, 0 to 397508\n",
      "Data columns (total 3 columns):\n",
      "idpostulante    693641 non-null object\n",
      "estudios        693641 non-null category\n",
      "estado          693641 non-null category\n",
      "dtypes: category(2), object(1)\n",
      "memory usage: 11.9+ MB\n"
     ]
    }
   ],
   "source": [
    "edu_totales = pd.concat([pd.read_csv('datos_navent_fiuba/fiuba_1_postulantes_educacion.csv'), pd.read_csv('fiuba_hasta_15_abril/fiuba_1_postulantes_educacion.csv'), pd.read_csv('Fiuba desde 15 Abril/fiuba_1_postulantes_educacion.csv')])\n",
    "edu_totales.drop_duplicates(inplace=True)\n",
    "\n",
    "edu_totales = edu_totales.rename(columns={'nombre':'estudios'})\n",
    "edu_totales['estudios'] = edu_totales['estudios'].astype('category')\n",
    "edu_totales['estado'] = edu_totales['estado'].astype('category')\n",
    "\n",
    "edu_totales.info()"
   ]
  },
  {
   "cell_type": "code",
   "execution_count": 15,
   "metadata": {},
   "outputs": [
    {
     "data": {
      "text/html": [
       "<div>\n",
       "<style scoped>\n",
       "    .dataframe tbody tr th:only-of-type {\n",
       "        vertical-align: middle;\n",
       "    }\n",
       "\n",
       "    .dataframe tbody tr th {\n",
       "        vertical-align: top;\n",
       "    }\n",
       "\n",
       "    .dataframe thead th {\n",
       "        text-align: right;\n",
       "    }\n",
       "</style>\n",
       "<table border=\"1\" class=\"dataframe\">\n",
       "  <thead>\n",
       "    <tr style=\"text-align: right;\">\n",
       "      <th></th>\n",
       "      <th>idpostulante</th>\n",
       "      <th>estudios</th>\n",
       "      <th>estado</th>\n",
       "      <th>nivel_estado</th>\n",
       "      <th>nivel_estudios</th>\n",
       "    </tr>\n",
       "  </thead>\n",
       "  <tbody>\n",
       "    <tr>\n",
       "      <th>0</th>\n",
       "      <td>NdJl</td>\n",
       "      <td>Posgrado</td>\n",
       "      <td>En Curso</td>\n",
       "      <td>1</td>\n",
       "      <td>4</td>\n",
       "    </tr>\n",
       "    <tr>\n",
       "      <th>1</th>\n",
       "      <td>8BkL</td>\n",
       "      <td>Universitario</td>\n",
       "      <td>En Curso</td>\n",
       "      <td>1</td>\n",
       "      <td>3</td>\n",
       "    </tr>\n",
       "    <tr>\n",
       "      <th>2</th>\n",
       "      <td>1d2B</td>\n",
       "      <td>Universitario</td>\n",
       "      <td>En Curso</td>\n",
       "      <td>1</td>\n",
       "      <td>3</td>\n",
       "    </tr>\n",
       "    <tr>\n",
       "      <th>3</th>\n",
       "      <td>NPBx</td>\n",
       "      <td>Universitario</td>\n",
       "      <td>En Curso</td>\n",
       "      <td>1</td>\n",
       "      <td>3</td>\n",
       "    </tr>\n",
       "    <tr>\n",
       "      <th>4</th>\n",
       "      <td>NPBx</td>\n",
       "      <td>Master</td>\n",
       "      <td>En Curso</td>\n",
       "      <td>1</td>\n",
       "      <td>5</td>\n",
       "    </tr>\n",
       "  </tbody>\n",
       "</table>\n",
       "</div>"
      ],
      "text/plain": [
       "  idpostulante       estudios    estado  nivel_estado  nivel_estudios\n",
       "0         NdJl       Posgrado  En Curso             1               4\n",
       "1         8BkL  Universitario  En Curso             1               3\n",
       "2         1d2B  Universitario  En Curso             1               3\n",
       "3         NPBx  Universitario  En Curso             1               3\n",
       "4         NPBx         Master  En Curso             1               5"
      ]
     },
     "execution_count": 15,
     "metadata": {},
     "output_type": "execute_result"
    }
   ],
   "source": [
    "# Creo nuevas columnas indicando el nivel del estudio y del estado, para filtrar mas facilmente luego\n",
    "\n",
    "edu_estado_list = ['Abandonado','En Curso', 'Graduado']\n",
    "edu_estudios_list = ['Otro', 'Secundario','Terciario/Técnico', 'Universitario', 'Posgrado', 'Master', 'Doctorado']\n",
    "\n",
    "edu_totales['nivel_estado'] = edu_totales['estado'].apply(lambda x: edu_estado_list.index(x)).astype('int8')\n",
    "edu_totales['nivel_estudios'] = edu_totales['estudios'].apply(lambda x: edu_estudios_list.index(x)).astype('int8')\n",
    "\n",
    "edu_totales.head()"
   ]
  },
  {
   "cell_type": "code",
   "execution_count": 16,
   "metadata": {},
   "outputs": [
    {
     "data": {
      "text/html": [
       "<div>\n",
       "<style scoped>\n",
       "    .dataframe tbody tr th:only-of-type {\n",
       "        vertical-align: middle;\n",
       "    }\n",
       "\n",
       "    .dataframe tbody tr th {\n",
       "        vertical-align: top;\n",
       "    }\n",
       "\n",
       "    .dataframe thead th {\n",
       "        text-align: right;\n",
       "    }\n",
       "</style>\n",
       "<table border=\"1\" class=\"dataframe\">\n",
       "  <thead>\n",
       "    <tr style=\"text-align: right;\">\n",
       "      <th></th>\n",
       "      <th>idpostulante</th>\n",
       "      <th>estudios</th>\n",
       "      <th>estado</th>\n",
       "      <th>nivel_estado</th>\n",
       "      <th>nivel_estudios</th>\n",
       "    </tr>\n",
       "  </thead>\n",
       "  <tbody>\n",
       "    <tr>\n",
       "      <th>48497</th>\n",
       "      <td>5vmKGM</td>\n",
       "      <td>Universitario</td>\n",
       "      <td>En Curso</td>\n",
       "      <td>1</td>\n",
       "      <td>3</td>\n",
       "    </tr>\n",
       "    <tr>\n",
       "      <th>50630</th>\n",
       "      <td>5vmKGM</td>\n",
       "      <td>Terciario/Técnico</td>\n",
       "      <td>Graduado</td>\n",
       "      <td>2</td>\n",
       "      <td>2</td>\n",
       "    </tr>\n",
       "    <tr>\n",
       "      <th>51662</th>\n",
       "      <td>5vmKGM</td>\n",
       "      <td>Universitario</td>\n",
       "      <td>Abandonado</td>\n",
       "      <td>0</td>\n",
       "      <td>3</td>\n",
       "    </tr>\n",
       "    <tr>\n",
       "      <th>51663</th>\n",
       "      <td>5vmKGM</td>\n",
       "      <td>Terciario/Técnico</td>\n",
       "      <td>Abandonado</td>\n",
       "      <td>0</td>\n",
       "      <td>2</td>\n",
       "    </tr>\n",
       "    <tr>\n",
       "      <th>169914</th>\n",
       "      <td>5vmKGM</td>\n",
       "      <td>Doctorado</td>\n",
       "      <td>Graduado</td>\n",
       "      <td>2</td>\n",
       "      <td>6</td>\n",
       "    </tr>\n",
       "  </tbody>\n",
       "</table>\n",
       "</div>"
      ],
      "text/plain": [
       "       idpostulante           estudios      estado  nivel_estado  \\\n",
       "48497        5vmKGM      Universitario    En Curso             1   \n",
       "50630        5vmKGM  Terciario/Técnico    Graduado             2   \n",
       "51662        5vmKGM      Universitario  Abandonado             0   \n",
       "51663        5vmKGM  Terciario/Técnico  Abandonado             0   \n",
       "169914       5vmKGM          Doctorado    Graduado             2   \n",
       "\n",
       "        nivel_estudios  \n",
       "48497                3  \n",
       "50630                2  \n",
       "51662                3  \n",
       "51663                2  \n",
       "169914               6  "
      ]
     },
     "execution_count": 16,
     "metadata": {},
     "output_type": "execute_result"
    }
   ],
   "source": [
    "edu_totales[edu_totales['idpostulante']=='5vmKGM']"
   ]
  },
  {
   "cell_type": "code",
   "execution_count": 17,
   "metadata": {},
   "outputs": [
    {
     "data": {
      "text/html": [
       "<div>\n",
       "<style scoped>\n",
       "    .dataframe tbody tr th:only-of-type {\n",
       "        vertical-align: middle;\n",
       "    }\n",
       "\n",
       "    .dataframe tbody tr th {\n",
       "        vertical-align: top;\n",
       "    }\n",
       "\n",
       "    .dataframe thead th {\n",
       "        text-align: right;\n",
       "    }\n",
       "</style>\n",
       "<table border=\"1\" class=\"dataframe\">\n",
       "  <thead>\n",
       "    <tr style=\"text-align: right;\">\n",
       "      <th></th>\n",
       "      <th>idpostulante</th>\n",
       "      <th>estudios</th>\n",
       "      <th>estado</th>\n",
       "      <th>nivel_estado</th>\n",
       "      <th>nivel_estudios</th>\n",
       "    </tr>\n",
       "  </thead>\n",
       "  <tbody>\n",
       "    <tr>\n",
       "      <th>51663</th>\n",
       "      <td>5vmKGM</td>\n",
       "      <td>Terciario/Técnico</td>\n",
       "      <td>Abandonado</td>\n",
       "      <td>0</td>\n",
       "      <td>2</td>\n",
       "    </tr>\n",
       "    <tr>\n",
       "      <th>51662</th>\n",
       "      <td>5vmKGM</td>\n",
       "      <td>Universitario</td>\n",
       "      <td>Abandonado</td>\n",
       "      <td>0</td>\n",
       "      <td>3</td>\n",
       "    </tr>\n",
       "    <tr>\n",
       "      <th>48497</th>\n",
       "      <td>5vmKGM</td>\n",
       "      <td>Universitario</td>\n",
       "      <td>En Curso</td>\n",
       "      <td>1</td>\n",
       "      <td>3</td>\n",
       "    </tr>\n",
       "    <tr>\n",
       "      <th>50630</th>\n",
       "      <td>5vmKGM</td>\n",
       "      <td>Terciario/Técnico</td>\n",
       "      <td>Graduado</td>\n",
       "      <td>2</td>\n",
       "      <td>2</td>\n",
       "    </tr>\n",
       "    <tr>\n",
       "      <th>169914</th>\n",
       "      <td>5vmKGM</td>\n",
       "      <td>Doctorado</td>\n",
       "      <td>Graduado</td>\n",
       "      <td>2</td>\n",
       "      <td>6</td>\n",
       "    </tr>\n",
       "  </tbody>\n",
       "</table>\n",
       "</div>"
      ],
      "text/plain": [
       "       idpostulante           estudios      estado  nivel_estado  \\\n",
       "51663        5vmKGM  Terciario/Técnico  Abandonado             0   \n",
       "51662        5vmKGM      Universitario  Abandonado             0   \n",
       "48497        5vmKGM      Universitario    En Curso             1   \n",
       "50630        5vmKGM  Terciario/Técnico    Graduado             2   \n",
       "169914       5vmKGM          Doctorado    Graduado             2   \n",
       "\n",
       "        nivel_estudios  \n",
       "51663                2  \n",
       "51662                3  \n",
       "48497                3  \n",
       "50630                2  \n",
       "169914               6  "
      ]
     },
     "execution_count": 17,
     "metadata": {},
     "output_type": "execute_result"
    }
   ],
   "source": [
    "#Ordeno por niveles de importancia, primero por estado, luego por estudio\n",
    "\n",
    "edu_totales = edu_totales.sort_values(['nivel_estado','nivel_estudios'], ascending=[True, True])\n",
    "edu_totales[edu_totales['idpostulante']=='5vmKGM']"
   ]
  },
  {
   "cell_type": "code",
   "execution_count": 18,
   "metadata": {},
   "outputs": [
    {
     "name": "stdout",
     "output_type": "stream",
     "text": [
      "<class 'pandas.core.frame.DataFrame'>\n",
      "Int64Index: 447909 entries, 7621 to 385512\n",
      "Data columns (total 5 columns):\n",
      "idpostulante      447909 non-null object\n",
      "estudios          447909 non-null category\n",
      "estado            447909 non-null category\n",
      "nivel_estado      447909 non-null int8\n",
      "nivel_estudios    447909 non-null int8\n",
      "dtypes: category(2), int8(2), object(1)\n",
      "memory usage: 8.5+ MB\n"
     ]
    }
   ],
   "source": [
    "#Ante duplicados me quedo con el de nivel de importancia de estado mas alto, y dentro de ellos, con el de nivel de estudio mas alto. Esto es para evitar borrar \n",
    "#datos de personas que solo tengan estudios en curso o abandonados.\n",
    "\n",
    "edu_totales = edu_totales.drop_duplicates(subset=['idpostulante'], keep='last')\n",
    "edu_totales.info()"
   ]
  },
  {
   "cell_type": "code",
   "execution_count": 19,
   "metadata": {},
   "outputs": [
    {
     "data": {
      "text/html": [
       "<div>\n",
       "<style scoped>\n",
       "    .dataframe tbody tr th:only-of-type {\n",
       "        vertical-align: middle;\n",
       "    }\n",
       "\n",
       "    .dataframe tbody tr th {\n",
       "        vertical-align: top;\n",
       "    }\n",
       "\n",
       "    .dataframe thead th {\n",
       "        text-align: right;\n",
       "    }\n",
       "</style>\n",
       "<table border=\"1\" class=\"dataframe\">\n",
       "  <thead>\n",
       "    <tr style=\"text-align: right;\">\n",
       "      <th></th>\n",
       "      <th>idpostulante</th>\n",
       "      <th>estudios</th>\n",
       "      <th>estado</th>\n",
       "      <th>nivel_estado</th>\n",
       "      <th>nivel_estudios</th>\n",
       "    </tr>\n",
       "  </thead>\n",
       "  <tbody>\n",
       "    <tr>\n",
       "      <th>169914</th>\n",
       "      <td>5vmKGM</td>\n",
       "      <td>Doctorado</td>\n",
       "      <td>Graduado</td>\n",
       "      <td>2</td>\n",
       "      <td>6</td>\n",
       "    </tr>\n",
       "  </tbody>\n",
       "</table>\n",
       "</div>"
      ],
      "text/plain": [
       "       idpostulante   estudios    estado  nivel_estado  nivel_estudios\n",
       "169914       5vmKGM  Doctorado  Graduado             2               6"
      ]
     },
     "execution_count": 19,
     "metadata": {},
     "output_type": "execute_result"
    }
   ],
   "source": [
    "edu_totales[edu_totales['idpostulante']=='5vmKGM']"
   ]
  },
  {
   "cell_type": "code",
   "execution_count": 20,
   "metadata": {},
   "outputs": [],
   "source": [
    "edu_totales.drop(columns=['nivel_estado','nivel_estudios'], inplace=True)"
   ]
  },
  {
   "cell_type": "code",
   "execution_count": 21,
   "metadata": {},
   "outputs": [
    {
     "data": {
      "text/html": [
       "<div>\n",
       "<style scoped>\n",
       "    .dataframe tbody tr th:only-of-type {\n",
       "        vertical-align: middle;\n",
       "    }\n",
       "\n",
       "    .dataframe tbody tr th {\n",
       "        vertical-align: top;\n",
       "    }\n",
       "\n",
       "    .dataframe thead th {\n",
       "        text-align: right;\n",
       "    }\n",
       "</style>\n",
       "<table border=\"1\" class=\"dataframe\">\n",
       "  <thead>\n",
       "    <tr style=\"text-align: right;\">\n",
       "      <th></th>\n",
       "      <th>idpostulante</th>\n",
       "      <th>estudios</th>\n",
       "      <th>estado</th>\n",
       "    </tr>\n",
       "  </thead>\n",
       "  <tbody>\n",
       "    <tr>\n",
       "      <th>0</th>\n",
       "      <td>0z5Dmrd</td>\n",
       "      <td>Universitario</td>\n",
       "      <td>Graduado</td>\n",
       "    </tr>\n",
       "    <tr>\n",
       "      <th>1</th>\n",
       "      <td>0z5JW1r</td>\n",
       "      <td>Terciario/Técnico</td>\n",
       "      <td>Graduado</td>\n",
       "    </tr>\n",
       "    <tr>\n",
       "      <th>2</th>\n",
       "      <td>0z5VvGv</td>\n",
       "      <td>Secundario</td>\n",
       "      <td>Graduado</td>\n",
       "    </tr>\n",
       "    <tr>\n",
       "      <th>3</th>\n",
       "      <td>0zB01pE</td>\n",
       "      <td>Terciario/Técnico</td>\n",
       "      <td>Graduado</td>\n",
       "    </tr>\n",
       "    <tr>\n",
       "      <th>4</th>\n",
       "      <td>0zB026d</td>\n",
       "      <td>Terciario/Técnico</td>\n",
       "      <td>Graduado</td>\n",
       "    </tr>\n",
       "  </tbody>\n",
       "</table>\n",
       "</div>"
      ],
      "text/plain": [
       "  idpostulante           estudios    estado\n",
       "0      0z5Dmrd      Universitario  Graduado\n",
       "1      0z5JW1r  Terciario/Técnico  Graduado\n",
       "2      0z5VvGv         Secundario  Graduado\n",
       "3      0zB01pE  Terciario/Técnico  Graduado\n",
       "4      0zB026d  Terciario/Técnico  Graduado"
      ]
     },
     "execution_count": 21,
     "metadata": {},
     "output_type": "execute_result"
    }
   ],
   "source": [
    "edu_totales.sort_values(by=['idpostulante'], ascending=True, inplace=True)\n",
    "edu_totales.reset_index(drop=True, inplace=True)\n",
    "edu_totales.head()"
   ]
  },
  {
   "cell_type": "code",
   "execution_count": null,
   "metadata": {},
   "outputs": [],
   "source": []
  },
  {
   "cell_type": "code",
   "execution_count": null,
   "metadata": {},
   "outputs": [],
   "source": []
  },
  {
   "cell_type": "code",
   "execution_count": null,
   "metadata": {},
   "outputs": [],
   "source": []
  },
  {
   "cell_type": "markdown",
   "metadata": {},
   "source": [
    "- Concateno todos los detalles de avisos"
   ]
  },
  {
   "cell_type": "code",
   "execution_count": 22,
   "metadata": {},
   "outputs": [
    {
     "name": "stdout",
     "output_type": "stream",
     "text": [
      "<class 'pandas.core.frame.DataFrame'>\n",
      "Int64Index: 45969 entries, 0 to 337\n",
      "Data columns (total 11 columns):\n",
      "idaviso                 45969 non-null int64\n",
      "idpais                  45969 non-null int64\n",
      "titulo                  45969 non-null object\n",
      "descripcion             45969 non-null object\n",
      "nombre_zona             45969 non-null object\n",
      "ciudad                  225 non-null object\n",
      "mapacalle               3444 non-null object\n",
      "tipo_de_trabajo         45969 non-null object\n",
      "nivel_laboral           45634 non-null object\n",
      "nombre_area             45969 non-null object\n",
      "denominacion_empresa    45955 non-null object\n",
      "dtypes: int64(2), object(9)\n",
      "memory usage: 4.2+ MB\n"
     ]
    }
   ],
   "source": [
    "avisos_totales = pd.concat([pd.read_csv('datos_navent_fiuba/fiuba_6_avisos_detalle.csv'), pd.read_csv('fiuba_hasta_15_abril/fiuba_6_avisos_detalle.csv'), pd.read_csv('Fiuba desde 15 Abril/fiuba_6_avisos_detalle.csv'), pd.read_csv('fiuba_6_avisos_detalle_missing_nivel_laboral.csv')])\n",
    "avisos_totales.info()"
   ]
  },
  {
   "cell_type": "code",
   "execution_count": 23,
   "metadata": {},
   "outputs": [
    {
     "name": "stdout",
     "output_type": "stream",
     "text": [
      "<class 'pandas.core.frame.DataFrame'>\n",
      "Int64Index: 45969 entries, 0 to 337\n",
      "Data columns (total 7 columns):\n",
      "idaviso                 45969 non-null int64\n",
      "titulo                  45969 non-null object\n",
      "nombre_zona             45969 non-null category\n",
      "tipo_de_trabajo         45969 non-null category\n",
      "nivel_laboral           45634 non-null category\n",
      "nombre_area             45969 non-null object\n",
      "denominacion_empresa    45955 non-null object\n",
      "dtypes: category(3), int64(1), object(3)\n",
      "memory usage: 1.9+ MB\n"
     ]
    }
   ],
   "source": [
    "avisos_totales.drop(columns=['ciudad','mapacalle','descripcion','idpais'], inplace=True)\n",
    "avisos_totales['nivel_laboral'] = avisos_totales['nivel_laboral'].astype('category')\n",
    "avisos_totales['tipo_de_trabajo'] = avisos_totales['tipo_de_trabajo'].astype('category')\n",
    "avisos_totales['nombre_zona'] = avisos_totales['nombre_zona'].astype('category')\n",
    "avisos_totales.info()"
   ]
  },
  {
   "cell_type": "code",
   "execution_count": 24,
   "metadata": {},
   "outputs": [
    {
     "name": "stdout",
     "output_type": "stream",
     "text": [
      "<class 'pandas.core.frame.DataFrame'>\n",
      "Int64Index: 25288 entries, 4 to 337\n",
      "Data columns (total 7 columns):\n",
      "idaviso                 25288 non-null int64\n",
      "titulo                  25288 non-null object\n",
      "nombre_zona             25288 non-null category\n",
      "tipo_de_trabajo         25288 non-null category\n",
      "nivel_laboral           24953 non-null category\n",
      "nombre_area             25288 non-null object\n",
      "denominacion_empresa    25281 non-null object\n",
      "dtypes: category(3), int64(1), object(3)\n",
      "memory usage: 1.0+ MB\n"
     ]
    }
   ],
   "source": [
    "avisos_totales.drop_duplicates(subset=['idaviso'], keep='last', inplace=True)\n",
    "avisos_totales.info()"
   ]
  },
  {
   "cell_type": "code",
   "execution_count": 25,
   "metadata": {},
   "outputs": [
    {
     "data": {
      "text/html": [
       "<div>\n",
       "<style scoped>\n",
       "    .dataframe tbody tr th:only-of-type {\n",
       "        vertical-align: middle;\n",
       "    }\n",
       "\n",
       "    .dataframe tbody tr th {\n",
       "        vertical-align: top;\n",
       "    }\n",
       "\n",
       "    .dataframe thead th {\n",
       "        text-align: right;\n",
       "    }\n",
       "</style>\n",
       "<table border=\"1\" class=\"dataframe\">\n",
       "  <thead>\n",
       "    <tr style=\"text-align: right;\">\n",
       "      <th></th>\n",
       "      <th>idaviso</th>\n",
       "      <th>titulo</th>\n",
       "      <th>nombre_zona</th>\n",
       "      <th>tipo_de_trabajo</th>\n",
       "      <th>nivel_laboral</th>\n",
       "      <th>nombre_area</th>\n",
       "      <th>denominacion_empresa</th>\n",
       "    </tr>\n",
       "  </thead>\n",
       "  <tbody>\n",
       "    <tr>\n",
       "      <th>4</th>\n",
       "      <td>1000872556</td>\n",
       "      <td>Operarios de Planta - Rubro Electrodomésticos</td>\n",
       "      <td>Gran Buenos Aires</td>\n",
       "      <td>Full-time</td>\n",
       "      <td>Senior / Semi-Senior</td>\n",
       "      <td>Producción</td>\n",
       "      <td>ELECTRO OUTLET SRL</td>\n",
       "    </tr>\n",
       "    <tr>\n",
       "      <th>8</th>\n",
       "      <td>9240880</td>\n",
       "      <td>Productores Asesores Independiente, para venta...</td>\n",
       "      <td>Capital Federal</td>\n",
       "      <td>Full-time</td>\n",
       "      <td>Jefe / Supervisor / Responsable</td>\n",
       "      <td>Comercial</td>\n",
       "      <td>Agencia Oficial Alejandro Arizaga</td>\n",
       "    </tr>\n",
       "    <tr>\n",
       "      <th>19</th>\n",
       "      <td>1110185164</td>\n",
       "      <td>Administrativo de Recepción</td>\n",
       "      <td>Gran Buenos Aires</td>\n",
       "      <td>Full-time</td>\n",
       "      <td>Junior</td>\n",
       "      <td>Administración</td>\n",
       "      <td>Unión Personal</td>\n",
       "    </tr>\n",
       "    <tr>\n",
       "      <th>21</th>\n",
       "      <td>1110513885</td>\n",
       "      <td>Distribuidor domiciliario con moto (SAN MIGUEL)</td>\n",
       "      <td>Gran Buenos Aires</td>\n",
       "      <td>Full-time</td>\n",
       "      <td>Junior</td>\n",
       "      <td>Distribución</td>\n",
       "      <td>Asoko Tempo SA</td>\n",
       "    </tr>\n",
       "    <tr>\n",
       "      <th>32</th>\n",
       "      <td>1111034024</td>\n",
       "      <td>Vendedores para venta de medicina pre paga y o...</td>\n",
       "      <td>Gran Buenos Aires</td>\n",
       "      <td>Full-time</td>\n",
       "      <td>Senior / Semi-Senior</td>\n",
       "      <td>Comercial</td>\n",
       "      <td>JELS SRL</td>\n",
       "    </tr>\n",
       "  </tbody>\n",
       "</table>\n",
       "</div>"
      ],
      "text/plain": [
       "       idaviso                                             titulo  \\\n",
       "4   1000872556      Operarios de Planta - Rubro Electrodomésticos   \n",
       "8      9240880  Productores Asesores Independiente, para venta...   \n",
       "19  1110185164                        Administrativo de Recepción   \n",
       "21  1110513885    Distribuidor domiciliario con moto (SAN MIGUEL)   \n",
       "32  1111034024  Vendedores para venta de medicina pre paga y o...   \n",
       "\n",
       "          nombre_zona tipo_de_trabajo                    nivel_laboral  \\\n",
       "4   Gran Buenos Aires       Full-time             Senior / Semi-Senior   \n",
       "8     Capital Federal       Full-time  Jefe / Supervisor / Responsable   \n",
       "19  Gran Buenos Aires       Full-time                           Junior   \n",
       "21  Gran Buenos Aires       Full-time                           Junior   \n",
       "32  Gran Buenos Aires       Full-time             Senior / Semi-Senior   \n",
       "\n",
       "       nombre_area               denominacion_empresa  \n",
       "4       Producción                 ELECTRO OUTLET SRL  \n",
       "8        Comercial  Agencia Oficial Alejandro Arizaga  \n",
       "19  Administración                     Unión Personal  \n",
       "21    Distribución                     Asoko Tempo SA  \n",
       "32       Comercial                           JELS SRL  "
      ]
     },
     "execution_count": 25,
     "metadata": {},
     "output_type": "execute_result"
    }
   ],
   "source": [
    "avisos_totales.head()"
   ]
  },
  {
   "cell_type": "code",
   "execution_count": null,
   "metadata": {},
   "outputs": [],
   "source": []
  },
  {
   "cell_type": "code",
   "execution_count": null,
   "metadata": {},
   "outputs": [],
   "source": []
  },
  {
   "cell_type": "code",
   "execution_count": null,
   "metadata": {},
   "outputs": [],
   "source": []
  },
  {
   "cell_type": "markdown",
   "metadata": {},
   "source": [
    "- Concateno todas la info de edad y sexo"
   ]
  },
  {
   "cell_type": "code",
   "execution_count": 26,
   "metadata": {},
   "outputs": [
    {
     "name": "stdout",
     "output_type": "stream",
     "text": [
      "<class 'pandas.core.frame.DataFrame'>\n",
      "Int64Index: 505382 entries, 0 to 281384\n",
      "Data columns (total 3 columns):\n",
      "idpostulante       505382 non-null object\n",
      "fechanacimiento    478699 non-null object\n",
      "sexo               505382 non-null object\n",
      "dtypes: object(3)\n",
      "memory usage: 15.4+ MB\n"
     ]
    }
   ],
   "source": [
    "edad_totales = pd.concat([pd.read_csv('datos_navent_fiuba/fiuba_2_postulantes_genero_y_edad.csv'), pd.read_csv('fiuba_hasta_15_abril/fiuba_2_postulantes_genero_y_edad.csv'), pd.read_csv('Fiuba desde 15 Abril/fiuba_2_postulantes_genero_y_edad.csv')])\n",
    "edad_totales.drop_duplicates(inplace=True)\n",
    "edad_totales.info()"
   ]
  },
  {
   "cell_type": "code",
   "execution_count": 27,
   "metadata": {},
   "outputs": [
    {
     "name": "stdout",
     "output_type": "stream",
     "text": [
      "<class 'pandas.core.frame.DataFrame'>\n",
      "Int64Index: 505382 entries, 0 to 281384\n",
      "Data columns (total 3 columns):\n",
      "idpostulante       505382 non-null object\n",
      "fechanacimiento    505382 non-null datetime64[ns]\n",
      "sexo               505382 non-null category\n",
      "dtypes: category(1), datetime64[ns](1), object(1)\n",
      "memory usage: 12.0+ MB\n"
     ]
    }
   ],
   "source": [
    "edad_totales['sexo'] = edad_totales['sexo'].apply(lambda x: 'NO_DECLARA' if (x=='0.0') else x)\n",
    "edad_totales['sexo'] = edad_totales['sexo'].astype('category')\n",
    "edad_totales['fechanacimiento'] = pd.to_datetime(edad_totales['fechanacimiento'], errors='coerce', format='%Y-%m-%d')\n",
    "edad_totales.fillna(inplace=True, value={'fechanacimiento': datetime.strptime('1990-01-01', '%Y-%m-%d')})\n",
    "edad_totales.info()"
   ]
  },
  {
   "cell_type": "code",
   "execution_count": 28,
   "metadata": {},
   "outputs": [
    {
     "name": "stdout",
     "output_type": "stream",
     "text": [
      "<class 'pandas.core.frame.DataFrame'>\n",
      "Int64Index: 505382 entries, 0 to 281384\n",
      "Data columns (total 3 columns):\n",
      "idpostulante    505382 non-null object\n",
      "sexo            505382 non-null category\n",
      "edad            505382 non-null int8\n",
      "dtypes: category(1), int8(1), object(1)\n",
      "memory usage: 8.7+ MB\n"
     ]
    }
   ],
   "source": [
    "def calculate_age(birth_date):\n",
    "    return (datetime.now().year - birth_date.year - ((datetime.now().month, datetime.now().day) < (birth_date.month, birth_date.day))) # El ultimo termino resta un anio si cumple despues del dia y mes de referencia\n",
    "\n",
    "edad_totales['edad'] = edad_totales['fechanacimiento'].apply(calculate_age)\n",
    "edad_totales['edad'] = edad_totales['edad'].apply(lambda x: 28 if (x<18 or x>80) else x).astype('int8')\n",
    "edad_totales.drop(columns=['fechanacimiento'], inplace=True)\n",
    "\n",
    "edad_totales.info()"
   ]
  },
  {
   "cell_type": "code",
   "execution_count": 29,
   "metadata": {},
   "outputs": [
    {
     "data": {
      "text/plain": [
       "FEM           251431\n",
       "MASC          228008\n",
       "NO_DECLARA     25943\n",
       "Name: sexo, dtype: int64"
      ]
     },
     "execution_count": 29,
     "metadata": {},
     "output_type": "execute_result"
    }
   ],
   "source": [
    "edad_totales['sexo'].value_counts()"
   ]
  },
  {
   "cell_type": "code",
   "execution_count": 30,
   "metadata": {},
   "outputs": [
    {
     "data": {
      "text/html": [
       "<div>\n",
       "<style scoped>\n",
       "    .dataframe tbody tr th:only-of-type {\n",
       "        vertical-align: middle;\n",
       "    }\n",
       "\n",
       "    .dataframe tbody tr th {\n",
       "        vertical-align: top;\n",
       "    }\n",
       "\n",
       "    .dataframe thead th {\n",
       "        text-align: right;\n",
       "    }\n",
       "</style>\n",
       "<table border=\"1\" class=\"dataframe\">\n",
       "  <thead>\n",
       "    <tr style=\"text-align: right;\">\n",
       "      <th></th>\n",
       "      <th>idpostulante</th>\n",
       "      <th>sexo</th>\n",
       "      <th>edad</th>\n",
       "    </tr>\n",
       "  </thead>\n",
       "  <tbody>\n",
       "    <tr>\n",
       "      <th>0</th>\n",
       "      <td>0z5Dmrd</td>\n",
       "      <td>MASC</td>\n",
       "      <td>52</td>\n",
       "    </tr>\n",
       "    <tr>\n",
       "      <th>1</th>\n",
       "      <td>0z5JW1r</td>\n",
       "      <td>MASC</td>\n",
       "      <td>47</td>\n",
       "    </tr>\n",
       "    <tr>\n",
       "      <th>2</th>\n",
       "      <td>0z5VvGv</td>\n",
       "      <td>MASC</td>\n",
       "      <td>30</td>\n",
       "    </tr>\n",
       "    <tr>\n",
       "      <th>3</th>\n",
       "      <td>0zB01pE</td>\n",
       "      <td>MASC</td>\n",
       "      <td>28</td>\n",
       "    </tr>\n",
       "    <tr>\n",
       "      <th>4</th>\n",
       "      <td>0zB026d</td>\n",
       "      <td>FEM</td>\n",
       "      <td>40</td>\n",
       "    </tr>\n",
       "  </tbody>\n",
       "</table>\n",
       "</div>"
      ],
      "text/plain": [
       "  idpostulante  sexo  edad\n",
       "0      0z5Dmrd  MASC    52\n",
       "1      0z5JW1r  MASC    47\n",
       "2      0z5VvGv  MASC    30\n",
       "3      0zB01pE  MASC    28\n",
       "4      0zB026d   FEM    40"
      ]
     },
     "execution_count": 30,
     "metadata": {},
     "output_type": "execute_result"
    }
   ],
   "source": [
    "edad_totales.sort_values(by=['edad'], ascending=False, inplace=True)\n",
    "edad_totales.drop_duplicates(subset=['idpostulante'], keep='first', inplace=True)\n",
    "edad_totales.sort_values(by=['idpostulante'], ascending=True, inplace=True)\n",
    "edad_totales.reset_index(drop=True, inplace=True)\n",
    "edad_totales.head()"
   ]
  },
  {
   "cell_type": "code",
   "execution_count": 31,
   "metadata": {},
   "outputs": [
    {
     "name": "stdout",
     "output_type": "stream",
     "text": [
      "<class 'pandas.core.frame.DataFrame'>\n",
      "RangeIndex: 504407 entries, 0 to 504406\n",
      "Data columns (total 3 columns):\n",
      "idpostulante    504407 non-null object\n",
      "sexo            504407 non-null category\n",
      "edad            504407 non-null int8\n",
      "dtypes: category(1), int8(1), object(1)\n",
      "memory usage: 4.8+ MB\n"
     ]
    }
   ],
   "source": [
    "edad_totales.info()"
   ]
  },
  {
   "cell_type": "code",
   "execution_count": null,
   "metadata": {},
   "outputs": [],
   "source": []
  },
  {
   "cell_type": "code",
   "execution_count": null,
   "metadata": {},
   "outputs": [],
   "source": []
  },
  {
   "cell_type": "code",
   "execution_count": null,
   "metadata": {},
   "outputs": [],
   "source": []
  },
  {
   "cell_type": "markdown",
   "metadata": {},
   "source": [
    "- Concateno todas las postulaciones"
   ]
  },
  {
   "cell_type": "code",
   "execution_count": 32,
   "metadata": {},
   "outputs": [
    {
     "name": "stdout",
     "output_type": "stream",
     "text": [
      "<class 'pandas.core.frame.DataFrame'>\n",
      "Int64Index: 8311264 entries, 0 to 4909640\n",
      "Data columns (total 3 columns):\n",
      "idaviso             int64\n",
      "idpostulante        object\n",
      "fechapostulacion    object\n",
      "dtypes: int64(1), object(2)\n",
      "memory usage: 253.6+ MB\n"
     ]
    }
   ],
   "source": [
    "post_totales = pd.concat([pd.read_csv('datos_navent_fiuba/fiuba_4_postulaciones.csv'), pd.read_csv('fiuba_hasta_15_abril/fiuba_4_postulaciones.csv')])\n",
    "post_totales.info()"
   ]
  },
  {
   "cell_type": "code",
   "execution_count": 33,
   "metadata": {},
   "outputs": [
    {
     "name": "stdout",
     "output_type": "stream",
     "text": [
      "<class 'pandas.core.frame.DataFrame'>\n",
      "RangeIndex: 6603752 entries, 0 to 6603751\n",
      "Data columns (total 3 columns):\n",
      "idaviso             int64\n",
      "idpostulante        object\n",
      "fechapostulacion    datetime64[ns]\n",
      "dtypes: datetime64[ns](1), int64(1), object(1)\n",
      "memory usage: 151.1+ MB\n"
     ]
    }
   ],
   "source": [
    "post_totales.drop_duplicates(inplace=True)\n",
    "post_totales['fechapostulacion'] = pd.to_datetime(post_totales['fechapostulacion'])\n",
    "post_totales.sort_values(by=['fechapostulacion'], ascending=True, inplace=True)\n",
    "post_totales.drop_duplicates(subset=['idaviso','idpostulante'], keep='first', inplace=True)\n",
    "post_totales.sort_values(by=['idpostulante'], ascending=True, inplace=True)\n",
    "post_totales.reset_index(drop=True, inplace=True)\n",
    "post_totales.info()"
   ]
  },
  {
   "cell_type": "code",
   "execution_count": 34,
   "metadata": {},
   "outputs": [
    {
     "data": {
      "text/html": [
       "<div>\n",
       "<style scoped>\n",
       "    .dataframe tbody tr th:only-of-type {\n",
       "        vertical-align: middle;\n",
       "    }\n",
       "\n",
       "    .dataframe tbody tr th {\n",
       "        vertical-align: top;\n",
       "    }\n",
       "\n",
       "    .dataframe thead th {\n",
       "        text-align: right;\n",
       "    }\n",
       "</style>\n",
       "<table border=\"1\" class=\"dataframe\">\n",
       "  <thead>\n",
       "    <tr style=\"text-align: right;\">\n",
       "      <th></th>\n",
       "      <th>idaviso</th>\n",
       "      <th>idpostulante</th>\n",
       "      <th>fechapostulacion</th>\n",
       "    </tr>\n",
       "  </thead>\n",
       "  <tbody>\n",
       "    <tr>\n",
       "      <th>0</th>\n",
       "      <td>1112384041</td>\n",
       "      <td>0z5Dmrd</td>\n",
       "      <td>2018-03-28 16:24:37</td>\n",
       "    </tr>\n",
       "    <tr>\n",
       "      <th>1</th>\n",
       "      <td>1112420060</td>\n",
       "      <td>0z5Dmrd</td>\n",
       "      <td>2018-03-28 16:47:11</td>\n",
       "    </tr>\n",
       "    <tr>\n",
       "      <th>2</th>\n",
       "      <td>1112428361</td>\n",
       "      <td>0z5JW1r</td>\n",
       "      <td>2018-04-01 07:26:12</td>\n",
       "    </tr>\n",
       "    <tr>\n",
       "      <th>3</th>\n",
       "      <td>1112309728</td>\n",
       "      <td>0z5JW1r</td>\n",
       "      <td>2018-03-02 03:49:53</td>\n",
       "    </tr>\n",
       "    <tr>\n",
       "      <th>4</th>\n",
       "      <td>1112292169</td>\n",
       "      <td>0z5JW1r</td>\n",
       "      <td>2018-02-19 05:12:24</td>\n",
       "    </tr>\n",
       "  </tbody>\n",
       "</table>\n",
       "</div>"
      ],
      "text/plain": [
       "      idaviso idpostulante    fechapostulacion\n",
       "0  1112384041      0z5Dmrd 2018-03-28 16:24:37\n",
       "1  1112420060      0z5Dmrd 2018-03-28 16:47:11\n",
       "2  1112428361      0z5JW1r 2018-04-01 07:26:12\n",
       "3  1112309728      0z5JW1r 2018-03-02 03:49:53\n",
       "4  1112292169      0z5JW1r 2018-02-19 05:12:24"
      ]
     },
     "execution_count": 34,
     "metadata": {},
     "output_type": "execute_result"
    }
   ],
   "source": [
    "post_totales.head()"
   ]
  },
  {
   "cell_type": "code",
   "execution_count": 35,
   "metadata": {},
   "outputs": [],
   "source": [
    "#post_totales.to_csv('post_totales.csv', index=False)"
   ]
  },
  {
   "cell_type": "code",
   "execution_count": null,
   "metadata": {},
   "outputs": [],
   "source": []
  },
  {
   "cell_type": "code",
   "execution_count": null,
   "metadata": {},
   "outputs": [],
   "source": []
  },
  {
   "cell_type": "code",
   "execution_count": null,
   "metadata": {},
   "outputs": [],
   "source": []
  },
  {
   "cell_type": "markdown",
   "metadata": {},
   "source": [
    "- Mergeo las postulaciones totales con las features"
   ]
  },
  {
   "cell_type": "code",
   "execution_count": 36,
   "metadata": {},
   "outputs": [
    {
     "name": "stdout",
     "output_type": "stream",
     "text": [
      "<class 'pandas.core.frame.DataFrame'>\n",
      "Int64Index: 6603752 entries, 0 to 6603751\n",
      "Data columns (total 16 columns):\n",
      "sepostulo               int64\n",
      "idaviso                 int64\n",
      "idpostulante            object\n",
      "fechapostulacion        datetime64[ns]\n",
      "ultima_vista            datetime64[ns]\n",
      "veces_visto             int64\n",
      "estudios                category\n",
      "estado                  category\n",
      "sexo                    category\n",
      "edad                    int8\n",
      "titulo                  object\n",
      "nombre_zona             category\n",
      "tipo_de_trabajo         category\n",
      "nivel_laboral           category\n",
      "nombre_area             object\n",
      "denominacion_empresa    object\n",
      "dtypes: category(6), datetime64[ns](2), int64(3), int8(1), object(4)\n",
      "memory usage: 547.9+ MB\n"
     ]
    }
   ],
   "source": [
    "post_totales_complete = post_totales.merge(ultima_vista, on=['idaviso', 'idpostulante'], how='left')\n",
    "post_totales_complete = post_totales_complete.merge(vistas_totales_count, on=['idaviso', 'idpostulante'], how='left')\n",
    "post_totales_complete['veces_visto'] = post_totales_complete['veces_visto'].fillna(value=1).astype('int64')\n",
    "post_totales_complete = post_totales_complete.merge(edu_totales, on='idpostulante', how='left')\n",
    "post_totales_complete = post_totales_complete.merge(edad_totales, on='idpostulante', how='left')\n",
    "post_totales_complete = post_totales_complete.merge(avisos_totales, on='idaviso', how='left')\n",
    "post_totales_complete.insert(loc=0, column='sepostulo', value=1)\n",
    "post_totales_complete.info()"
   ]
  },
  {
   "cell_type": "code",
   "execution_count": 37,
   "metadata": {},
   "outputs": [
    {
     "data": {
      "text/html": [
       "<div>\n",
       "<style scoped>\n",
       "    .dataframe tbody tr th:only-of-type {\n",
       "        vertical-align: middle;\n",
       "    }\n",
       "\n",
       "    .dataframe tbody tr th {\n",
       "        vertical-align: top;\n",
       "    }\n",
       "\n",
       "    .dataframe thead th {\n",
       "        text-align: right;\n",
       "    }\n",
       "</style>\n",
       "<table border=\"1\" class=\"dataframe\">\n",
       "  <thead>\n",
       "    <tr style=\"text-align: right;\">\n",
       "      <th></th>\n",
       "      <th>sepostulo</th>\n",
       "      <th>idaviso</th>\n",
       "      <th>idpostulante</th>\n",
       "      <th>fechapostulacion</th>\n",
       "      <th>ultima_vista</th>\n",
       "      <th>veces_visto</th>\n",
       "      <th>estudios</th>\n",
       "      <th>estado</th>\n",
       "      <th>sexo</th>\n",
       "      <th>edad</th>\n",
       "      <th>titulo</th>\n",
       "      <th>nombre_zona</th>\n",
       "      <th>tipo_de_trabajo</th>\n",
       "      <th>nivel_laboral</th>\n",
       "      <th>nombre_area</th>\n",
       "      <th>denominacion_empresa</th>\n",
       "    </tr>\n",
       "  </thead>\n",
       "  <tbody>\n",
       "    <tr>\n",
       "      <th>0</th>\n",
       "      <td>1</td>\n",
       "      <td>1112384041</td>\n",
       "      <td>0z5Dmrd</td>\n",
       "      <td>2018-03-28 16:24:37</td>\n",
       "      <td>2018-03-28 15:58:15</td>\n",
       "      <td>1</td>\n",
       "      <td>Universitario</td>\n",
       "      <td>Graduado</td>\n",
       "      <td>MASC</td>\n",
       "      <td>52</td>\n",
       "      <td>Gerente de RRHH- Para Importante Cadena de Far...</td>\n",
       "      <td>Gran Buenos Aires</td>\n",
       "      <td>Full-time</td>\n",
       "      <td>Senior / Semi-Senior</td>\n",
       "      <td>Recursos Humanos</td>\n",
       "      <td>PilarArtigas</td>\n",
       "    </tr>\n",
       "    <tr>\n",
       "      <th>1</th>\n",
       "      <td>1</td>\n",
       "      <td>1112420060</td>\n",
       "      <td>0z5Dmrd</td>\n",
       "      <td>2018-03-28 16:47:11</td>\n",
       "      <td>2018-03-28 16:25:03</td>\n",
       "      <td>1</td>\n",
       "      <td>Universitario</td>\n",
       "      <td>Graduado</td>\n",
       "      <td>MASC</td>\n",
       "      <td>52</td>\n",
       "      <td>Coordinador/a de RRHH</td>\n",
       "      <td>Gran Buenos Aires</td>\n",
       "      <td>Full-time</td>\n",
       "      <td>Senior / Semi-Senior</td>\n",
       "      <td>Recursos Humanos</td>\n",
       "      <td>Importante Empresa</td>\n",
       "    </tr>\n",
       "    <tr>\n",
       "      <th>2</th>\n",
       "      <td>1</td>\n",
       "      <td>1112428361</td>\n",
       "      <td>0z5JW1r</td>\n",
       "      <td>2018-04-01 07:26:12</td>\n",
       "      <td>2018-04-01 07:23:35</td>\n",
       "      <td>2</td>\n",
       "      <td>Terciario/Técnico</td>\n",
       "      <td>Graduado</td>\n",
       "      <td>MASC</td>\n",
       "      <td>47</td>\n",
       "      <td>Gerente Nacional de Operaciones de Tiendas - R...</td>\n",
       "      <td>Gran Buenos Aires</td>\n",
       "      <td>Full-time</td>\n",
       "      <td>Gerencia / Alta Gerencia / Dirección</td>\n",
       "      <td>Ventas</td>\n",
       "      <td>Complement Group (holding)</td>\n",
       "    </tr>\n",
       "    <tr>\n",
       "      <th>3</th>\n",
       "      <td>1</td>\n",
       "      <td>1112309728</td>\n",
       "      <td>0z5JW1r</td>\n",
       "      <td>2018-03-02 03:49:53</td>\n",
       "      <td>NaT</td>\n",
       "      <td>1</td>\n",
       "      <td>Terciario/Técnico</td>\n",
       "      <td>Graduado</td>\n",
       "      <td>MASC</td>\n",
       "      <td>47</td>\n",
       "      <td>Asesor de Franquicias Gastronómicas</td>\n",
       "      <td>Gran Buenos Aires</td>\n",
       "      <td>Full-time</td>\n",
       "      <td>Senior / Semi-Senior</td>\n",
       "      <td>Gastronomia</td>\n",
       "      <td>Grupo Myth</td>\n",
       "    </tr>\n",
       "    <tr>\n",
       "      <th>4</th>\n",
       "      <td>1</td>\n",
       "      <td>1112292169</td>\n",
       "      <td>0z5JW1r</td>\n",
       "      <td>2018-02-19 05:12:24</td>\n",
       "      <td>NaT</td>\n",
       "      <td>1</td>\n",
       "      <td>Terciario/Técnico</td>\n",
       "      <td>Graduado</td>\n",
       "      <td>MASC</td>\n",
       "      <td>47</td>\n",
       "      <td>Gerente de Operaciones de Franquicias ( Zona N...</td>\n",
       "      <td>Gran Buenos Aires</td>\n",
       "      <td>Full-time</td>\n",
       "      <td>Gerencia / Alta Gerencia / Dirección</td>\n",
       "      <td>Desarrollo de Negocios</td>\n",
       "      <td>Costumbres Argentinas</td>\n",
       "    </tr>\n",
       "  </tbody>\n",
       "</table>\n",
       "</div>"
      ],
      "text/plain": [
       "   sepostulo     idaviso idpostulante    fechapostulacion        ultima_vista  \\\n",
       "0          1  1112384041      0z5Dmrd 2018-03-28 16:24:37 2018-03-28 15:58:15   \n",
       "1          1  1112420060      0z5Dmrd 2018-03-28 16:47:11 2018-03-28 16:25:03   \n",
       "2          1  1112428361      0z5JW1r 2018-04-01 07:26:12 2018-04-01 07:23:35   \n",
       "3          1  1112309728      0z5JW1r 2018-03-02 03:49:53                 NaT   \n",
       "4          1  1112292169      0z5JW1r 2018-02-19 05:12:24                 NaT   \n",
       "\n",
       "   veces_visto           estudios    estado  sexo  edad  \\\n",
       "0            1      Universitario  Graduado  MASC    52   \n",
       "1            1      Universitario  Graduado  MASC    52   \n",
       "2            2  Terciario/Técnico  Graduado  MASC    47   \n",
       "3            1  Terciario/Técnico  Graduado  MASC    47   \n",
       "4            1  Terciario/Técnico  Graduado  MASC    47   \n",
       "\n",
       "                                              titulo        nombre_zona  \\\n",
       "0  Gerente de RRHH- Para Importante Cadena de Far...  Gran Buenos Aires   \n",
       "1                              Coordinador/a de RRHH  Gran Buenos Aires   \n",
       "2  Gerente Nacional de Operaciones de Tiendas - R...  Gran Buenos Aires   \n",
       "3                Asesor de Franquicias Gastronómicas  Gran Buenos Aires   \n",
       "4  Gerente de Operaciones de Franquicias ( Zona N...  Gran Buenos Aires   \n",
       "\n",
       "  tipo_de_trabajo                         nivel_laboral  \\\n",
       "0       Full-time                  Senior / Semi-Senior   \n",
       "1       Full-time                  Senior / Semi-Senior   \n",
       "2       Full-time  Gerencia / Alta Gerencia / Dirección   \n",
       "3       Full-time                  Senior / Semi-Senior   \n",
       "4       Full-time  Gerencia / Alta Gerencia / Dirección   \n",
       "\n",
       "              nombre_area        denominacion_empresa  \n",
       "0        Recursos Humanos                PilarArtigas  \n",
       "1        Recursos Humanos          Importante Empresa  \n",
       "2                  Ventas  Complement Group (holding)  \n",
       "3             Gastronomia                  Grupo Myth  \n",
       "4  Desarrollo de Negocios       Costumbres Argentinas  "
      ]
     },
     "execution_count": 37,
     "metadata": {},
     "output_type": "execute_result"
    }
   ],
   "source": [
    "post_totales_complete.head()"
   ]
  },
  {
   "cell_type": "code",
   "execution_count": 38,
   "metadata": {},
   "outputs": [],
   "source": [
    "#post_totales_complete.to_csv('post_totales_complete.csv', index=False)"
   ]
  },
  {
   "cell_type": "code",
   "execution_count": null,
   "metadata": {},
   "outputs": [],
   "source": []
  },
  {
   "cell_type": "code",
   "execution_count": null,
   "metadata": {},
   "outputs": [],
   "source": []
  },
  {
   "cell_type": "code",
   "execution_count": null,
   "metadata": {},
   "outputs": [],
   "source": []
  },
  {
   "cell_type": "markdown",
   "metadata": {},
   "source": [
    "- Mergeo las no-postulaciones totales con las features"
   ]
  },
  {
   "cell_type": "code",
   "execution_count": 39,
   "metadata": {},
   "outputs": [],
   "source": [
    "no_post_totales = pd.read_csv('no_post_totales.csv')"
   ]
  },
  {
   "cell_type": "code",
   "execution_count": 42,
   "metadata": {},
   "outputs": [
    {
     "name": "stdout",
     "output_type": "stream",
     "text": [
      "<class 'pandas.core.frame.DataFrame'>\n",
      "Int64Index: 6604534 entries, 0 to 6604533\n",
      "Data columns (total 16 columns):\n",
      "sepostulo               int64\n",
      "idaviso                 int64\n",
      "idpostulante            object\n",
      "fechapostulacion        float64\n",
      "ultima_vista            datetime64[ns]\n",
      "veces_visto             int64\n",
      "estudios                category\n",
      "estado                  category\n",
      "sexo                    category\n",
      "edad                    int8\n",
      "titulo                  object\n",
      "nombre_zona             category\n",
      "tipo_de_trabajo         category\n",
      "nivel_laboral           category\n",
      "nombre_area             object\n",
      "denominacion_empresa    object\n",
      "dtypes: category(6), datetime64[ns](1), float64(1), int64(3), int8(1), object(4)\n",
      "memory usage: 548.0+ MB\n"
     ]
    }
   ],
   "source": [
    "no_post_totales_complete = no_post_totales.merge(ultima_vista, on=['idaviso', 'idpostulante'], how='left')\n",
    "no_post_totales_complete = no_post_totales_complete.merge(vistas_totales_count, on=['idaviso', 'idpostulante'], how='left')\n",
    "no_post_totales_complete['veces_visto'] = no_post_totales_complete['veces_visto'].fillna(value=0).astype('int64')\n",
    "no_post_totales_complete = no_post_totales_complete.merge(edu_totales, on='idpostulante', how='left')\n",
    "no_post_totales_complete = no_post_totales_complete.merge(edad_totales, on='idpostulante', how='left')\n",
    "no_post_totales_complete = no_post_totales_complete.merge(avisos_totales, on='idaviso', how='left')\n",
    "no_post_totales_complete.insert(loc=0, column='sepostulo', value=0)\n",
    "no_post_totales_complete.info()"
   ]
  },
  {
   "cell_type": "code",
   "execution_count": 43,
   "metadata": {},
   "outputs": [
    {
     "data": {
      "text/html": [
       "<div>\n",
       "<style scoped>\n",
       "    .dataframe tbody tr th:only-of-type {\n",
       "        vertical-align: middle;\n",
       "    }\n",
       "\n",
       "    .dataframe tbody tr th {\n",
       "        vertical-align: top;\n",
       "    }\n",
       "\n",
       "    .dataframe thead th {\n",
       "        text-align: right;\n",
       "    }\n",
       "</style>\n",
       "<table border=\"1\" class=\"dataframe\">\n",
       "  <thead>\n",
       "    <tr style=\"text-align: right;\">\n",
       "      <th></th>\n",
       "      <th>sepostulo</th>\n",
       "      <th>idaviso</th>\n",
       "      <th>idpostulante</th>\n",
       "      <th>fechapostulacion</th>\n",
       "      <th>ultima_vista</th>\n",
       "      <th>veces_visto</th>\n",
       "      <th>estudios</th>\n",
       "      <th>estado</th>\n",
       "      <th>sexo</th>\n",
       "      <th>edad</th>\n",
       "      <th>titulo</th>\n",
       "      <th>nombre_zona</th>\n",
       "      <th>tipo_de_trabajo</th>\n",
       "      <th>nivel_laboral</th>\n",
       "      <th>nombre_area</th>\n",
       "      <th>denominacion_empresa</th>\n",
       "    </tr>\n",
       "  </thead>\n",
       "  <tbody>\n",
       "    <tr>\n",
       "      <th>0</th>\n",
       "      <td>0</td>\n",
       "      <td>1112320236</td>\n",
       "      <td>0z5Dmrd</td>\n",
       "      <td>NaN</td>\n",
       "      <td>NaT</td>\n",
       "      <td>0</td>\n",
       "      <td>Universitario</td>\n",
       "      <td>Graduado</td>\n",
       "      <td>MASC</td>\n",
       "      <td>52</td>\n",
       "      <td>Cadete Administrativo</td>\n",
       "      <td>Capital Federal</td>\n",
       "      <td>Full-time</td>\n",
       "      <td>Otro</td>\n",
       "      <td>Cadetería</td>\n",
       "      <td>Geosistemas S.R.L.</td>\n",
       "    </tr>\n",
       "    <tr>\n",
       "      <th>1</th>\n",
       "      <td>0</td>\n",
       "      <td>1112216861</td>\n",
       "      <td>0z5Dmrd</td>\n",
       "      <td>NaN</td>\n",
       "      <td>NaT</td>\n",
       "      <td>0</td>\n",
       "      <td>Universitario</td>\n",
       "      <td>Graduado</td>\n",
       "      <td>MASC</td>\n",
       "      <td>52</td>\n",
       "      <td>Asistente Administrativo Z/CABA</td>\n",
       "      <td>Gran Buenos Aires</td>\n",
       "      <td>Part-time</td>\n",
       "      <td>Junior</td>\n",
       "      <td>Recepcionista</td>\n",
       "      <td>Pullmen Servicios Empresarios S.A.</td>\n",
       "    </tr>\n",
       "    <tr>\n",
       "      <th>2</th>\n",
       "      <td>0</td>\n",
       "      <td>1112262555</td>\n",
       "      <td>0z5Dmrd</td>\n",
       "      <td>NaN</td>\n",
       "      <td>NaT</td>\n",
       "      <td>0</td>\n",
       "      <td>Universitario</td>\n",
       "      <td>Graduado</td>\n",
       "      <td>MASC</td>\n",
       "      <td>52</td>\n",
       "      <td>OPERADORES TELEFÓNICOS DE EMPRESAS VINCULADAS</td>\n",
       "      <td>Gran Buenos Aires</td>\n",
       "      <td>Part-time</td>\n",
       "      <td>Senior / Semi-Senior</td>\n",
       "      <td>Atención al Cliente</td>\n",
       "      <td>BBVA Francés</td>\n",
       "    </tr>\n",
       "    <tr>\n",
       "      <th>3</th>\n",
       "      <td>0</td>\n",
       "      <td>1112349612</td>\n",
       "      <td>0z5Dmrd</td>\n",
       "      <td>NaN</td>\n",
       "      <td>NaT</td>\n",
       "      <td>0</td>\n",
       "      <td>Universitario</td>\n",
       "      <td>Graduado</td>\n",
       "      <td>MASC</td>\n",
       "      <td>52</td>\n",
       "      <td>Soporte Técnico TI</td>\n",
       "      <td>Gran Buenos Aires</td>\n",
       "      <td>Full-time</td>\n",
       "      <td>Senior / Semi-Senior</td>\n",
       "      <td>Soporte Técnico</td>\n",
       "      <td>Allkom S.A.</td>\n",
       "    </tr>\n",
       "    <tr>\n",
       "      <th>4</th>\n",
       "      <td>0</td>\n",
       "      <td>1112326950</td>\n",
       "      <td>0z5Dmrd</td>\n",
       "      <td>NaN</td>\n",
       "      <td>NaT</td>\n",
       "      <td>0</td>\n",
       "      <td>Universitario</td>\n",
       "      <td>Graduado</td>\n",
       "      <td>MASC</td>\n",
       "      <td>52</td>\n",
       "      <td>M- Cajeros y repositores zona Caba</td>\n",
       "      <td>Gran Buenos Aires</td>\n",
       "      <td>Full-time</td>\n",
       "      <td>Senior / Semi-Senior</td>\n",
       "      <td>Atención al Cliente</td>\n",
       "      <td>Grupo Gestión</td>\n",
       "    </tr>\n",
       "  </tbody>\n",
       "</table>\n",
       "</div>"
      ],
      "text/plain": [
       "   sepostulo     idaviso idpostulante  fechapostulacion ultima_vista  \\\n",
       "0          0  1112320236      0z5Dmrd               NaN          NaT   \n",
       "1          0  1112216861      0z5Dmrd               NaN          NaT   \n",
       "2          0  1112262555      0z5Dmrd               NaN          NaT   \n",
       "3          0  1112349612      0z5Dmrd               NaN          NaT   \n",
       "4          0  1112326950      0z5Dmrd               NaN          NaT   \n",
       "\n",
       "   veces_visto       estudios    estado  sexo  edad  \\\n",
       "0            0  Universitario  Graduado  MASC    52   \n",
       "1            0  Universitario  Graduado  MASC    52   \n",
       "2            0  Universitario  Graduado  MASC    52   \n",
       "3            0  Universitario  Graduado  MASC    52   \n",
       "4            0  Universitario  Graduado  MASC    52   \n",
       "\n",
       "                                          titulo        nombre_zona  \\\n",
       "0                          Cadete Administrativo    Capital Federal   \n",
       "1                Asistente Administrativo Z/CABA  Gran Buenos Aires   \n",
       "2  OPERADORES TELEFÓNICOS DE EMPRESAS VINCULADAS  Gran Buenos Aires   \n",
       "3                             Soporte Técnico TI  Gran Buenos Aires   \n",
       "4             M- Cajeros y repositores zona Caba  Gran Buenos Aires   \n",
       "\n",
       "  tipo_de_trabajo         nivel_laboral          nombre_area  \\\n",
       "0       Full-time                  Otro            Cadetería   \n",
       "1       Part-time                Junior        Recepcionista   \n",
       "2       Part-time  Senior / Semi-Senior  Atención al Cliente   \n",
       "3       Full-time  Senior / Semi-Senior      Soporte Técnico   \n",
       "4       Full-time  Senior / Semi-Senior  Atención al Cliente   \n",
       "\n",
       "                 denominacion_empresa  \n",
       "0                  Geosistemas S.R.L.  \n",
       "1  Pullmen Servicios Empresarios S.A.  \n",
       "2                        BBVA Francés  \n",
       "3                         Allkom S.A.  \n",
       "4                       Grupo Gestión  "
      ]
     },
     "execution_count": 43,
     "metadata": {},
     "output_type": "execute_result"
    }
   ],
   "source": [
    "no_post_totales_complete.head()"
   ]
  },
  {
   "cell_type": "code",
   "execution_count": 44,
   "metadata": {},
   "outputs": [],
   "source": [
    "#no_post_totales_complete.to_csv('no_post_totales_complete.csv', index=False)"
   ]
  },
  {
   "cell_type": "code",
   "execution_count": null,
   "metadata": {},
   "outputs": [],
   "source": []
  },
  {
   "cell_type": "code",
   "execution_count": null,
   "metadata": {},
   "outputs": [],
   "source": []
  },
  {
   "cell_type": "code",
   "execution_count": null,
   "metadata": {},
   "outputs": [],
   "source": []
  },
  {
   "cell_type": "markdown",
   "metadata": {},
   "source": [
    "- Mergeo el archivo de testing de 100k con las feautres asi ya lo tenemos completo"
   ]
  },
  {
   "cell_type": "code",
   "execution_count": 53,
   "metadata": {},
   "outputs": [
    {
     "name": "stdout",
     "output_type": "stream",
     "text": [
      "<class 'pandas.core.frame.DataFrame'>\n",
      "RangeIndex: 100000 entries, 0 to 99999\n",
      "Data columns (total 3 columns):\n",
      "id              100000 non-null int64\n",
      "idaviso         100000 non-null int64\n",
      "idpostulante    100000 non-null object\n",
      "dtypes: int64(2), object(1)\n",
      "memory usage: 2.3+ MB\n"
     ]
    }
   ],
   "source": [
    "test_final_100k = pd.read_csv('test_final_100k.csv')\n",
    "test_final_100k.info()"
   ]
  },
  {
   "cell_type": "code",
   "execution_count": 54,
   "metadata": {},
   "outputs": [
    {
     "name": "stdout",
     "output_type": "stream",
     "text": [
      "<class 'pandas.core.frame.DataFrame'>\n",
      "Int64Index: 100000 entries, 0 to 99999\n",
      "Data columns (total 16 columns):\n",
      "id                      100000 non-null int64\n",
      "idaviso                 100000 non-null int64\n",
      "idpostulante            100000 non-null object\n",
      "fechapostulacion        100000 non-null object\n",
      "ultima_vista            34161 non-null datetime64[ns]\n",
      "veces_visto             100000 non-null int64\n",
      "estudios                94388 non-null category\n",
      "estado                  94388 non-null category\n",
      "sexo                    100000 non-null category\n",
      "edad                    100000 non-null int8\n",
      "titulo                  100000 non-null object\n",
      "nombre_zona             100000 non-null category\n",
      "tipo_de_trabajo         100000 non-null category\n",
      "nivel_laboral           95569 non-null category\n",
      "nombre_area             100000 non-null object\n",
      "denominacion_empresa    99988 non-null object\n",
      "dtypes: category(6), datetime64[ns](1), int64(3), int8(1), object(5)\n",
      "memory usage: 8.3+ MB\n"
     ]
    }
   ],
   "source": [
    "test_final_100k['fechapostulacion'] = ''\n",
    "test_final_100k = test_final_100k.merge(ultima_vista, on=['idaviso', 'idpostulante'], how='left')\n",
    "test_final_100k = test_final_100k.merge(vistas_totales_count, on=['idaviso', 'idpostulante'], how='left')\n",
    "test_final_100k['veces_visto'] = test_final_100k['veces_visto'].fillna(value=0).astype('int64')\n",
    "test_final_100k = test_final_100k.merge(edu_totales, on='idpostulante', how='left')\n",
    "test_final_100k = test_final_100k.merge(edad_totales, on='idpostulante', how='left')\n",
    "test_final_100k = test_final_100k.merge(avisos_totales, on='idaviso', how='left')\n",
    "test_final_100k.info()"
   ]
  },
  {
   "cell_type": "code",
   "execution_count": 55,
   "metadata": {},
   "outputs": [
    {
     "data": {
      "text/html": [
       "<div>\n",
       "<style scoped>\n",
       "    .dataframe tbody tr th:only-of-type {\n",
       "        vertical-align: middle;\n",
       "    }\n",
       "\n",
       "    .dataframe tbody tr th {\n",
       "        vertical-align: top;\n",
       "    }\n",
       "\n",
       "    .dataframe thead th {\n",
       "        text-align: right;\n",
       "    }\n",
       "</style>\n",
       "<table border=\"1\" class=\"dataframe\">\n",
       "  <thead>\n",
       "    <tr style=\"text-align: right;\">\n",
       "      <th></th>\n",
       "      <th>id</th>\n",
       "      <th>idaviso</th>\n",
       "      <th>idpostulante</th>\n",
       "      <th>fechapostulacion</th>\n",
       "      <th>ultima_vista</th>\n",
       "      <th>veces_visto</th>\n",
       "      <th>estudios</th>\n",
       "      <th>estado</th>\n",
       "      <th>sexo</th>\n",
       "      <th>edad</th>\n",
       "      <th>titulo</th>\n",
       "      <th>nombre_zona</th>\n",
       "      <th>tipo_de_trabajo</th>\n",
       "      <th>nivel_laboral</th>\n",
       "      <th>nombre_area</th>\n",
       "      <th>denominacion_empresa</th>\n",
       "    </tr>\n",
       "  </thead>\n",
       "  <tbody>\n",
       "    <tr>\n",
       "      <th>0</th>\n",
       "      <td>0</td>\n",
       "      <td>739260</td>\n",
       "      <td>6M9ZQR</td>\n",
       "      <td></td>\n",
       "      <td>NaT</td>\n",
       "      <td>0</td>\n",
       "      <td>Doctorado</td>\n",
       "      <td>Graduado</td>\n",
       "      <td>FEM</td>\n",
       "      <td>42</td>\n",
       "      <td>Asistente Comercial</td>\n",
       "      <td>Capital Federal</td>\n",
       "      <td>Full-time</td>\n",
       "      <td>Jefe / Supervisor / Responsable</td>\n",
       "      <td>Comercial</td>\n",
       "      <td>BUMERAN.COM ARGENTINA</td>\n",
       "    </tr>\n",
       "    <tr>\n",
       "      <th>1</th>\n",
       "      <td>1</td>\n",
       "      <td>739260</td>\n",
       "      <td>6v1xdL</td>\n",
       "      <td></td>\n",
       "      <td>NaT</td>\n",
       "      <td>0</td>\n",
       "      <td>Terciario/Técnico</td>\n",
       "      <td>Graduado</td>\n",
       "      <td>MASC</td>\n",
       "      <td>30</td>\n",
       "      <td>Asistente Comercial</td>\n",
       "      <td>Capital Federal</td>\n",
       "      <td>Full-time</td>\n",
       "      <td>Jefe / Supervisor / Responsable</td>\n",
       "      <td>Comercial</td>\n",
       "      <td>BUMERAN.COM ARGENTINA</td>\n",
       "    </tr>\n",
       "    <tr>\n",
       "      <th>2</th>\n",
       "      <td>2</td>\n",
       "      <td>739260</td>\n",
       "      <td>ezRKm9</td>\n",
       "      <td></td>\n",
       "      <td>NaT</td>\n",
       "      <td>0</td>\n",
       "      <td>Universitario</td>\n",
       "      <td>Graduado</td>\n",
       "      <td>FEM</td>\n",
       "      <td>36</td>\n",
       "      <td>Asistente Comercial</td>\n",
       "      <td>Capital Federal</td>\n",
       "      <td>Full-time</td>\n",
       "      <td>Jefe / Supervisor / Responsable</td>\n",
       "      <td>Comercial</td>\n",
       "      <td>BUMERAN.COM ARGENTINA</td>\n",
       "    </tr>\n",
       "    <tr>\n",
       "      <th>3</th>\n",
       "      <td>3</td>\n",
       "      <td>758580</td>\n",
       "      <td>1Q35ej</td>\n",
       "      <td></td>\n",
       "      <td>NaT</td>\n",
       "      <td>0</td>\n",
       "      <td>Posgrado</td>\n",
       "      <td>Graduado</td>\n",
       "      <td>MASC</td>\n",
       "      <td>68</td>\n",
       "      <td>Oracle Financials Sr. Application Developer</td>\n",
       "      <td>Capital Federal</td>\n",
       "      <td>Full-time</td>\n",
       "      <td>Otro</td>\n",
       "      <td>Tecnologia / Sistemas</td>\n",
       "      <td>TeleTech</td>\n",
       "    </tr>\n",
       "    <tr>\n",
       "      <th>4</th>\n",
       "      <td>4</td>\n",
       "      <td>758580</td>\n",
       "      <td>EAN4J6</td>\n",
       "      <td></td>\n",
       "      <td>NaT</td>\n",
       "      <td>0</td>\n",
       "      <td>Universitario</td>\n",
       "      <td>En Curso</td>\n",
       "      <td>FEM</td>\n",
       "      <td>32</td>\n",
       "      <td>Oracle Financials Sr. Application Developer</td>\n",
       "      <td>Capital Federal</td>\n",
       "      <td>Full-time</td>\n",
       "      <td>Otro</td>\n",
       "      <td>Tecnologia / Sistemas</td>\n",
       "      <td>TeleTech</td>\n",
       "    </tr>\n",
       "  </tbody>\n",
       "</table>\n",
       "</div>"
      ],
      "text/plain": [
       "   id  idaviso idpostulante fechapostulacion ultima_vista  veces_visto  \\\n",
       "0   0   739260       6M9ZQR                           NaT            0   \n",
       "1   1   739260       6v1xdL                           NaT            0   \n",
       "2   2   739260       ezRKm9                           NaT            0   \n",
       "3   3   758580       1Q35ej                           NaT            0   \n",
       "4   4   758580       EAN4J6                           NaT            0   \n",
       "\n",
       "            estudios    estado  sexo  edad  \\\n",
       "0          Doctorado  Graduado   FEM    42   \n",
       "1  Terciario/Técnico  Graduado  MASC    30   \n",
       "2      Universitario  Graduado   FEM    36   \n",
       "3           Posgrado  Graduado  MASC    68   \n",
       "4      Universitario  En Curso   FEM    32   \n",
       "\n",
       "                                        titulo      nombre_zona  \\\n",
       "0                          Asistente Comercial  Capital Federal   \n",
       "1                          Asistente Comercial  Capital Federal   \n",
       "2                          Asistente Comercial  Capital Federal   \n",
       "3  Oracle Financials Sr. Application Developer  Capital Federal   \n",
       "4  Oracle Financials Sr. Application Developer  Capital Federal   \n",
       "\n",
       "  tipo_de_trabajo                    nivel_laboral            nombre_area  \\\n",
       "0       Full-time  Jefe / Supervisor / Responsable              Comercial   \n",
       "1       Full-time  Jefe / Supervisor / Responsable              Comercial   \n",
       "2       Full-time  Jefe / Supervisor / Responsable              Comercial   \n",
       "3       Full-time                             Otro  Tecnologia / Sistemas   \n",
       "4       Full-time                             Otro  Tecnologia / Sistemas   \n",
       "\n",
       "    denominacion_empresa  \n",
       "0  BUMERAN.COM ARGENTINA  \n",
       "1  BUMERAN.COM ARGENTINA  \n",
       "2  BUMERAN.COM ARGENTINA  \n",
       "3               TeleTech  \n",
       "4               TeleTech  "
      ]
     },
     "execution_count": 55,
     "metadata": {},
     "output_type": "execute_result"
    }
   ],
   "source": [
    "test_final_100k.head()"
   ]
  },
  {
   "cell_type": "code",
   "execution_count": 56,
   "metadata": {},
   "outputs": [],
   "source": [
    "#test_final_100k.to_csv('test_final_100k_complete.csv', index=False)"
   ]
  }
 ],
 "metadata": {
  "kernelspec": {
   "display_name": "Python 3",
   "language": "python",
   "name": "python3"
  },
  "language_info": {
   "codemirror_mode": {
    "name": "ipython",
    "version": 3
   },
   "file_extension": ".py",
   "mimetype": "text/x-python",
   "name": "python",
   "nbconvert_exporter": "python",
   "pygments_lexer": "ipython3",
   "version": "3.6.4"
  }
 },
 "nbformat": 4,
 "nbformat_minor": 2
}
