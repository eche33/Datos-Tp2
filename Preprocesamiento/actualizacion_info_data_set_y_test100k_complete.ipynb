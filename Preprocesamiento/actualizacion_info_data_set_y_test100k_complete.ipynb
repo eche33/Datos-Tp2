{
 "cells": [
  {
   "cell_type": "code",
   "execution_count": 1,
   "metadata": {},
   "outputs": [],
   "source": [
    "import pandas as pd\n",
    "import numpy as np\n",
    "from datetime import datetime         \n",
    "from sklearn import preprocessing"
   ]
  },
  {
   "cell_type": "code",
   "execution_count": null,
   "metadata": {},
   "outputs": [],
   "source": []
  },
  {
   "cell_type": "markdown",
   "metadata": {},
   "source": [
    "### Cargo datos desactualizados"
   ]
  },
  {
   "cell_type": "code",
   "execution_count": 2,
   "metadata": {},
   "outputs": [
    {
     "name": "stdout",
     "output_type": "stream",
     "text": [
      "<class 'pandas.core.frame.DataFrame'>\n",
      "RangeIndex: 13208286 entries, 0 to 13208285\n",
      "Data columns (total 16 columns):\n",
      "sepostulo               int64\n",
      "idaviso                 int64\n",
      "idpostulante            object\n",
      "fechapostulacion        object\n",
      "ultima_vista            object\n",
      "veces_visto             int64\n",
      "estudios                object\n",
      "estado                  object\n",
      "sexo                    object\n",
      "edad                    int64\n",
      "titulo                  object\n",
      "nombre_zona             object\n",
      "tipo_de_trabajo         object\n",
      "nivel_laboral           object\n",
      "nombre_area             object\n",
      "denominacion_empresa    object\n",
      "dtypes: int64(4), object(12)\n",
      "memory usage: 1.6+ GB\n"
     ]
    }
   ],
   "source": [
    "data_set_complete = pd.read_csv('data_set_complete.csv', na_values={'sexo':'NO_DECLARA'}, low_memory=False)\n",
    "data_set_complete.info()"
   ]
  },
  {
   "cell_type": "code",
   "execution_count": 3,
   "metadata": {},
   "outputs": [
    {
     "name": "stdout",
     "output_type": "stream",
     "text": [
      "<class 'pandas.core.frame.DataFrame'>\n",
      "Int64Index: 11870121 entries, 0 to 13208285\n",
      "Data columns (total 14 columns):\n",
      "sepostulo               int64\n",
      "idaviso                 int64\n",
      "idpostulante            object\n",
      "fechapostulacion        object\n",
      "ultima_vista            object\n",
      "veces_visto             int64\n",
      "sexo                    object\n",
      "edad                    int64\n",
      "titulo                  object\n",
      "nombre_zona             object\n",
      "tipo_de_trabajo         object\n",
      "nivel_laboral           object\n",
      "nombre_area             object\n",
      "denominacion_empresa    object\n",
      "dtypes: int64(4), object(10)\n",
      "memory usage: 1.3+ GB\n"
     ]
    }
   ],
   "source": [
    "#FIltro aquellos con campos nulos, total tengo muchas muestras\n",
    "data_set_complete.dropna(subset=['sexo','edad','nombre_zona','tipo_de_trabajo','nivel_laboral','nombre_area'], inplace=True)\n",
    "\n",
    "data_set_complete.drop(columns=['estudios','estado'], inplace=True)\n",
    "\n",
    "data_set_complete.info()"
   ]
  },
  {
   "cell_type": "code",
   "execution_count": null,
   "metadata": {},
   "outputs": [],
   "source": []
  },
  {
   "cell_type": "markdown",
   "metadata": {},
   "source": [
    "### Concateno toda la info de educacion"
   ]
  },
  {
   "cell_type": "code",
   "execution_count": 4,
   "metadata": {},
   "outputs": [
    {
     "data": {
      "text/html": [
       "<div>\n",
       "<style scoped>\n",
       "    .dataframe tbody tr th:only-of-type {\n",
       "        vertical-align: middle;\n",
       "    }\n",
       "\n",
       "    .dataframe tbody tr th {\n",
       "        vertical-align: top;\n",
       "    }\n",
       "\n",
       "    .dataframe thead th {\n",
       "        text-align: right;\n",
       "    }\n",
       "</style>\n",
       "<table border=\"1\" class=\"dataframe\">\n",
       "  <thead>\n",
       "    <tr style=\"text-align: right;\">\n",
       "      <th></th>\n",
       "      <th>idpostulante</th>\n",
       "      <th>encurso</th>\n",
       "      <th>estudio_encurso</th>\n",
       "      <th>graduado</th>\n",
       "      <th>estudio_graduado</th>\n",
       "    </tr>\n",
       "  </thead>\n",
       "  <tbody>\n",
       "    <tr>\n",
       "      <th>0</th>\n",
       "      <td>0zB028M</td>\n",
       "      <td>Terciario/Técnico</td>\n",
       "      <td>3.0</td>\n",
       "      <td>Otro</td>\n",
       "      <td>2.0</td>\n",
       "    </tr>\n",
       "    <tr>\n",
       "      <th>1</th>\n",
       "      <td>0zB03O9</td>\n",
       "      <td>Terciario/Técnico</td>\n",
       "      <td>3.0</td>\n",
       "      <td>Secundario</td>\n",
       "      <td>1.0</td>\n",
       "    </tr>\n",
       "    <tr>\n",
       "      <th>2</th>\n",
       "      <td>0zB0PLa</td>\n",
       "      <td>Universitario</td>\n",
       "      <td>4.0</td>\n",
       "      <td>Secundario</td>\n",
       "      <td>1.0</td>\n",
       "    </tr>\n",
       "    <tr>\n",
       "      <th>3</th>\n",
       "      <td>0zB0WZE</td>\n",
       "      <td>Universitario</td>\n",
       "      <td>4.0</td>\n",
       "      <td>NaN</td>\n",
       "      <td>NaN</td>\n",
       "    </tr>\n",
       "    <tr>\n",
       "      <th>4</th>\n",
       "      <td>0zB0Xwd</td>\n",
       "      <td>Universitario</td>\n",
       "      <td>4.0</td>\n",
       "      <td>Secundario</td>\n",
       "      <td>1.0</td>\n",
       "    </tr>\n",
       "  </tbody>\n",
       "</table>\n",
       "</div>"
      ],
      "text/plain": [
       "  idpostulante            encurso  estudio_encurso    graduado  \\\n",
       "0      0zB028M  Terciario/Técnico              3.0        Otro   \n",
       "1      0zB03O9  Terciario/Técnico              3.0  Secundario   \n",
       "2      0zB0PLa      Universitario              4.0  Secundario   \n",
       "3      0zB0WZE      Universitario              4.0         NaN   \n",
       "4      0zB0Xwd      Universitario              4.0  Secundario   \n",
       "\n",
       "   estudio_graduado  \n",
       "0               2.0  \n",
       "1               1.0  \n",
       "2               1.0  \n",
       "3               NaN  \n",
       "4               1.0  "
      ]
     },
     "execution_count": 4,
     "metadata": {},
     "output_type": "execute_result"
    }
   ],
   "source": [
    "edu_totales = pd.concat([pd.read_csv('datos_navent_fiuba/fiuba_1_postulantes_educacion.csv'), pd.read_csv('fiuba_hasta_15_abril/fiuba_1_postulantes_educacion.csv'), pd.read_csv('Fiuba desde 15 Abril/fiuba_1_postulantes_educacion.csv')])\n",
    "edu_totales.drop_duplicates(inplace=True)\n",
    "\n",
    "edu_totales = edu_totales.rename(columns={'nombre':'estudios'})\n",
    "edu_totales['estudios'] = edu_totales['estudios'].astype('category')\n",
    "edu_totales['estado'] = edu_totales['estado'].astype('category')\n",
    "\n",
    "#Saco abandonados y me separo graduados de en curso\n",
    "\n",
    "edu_graduados = edu_totales[edu_totales['estado']=='Graduado'].drop(columns='estado')\n",
    "edu_encurso = edu_totales[edu_totales['estado']=='En Curso'].drop(columns='estado')\n",
    "\n",
    "del edu_totales\n",
    "\n",
    "# Creo nuevas columnas indicando el orden del nivel del estudio\n",
    "\n",
    "edu_estudios_list = ['Ninguno','Secundario', 'Otro', 'Terciario/Técnico', 'Universitario', 'Posgrado', 'Master', 'Doctorado']\n",
    "\n",
    "edu_graduados['estudio_graduado'] = edu_graduados['estudios'].apply(lambda x: edu_estudios_list.index(x)).astype('int8')\n",
    "edu_graduados.sort_values('estudio_graduado', ascending=True, inplace=True)\n",
    "edu_graduados.drop_duplicates(subset=['idpostulante'], keep='last', inplace=True)\n",
    "edu_graduados.sort_values(by=['idpostulante'], ascending=True, inplace=True)\n",
    "edu_graduados.rename(columns={'estudios':'graduado'}, inplace=True)\n",
    "edu_graduados.reset_index(drop=True, inplace=True)\n",
    "\n",
    "edu_encurso['estudio_encurso'] = edu_encurso['estudios'].apply(lambda x: edu_estudios_list.index(x)).astype('int8')\n",
    "edu_encurso.sort_values('estudio_encurso', ascending=True, inplace=True)\n",
    "edu_encurso.drop_duplicates(subset=['idpostulante'], keep='last', inplace=True)\n",
    "edu_encurso.sort_values(by=['idpostulante'], ascending=True, inplace=True)\n",
    "edu_encurso.rename(columns={'estudios':'encurso'}, inplace=True)\n",
    "edu_encurso.reset_index(drop=True, inplace=True)\n",
    "\n",
    "edu_totales = pd.merge(edu_encurso, edu_graduados, how='outer', on='idpostulante')\n",
    "\n",
    "del edu_graduados, edu_encurso\n",
    "\n",
    "edu_totales.head()"
   ]
  },
  {
   "cell_type": "code",
   "execution_count": null,
   "metadata": {},
   "outputs": [],
   "source": []
  },
  {
   "cell_type": "markdown",
   "metadata": {},
   "source": [
    "### Concateno todos los set de vistas y calculo cantidad de vistas de cada usuario a cada anuncio"
   ]
  },
  {
   "cell_type": "code",
   "execution_count": 5,
   "metadata": {},
   "outputs": [
    {
     "data": {
      "text/html": [
       "<div>\n",
       "<style scoped>\n",
       "    .dataframe tbody tr th:only-of-type {\n",
       "        vertical-align: middle;\n",
       "    }\n",
       "\n",
       "    .dataframe tbody tr th {\n",
       "        vertical-align: top;\n",
       "    }\n",
       "\n",
       "    .dataframe thead th {\n",
       "        text-align: right;\n",
       "    }\n",
       "</style>\n",
       "<table border=\"1\" class=\"dataframe\">\n",
       "  <thead>\n",
       "    <tr style=\"text-align: right;\">\n",
       "      <th></th>\n",
       "      <th>idaviso</th>\n",
       "      <th>idpostulante</th>\n",
       "      <th>veces_visto</th>\n",
       "    </tr>\n",
       "  </thead>\n",
       "  <tbody>\n",
       "    <tr>\n",
       "      <th>0</th>\n",
       "      <td>18</td>\n",
       "      <td>BolNL</td>\n",
       "      <td>2</td>\n",
       "    </tr>\n",
       "    <tr>\n",
       "      <th>1</th>\n",
       "      <td>48375</td>\n",
       "      <td>RwVdKR</td>\n",
       "      <td>1</td>\n",
       "    </tr>\n",
       "    <tr>\n",
       "      <th>2</th>\n",
       "      <td>169730</td>\n",
       "      <td>1KjXB</td>\n",
       "      <td>2</td>\n",
       "    </tr>\n",
       "    <tr>\n",
       "      <th>3</th>\n",
       "      <td>169730</td>\n",
       "      <td>2AKzxa</td>\n",
       "      <td>2</td>\n",
       "    </tr>\n",
       "    <tr>\n",
       "      <th>4</th>\n",
       "      <td>169730</td>\n",
       "      <td>6LJ64</td>\n",
       "      <td>1</td>\n",
       "    </tr>\n",
       "  </tbody>\n",
       "</table>\n",
       "</div>"
      ],
      "text/plain": [
       "   idaviso idpostulante  veces_visto\n",
       "0       18        BolNL            2\n",
       "1    48375       RwVdKR            1\n",
       "2   169730        1KjXB            2\n",
       "3   169730       2AKzxa            2\n",
       "4   169730        6LJ64            1"
      ]
     },
     "execution_count": 5,
     "metadata": {},
     "output_type": "execute_result"
    }
   ],
   "source": [
    "vistas_totales = pd.concat([pd.read_csv('datos_navent_fiuba/fiuba_3_vistas.csv'), pd.read_csv('fiuba_hasta_15_abril/fiuba_3_vistas.csv'), pd.read_csv('Fiuba desde 15 Abril/fiuba_3_vistas.csv')])\n",
    "\n",
    "def normalize_str(date_str):\n",
    "    return (date_str[:10]+' '+date_str[11:19])\n",
    "    \n",
    "vistas_totales['timestamp'] = vistas_totales['timestamp'].apply(normalize_str)\n",
    "vistas_totales['timestamp'] = pd.to_datetime(vistas_totales['timestamp'])\n",
    "\n",
    "vistas_totales.drop_duplicates(inplace=True)\n",
    "\n",
    "vistas_totales.rename(columns={'idAviso':'idaviso'}, inplace=True)\n",
    "\n",
    "#Calculo cantidad de vistas de cada usuario a cada anuncio\n",
    "\n",
    "vistas_totales_count = vistas_totales.groupby(by=['idaviso', 'idpostulante']).count()\n",
    "vistas_totales_count.reset_index(drop=False, inplace=True)\n",
    "vistas_totales_count.rename(columns={'timestamp':'veces_visto'}, inplace=True)\n",
    "\n",
    "del vistas_totales\n",
    "\n",
    "vistas_totales_count.head()"
   ]
  },
  {
   "cell_type": "code",
   "execution_count": null,
   "metadata": {},
   "outputs": [],
   "source": []
  },
  {
   "cell_type": "markdown",
   "metadata": {},
   "source": [
    "### Incorporo feature cuantas postulaciones totales tuvo ese anuncio, una suerte de \"popularidad del anuncio en terminos de postulaciones\""
   ]
  },
  {
   "cell_type": "code",
   "execution_count": null,
   "metadata": {},
   "outputs": [],
   "source": [
    "post_totales = pd.concat([pd.read_csv('datos_navent_fiuba/fiuba_4_postulaciones.csv'), pd.read_csv('fiuba_hasta_15_abril/fiuba_4_postulaciones.csv')])\n",
    "post_totales.drop(columns='fechapostulacion', inplace=True)\n",
    "post_totales.drop_duplicates(inplace=True)\n",
    "post_totales.reset_index(drop=True, inplace=True)\n",
    "\n",
    "post_por_avisos = post_totales.groupby(by='idaviso').count()\n",
    "post_por_avisos.rename(columns={'idpostulante':'post_x_aviso'},inplace=True)\n",
    "post_por_avisos.sort_values(by=['post_x_aviso'], ascending=False, inplace=True)\n",
    "post_por_avisos.reset_index(drop=False, inplace=True)\n",
    "\n",
    "del post_totales\n",
    "\n",
    "post_por_avisos.head()"
   ]
  },
  {
   "cell_type": "code",
   "execution_count": null,
   "metadata": {},
   "outputs": [],
   "source": []
  },
  {
   "cell_type": "markdown",
   "metadata": {},
   "source": [
    "### Incorporo feature cuantas vistas totales tuvo ese anuncio, una suerte de \"popularidad del anuncio en terminos de vistas\""
   ]
  },
  {
   "cell_type": "code",
   "execution_count": null,
   "metadata": {},
   "outputs": [],
   "source": [
    "vistas_totales = pd.concat([pd.read_csv('datos_navent_fiuba/fiuba_3_vistas.csv'), pd.read_csv('fiuba_hasta_15_abril/fiuba_3_vistas.csv'), pd.read_csv('Fiuba desde 15 Abril/fiuba_3_vistas.csv')])\n",
    "vistas_totales.drop(columns='timestamp', inplace=True)\n",
    "vistas_totales.drop_duplicates(inplace=True)\n",
    "vistas_totales.rename(columns={'idAviso':'idaviso'}, inplace=True)\n",
    "\n",
    "vistas_por_avisos = vistas_totales.groupby(by='idaviso').count()\n",
    "vistas_por_avisos.rename(columns={'idpostulante':'vistas_x_aviso'},inplace=True)\n",
    "vistas_por_avisos.sort_values(by=['vistas_x_aviso'], ascending=False, inplace=True)\n",
    "vistas_por_avisos.reset_index(drop=False, inplace=True)\n",
    "\n",
    "del vistas_totales\n",
    "\n",
    "vistas_por_avisos.head()"
   ]
  },
  {
   "cell_type": "code",
   "execution_count": null,
   "metadata": {},
   "outputs": [],
   "source": []
  },
  {
   "cell_type": "markdown",
   "metadata": {},
   "source": [
    "### Trabajo sobre la data"
   ]
  },
  {
   "cell_type": "code",
   "execution_count": 6,
   "metadata": {},
   "outputs": [],
   "source": [
    "data_set_complete = data_set_complete.merge(edu_totales[['idpostulante','estudio_encurso','estudio_graduado']], on='idpostulante', how='left')\n",
    "\n",
    "data_set_complete['estudio_encurso'] = data_set_complete['estudio_encurso'].fillna(value=0).astype('int8')\n",
    "data_set_complete['estudio_graduado'] = data_set_complete['estudio_graduado'].fillna(value=0).astype('int8')"
   ]
  },
  {
   "cell_type": "code",
   "execution_count": 7,
   "metadata": {},
   "outputs": [
    {
     "data": {
      "text/plain": [
       "Full-time          10065447\n",
       "Part-time           1621257\n",
       "Pasantia              57830\n",
       "Por Horas             42182\n",
       "Temporario            31959\n",
       "Fines de Semana       17557\n",
       "Por Contrato          16748\n",
       "Teletrabajo           12483\n",
       "Primer empleo          4161\n",
       "Voluntario              497\n",
       "Name: tipo_de_trabajo, dtype: int64"
      ]
     },
     "execution_count": 7,
     "metadata": {},
     "output_type": "execute_result"
    }
   ],
   "source": [
    "data_set_complete['tipo_de_trabajo'].value_counts()"
   ]
  },
  {
   "cell_type": "code",
   "execution_count": 8,
   "metadata": {},
   "outputs": [],
   "source": [
    "data_set_complete['tipo_full-time'] = data_set_complete['tipo_de_trabajo'].apply(lambda x: 1 if (x=='Full-time') else 0).astype('int8')\n",
    "data_set_complete['tipo_part-time'] = data_set_complete['tipo_de_trabajo'].apply(lambda x: 1 if (x=='Part-time') else 0).astype('int8')\n",
    "data_set_complete['tipo_otro'] = data_set_complete['tipo_de_trabajo'].apply(lambda x: 1 if ((x != 'Full-time') & (x != 'Part-time')) else 0).astype('int8')"
   ]
  },
  {
   "cell_type": "code",
   "execution_count": 9,
   "metadata": {},
   "outputs": [
    {
     "data": {
      "text/plain": [
       "Gran Buenos Aires    11050092\n",
       "Capital Federal        816960\n",
       "GBA Oeste                3069\n",
       "Name: nombre_zona, dtype: int64"
      ]
     },
     "execution_count": 9,
     "metadata": {},
     "output_type": "execute_result"
    }
   ],
   "source": [
    "data_set_complete['nombre_zona'].value_counts()"
   ]
  },
  {
   "cell_type": "code",
   "execution_count": 10,
   "metadata": {},
   "outputs": [],
   "source": [
    "data_set_complete['zona_gba'] = data_set_complete['nombre_zona'].apply(lambda x: 1 if ((x=='Gran Buenos Aires') or (x=='GBA Oeste')) else 0).astype('int8')\n",
    "data_set_complete['zona_caba'] = data_set_complete['nombre_zona'].apply(lambda x: 1 if (x=='Capital Federal') else 0).astype('int8')\n",
    "\n",
    "data_set_complete.drop(columns='nombre_zona', inplace=True)"
   ]
  },
  {
   "cell_type": "code",
   "execution_count": 11,
   "metadata": {},
   "outputs": [
    {
     "data": {
      "text/plain": [
       "Senior / Semi-Senior                    7746295\n",
       "Junior                                  2675548\n",
       "Otro                                     993384\n",
       "Jefe / Supervisor / Responsable          367077\n",
       "Gerencia / Alta Gerencia / Dirección      87817\n",
       "Name: nivel_laboral, dtype: int64"
      ]
     },
     "execution_count": 11,
     "metadata": {},
     "output_type": "execute_result"
    }
   ],
   "source": [
    "data_set_complete['nivel_laboral'].value_counts()"
   ]
  },
  {
   "cell_type": "code",
   "execution_count": 12,
   "metadata": {},
   "outputs": [],
   "source": [
    "data_set_complete['nivel_senior'] = data_set_complete['nivel_laboral'].apply(lambda x: 1 if (x=='Senior / Semi-Senior') else 0).astype('int8')\n",
    "data_set_complete['nivel_junior'] = data_set_complete['nivel_laboral'].apply(lambda x: 1 if (x=='Junior') else 0).astype('int8')\n",
    "data_set_complete['nivel_otro'] = data_set_complete['nivel_laboral'].apply(lambda x: 1 if (x=='Otro') else 0).astype('int8')\n",
    "data_set_complete['nivel_jefe'] = data_set_complete['nivel_laboral'].apply(lambda x: 1 if (x=='Jefe / Supervisor / Responsable') else 0).astype('int8')\n",
    "data_set_complete['nivel_gerente'] = data_set_complete['nivel_laboral'].apply(lambda x: 1 if (x=='Gerencia / Alta Gerencia / Dirección') else 0).astype('int8')"
   ]
  },
  {
   "cell_type": "code",
   "execution_count": 13,
   "metadata": {},
   "outputs": [],
   "source": [
    "data_set_complete['sexo'] = data_set_complete['sexo'].apply(lambda x: 1 if (x=='MASC') else 0).astype('int8')"
   ]
  },
  {
   "cell_type": "markdown",
   "metadata": {},
   "source": [
    "- Vuelvo a calcular y a mergear las veces_visto de cada user a cada anuncio, ya que en inexistentes no vamos a suponer 1 vista default a los postulantes porque overfitea"
   ]
  },
  {
   "cell_type": "code",
   "execution_count": 14,
   "metadata": {},
   "outputs": [],
   "source": [
    "data_set_complete['veces_visto'] = (pd.merge(data_set_complete[['idaviso','idpostulante']], vistas_totales_count, on=['idaviso', 'idpostulante'], how='left'))['veces_visto']\n",
    "data_set_complete['veces_visto'].fillna(value=0, inplace=True)\n",
    "data_set_complete['veces_visto'] = data_set_complete['veces_visto'].astype('int16')\n",
    "data_set_complete.reset_index(drop=True, inplace=True)"
   ]
  },
  {
   "cell_type": "code",
   "execution_count": null,
   "metadata": {},
   "outputs": [],
   "source": [
    "data_set_complete = data_set_complete.merge(post_por_avisos, how='left', on='idaviso')\n",
    "\n",
    "if(data_set_complete['post_x_aviso'].hasnans):\n",
    "    data_set_complete['post_x_aviso'].fillna(value=0, inplace=True)\n",
    "\n",
    "data_set_complete['post_x_aviso'] = data_set_complete['post_x_aviso'].astype(int)"
   ]
  },
  {
   "cell_type": "code",
   "execution_count": null,
   "metadata": {},
   "outputs": [],
   "source": [
    "data_set_complete = data_set_complete.merge(vistas_por_avisos, how='left', on='idaviso')\n",
    "\n",
    "if(data_set_complete['vistas_x_aviso'].hasnans):\n",
    "    data_set_complete['vistas_x_aviso'].fillna(value=0, inplace=True)\n",
    "\n",
    "data_set_complete['vistas_x_aviso'] = data_set_complete['vistas_x_aviso'].astype(int)"
   ]
  },
  {
   "cell_type": "code",
   "execution_count": 15,
   "metadata": {},
   "outputs": [
    {
     "data": {
      "text/html": [
       "<div>\n",
       "<style scoped>\n",
       "    .dataframe tbody tr th:only-of-type {\n",
       "        vertical-align: middle;\n",
       "    }\n",
       "\n",
       "    .dataframe tbody tr th {\n",
       "        vertical-align: top;\n",
       "    }\n",
       "\n",
       "    .dataframe thead th {\n",
       "        text-align: right;\n",
       "    }\n",
       "</style>\n",
       "<table border=\"1\" class=\"dataframe\">\n",
       "  <thead>\n",
       "    <tr style=\"text-align: right;\">\n",
       "      <th></th>\n",
       "      <th>sepostulo</th>\n",
       "      <th>idaviso</th>\n",
       "      <th>idpostulante</th>\n",
       "      <th>fechapostulacion</th>\n",
       "      <th>ultima_vista</th>\n",
       "      <th>veces_visto</th>\n",
       "      <th>sexo</th>\n",
       "      <th>edad</th>\n",
       "      <th>titulo</th>\n",
       "      <th>tipo_de_trabajo</th>\n",
       "      <th>...</th>\n",
       "      <th>tipo_full-time</th>\n",
       "      <th>tipo_part-time</th>\n",
       "      <th>tipo_otro</th>\n",
       "      <th>zona_gba</th>\n",
       "      <th>zona_caba</th>\n",
       "      <th>nivel_senior</th>\n",
       "      <th>nivel_junior</th>\n",
       "      <th>nivel_otro</th>\n",
       "      <th>nivel_jefe</th>\n",
       "      <th>nivel_gerente</th>\n",
       "    </tr>\n",
       "  </thead>\n",
       "  <tbody>\n",
       "    <tr>\n",
       "      <th>0</th>\n",
       "      <td>1</td>\n",
       "      <td>1112384041</td>\n",
       "      <td>0z5Dmrd</td>\n",
       "      <td>2018-03-28 16:24:37</td>\n",
       "      <td>2018-03-28 15:58:15</td>\n",
       "      <td>1</td>\n",
       "      <td>1</td>\n",
       "      <td>52</td>\n",
       "      <td>Gerente de RRHH- Para Importante Cadena de Far...</td>\n",
       "      <td>Full-time</td>\n",
       "      <td>...</td>\n",
       "      <td>1</td>\n",
       "      <td>0</td>\n",
       "      <td>0</td>\n",
       "      <td>1</td>\n",
       "      <td>0</td>\n",
       "      <td>1</td>\n",
       "      <td>0</td>\n",
       "      <td>0</td>\n",
       "      <td>0</td>\n",
       "      <td>0</td>\n",
       "    </tr>\n",
       "    <tr>\n",
       "      <th>1</th>\n",
       "      <td>1</td>\n",
       "      <td>1112420060</td>\n",
       "      <td>0z5Dmrd</td>\n",
       "      <td>2018-03-28 16:47:11</td>\n",
       "      <td>2018-03-28 16:25:03</td>\n",
       "      <td>1</td>\n",
       "      <td>1</td>\n",
       "      <td>52</td>\n",
       "      <td>Coordinador/a de RRHH</td>\n",
       "      <td>Full-time</td>\n",
       "      <td>...</td>\n",
       "      <td>1</td>\n",
       "      <td>0</td>\n",
       "      <td>0</td>\n",
       "      <td>1</td>\n",
       "      <td>0</td>\n",
       "      <td>1</td>\n",
       "      <td>0</td>\n",
       "      <td>0</td>\n",
       "      <td>0</td>\n",
       "      <td>0</td>\n",
       "    </tr>\n",
       "    <tr>\n",
       "      <th>2</th>\n",
       "      <td>1</td>\n",
       "      <td>1112428361</td>\n",
       "      <td>0z5JW1r</td>\n",
       "      <td>2018-04-01 07:26:12</td>\n",
       "      <td>2018-04-01 07:23:35</td>\n",
       "      <td>2</td>\n",
       "      <td>1</td>\n",
       "      <td>47</td>\n",
       "      <td>Gerente Nacional de Operaciones de Tiendas - R...</td>\n",
       "      <td>Full-time</td>\n",
       "      <td>...</td>\n",
       "      <td>1</td>\n",
       "      <td>0</td>\n",
       "      <td>0</td>\n",
       "      <td>1</td>\n",
       "      <td>0</td>\n",
       "      <td>0</td>\n",
       "      <td>0</td>\n",
       "      <td>0</td>\n",
       "      <td>0</td>\n",
       "      <td>1</td>\n",
       "    </tr>\n",
       "    <tr>\n",
       "      <th>3</th>\n",
       "      <td>1</td>\n",
       "      <td>1112309728</td>\n",
       "      <td>0z5JW1r</td>\n",
       "      <td>2018-03-02 03:49:53</td>\n",
       "      <td>NaN</td>\n",
       "      <td>0</td>\n",
       "      <td>1</td>\n",
       "      <td>47</td>\n",
       "      <td>Asesor de Franquicias Gastronómicas</td>\n",
       "      <td>Full-time</td>\n",
       "      <td>...</td>\n",
       "      <td>1</td>\n",
       "      <td>0</td>\n",
       "      <td>0</td>\n",
       "      <td>1</td>\n",
       "      <td>0</td>\n",
       "      <td>1</td>\n",
       "      <td>0</td>\n",
       "      <td>0</td>\n",
       "      <td>0</td>\n",
       "      <td>0</td>\n",
       "    </tr>\n",
       "    <tr>\n",
       "      <th>4</th>\n",
       "      <td>1</td>\n",
       "      <td>1112292169</td>\n",
       "      <td>0z5JW1r</td>\n",
       "      <td>2018-02-19 05:12:24</td>\n",
       "      <td>NaN</td>\n",
       "      <td>0</td>\n",
       "      <td>1</td>\n",
       "      <td>47</td>\n",
       "      <td>Gerente de Operaciones de Franquicias ( Zona N...</td>\n",
       "      <td>Full-time</td>\n",
       "      <td>...</td>\n",
       "      <td>1</td>\n",
       "      <td>0</td>\n",
       "      <td>0</td>\n",
       "      <td>1</td>\n",
       "      <td>0</td>\n",
       "      <td>0</td>\n",
       "      <td>0</td>\n",
       "      <td>0</td>\n",
       "      <td>0</td>\n",
       "      <td>1</td>\n",
       "    </tr>\n",
       "  </tbody>\n",
       "</table>\n",
       "<p>5 rows × 25 columns</p>\n",
       "</div>"
      ],
      "text/plain": [
       "   sepostulo     idaviso idpostulante     fechapostulacion  \\\n",
       "0          1  1112384041      0z5Dmrd  2018-03-28 16:24:37   \n",
       "1          1  1112420060      0z5Dmrd  2018-03-28 16:47:11   \n",
       "2          1  1112428361      0z5JW1r  2018-04-01 07:26:12   \n",
       "3          1  1112309728      0z5JW1r  2018-03-02 03:49:53   \n",
       "4          1  1112292169      0z5JW1r  2018-02-19 05:12:24   \n",
       "\n",
       "          ultima_vista  veces_visto  sexo  edad  \\\n",
       "0  2018-03-28 15:58:15            1     1    52   \n",
       "1  2018-03-28 16:25:03            1     1    52   \n",
       "2  2018-04-01 07:23:35            2     1    47   \n",
       "3                  NaN            0     1    47   \n",
       "4                  NaN            0     1    47   \n",
       "\n",
       "                                              titulo tipo_de_trabajo  \\\n",
       "0  Gerente de RRHH- Para Importante Cadena de Far...       Full-time   \n",
       "1                              Coordinador/a de RRHH       Full-time   \n",
       "2  Gerente Nacional de Operaciones de Tiendas - R...       Full-time   \n",
       "3                Asesor de Franquicias Gastronómicas       Full-time   \n",
       "4  Gerente de Operaciones de Franquicias ( Zona N...       Full-time   \n",
       "\n",
       "       ...       tipo_full-time tipo_part-time tipo_otro  zona_gba  zona_caba  \\\n",
       "0      ...                    1              0         0         1          0   \n",
       "1      ...                    1              0         0         1          0   \n",
       "2      ...                    1              0         0         1          0   \n",
       "3      ...                    1              0         0         1          0   \n",
       "4      ...                    1              0         0         1          0   \n",
       "\n",
       "   nivel_senior  nivel_junior  nivel_otro  nivel_jefe  nivel_gerente  \n",
       "0             1             0           0           0              0  \n",
       "1             1             0           0           0              0  \n",
       "2             0             0           0           0              1  \n",
       "3             1             0           0           0              0  \n",
       "4             0             0           0           0              1  \n",
       "\n",
       "[5 rows x 25 columns]"
      ]
     },
     "execution_count": 15,
     "metadata": {},
     "output_type": "execute_result"
    }
   ],
   "source": [
    "data_set_complete.head()"
   ]
  },
  {
   "cell_type": "code",
   "execution_count": 16,
   "metadata": {},
   "outputs": [
    {
     "name": "stdout",
     "output_type": "stream",
     "text": [
      "<class 'pandas.core.frame.DataFrame'>\n",
      "RangeIndex: 11870121 entries, 0 to 11870120\n",
      "Data columns (total 25 columns):\n",
      "sepostulo               int64\n",
      "idaviso                 int64\n",
      "idpostulante            object\n",
      "fechapostulacion        object\n",
      "ultima_vista            object\n",
      "veces_visto             int16\n",
      "sexo                    int8\n",
      "edad                    int64\n",
      "titulo                  object\n",
      "tipo_de_trabajo         object\n",
      "nivel_laboral           object\n",
      "nombre_area             object\n",
      "denominacion_empresa    object\n",
      "estudio_encurso         int8\n",
      "estudio_graduado        int8\n",
      "tipo_full-time          int8\n",
      "tipo_part-time          int8\n",
      "tipo_otro               int8\n",
      "zona_gba                int8\n",
      "zona_caba               int8\n",
      "nivel_senior            int8\n",
      "nivel_junior            int8\n",
      "nivel_otro              int8\n",
      "nivel_jefe              int8\n",
      "nivel_gerente           int8\n",
      "dtypes: int16(1), int64(3), int8(13), object(8)\n",
      "memory usage: 1.1+ GB\n"
     ]
    }
   ],
   "source": [
    "data_set_complete.info()"
   ]
  },
  {
   "cell_type": "code",
   "execution_count": 17,
   "metadata": {},
   "outputs": [],
   "source": [
    "#data_set_complete.to_csv('data_set_complete_v2.csv', index=False)"
   ]
  },
  {
   "cell_type": "code",
   "execution_count": null,
   "metadata": {},
   "outputs": [],
   "source": []
  },
  {
   "cell_type": "code",
   "execution_count": null,
   "metadata": {},
   "outputs": [],
   "source": []
  },
  {
   "cell_type": "code",
   "execution_count": null,
   "metadata": {},
   "outputs": [],
   "source": []
  },
  {
   "cell_type": "markdown",
   "metadata": {},
   "source": [
    "### Actualizo tambien la info del test100k"
   ]
  },
  {
   "cell_type": "code",
   "execution_count": 20,
   "metadata": {},
   "outputs": [],
   "source": [
    "test100k = pd.read_csv('test_final_100k_complete.csv', low_memory=False)\n",
    "\n",
    "aux = ['MASC', 'FEM']\n",
    "test100k['sexo'] = test100k['sexo'].apply(lambda x: aux[np.random.randint(2)] if (x == 'NO_DECLARA') else x)\n",
    "del aux\n",
    "\n",
    "test100k.drop(columns=['estudios','estado'], inplace=True)"
   ]
  },
  {
   "cell_type": "code",
   "execution_count": 30,
   "metadata": {},
   "outputs": [
    {
     "data": {
      "text/plain": [
       "(False, False, True, False)"
      ]
     },
     "execution_count": 30,
     "metadata": {},
     "output_type": "execute_result"
    }
   ],
   "source": [
    "test100k['sexo'].hasnans, test100k['nombre_zona'].hasnans, test100k['tipo_de_trabajo'].hasnans, test100k['nivel_laboral'].hasnans, test100k['nombre_area'].hasnans"
   ]
  },
  {
   "cell_type": "code",
   "execution_count": 32,
   "metadata": {},
   "outputs": [],
   "source": [
    "test100k['nivel_laboral'].fillna(value='Senior / Semi-Senior',inplace=True)"
   ]
  },
  {
   "cell_type": "code",
   "execution_count": 34,
   "metadata": {},
   "outputs": [],
   "source": [
    "test100k = test100k.merge(edu_totales[['idpostulante','estudio_encurso','estudio_graduado']], on='idpostulante', how='left')\n",
    "\n",
    "test100k['estudio_encurso'] = test100k['estudio_encurso'].fillna(value=0).astype('int8')\n",
    "test100k['estudio_graduado'] = test100k['estudio_graduado'].fillna(value=0).astype('int8')"
   ]
  },
  {
   "cell_type": "code",
   "execution_count": 37,
   "metadata": {},
   "outputs": [],
   "source": [
    "test100k['tipo_full-time'] = test100k['tipo_de_trabajo'].apply(lambda x: 1 if (x=='Full-time') else 0).astype('int8')\n",
    "test100k['tipo_part-time'] = test100k['tipo_de_trabajo'].apply(lambda x: 1 if (x=='Part-time') else 0).astype('int8')\n",
    "test100k['tipo_otro'] = test100k['tipo_de_trabajo'].apply(lambda x: 1 if ((x != 'Full-time') & (x != 'Part-time')) else 0).astype('int8')"
   ]
  },
  {
   "cell_type": "code",
   "execution_count": 43,
   "metadata": {},
   "outputs": [
    {
     "data": {
      "text/plain": [
       "Gran Buenos Aires              88258\n",
       "Capital Federal                11065\n",
       "Buenos Aires (fuera de GBA)      408\n",
       "Cordoba                          119\n",
       "GBA Oeste                         79\n",
       "La Plata                          13\n",
       "Ciudad de Mendoza                 11\n",
       "Corrientes                         9\n",
       "Mendoza                            9\n",
       "Rosario                            7\n",
       "San Juan                           4\n",
       "Santa Cruz                         4\n",
       "Tucuman                            4\n",
       "Santa Fe                           4\n",
       "Neuquen                            3\n",
       "Catamarca                          3\n",
       "Name: nombre_zona, dtype: int64"
      ]
     },
     "execution_count": 43,
     "metadata": {},
     "output_type": "execute_result"
    }
   ],
   "source": [
    "test100k['nombre_zona'].value_counts()"
   ]
  },
  {
   "cell_type": "code",
   "execution_count": 45,
   "metadata": {},
   "outputs": [],
   "source": [
    "test100k['zona_gba'] = test100k['nombre_zona'].apply(lambda x: 1 if (x != 'Capital Federal') else 0).astype('int8')\n",
    "test100k['zona_caba'] = test100k['nombre_zona'].apply(lambda x: 1 if (x == 'Capital Federal') else 0).astype('int8')\n",
    "\n",
    "test100k.drop(columns='nombre_zona', inplace=True)"
   ]
  },
  {
   "cell_type": "code",
   "execution_count": 46,
   "metadata": {},
   "outputs": [],
   "source": [
    "test100k['nivel_senior'] = test100k['nivel_laboral'].apply(lambda x: 1 if (x=='Senior / Semi-Senior') else 0).astype('int8')\n",
    "test100k['nivel_junior'] = test100k['nivel_laboral'].apply(lambda x: 1 if (x=='Junior') else 0).astype('int8')\n",
    "test100k['nivel_otro'] = test100k['nivel_laboral'].apply(lambda x: 1 if (x=='Otro') else 0).astype('int8')\n",
    "test100k['nivel_jefe'] = test100k['nivel_laboral'].apply(lambda x: 1 if (x=='Jefe / Supervisor / Responsable') else 0).astype('int8')\n",
    "test100k['nivel_gerente'] = test100k['nivel_laboral'].apply(lambda x: 1 if (x=='Gerencia / Alta Gerencia / Dirección') else 0).astype('int8')"
   ]
  },
  {
   "cell_type": "code",
   "execution_count": 47,
   "metadata": {},
   "outputs": [],
   "source": [
    "test100k['sexo'] = test100k['sexo'].apply(lambda x: 1 if (x=='MASC') else 0).astype('int8')"
   ]
  },
  {
   "cell_type": "code",
   "execution_count": null,
   "metadata": {},
   "outputs": [],
   "source": [
    "test100k['veces_visto'] = (pd.merge(test100k[['idaviso','idpostulante']], vistas_totales_count, on=['idaviso', 'idpostulante'], how='left'))['veces_visto']\n",
    "test100k['veces_visto'].fillna(value=0, inplace=True)\n",
    "test100k['veces_visto'] = test100k['veces_visto'].astype('int16')\n",
    "test100k.reset_index(drop=True, inplace=True)"
   ]
  },
  {
   "cell_type": "code",
   "execution_count": null,
   "metadata": {},
   "outputs": [],
   "source": [
    "test100k = test100k.merge(post_por_avisos, how='left', on='idaviso')\n",
    "\n",
    "if(test100k['post_x_aviso'].hasnans):\n",
    "    test100k['post_x_aviso'].fillna(value=0, inplace=True)\n",
    "\n",
    "test100k['post_x_aviso'] = test100k['post_x_aviso'].astype(int)"
   ]
  },
  {
   "cell_type": "code",
   "execution_count": null,
   "metadata": {},
   "outputs": [],
   "source": [
    "test100k = test100k.merge(vistas_por_avisos, how='left', on='idaviso')\n",
    "\n",
    "if(test100k['vistas_x_aviso'].hasnans):\n",
    "    test100k['vistas_x_aviso'].fillna(value=0, inplace=True)\n",
    "\n",
    "test100k['vistas_x_aviso'] = test100k['vistas_x_aviso'].astype(int)"
   ]
  },
  {
   "cell_type": "code",
   "execution_count": 48,
   "metadata": {},
   "outputs": [
    {
     "data": {
      "text/html": [
       "<div>\n",
       "<style scoped>\n",
       "    .dataframe tbody tr th:only-of-type {\n",
       "        vertical-align: middle;\n",
       "    }\n",
       "\n",
       "    .dataframe tbody tr th {\n",
       "        vertical-align: top;\n",
       "    }\n",
       "\n",
       "    .dataframe thead th {\n",
       "        text-align: right;\n",
       "    }\n",
       "</style>\n",
       "<table border=\"1\" class=\"dataframe\">\n",
       "  <thead>\n",
       "    <tr style=\"text-align: right;\">\n",
       "      <th></th>\n",
       "      <th>id</th>\n",
       "      <th>idaviso</th>\n",
       "      <th>idpostulante</th>\n",
       "      <th>fechapostulacion</th>\n",
       "      <th>ultima_vista</th>\n",
       "      <th>veces_visto</th>\n",
       "      <th>sexo</th>\n",
       "      <th>edad</th>\n",
       "      <th>titulo</th>\n",
       "      <th>tipo_de_trabajo</th>\n",
       "      <th>...</th>\n",
       "      <th>tipo_full-time</th>\n",
       "      <th>tipo_part-time</th>\n",
       "      <th>tipo_otro</th>\n",
       "      <th>zona_gba</th>\n",
       "      <th>zona_caba</th>\n",
       "      <th>nivel_senior</th>\n",
       "      <th>nivel_junior</th>\n",
       "      <th>nivel_otro</th>\n",
       "      <th>nivel_jefe</th>\n",
       "      <th>nivel_gerente</th>\n",
       "    </tr>\n",
       "  </thead>\n",
       "  <tbody>\n",
       "    <tr>\n",
       "      <th>0</th>\n",
       "      <td>0</td>\n",
       "      <td>739260</td>\n",
       "      <td>6M9ZQR</td>\n",
       "      <td>NaN</td>\n",
       "      <td>NaN</td>\n",
       "      <td>0</td>\n",
       "      <td>0</td>\n",
       "      <td>42</td>\n",
       "      <td>Asistente Comercial</td>\n",
       "      <td>Full-time</td>\n",
       "      <td>...</td>\n",
       "      <td>1</td>\n",
       "      <td>0</td>\n",
       "      <td>0</td>\n",
       "      <td>0</td>\n",
       "      <td>1</td>\n",
       "      <td>0</td>\n",
       "      <td>0</td>\n",
       "      <td>0</td>\n",
       "      <td>1</td>\n",
       "      <td>0</td>\n",
       "    </tr>\n",
       "    <tr>\n",
       "      <th>1</th>\n",
       "      <td>1</td>\n",
       "      <td>739260</td>\n",
       "      <td>6v1xdL</td>\n",
       "      <td>NaN</td>\n",
       "      <td>NaN</td>\n",
       "      <td>0</td>\n",
       "      <td>1</td>\n",
       "      <td>30</td>\n",
       "      <td>Asistente Comercial</td>\n",
       "      <td>Full-time</td>\n",
       "      <td>...</td>\n",
       "      <td>1</td>\n",
       "      <td>0</td>\n",
       "      <td>0</td>\n",
       "      <td>0</td>\n",
       "      <td>1</td>\n",
       "      <td>0</td>\n",
       "      <td>0</td>\n",
       "      <td>0</td>\n",
       "      <td>1</td>\n",
       "      <td>0</td>\n",
       "    </tr>\n",
       "    <tr>\n",
       "      <th>2</th>\n",
       "      <td>2</td>\n",
       "      <td>739260</td>\n",
       "      <td>ezRKm9</td>\n",
       "      <td>NaN</td>\n",
       "      <td>NaN</td>\n",
       "      <td>0</td>\n",
       "      <td>0</td>\n",
       "      <td>36</td>\n",
       "      <td>Asistente Comercial</td>\n",
       "      <td>Full-time</td>\n",
       "      <td>...</td>\n",
       "      <td>1</td>\n",
       "      <td>0</td>\n",
       "      <td>0</td>\n",
       "      <td>0</td>\n",
       "      <td>1</td>\n",
       "      <td>0</td>\n",
       "      <td>0</td>\n",
       "      <td>0</td>\n",
       "      <td>1</td>\n",
       "      <td>0</td>\n",
       "    </tr>\n",
       "    <tr>\n",
       "      <th>3</th>\n",
       "      <td>3</td>\n",
       "      <td>758580</td>\n",
       "      <td>1Q35ej</td>\n",
       "      <td>NaN</td>\n",
       "      <td>NaN</td>\n",
       "      <td>0</td>\n",
       "      <td>1</td>\n",
       "      <td>68</td>\n",
       "      <td>Oracle Financials Sr. Application Developer</td>\n",
       "      <td>Full-time</td>\n",
       "      <td>...</td>\n",
       "      <td>1</td>\n",
       "      <td>0</td>\n",
       "      <td>0</td>\n",
       "      <td>0</td>\n",
       "      <td>1</td>\n",
       "      <td>0</td>\n",
       "      <td>0</td>\n",
       "      <td>1</td>\n",
       "      <td>0</td>\n",
       "      <td>0</td>\n",
       "    </tr>\n",
       "    <tr>\n",
       "      <th>4</th>\n",
       "      <td>4</td>\n",
       "      <td>758580</td>\n",
       "      <td>EAN4J6</td>\n",
       "      <td>NaN</td>\n",
       "      <td>NaN</td>\n",
       "      <td>0</td>\n",
       "      <td>0</td>\n",
       "      <td>32</td>\n",
       "      <td>Oracle Financials Sr. Application Developer</td>\n",
       "      <td>Full-time</td>\n",
       "      <td>...</td>\n",
       "      <td>1</td>\n",
       "      <td>0</td>\n",
       "      <td>0</td>\n",
       "      <td>0</td>\n",
       "      <td>1</td>\n",
       "      <td>0</td>\n",
       "      <td>0</td>\n",
       "      <td>1</td>\n",
       "      <td>0</td>\n",
       "      <td>0</td>\n",
       "    </tr>\n",
       "  </tbody>\n",
       "</table>\n",
       "<p>5 rows × 25 columns</p>\n",
       "</div>"
      ],
      "text/plain": [
       "   id  idaviso idpostulante  fechapostulacion ultima_vista  veces_visto  sexo  \\\n",
       "0   0   739260       6M9ZQR               NaN          NaN            0     0   \n",
       "1   1   739260       6v1xdL               NaN          NaN            0     1   \n",
       "2   2   739260       ezRKm9               NaN          NaN            0     0   \n",
       "3   3   758580       1Q35ej               NaN          NaN            0     1   \n",
       "4   4   758580       EAN4J6               NaN          NaN            0     0   \n",
       "\n",
       "   edad                                       titulo tipo_de_trabajo  \\\n",
       "0    42                          Asistente Comercial       Full-time   \n",
       "1    30                          Asistente Comercial       Full-time   \n",
       "2    36                          Asistente Comercial       Full-time   \n",
       "3    68  Oracle Financials Sr. Application Developer       Full-time   \n",
       "4    32  Oracle Financials Sr. Application Developer       Full-time   \n",
       "\n",
       "       ...       tipo_full-time tipo_part-time tipo_otro  zona_gba  zona_caba  \\\n",
       "0      ...                    1              0         0         0          1   \n",
       "1      ...                    1              0         0         0          1   \n",
       "2      ...                    1              0         0         0          1   \n",
       "3      ...                    1              0         0         0          1   \n",
       "4      ...                    1              0         0         0          1   \n",
       "\n",
       "   nivel_senior  nivel_junior  nivel_otro  nivel_jefe  nivel_gerente  \n",
       "0             0             0           0           1              0  \n",
       "1             0             0           0           1              0  \n",
       "2             0             0           0           1              0  \n",
       "3             0             0           1           0              0  \n",
       "4             0             0           1           0              0  \n",
       "\n",
       "[5 rows x 25 columns]"
      ]
     },
     "execution_count": 48,
     "metadata": {},
     "output_type": "execute_result"
    }
   ],
   "source": [
    "test100k.head()"
   ]
  },
  {
   "cell_type": "code",
   "execution_count": 49,
   "metadata": {},
   "outputs": [
    {
     "name": "stdout",
     "output_type": "stream",
     "text": [
      "<class 'pandas.core.frame.DataFrame'>\n",
      "RangeIndex: 100000 entries, 0 to 99999\n",
      "Data columns (total 25 columns):\n",
      "id                      100000 non-null int64\n",
      "idaviso                 100000 non-null int64\n",
      "idpostulante            100000 non-null object\n",
      "fechapostulacion        0 non-null float64\n",
      "ultima_vista            34161 non-null object\n",
      "veces_visto             100000 non-null int16\n",
      "sexo                    100000 non-null int8\n",
      "edad                    100000 non-null int64\n",
      "titulo                  100000 non-null object\n",
      "tipo_de_trabajo         100000 non-null object\n",
      "nivel_laboral           100000 non-null object\n",
      "nombre_area             100000 non-null object\n",
      "denominacion_empresa    99988 non-null object\n",
      "estudio_encurso         100000 non-null int8\n",
      "estudio_graduado        100000 non-null int8\n",
      "tipo_full-time          100000 non-null int8\n",
      "tipo_part-time          100000 non-null int8\n",
      "tipo_otro               100000 non-null int8\n",
      "zona_gba                100000 non-null int8\n",
      "zona_caba               100000 non-null int8\n",
      "nivel_senior            100000 non-null int8\n",
      "nivel_junior            100000 non-null int8\n",
      "nivel_otro              100000 non-null int8\n",
      "nivel_jefe              100000 non-null int8\n",
      "nivel_gerente           100000 non-null int8\n",
      "dtypes: float64(1), int16(1), int64(3), int8(13), object(7)\n",
      "memory usage: 9.8+ MB\n"
     ]
    }
   ],
   "source": [
    "test100k.info()"
   ]
  },
  {
   "cell_type": "code",
   "execution_count": 51,
   "metadata": {},
   "outputs": [],
   "source": [
    "#test100k.to_csv('test100k_complete_v2.csv', index=False)"
   ]
  }
 ],
 "metadata": {
  "kernelspec": {
   "display_name": "Python 3",
   "language": "python",
   "name": "python3"
  },
  "language_info": {
   "codemirror_mode": {
    "name": "ipython",
    "version": 3
   },
   "file_extension": ".py",
   "mimetype": "text/x-python",
   "name": "python",
   "nbconvert_exporter": "python",
   "pygments_lexer": "ipython3",
   "version": "3.6.4"
  }
 },
 "nbformat": 4,
 "nbformat_minor": 2
}
