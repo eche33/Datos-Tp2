{
 "cells": [
  {
   "cell_type": "code",
   "execution_count": 1,
   "metadata": {},
   "outputs": [],
   "source": [
    "import pandas as pd\n",
    "import numpy as np\n",
    "from datetime import datetime\n",
    "from IPython.display import clear_output          \n",
    "from sklearn import preprocessing\n",
    "from sklearn.model_selection import train_test_split\n",
    "from sklearn.ensemble import RandomForestClassifier\n",
    "from sklearn.ensemble import ExtraTreesClassifier\n",
    "from sklearn.ensemble import AdaBoostClassifier\n",
    "from sklearn import tree\n",
    "from collections import Counter\n",
    "from sklearn.ensemble import GradientBoostingClassifier\n",
    "from sklearn.model_selection import GridSearchCV\n",
    "from sklearn.ensemble import BaggingClassifier\n",
    "from sklearn.model_selection import cross_val_score\n",
    "from sklearn.naive_bayes import GaussianNB\n",
    "from sklearn.neighbors import KNeighborsClassifier"
   ]
  },
  {
   "cell_type": "code",
   "execution_count": null,
   "metadata": {},
   "outputs": [],
   "source": []
  },
  {
   "cell_type": "code",
   "execution_count": null,
   "metadata": {},
   "outputs": [],
   "source": []
  },
  {
   "cell_type": "markdown",
   "metadata": {},
   "source": [
    "### Preparo y entreno el label encoder y el one hot encoder con la info de todos los avisos existentes"
   ]
  },
  {
   "cell_type": "code",
   "execution_count": 2,
   "metadata": {},
   "outputs": [
    {
     "name": "stdout",
     "output_type": "stream",
     "text": [
      "<class 'pandas.core.frame.DataFrame'>\n",
      "RangeIndex: 25288 entries, 0 to 25287\n",
      "Data columns (total 2 columns):\n",
      "idaviso        25288 non-null int64\n",
      "nombre_area    25288 non-null object\n",
      "dtypes: int64(1), object(1)\n",
      "memory usage: 395.2+ KB\n"
     ]
    }
   ],
   "source": [
    "avisos_totales = pd.concat([pd.read_csv('datos_navent_fiuba/fiuba_6_avisos_detalle.csv', usecols=['idaviso', 'nombre_area']), pd.read_csv('fiuba_hasta_15_abril/fiuba_6_avisos_detalle.csv', usecols=['idaviso', 'nombre_area']), pd.read_csv('Fiuba desde 15 Abril/fiuba_6_avisos_detalle.csv', usecols=['idaviso', 'nombre_area']), pd.read_csv('fiuba_6_avisos_detalle_missing_nivel_laboral.csv', usecols=['idaviso', 'nombre_area'])])\n",
    "avisos_totales.drop_duplicates(subset=['idaviso'], inplace=True)\n",
    "avisos_totales.reset_index(drop=True, inplace=True)\n",
    "avisos_totales.info()"
   ]
  },
  {
   "cell_type": "code",
   "execution_count": 3,
   "metadata": {},
   "outputs": [
    {
     "data": {
      "text/plain": [
       "188"
      ]
     },
     "execution_count": 3,
     "metadata": {},
     "output_type": "execute_result"
    }
   ],
   "source": [
    "avisos_totales['nombre_area'].value_counts().size"
   ]
  },
  {
   "cell_type": "markdown",
   "metadata": {},
   "source": [
    "- Label encoding para las 188 areas, y entreno el One Hot Encoding con esos 188 codigos (0-187)"
   ]
  },
  {
   "cell_type": "code",
   "execution_count": 4,
   "metadata": {},
   "outputs": [
    {
     "data": {
      "text/html": [
       "<div>\n",
       "<style scoped>\n",
       "    .dataframe tbody tr th:only-of-type {\n",
       "        vertical-align: middle;\n",
       "    }\n",
       "\n",
       "    .dataframe tbody tr th {\n",
       "        vertical-align: top;\n",
       "    }\n",
       "\n",
       "    .dataframe thead th {\n",
       "        text-align: right;\n",
       "    }\n",
       "</style>\n",
       "<table border=\"1\" class=\"dataframe\">\n",
       "  <thead>\n",
       "    <tr style=\"text-align: right;\">\n",
       "      <th></th>\n",
       "      <th>idaviso</th>\n",
       "      <th>nombre_area</th>\n",
       "      <th>codigo_area</th>\n",
       "    </tr>\n",
       "  </thead>\n",
       "  <tbody>\n",
       "    <tr>\n",
       "      <th>0</th>\n",
       "      <td>8725750</td>\n",
       "      <td>Comercial</td>\n",
       "      <td>30</td>\n",
       "    </tr>\n",
       "    <tr>\n",
       "      <th>1</th>\n",
       "      <td>17903700</td>\n",
       "      <td>Salud</td>\n",
       "      <td>158</td>\n",
       "    </tr>\n",
       "    <tr>\n",
       "      <th>2</th>\n",
       "      <td>1000150677</td>\n",
       "      <td>Transporte</td>\n",
       "      <td>181</td>\n",
       "    </tr>\n",
       "    <tr>\n",
       "      <th>3</th>\n",
       "      <td>1000610287</td>\n",
       "      <td>Transporte</td>\n",
       "      <td>181</td>\n",
       "    </tr>\n",
       "    <tr>\n",
       "      <th>4</th>\n",
       "      <td>1000872556</td>\n",
       "      <td>Producción</td>\n",
       "      <td>143</td>\n",
       "    </tr>\n",
       "  </tbody>\n",
       "</table>\n",
       "</div>"
      ],
      "text/plain": [
       "      idaviso nombre_area  codigo_area\n",
       "0     8725750   Comercial           30\n",
       "1    17903700       Salud          158\n",
       "2  1000150677  Transporte          181\n",
       "3  1000610287  Transporte          181\n",
       "4  1000872556  Producción          143"
      ]
     },
     "execution_count": 4,
     "metadata": {},
     "output_type": "execute_result"
    }
   ],
   "source": [
    "#Fundamental usar para el label encoder una columna DF que contenga TODOS los posibles valores categoricos del nombre de area, es decir, lo saco del DF de TODOS los anuncios.\n",
    "#Esto es para que si en un set no estan todos, igual los codifique de la misma forma. SI lo entreno con un set que no tiene todos, al ingresar un set con valores nuevos\n",
    "#va a tirar error porque no tenia esos labels entrenados\n",
    "\n",
    "#UNA VEZ ENTRENADO EL LABEL ENCODER, Y EL ONEHOTENCODER, USAR SIEMRE EL MISMO PARA EL RESTO DEL NOTEBOOK CODIFICAR LOS SETS DE DATA (TEST Y TRAIN) Y EL SET DE TEST100K\n",
    "\n",
    "le = preprocessing.LabelEncoder()\n",
    "avisos_totales['codigo_area'] = le.fit_transform(avisos_totales['nombre_area'].astype(str))\n",
    "\n",
    "#PARA EL ONE HOT ENCODING, AVISARLE QUE LA CANTIDAD DE VALORES CATEGORICOS ES EL DE TODAS LAS CATEGORIAS EN EL DF DE TODOS LOS ANUNCIOS:188\n",
    "enc = preprocessing.OneHotEncoder(188)   \n",
    "enc.fit(avisos_totales['codigo_area'].values.reshape(-1,1))\n",
    "\n",
    "avisos_totales.head()"
   ]
  },
  {
   "cell_type": "code",
   "execution_count": null,
   "metadata": {},
   "outputs": [],
   "source": []
  },
  {
   "cell_type": "code",
   "execution_count": null,
   "metadata": {},
   "outputs": [],
   "source": []
  },
  {
   "cell_type": "markdown",
   "metadata": {},
   "source": [
    "### Cargo historial de postulaciones x usuario x area, ya encodeado con One Hot Encoding"
   ]
  },
  {
   "cell_type": "code",
   "execution_count": 8,
   "metadata": {},
   "outputs": [
    {
     "name": "stdout",
     "output_type": "stream",
     "text": [
      "<class 'pandas.core.frame.DataFrame'>\n",
      "RangeIndex: 346764 entries, 0 to 346763\n",
      "Columns: 189 entries, idpostulante to 187\n",
      "dtypes: int8(188), object(1)\n",
      "memory usage: 64.8+ MB\n"
     ]
    }
   ],
   "source": [
    "users_ids_history = pd.read_csv('historial_cant_post_xuser_xarea.csv', dtype={i+1:'int8' for i in range(188)})\n",
    "users_ids_history.info()"
   ]
  },
  {
   "cell_type": "code",
   "execution_count": null,
   "metadata": {},
   "outputs": [],
   "source": [
    "#users_ids_history.to_csv('historial_cant_post_xuser_xarea.csv', index=False)"
   ]
  },
  {
   "cell_type": "markdown",
   "metadata": {},
   "source": [
    "### Cargo Dataset y test100k para operar"
   ]
  },
  {
   "cell_type": "code",
   "execution_count": 9,
   "metadata": {},
   "outputs": [
    {
     "name": "stdout",
     "output_type": "stream",
     "text": [
      "<class 'pandas.core.frame.DataFrame'>\n",
      "RangeIndex: 11870121 entries, 0 to 11870120\n",
      "Data columns (total 19 columns):\n",
      "sepostulo           int8\n",
      "idpostulante        object\n",
      "veces_visto         int16\n",
      "sexo                int8\n",
      "edad                int8\n",
      "titulo              object\n",
      "nombre_area         category\n",
      "estudio_encurso     int8\n",
      "estudio_graduado    int8\n",
      "tipo_full-time      int8\n",
      "tipo_part-time      int8\n",
      "tipo_otro           int8\n",
      "zona_gba            int8\n",
      "zona_caba           int8\n",
      "nivel_senior        int8\n",
      "nivel_junior        int8\n",
      "nivel_otro          int8\n",
      "nivel_jefe          int8\n",
      "nivel_gerente       int8\n",
      "dtypes: category(1), int16(1), int8(15), object(2)\n",
      "memory usage: 396.2+ MB\n"
     ]
    }
   ],
   "source": [
    "data_set_complete_v2 = pd.read_csv('data_set_complete_v2.csv', usecols=['sepostulo','idpostulante','veces_visto','sexo','edad','titulo','nombre_area',\\\n",
    "                                                                  'estudio_encurso','estudio_graduado','tipo_full-time','tipo_part-time','tipo_otro',\\\n",
    "                                                                  'zona_gba','zona_caba','nivel_senior','nivel_junior','nivel_otro','nivel_jefe','nivel_gerente'],\\\n",
    "                                dtype={'sepostulo':'int8', 'idpostulante':'object', 'veces_visto':'int16', 'sexo':'int8', 'edad':'int8', 'nombre_area':'category',\\\n",
    "                                       'estudio_encurso':'int8', 'estudio_graduado':'int8', 'tipo_full-time':'int8','tipo_part-time':'int8','tipo_otro':'int8',\\\n",
    "                                       'zona_gba':'int8','zona_caba':'int8','nivel_senior':'int8','nivel_junior':'int8','nivel_otro':'int8','nivel_jefe':'int8','nivel_gerente':'int8'})\n",
    "\n",
    "data_set_complete_v2.info()"
   ]
  },
  {
   "cell_type": "code",
   "execution_count": 10,
   "metadata": {},
   "outputs": [
    {
     "name": "stdout",
     "output_type": "stream",
     "text": [
      "<class 'pandas.core.frame.DataFrame'>\n",
      "RangeIndex: 1000000 entries, 0 to 999999\n",
      "Data columns (total 19 columns):\n",
      "sepostulo           1000000 non-null int8\n",
      "idpostulante        1000000 non-null object\n",
      "veces_visto         1000000 non-null int16\n",
      "sexo                1000000 non-null int8\n",
      "edad                1000000 non-null int8\n",
      "titulo              1000000 non-null object\n",
      "nombre_area         1000000 non-null category\n",
      "estudio_encurso     1000000 non-null int8\n",
      "estudio_graduado    1000000 non-null int8\n",
      "tipo_full-time      1000000 non-null int8\n",
      "tipo_part-time      1000000 non-null int8\n",
      "tipo_otro           1000000 non-null int8\n",
      "zona_gba            1000000 non-null int8\n",
      "zona_caba           1000000 non-null int8\n",
      "nivel_senior        1000000 non-null int8\n",
      "nivel_junior        1000000 non-null int8\n",
      "nivel_otro          1000000 non-null int8\n",
      "nivel_jefe          1000000 non-null int8\n",
      "nivel_gerente       1000000 non-null int8\n",
      "dtypes: category(1), int16(1), int8(15), object(2)\n",
      "memory usage: 33.4+ MB\n"
     ]
    }
   ],
   "source": [
    "#Achico a 1 millon para maniabrabilidad en terminos de performance\n",
    "data = data_set_complete_v2.sample(1000000)\n",
    "\n",
    "del data_set_complete_v2\n",
    "\n",
    "data.reset_index(drop=True, inplace=True)\n",
    "\n",
    "data.info()"
   ]
  },
  {
   "cell_type": "code",
   "execution_count": 11,
   "metadata": {},
   "outputs": [
    {
     "name": "stdout",
     "output_type": "stream",
     "text": [
      "<class 'pandas.core.frame.DataFrame'>\n",
      "RangeIndex: 100000 entries, 0 to 99999\n",
      "Data columns (total 19 columns):\n",
      "id                  100000 non-null int64\n",
      "idpostulante        100000 non-null object\n",
      "veces_visto         100000 non-null int16\n",
      "sexo                100000 non-null int8\n",
      "edad                100000 non-null int8\n",
      "titulo              100000 non-null object\n",
      "nombre_area         100000 non-null category\n",
      "estudio_encurso     100000 non-null int8\n",
      "estudio_graduado    100000 non-null int8\n",
      "tipo_full-time      100000 non-null int8\n",
      "tipo_part-time      100000 non-null int8\n",
      "tipo_otro           100000 non-null int8\n",
      "zona_gba            100000 non-null int8\n",
      "zona_caba           100000 non-null int8\n",
      "nivel_senior        100000 non-null int8\n",
      "nivel_junior        100000 non-null int8\n",
      "nivel_otro          100000 non-null int8\n",
      "nivel_jefe          100000 non-null int8\n",
      "nivel_gerente       100000 non-null int8\n",
      "dtypes: category(1), int16(1), int64(1), int8(14), object(2)\n",
      "memory usage: 4.0+ MB\n"
     ]
    }
   ],
   "source": [
    "test100k = pd.read_csv('test100k_complete_v2.csv', usecols=['id','idpostulante','veces_visto','sexo','edad','titulo','nombre_area',\\\n",
    "                                                                  'estudio_encurso','estudio_graduado','tipo_full-time','tipo_part-time','tipo_otro',\\\n",
    "                                                                  'zona_gba','zona_caba','nivel_senior','nivel_junior','nivel_otro','nivel_jefe','nivel_gerente'],\\\n",
    "                                dtype={'id':'int64', 'idpostulante':'object', 'veces_visto':'int16', 'sexo':'int8', 'edad':'int8', 'nombre_area':'category',\\\n",
    "                                       'estudio_encurso':'int8', 'estudio_graduado':'int8', 'tipo_full-time':'int8','tipo_part-time':'int8','tipo_otro':'int8',\\\n",
    "                                       'zona_gba':'int8','zona_caba':'int8','nivel_senior':'int8','nivel_junior':'int8','nivel_otro':'int8','nivel_jefe':'int8','nivel_gerente':'int8'})\n",
    "\n",
    "test100k.info()"
   ]
  },
  {
   "cell_type": "code",
   "execution_count": null,
   "metadata": {},
   "outputs": [],
   "source": []
  },
  {
   "cell_type": "markdown",
   "metadata": {},
   "source": [
    "### Uso label encoding para nombre_area"
   ]
  },
  {
   "cell_type": "code",
   "execution_count": 12,
   "metadata": {},
   "outputs": [],
   "source": [
    "data['nombre_area'] = le.transform(data['nombre_area'].astype(str))"
   ]
  },
  {
   "cell_type": "code",
   "execution_count": 13,
   "metadata": {},
   "outputs": [],
   "source": [
    "test100k['nombre_area'] = le.transform(test100k['nombre_area'].astype(str))"
   ]
  },
  {
   "cell_type": "code",
   "execution_count": null,
   "metadata": {},
   "outputs": [],
   "source": []
  },
  {
   "cell_type": "code",
   "execution_count": null,
   "metadata": {},
   "outputs": [],
   "source": []
  },
  {
   "cell_type": "markdown",
   "metadata": {},
   "source": [
    "### One Hot Encoding para nombre_area"
   ]
  },
  {
   "cell_type": "code",
   "execution_count": 14,
   "metadata": {},
   "outputs": [
    {
     "name": "stdout",
     "output_type": "stream",
     "text": [
      "<class 'pandas.core.frame.DataFrame'>\n",
      "RangeIndex: 1000000 entries, 0 to 999999\n",
      "Columns: 207 entries, sepostulo to 187\n",
      "dtypes: int16(1), int64(1), int8(203), object(2)\n",
      "memory usage: 218.4+ MB\n"
     ]
    }
   ],
   "source": [
    "encoded_areas = enc.transform(data['nombre_area'].values.reshape(-1,1))\n",
    "encoded_areas_df = pd.DataFrame(encoded_areas.toarray()).astype('int8')\n",
    "\n",
    "data = data.merge(encoded_areas_df, left_index=True, right_index=True)\n",
    "\n",
    "del encoded_areas, encoded_areas_df\n",
    "\n",
    "data.info()"
   ]
  },
  {
   "cell_type": "code",
   "execution_count": 15,
   "metadata": {},
   "outputs": [
    {
     "data": {
      "text/html": [
       "<div>\n",
       "<style scoped>\n",
       "    .dataframe tbody tr th:only-of-type {\n",
       "        vertical-align: middle;\n",
       "    }\n",
       "\n",
       "    .dataframe tbody tr th {\n",
       "        vertical-align: top;\n",
       "    }\n",
       "\n",
       "    .dataframe thead th {\n",
       "        text-align: right;\n",
       "    }\n",
       "</style>\n",
       "<table border=\"1\" class=\"dataframe\">\n",
       "  <thead>\n",
       "    <tr style=\"text-align: right;\">\n",
       "      <th></th>\n",
       "      <th>sepostulo</th>\n",
       "      <th>idpostulante</th>\n",
       "      <th>veces_visto</th>\n",
       "      <th>sexo</th>\n",
       "      <th>edad</th>\n",
       "      <th>titulo</th>\n",
       "      <th>nombre_area</th>\n",
       "      <th>estudio_encurso</th>\n",
       "      <th>estudio_graduado</th>\n",
       "      <th>tipo_full-time</th>\n",
       "      <th>...</th>\n",
       "      <th>178</th>\n",
       "      <th>179</th>\n",
       "      <th>180</th>\n",
       "      <th>181</th>\n",
       "      <th>182</th>\n",
       "      <th>183</th>\n",
       "      <th>184</th>\n",
       "      <th>185</th>\n",
       "      <th>186</th>\n",
       "      <th>187</th>\n",
       "    </tr>\n",
       "  </thead>\n",
       "  <tbody>\n",
       "    <tr>\n",
       "      <th>0</th>\n",
       "      <td>0</td>\n",
       "      <td>Y1A13w</td>\n",
       "      <td>0</td>\n",
       "      <td>1</td>\n",
       "      <td>34</td>\n",
       "      <td>Musimundo SAN MIGUEL  necesita Vendedores</td>\n",
       "      <td>185</td>\n",
       "      <td>0</td>\n",
       "      <td>3</td>\n",
       "      <td>1</td>\n",
       "      <td>...</td>\n",
       "      <td>0</td>\n",
       "      <td>0</td>\n",
       "      <td>0</td>\n",
       "      <td>0</td>\n",
       "      <td>0</td>\n",
       "      <td>0</td>\n",
       "      <td>0</td>\n",
       "      <td>1</td>\n",
       "      <td>0</td>\n",
       "      <td>0</td>\n",
       "    </tr>\n",
       "    <tr>\n",
       "      <th>1</th>\n",
       "      <td>1</td>\n",
       "      <td>xkPzJz0</td>\n",
       "      <td>0</td>\n",
       "      <td>0</td>\n",
       "      <td>32</td>\n",
       "      <td>P- Abogado</td>\n",
       "      <td>115</td>\n",
       "      <td>0</td>\n",
       "      <td>4</td>\n",
       "      <td>1</td>\n",
       "      <td>...</td>\n",
       "      <td>0</td>\n",
       "      <td>0</td>\n",
       "      <td>0</td>\n",
       "      <td>0</td>\n",
       "      <td>0</td>\n",
       "      <td>0</td>\n",
       "      <td>0</td>\n",
       "      <td>0</td>\n",
       "      <td>0</td>\n",
       "      <td>0</td>\n",
       "    </tr>\n",
       "    <tr>\n",
       "      <th>2</th>\n",
       "      <td>1</td>\n",
       "      <td>YL18pP</td>\n",
       "      <td>0</td>\n",
       "      <td>1</td>\n",
       "      <td>28</td>\n",
       "      <td>Administrativo de Ventas</td>\n",
       "      <td>185</td>\n",
       "      <td>0</td>\n",
       "      <td>3</td>\n",
       "      <td>1</td>\n",
       "      <td>...</td>\n",
       "      <td>0</td>\n",
       "      <td>0</td>\n",
       "      <td>0</td>\n",
       "      <td>0</td>\n",
       "      <td>0</td>\n",
       "      <td>0</td>\n",
       "      <td>0</td>\n",
       "      <td>1</td>\n",
       "      <td>0</td>\n",
       "      <td>0</td>\n",
       "    </tr>\n",
       "    <tr>\n",
       "      <th>3</th>\n",
       "      <td>1</td>\n",
       "      <td>EOd329</td>\n",
       "      <td>0</td>\n",
       "      <td>0</td>\n",
       "      <td>34</td>\n",
       "      <td>M - Peones y Ayudantes de cocina</td>\n",
       "      <td>82</td>\n",
       "      <td>0</td>\n",
       "      <td>0</td>\n",
       "      <td>1</td>\n",
       "      <td>...</td>\n",
       "      <td>0</td>\n",
       "      <td>0</td>\n",
       "      <td>0</td>\n",
       "      <td>0</td>\n",
       "      <td>0</td>\n",
       "      <td>0</td>\n",
       "      <td>0</td>\n",
       "      <td>0</td>\n",
       "      <td>0</td>\n",
       "      <td>0</td>\n",
       "    </tr>\n",
       "    <tr>\n",
       "      <th>4</th>\n",
       "      <td>0</td>\n",
       "      <td>EJBNmo</td>\n",
       "      <td>0</td>\n",
       "      <td>0</td>\n",
       "      <td>30</td>\n",
       "      <td>Operario Z/ General Rodríguez</td>\n",
       "      <td>143</td>\n",
       "      <td>2</td>\n",
       "      <td>4</td>\n",
       "      <td>1</td>\n",
       "      <td>...</td>\n",
       "      <td>0</td>\n",
       "      <td>0</td>\n",
       "      <td>0</td>\n",
       "      <td>0</td>\n",
       "      <td>0</td>\n",
       "      <td>0</td>\n",
       "      <td>0</td>\n",
       "      <td>0</td>\n",
       "      <td>0</td>\n",
       "      <td>0</td>\n",
       "    </tr>\n",
       "  </tbody>\n",
       "</table>\n",
       "<p>5 rows × 207 columns</p>\n",
       "</div>"
      ],
      "text/plain": [
       "   sepostulo idpostulante  veces_visto  sexo  edad  \\\n",
       "0          0       Y1A13w            0     1    34   \n",
       "1          1      xkPzJz0            0     0    32   \n",
       "2          1       YL18pP            0     1    28   \n",
       "3          1       EOd329            0     0    34   \n",
       "4          0       EJBNmo            0     0    30   \n",
       "\n",
       "                                      titulo  nombre_area  estudio_encurso  \\\n",
       "0  Musimundo SAN MIGUEL  necesita Vendedores          185                0   \n",
       "1                                 P- Abogado          115                0   \n",
       "2                   Administrativo de Ventas          185                0   \n",
       "3           M - Peones y Ayudantes de cocina           82                0   \n",
       "4              Operario Z/ General Rodríguez          143                2   \n",
       "\n",
       "   estudio_graduado  tipo_full-time ...   178  179  180  181  182  183  184  \\\n",
       "0                 3               1 ...     0    0    0    0    0    0    0   \n",
       "1                 4               1 ...     0    0    0    0    0    0    0   \n",
       "2                 3               1 ...     0    0    0    0    0    0    0   \n",
       "3                 0               1 ...     0    0    0    0    0    0    0   \n",
       "4                 4               1 ...     0    0    0    0    0    0    0   \n",
       "\n",
       "   185  186  187  \n",
       "0    1    0    0  \n",
       "1    0    0    0  \n",
       "2    1    0    0  \n",
       "3    0    0    0  \n",
       "4    0    0    0  \n",
       "\n",
       "[5 rows x 207 columns]"
      ]
     },
     "execution_count": 15,
     "metadata": {},
     "output_type": "execute_result"
    }
   ],
   "source": [
    "data.head()"
   ]
  },
  {
   "cell_type": "code",
   "execution_count": 16,
   "metadata": {},
   "outputs": [
    {
     "name": "stdout",
     "output_type": "stream",
     "text": [
      "<class 'pandas.core.frame.DataFrame'>\n",
      "RangeIndex: 100000 entries, 0 to 99999\n",
      "Columns: 207 entries, id to 187\n",
      "dtypes: int16(1), int64(2), int8(202), object(2)\n",
      "memory usage: 22.5+ MB\n"
     ]
    }
   ],
   "source": [
    "encoded_areas = enc.transform(test100k['nombre_area'].values.reshape(-1,1))\n",
    "encoded_areas_df = pd.DataFrame(encoded_areas.toarray()).astype('int8')\n",
    "\n",
    "test100k = test100k.merge(encoded_areas_df, left_index=True, right_index=True)\n",
    "\n",
    "del encoded_areas, encoded_areas_df\n",
    "\n",
    "test100k.info()"
   ]
  },
  {
   "cell_type": "code",
   "execution_count": 17,
   "metadata": {},
   "outputs": [
    {
     "data": {
      "text/html": [
       "<div>\n",
       "<style scoped>\n",
       "    .dataframe tbody tr th:only-of-type {\n",
       "        vertical-align: middle;\n",
       "    }\n",
       "\n",
       "    .dataframe tbody tr th {\n",
       "        vertical-align: top;\n",
       "    }\n",
       "\n",
       "    .dataframe thead th {\n",
       "        text-align: right;\n",
       "    }\n",
       "</style>\n",
       "<table border=\"1\" class=\"dataframe\">\n",
       "  <thead>\n",
       "    <tr style=\"text-align: right;\">\n",
       "      <th></th>\n",
       "      <th>id</th>\n",
       "      <th>idpostulante</th>\n",
       "      <th>veces_visto</th>\n",
       "      <th>sexo</th>\n",
       "      <th>edad</th>\n",
       "      <th>titulo</th>\n",
       "      <th>nombre_area</th>\n",
       "      <th>estudio_encurso</th>\n",
       "      <th>estudio_graduado</th>\n",
       "      <th>tipo_full-time</th>\n",
       "      <th>...</th>\n",
       "      <th>178</th>\n",
       "      <th>179</th>\n",
       "      <th>180</th>\n",
       "      <th>181</th>\n",
       "      <th>182</th>\n",
       "      <th>183</th>\n",
       "      <th>184</th>\n",
       "      <th>185</th>\n",
       "      <th>186</th>\n",
       "      <th>187</th>\n",
       "    </tr>\n",
       "  </thead>\n",
       "  <tbody>\n",
       "    <tr>\n",
       "      <th>0</th>\n",
       "      <td>0</td>\n",
       "      <td>6M9ZQR</td>\n",
       "      <td>0</td>\n",
       "      <td>0</td>\n",
       "      <td>42</td>\n",
       "      <td>Asistente Comercial</td>\n",
       "      <td>30</td>\n",
       "      <td>0</td>\n",
       "      <td>7</td>\n",
       "      <td>1</td>\n",
       "      <td>...</td>\n",
       "      <td>0</td>\n",
       "      <td>0</td>\n",
       "      <td>0</td>\n",
       "      <td>0</td>\n",
       "      <td>0</td>\n",
       "      <td>0</td>\n",
       "      <td>0</td>\n",
       "      <td>0</td>\n",
       "      <td>0</td>\n",
       "      <td>0</td>\n",
       "    </tr>\n",
       "    <tr>\n",
       "      <th>1</th>\n",
       "      <td>1</td>\n",
       "      <td>6v1xdL</td>\n",
       "      <td>0</td>\n",
       "      <td>1</td>\n",
       "      <td>30</td>\n",
       "      <td>Asistente Comercial</td>\n",
       "      <td>30</td>\n",
       "      <td>2</td>\n",
       "      <td>3</td>\n",
       "      <td>1</td>\n",
       "      <td>...</td>\n",
       "      <td>0</td>\n",
       "      <td>0</td>\n",
       "      <td>0</td>\n",
       "      <td>0</td>\n",
       "      <td>0</td>\n",
       "      <td>0</td>\n",
       "      <td>0</td>\n",
       "      <td>0</td>\n",
       "      <td>0</td>\n",
       "      <td>0</td>\n",
       "    </tr>\n",
       "    <tr>\n",
       "      <th>2</th>\n",
       "      <td>2</td>\n",
       "      <td>ezRKm9</td>\n",
       "      <td>0</td>\n",
       "      <td>0</td>\n",
       "      <td>36</td>\n",
       "      <td>Asistente Comercial</td>\n",
       "      <td>30</td>\n",
       "      <td>0</td>\n",
       "      <td>4</td>\n",
       "      <td>1</td>\n",
       "      <td>...</td>\n",
       "      <td>0</td>\n",
       "      <td>0</td>\n",
       "      <td>0</td>\n",
       "      <td>0</td>\n",
       "      <td>0</td>\n",
       "      <td>0</td>\n",
       "      <td>0</td>\n",
       "      <td>0</td>\n",
       "      <td>0</td>\n",
       "      <td>0</td>\n",
       "    </tr>\n",
       "    <tr>\n",
       "      <th>3</th>\n",
       "      <td>3</td>\n",
       "      <td>1Q35ej</td>\n",
       "      <td>0</td>\n",
       "      <td>1</td>\n",
       "      <td>68</td>\n",
       "      <td>Oracle Financials Sr. Application Developer</td>\n",
       "      <td>170</td>\n",
       "      <td>0</td>\n",
       "      <td>5</td>\n",
       "      <td>1</td>\n",
       "      <td>...</td>\n",
       "      <td>0</td>\n",
       "      <td>0</td>\n",
       "      <td>0</td>\n",
       "      <td>0</td>\n",
       "      <td>0</td>\n",
       "      <td>0</td>\n",
       "      <td>0</td>\n",
       "      <td>0</td>\n",
       "      <td>0</td>\n",
       "      <td>0</td>\n",
       "    </tr>\n",
       "    <tr>\n",
       "      <th>4</th>\n",
       "      <td>4</td>\n",
       "      <td>EAN4J6</td>\n",
       "      <td>0</td>\n",
       "      <td>0</td>\n",
       "      <td>32</td>\n",
       "      <td>Oracle Financials Sr. Application Developer</td>\n",
       "      <td>170</td>\n",
       "      <td>4</td>\n",
       "      <td>0</td>\n",
       "      <td>1</td>\n",
       "      <td>...</td>\n",
       "      <td>0</td>\n",
       "      <td>0</td>\n",
       "      <td>0</td>\n",
       "      <td>0</td>\n",
       "      <td>0</td>\n",
       "      <td>0</td>\n",
       "      <td>0</td>\n",
       "      <td>0</td>\n",
       "      <td>0</td>\n",
       "      <td>0</td>\n",
       "    </tr>\n",
       "  </tbody>\n",
       "</table>\n",
       "<p>5 rows × 207 columns</p>\n",
       "</div>"
      ],
      "text/plain": [
       "   id idpostulante  veces_visto  sexo  edad  \\\n",
       "0   0       6M9ZQR            0     0    42   \n",
       "1   1       6v1xdL            0     1    30   \n",
       "2   2       ezRKm9            0     0    36   \n",
       "3   3       1Q35ej            0     1    68   \n",
       "4   4       EAN4J6            0     0    32   \n",
       "\n",
       "                                        titulo  nombre_area  estudio_encurso  \\\n",
       "0                          Asistente Comercial           30                0   \n",
       "1                          Asistente Comercial           30                2   \n",
       "2                          Asistente Comercial           30                0   \n",
       "3  Oracle Financials Sr. Application Developer          170                0   \n",
       "4  Oracle Financials Sr. Application Developer          170                4   \n",
       "\n",
       "   estudio_graduado  tipo_full-time ...   178  179  180  181  182  183  184  \\\n",
       "0                 7               1 ...     0    0    0    0    0    0    0   \n",
       "1                 3               1 ...     0    0    0    0    0    0    0   \n",
       "2                 4               1 ...     0    0    0    0    0    0    0   \n",
       "3                 5               1 ...     0    0    0    0    0    0    0   \n",
       "4                 0               1 ...     0    0    0    0    0    0    0   \n",
       "\n",
       "   185  186  187  \n",
       "0    0    0    0  \n",
       "1    0    0    0  \n",
       "2    0    0    0  \n",
       "3    0    0    0  \n",
       "4    0    0    0  \n",
       "\n",
       "[5 rows x 207 columns]"
      ]
     },
     "execution_count": 17,
     "metadata": {},
     "output_type": "execute_result"
    }
   ],
   "source": [
    "test100k.head()"
   ]
  },
  {
   "cell_type": "code",
   "execution_count": null,
   "metadata": {},
   "outputs": [],
   "source": []
  },
  {
   "cell_type": "code",
   "execution_count": null,
   "metadata": {},
   "outputs": [],
   "source": []
  },
  {
   "cell_type": "markdown",
   "metadata": {},
   "source": [
    "### Merge del historial con One Hot Coding"
   ]
  },
  {
   "cell_type": "code",
   "execution_count": 18,
   "metadata": {},
   "outputs": [
    {
     "name": "stdout",
     "output_type": "stream",
     "text": [
      "<class 'pandas.core.frame.DataFrame'>\n",
      "RangeIndex: 1000000 entries, 0 to 999999\n",
      "Columns: 395 entries, sepostulo to 187\n",
      "dtypes: int16(1), int64(1), int8(391), object(2)\n",
      "memory usage: 397.7+ MB\n"
     ]
    }
   ],
   "source": [
    "# Aca meto la info del historial (matriz de 188 con el one hot encoding)\n",
    "data = data.merge((data['idpostulante'].to_frame().merge(users_ids_history, how='left', on='idpostulante').drop(columns='idpostulante').fillna(value=0).astype('int8', copy=False)), left_index=True, right_index=True)\n",
    "\n",
    "data.info()"
   ]
  },
  {
   "cell_type": "code",
   "execution_count": 19,
   "metadata": {},
   "outputs": [
    {
     "data": {
      "text/html": [
       "<div>\n",
       "<style scoped>\n",
       "    .dataframe tbody tr th:only-of-type {\n",
       "        vertical-align: middle;\n",
       "    }\n",
       "\n",
       "    .dataframe tbody tr th {\n",
       "        vertical-align: top;\n",
       "    }\n",
       "\n",
       "    .dataframe thead th {\n",
       "        text-align: right;\n",
       "    }\n",
       "</style>\n",
       "<table border=\"1\" class=\"dataframe\">\n",
       "  <thead>\n",
       "    <tr style=\"text-align: right;\">\n",
       "      <th></th>\n",
       "      <th>sepostulo</th>\n",
       "      <th>idpostulante</th>\n",
       "      <th>veces_visto</th>\n",
       "      <th>sexo</th>\n",
       "      <th>edad</th>\n",
       "      <th>titulo</th>\n",
       "      <th>nombre_area</th>\n",
       "      <th>estudio_encurso</th>\n",
       "      <th>estudio_graduado</th>\n",
       "      <th>tipo_full-time</th>\n",
       "      <th>...</th>\n",
       "      <th>178</th>\n",
       "      <th>179</th>\n",
       "      <th>180</th>\n",
       "      <th>181</th>\n",
       "      <th>182</th>\n",
       "      <th>183</th>\n",
       "      <th>184</th>\n",
       "      <th>185</th>\n",
       "      <th>186</th>\n",
       "      <th>187</th>\n",
       "    </tr>\n",
       "  </thead>\n",
       "  <tbody>\n",
       "    <tr>\n",
       "      <th>0</th>\n",
       "      <td>0</td>\n",
       "      <td>Y1A13w</td>\n",
       "      <td>0</td>\n",
       "      <td>1</td>\n",
       "      <td>34</td>\n",
       "      <td>Musimundo SAN MIGUEL  necesita Vendedores</td>\n",
       "      <td>185</td>\n",
       "      <td>0</td>\n",
       "      <td>3</td>\n",
       "      <td>1</td>\n",
       "      <td>...</td>\n",
       "      <td>0</td>\n",
       "      <td>0</td>\n",
       "      <td>0</td>\n",
       "      <td>0</td>\n",
       "      <td>0</td>\n",
       "      <td>0</td>\n",
       "      <td>0</td>\n",
       "      <td>1</td>\n",
       "      <td>0</td>\n",
       "      <td>0</td>\n",
       "    </tr>\n",
       "    <tr>\n",
       "      <th>1</th>\n",
       "      <td>1</td>\n",
       "      <td>xkPzJz0</td>\n",
       "      <td>0</td>\n",
       "      <td>0</td>\n",
       "      <td>32</td>\n",
       "      <td>P- Abogado</td>\n",
       "      <td>115</td>\n",
       "      <td>0</td>\n",
       "      <td>4</td>\n",
       "      <td>1</td>\n",
       "      <td>...</td>\n",
       "      <td>0</td>\n",
       "      <td>0</td>\n",
       "      <td>0</td>\n",
       "      <td>0</td>\n",
       "      <td>0</td>\n",
       "      <td>0</td>\n",
       "      <td>0</td>\n",
       "      <td>0</td>\n",
       "      <td>0</td>\n",
       "      <td>0</td>\n",
       "    </tr>\n",
       "    <tr>\n",
       "      <th>2</th>\n",
       "      <td>1</td>\n",
       "      <td>YL18pP</td>\n",
       "      <td>0</td>\n",
       "      <td>1</td>\n",
       "      <td>28</td>\n",
       "      <td>Administrativo de Ventas</td>\n",
       "      <td>185</td>\n",
       "      <td>0</td>\n",
       "      <td>3</td>\n",
       "      <td>1</td>\n",
       "      <td>...</td>\n",
       "      <td>0</td>\n",
       "      <td>0</td>\n",
       "      <td>0</td>\n",
       "      <td>0</td>\n",
       "      <td>0</td>\n",
       "      <td>0</td>\n",
       "      <td>0</td>\n",
       "      <td>70</td>\n",
       "      <td>1</td>\n",
       "      <td>0</td>\n",
       "    </tr>\n",
       "    <tr>\n",
       "      <th>3</th>\n",
       "      <td>1</td>\n",
       "      <td>EOd329</td>\n",
       "      <td>0</td>\n",
       "      <td>0</td>\n",
       "      <td>34</td>\n",
       "      <td>M - Peones y Ayudantes de cocina</td>\n",
       "      <td>82</td>\n",
       "      <td>0</td>\n",
       "      <td>0</td>\n",
       "      <td>1</td>\n",
       "      <td>...</td>\n",
       "      <td>0</td>\n",
       "      <td>0</td>\n",
       "      <td>0</td>\n",
       "      <td>0</td>\n",
       "      <td>0</td>\n",
       "      <td>0</td>\n",
       "      <td>0</td>\n",
       "      <td>0</td>\n",
       "      <td>0</td>\n",
       "      <td>0</td>\n",
       "    </tr>\n",
       "    <tr>\n",
       "      <th>4</th>\n",
       "      <td>0</td>\n",
       "      <td>EJBNmo</td>\n",
       "      <td>0</td>\n",
       "      <td>0</td>\n",
       "      <td>30</td>\n",
       "      <td>Operario Z/ General Rodríguez</td>\n",
       "      <td>143</td>\n",
       "      <td>2</td>\n",
       "      <td>4</td>\n",
       "      <td>1</td>\n",
       "      <td>...</td>\n",
       "      <td>0</td>\n",
       "      <td>0</td>\n",
       "      <td>0</td>\n",
       "      <td>0</td>\n",
       "      <td>0</td>\n",
       "      <td>0</td>\n",
       "      <td>0</td>\n",
       "      <td>0</td>\n",
       "      <td>0</td>\n",
       "      <td>0</td>\n",
       "    </tr>\n",
       "  </tbody>\n",
       "</table>\n",
       "<p>5 rows × 395 columns</p>\n",
       "</div>"
      ],
      "text/plain": [
       "   sepostulo idpostulante  veces_visto  sexo  edad  \\\n",
       "0          0       Y1A13w            0     1    34   \n",
       "1          1      xkPzJz0            0     0    32   \n",
       "2          1       YL18pP            0     1    28   \n",
       "3          1       EOd329            0     0    34   \n",
       "4          0       EJBNmo            0     0    30   \n",
       "\n",
       "                                      titulo  nombre_area  estudio_encurso  \\\n",
       "0  Musimundo SAN MIGUEL  necesita Vendedores          185                0   \n",
       "1                                 P- Abogado          115                0   \n",
       "2                   Administrativo de Ventas          185                0   \n",
       "3           M - Peones y Ayudantes de cocina           82                0   \n",
       "4              Operario Z/ General Rodríguez          143                2   \n",
       "\n",
       "   estudio_graduado  tipo_full-time ...   178  179  180  181  182  183  184  \\\n",
       "0                 3               1 ...     0    0    0    0    0    0    0   \n",
       "1                 4               1 ...     0    0    0    0    0    0    0   \n",
       "2                 3               1 ...     0    0    0    0    0    0    0   \n",
       "3                 0               1 ...     0    0    0    0    0    0    0   \n",
       "4                 4               1 ...     0    0    0    0    0    0    0   \n",
       "\n",
       "   185  186  187  \n",
       "0    1    0    0  \n",
       "1    0    0    0  \n",
       "2   70    1    0  \n",
       "3    0    0    0  \n",
       "4    0    0    0  \n",
       "\n",
       "[5 rows x 395 columns]"
      ]
     },
     "execution_count": 19,
     "metadata": {},
     "output_type": "execute_result"
    }
   ],
   "source": [
    "data.head()"
   ]
  },
  {
   "cell_type": "code",
   "execution_count": 20,
   "metadata": {},
   "outputs": [
    {
     "name": "stdout",
     "output_type": "stream",
     "text": [
      "<class 'pandas.core.frame.DataFrame'>\n",
      "RangeIndex: 100000 entries, 0 to 99999\n",
      "Columns: 395 entries, id to 187\n",
      "dtypes: int16(1), int64(2), int8(390), object(2)\n",
      "memory usage: 40.4+ MB\n"
     ]
    }
   ],
   "source": [
    "# Aca meto la info del historial (matriz de 188 con el one hot encoding)\n",
    "test100k = test100k.merge((test100k['idpostulante'].to_frame().merge(users_ids_history, how='left', on='idpostulante').drop(columns='idpostulante').fillna(value=0).astype('int8', copy=False)), left_index=True, right_index=True)\n",
    "\n",
    "test100k.info()"
   ]
  },
  {
   "cell_type": "code",
   "execution_count": 21,
   "metadata": {},
   "outputs": [
    {
     "data": {
      "text/html": [
       "<div>\n",
       "<style scoped>\n",
       "    .dataframe tbody tr th:only-of-type {\n",
       "        vertical-align: middle;\n",
       "    }\n",
       "\n",
       "    .dataframe tbody tr th {\n",
       "        vertical-align: top;\n",
       "    }\n",
       "\n",
       "    .dataframe thead th {\n",
       "        text-align: right;\n",
       "    }\n",
       "</style>\n",
       "<table border=\"1\" class=\"dataframe\">\n",
       "  <thead>\n",
       "    <tr style=\"text-align: right;\">\n",
       "      <th></th>\n",
       "      <th>id</th>\n",
       "      <th>idpostulante</th>\n",
       "      <th>veces_visto</th>\n",
       "      <th>sexo</th>\n",
       "      <th>edad</th>\n",
       "      <th>titulo</th>\n",
       "      <th>nombre_area</th>\n",
       "      <th>estudio_encurso</th>\n",
       "      <th>estudio_graduado</th>\n",
       "      <th>tipo_full-time</th>\n",
       "      <th>...</th>\n",
       "      <th>178</th>\n",
       "      <th>179</th>\n",
       "      <th>180</th>\n",
       "      <th>181</th>\n",
       "      <th>182</th>\n",
       "      <th>183</th>\n",
       "      <th>184</th>\n",
       "      <th>185</th>\n",
       "      <th>186</th>\n",
       "      <th>187</th>\n",
       "    </tr>\n",
       "  </thead>\n",
       "  <tbody>\n",
       "    <tr>\n",
       "      <th>0</th>\n",
       "      <td>0</td>\n",
       "      <td>6M9ZQR</td>\n",
       "      <td>0</td>\n",
       "      <td>0</td>\n",
       "      <td>42</td>\n",
       "      <td>Asistente Comercial</td>\n",
       "      <td>30</td>\n",
       "      <td>0</td>\n",
       "      <td>7</td>\n",
       "      <td>1</td>\n",
       "      <td>...</td>\n",
       "      <td>0</td>\n",
       "      <td>0</td>\n",
       "      <td>0</td>\n",
       "      <td>0</td>\n",
       "      <td>0</td>\n",
       "      <td>0</td>\n",
       "      <td>0</td>\n",
       "      <td>0</td>\n",
       "      <td>0</td>\n",
       "      <td>0</td>\n",
       "    </tr>\n",
       "    <tr>\n",
       "      <th>1</th>\n",
       "      <td>1</td>\n",
       "      <td>6v1xdL</td>\n",
       "      <td>0</td>\n",
       "      <td>1</td>\n",
       "      <td>30</td>\n",
       "      <td>Asistente Comercial</td>\n",
       "      <td>30</td>\n",
       "      <td>2</td>\n",
       "      <td>3</td>\n",
       "      <td>1</td>\n",
       "      <td>...</td>\n",
       "      <td>0</td>\n",
       "      <td>0</td>\n",
       "      <td>0</td>\n",
       "      <td>0</td>\n",
       "      <td>0</td>\n",
       "      <td>0</td>\n",
       "      <td>0</td>\n",
       "      <td>4</td>\n",
       "      <td>0</td>\n",
       "      <td>0</td>\n",
       "    </tr>\n",
       "    <tr>\n",
       "      <th>2</th>\n",
       "      <td>2</td>\n",
       "      <td>ezRKm9</td>\n",
       "      <td>0</td>\n",
       "      <td>0</td>\n",
       "      <td>36</td>\n",
       "      <td>Asistente Comercial</td>\n",
       "      <td>30</td>\n",
       "      <td>0</td>\n",
       "      <td>4</td>\n",
       "      <td>1</td>\n",
       "      <td>...</td>\n",
       "      <td>0</td>\n",
       "      <td>0</td>\n",
       "      <td>0</td>\n",
       "      <td>0</td>\n",
       "      <td>0</td>\n",
       "      <td>0</td>\n",
       "      <td>0</td>\n",
       "      <td>0</td>\n",
       "      <td>0</td>\n",
       "      <td>0</td>\n",
       "    </tr>\n",
       "    <tr>\n",
       "      <th>3</th>\n",
       "      <td>3</td>\n",
       "      <td>1Q35ej</td>\n",
       "      <td>0</td>\n",
       "      <td>1</td>\n",
       "      <td>68</td>\n",
       "      <td>Oracle Financials Sr. Application Developer</td>\n",
       "      <td>170</td>\n",
       "      <td>0</td>\n",
       "      <td>5</td>\n",
       "      <td>1</td>\n",
       "      <td>...</td>\n",
       "      <td>0</td>\n",
       "      <td>0</td>\n",
       "      <td>0</td>\n",
       "      <td>0</td>\n",
       "      <td>0</td>\n",
       "      <td>0</td>\n",
       "      <td>0</td>\n",
       "      <td>0</td>\n",
       "      <td>0</td>\n",
       "      <td>0</td>\n",
       "    </tr>\n",
       "    <tr>\n",
       "      <th>4</th>\n",
       "      <td>4</td>\n",
       "      <td>EAN4J6</td>\n",
       "      <td>0</td>\n",
       "      <td>0</td>\n",
       "      <td>32</td>\n",
       "      <td>Oracle Financials Sr. Application Developer</td>\n",
       "      <td>170</td>\n",
       "      <td>4</td>\n",
       "      <td>0</td>\n",
       "      <td>1</td>\n",
       "      <td>...</td>\n",
       "      <td>0</td>\n",
       "      <td>0</td>\n",
       "      <td>0</td>\n",
       "      <td>0</td>\n",
       "      <td>0</td>\n",
       "      <td>0</td>\n",
       "      <td>0</td>\n",
       "      <td>0</td>\n",
       "      <td>0</td>\n",
       "      <td>0</td>\n",
       "    </tr>\n",
       "  </tbody>\n",
       "</table>\n",
       "<p>5 rows × 395 columns</p>\n",
       "</div>"
      ],
      "text/plain": [
       "   id idpostulante  veces_visto  sexo  edad  \\\n",
       "0   0       6M9ZQR            0     0    42   \n",
       "1   1       6v1xdL            0     1    30   \n",
       "2   2       ezRKm9            0     0    36   \n",
       "3   3       1Q35ej            0     1    68   \n",
       "4   4       EAN4J6            0     0    32   \n",
       "\n",
       "                                        titulo  nombre_area  estudio_encurso  \\\n",
       "0                          Asistente Comercial           30                0   \n",
       "1                          Asistente Comercial           30                2   \n",
       "2                          Asistente Comercial           30                0   \n",
       "3  Oracle Financials Sr. Application Developer          170                0   \n",
       "4  Oracle Financials Sr. Application Developer          170                4   \n",
       "\n",
       "   estudio_graduado  tipo_full-time ...   178  179  180  181  182  183  184  \\\n",
       "0                 7               1 ...     0    0    0    0    0    0    0   \n",
       "1                 3               1 ...     0    0    0    0    0    0    0   \n",
       "2                 4               1 ...     0    0    0    0    0    0    0   \n",
       "3                 5               1 ...     0    0    0    0    0    0    0   \n",
       "4                 0               1 ...     0    0    0    0    0    0    0   \n",
       "\n",
       "   185  186  187  \n",
       "0    0    0    0  \n",
       "1    4    0    0  \n",
       "2    0    0    0  \n",
       "3    0    0    0  \n",
       "4    0    0    0  \n",
       "\n",
       "[5 rows x 395 columns]"
      ]
     },
     "execution_count": 21,
     "metadata": {},
     "output_type": "execute_result"
    }
   ],
   "source": [
    "test100k.head()"
   ]
  },
  {
   "cell_type": "code",
   "execution_count": null,
   "metadata": {},
   "outputs": [],
   "source": []
  },
  {
   "cell_type": "code",
   "execution_count": null,
   "metadata": {},
   "outputs": [],
   "source": []
  },
  {
   "cell_type": "markdown",
   "metadata": {},
   "source": [
    "### Pruebo con Random Forest"
   ]
  },
  {
   "cell_type": "code",
   "execution_count": 22,
   "metadata": {},
   "outputs": [],
   "source": [
    "#Saco edad porque vimos que resta score\n",
    "#del train_set, test_set, train_classes, test_classes\n",
    "train_set, test_set, train_classes, test_classes = train_test_split(data.drop(columns=['edad','sepostulo','idpostulante', 'titulo']), data['sepostulo'], test_size=0.3)"
   ]
  },
  {
   "cell_type": "code",
   "execution_count": 27,
   "metadata": {},
   "outputs": [
    {
     "name": "stdout",
     "output_type": "stream",
     "text": [
      "Test: 0.8865466666666667 Entrenamiento: 0.9016171428571429\n"
     ]
    }
   ],
   "source": [
    "clf = RandomForestClassifier(n_estimators=40, min_samples_leaf=7, min_samples_split=4, n_jobs=-1).fit(train_set, train_classes)\n",
    "print('Test:', clf.score(test_set, test_classes), 'Entrenamiento:', clf.score(train_set, train_classes))"
   ]
  },
  {
   "cell_type": "markdown",
   "metadata": {},
   "source": [
    "- Con historial \"fixeado\"\n",
    "- Test: 0.8865466666666667 Entrenamiento: 0.9016171428571429 (n_estimators=40, min_samples_leaf=7, min_samples_split=4, n_jobs=-1)\n",
    "- Test: 0.88909 Entrenamiento: 0.9064142857142857 (n_estimators=40, min_samples_leaf=6, min_samples_split=5, n_jobs=-1)   Kaggle: 0.87545\n",
    "- Test: 0.88608 Entrenamiento: 0.90129 (n_estimators=30, min_samples_leaf=7, min_samples_split=4, n_jobs=-1)"
   ]
  },
  {
   "cell_type": "markdown",
   "metadata": {},
   "source": [
    "- Con historiales negativos:\n",
    "- Test: 0.8863633333333333 Entrenamiento: 0.9017185714285715\n",
    "- Kaggle: 0.86702"
   ]
  },
  {
   "cell_type": "code",
   "execution_count": 25,
   "metadata": {},
   "outputs": [],
   "source": [
    "test100k['sepostulo'] = clf.predict(test100k.drop(columns=['edad','id','idpostulante', 'titulo']))"
   ]
  },
  {
   "cell_type": "code",
   "execution_count": 26,
   "metadata": {},
   "outputs": [],
   "source": [
    "test100k[['id','sepostulo']].to_csv('Resultados/con_info_actualizada_v2_historial_arreglado.csv', index=False)"
   ]
  },
  {
   "cell_type": "code",
   "execution_count": null,
   "metadata": {},
   "outputs": [],
   "source": []
  },
  {
   "cell_type": "code",
   "execution_count": null,
   "metadata": {},
   "outputs": [],
   "source": []
  },
  {
   "cell_type": "code",
   "execution_count": 31,
   "metadata": {},
   "outputs": [
    {
     "name": "stdout",
     "output_type": "stream",
     "text": [
      "Test: 0.8704633333333334 Entrenamiento: 0.9947728571428571\n"
     ]
    }
   ],
   "source": [
    "clf2 = tree.DecisionTreeClassifier().fit(train_set, train_classes)\n",
    "print('Test:', clf2.score(test_set, test_classes), 'Entrenamiento:', clf2.score(train_set, train_classes))"
   ]
  },
  {
   "cell_type": "markdown",
   "metadata": {},
   "source": [
    "- Test: 0.8704633333333334 Entrenamiento: 0.9947728571428571\n",
    "- Kaggle: 0.84400"
   ]
  },
  {
   "cell_type": "code",
   "execution_count": 32,
   "metadata": {},
   "outputs": [],
   "source": [
    "test100k['sepostulo'] = clf2.predict(test100k.drop(columns=['edad','sepostulo','id','idpostulante', 'titulo']))"
   ]
  },
  {
   "cell_type": "code",
   "execution_count": 34,
   "metadata": {},
   "outputs": [],
   "source": [
    "test100k[['id','sepostulo']].to_csv('Resultados/con_info_actualizada_v2_OHEncod_Hist_NewParameters_GridS_DecisTree.csv', index=False)"
   ]
  },
  {
   "cell_type": "code",
   "execution_count": null,
   "metadata": {},
   "outputs": [],
   "source": []
  },
  {
   "cell_type": "code",
   "execution_count": null,
   "metadata": {},
   "outputs": [],
   "source": []
  },
  {
   "cell_type": "markdown",
   "metadata": {},
   "source": [
    "### Veamos como funciona para muestras mas pequenias, para ver si podemos reducir en busqueda de un aumento de velocidad de procesamiento, sin perder accuracy. Si tomamos como que test100k fuese nuestro set de test, y como usualmente se usa el 30% para test, entonces el total de train+test seria 340 mil"
   ]
  },
  {
   "cell_type": "code",
   "execution_count": 23,
   "metadata": {},
   "outputs": [],
   "source": [
    "data_small = data.sample(350000)\n",
    "data_small.reset_index(drop=True, inplace=True)"
   ]
  },
  {
   "cell_type": "code",
   "execution_count": 24,
   "metadata": {},
   "outputs": [],
   "source": [
    "del train_set, test_set, train_classes, test_classes\n",
    "train_set, test_set, train_classes, test_classes = train_test_split(data_small.drop(columns=['edad','sepostulo','idpostulante', 'titulo']), data_small['sepostulo'], test_size=0.3)"
   ]
  },
  {
   "cell_type": "code",
   "execution_count": 28,
   "metadata": {},
   "outputs": [
    {
     "name": "stdout",
     "output_type": "stream",
     "text": [
      "Test: 0.876752380952381 Entrenamiento: 0.9021428571428571\n"
     ]
    }
   ],
   "source": [
    "clf3 = RandomForestClassifier(n_estimators=30, min_samples_leaf=5, min_samples_split=4, n_jobs=-1).fit(train_set, train_classes)\n",
    "print('Test:', clf3.score(test_set, test_classes), 'Entrenamiento:', clf3.score(train_set, train_classes))"
   ]
  },
  {
   "cell_type": "markdown",
   "metadata": {},
   "source": [
    "- Test: 0.876752380952381 Entrenamiento: 0.9021428571428571 (n_estimators=30, min_samples_leaf=5, min_samples_split=4, n_jobs=-1)"
   ]
  },
  {
   "cell_type": "code",
   "execution_count": 29,
   "metadata": {},
   "outputs": [
    {
     "data": {
      "text/plain": [
       "{'min_samples_leaf': 6, 'min_samples_split': 5}"
      ]
     },
     "execution_count": 29,
     "metadata": {},
     "output_type": "execute_result"
    }
   ],
   "source": [
    "#GRID SEARCH\n",
    "parameters = {'min_samples_leaf':[6,7,8,9], 'min_samples_split':[3,4,5,6]}\n",
    "rndforst = RandomForestClassifier(n_estimators=30, n_jobs=-1)\n",
    "clf3GS =  GridSearchCV(rndforst, parameters)\n",
    "clf3GS.fit(train_set, train_classes)\n",
    "clf3GS.best_params_ "
   ]
  },
  {
   "cell_type": "code",
   "execution_count": 30,
   "metadata": {},
   "outputs": [
    {
     "name": "stdout",
     "output_type": "stream",
     "text": [
      "Test: 0.8759047619047619 Entrenamiento: 0.8957755102040816\n"
     ]
    }
   ],
   "source": [
    "print('Test:', clf3GS.score(test_set, test_classes), 'Entrenamiento:', clf3GS.score(train_set, train_classes))"
   ]
  },
  {
   "cell_type": "markdown",
   "metadata": {},
   "source": [
    "- Test: 0.8759047619047619 Entrenamiento: 0.8957755102040816\n",
    "- Kaggle: 0.86963"
   ]
  },
  {
   "cell_type": "code",
   "execution_count": 32,
   "metadata": {},
   "outputs": [],
   "source": [
    "test100k['sepostulo'] = clf3GS.predict(test100k.drop(columns=['edad', 'sepostulo','id','idpostulante', 'titulo']))"
   ]
  },
  {
   "cell_type": "code",
   "execution_count": 33,
   "metadata": {},
   "outputs": [],
   "source": [
    "test100k[['id','sepostulo']].to_csv('Resultados/con_info_actualizada_v2_350msamples_gridserach.csv', index=False)"
   ]
  },
  {
   "cell_type": "code",
   "execution_count": null,
   "metadata": {},
   "outputs": [],
   "source": []
  },
  {
   "cell_type": "code",
   "execution_count": null,
   "metadata": {},
   "outputs": [],
   "source": []
  },
  {
   "cell_type": "markdown",
   "metadata": {},
   "source": [
    "### Vemos que da scores un poco inferiores. Veamos entonces con muestras mas grandes (se corre nuevamente el kernel con el sample inicial de 2 millones)"
   ]
  },
  {
   "cell_type": "code",
   "execution_count": 20,
   "metadata": {},
   "outputs": [],
   "source": [
    "#del train_set, test_set, train_classes, test_classes\n",
    "train_set, test_set, train_classes, test_classes = train_test_split(data.drop(columns=['edad','sepostulo','idpostulante', 'titulo']), data['sepostulo'], test_size=0.3)"
   ]
  },
  {
   "cell_type": "code",
   "execution_count": 21,
   "metadata": {},
   "outputs": [
    {
     "name": "stdout",
     "output_type": "stream",
     "text": [
      "Test: 0.892795 Entrenamiento: 0.9068257142857142\n"
     ]
    }
   ],
   "source": [
    "clf4 = RandomForestClassifier(n_estimators=30, min_samples_leaf=7, min_samples_split=4, n_jobs=-1).fit(train_set, train_classes)\n",
    "print('Test:', clf4.score(test_set, test_classes), 'Entrenamiento:', clf4.score(train_set, train_classes))"
   ]
  },
  {
   "cell_type": "markdown",
   "metadata": {},
   "source": [
    "- Test: 0.892795 Entrenamiento: 0.9068257142857142\n",
    "- Kaggle: 0.87659"
   ]
  },
  {
   "cell_type": "code",
   "execution_count": 22,
   "metadata": {},
   "outputs": [],
   "source": [
    "test100k['sepostulo'] = clf4.predict(test100k.drop(columns=['edad', 'id','idpostulante', 'titulo']))"
   ]
  },
  {
   "cell_type": "code",
   "execution_count": 23,
   "metadata": {},
   "outputs": [],
   "source": [
    "test100k[['id','sepostulo']].to_csv('Resultados/con_info_actualizada_v2_OHEncod_Hist_RndTree_2Msamples.csv', index=False)"
   ]
  },
  {
   "cell_type": "code",
   "execution_count": null,
   "metadata": {},
   "outputs": [],
   "source": []
  },
  {
   "cell_type": "code",
   "execution_count": null,
   "metadata": {},
   "outputs": [],
   "source": []
  },
  {
   "cell_type": "markdown",
   "metadata": {},
   "source": [
    "### Veamos entonces con muestras mas grandes (se corre nuevamente el kernel con el sample inicial de 3 millones)"
   ]
  },
  {
   "cell_type": "code",
   "execution_count": 19,
   "metadata": {},
   "outputs": [],
   "source": [
    "#del train_set, test_set, train_classes, test_classes\n",
    "train_set, test_set, train_classes, test_classes = train_test_split(data.drop(columns=['edad','sepostulo','idpostulante', 'titulo']), data['sepostulo'], test_size=0.3)"
   ]
  },
  {
   "cell_type": "code",
   "execution_count": 20,
   "metadata": {},
   "outputs": [
    {
     "name": "stdout",
     "output_type": "stream",
     "text": [
      "Test: 0.8969855555555556 Entrenamiento: 0.9096571428571428\n"
     ]
    }
   ],
   "source": [
    "clf5 = RandomForestClassifier(n_estimators=30, min_samples_leaf=7, min_samples_split=4, n_jobs=-1).fit(train_set, train_classes)\n",
    "print('Test:', clf5.score(test_set, test_classes), 'Entrenamiento:', clf5.score(train_set, train_classes))"
   ]
  },
  {
   "cell_type": "markdown",
   "metadata": {},
   "source": [
    "- Test: 0.8969855555555556 Entrenamiento: 0.9096571428571428\n",
    "- Kaggle: 0.88024"
   ]
  },
  {
   "cell_type": "code",
   "execution_count": 21,
   "metadata": {},
   "outputs": [],
   "source": [
    "test100k['sepostulo'] = clf5.predict(test100k.drop(columns=['edad', 'id','idpostulante', 'titulo']))"
   ]
  },
  {
   "cell_type": "code",
   "execution_count": 22,
   "metadata": {},
   "outputs": [],
   "source": [
    "test100k[['id','sepostulo']].to_csv('Resultados/con_info_actualizada_v2_OHEncod_Hist_RndTree_3Msamples.csv', index=False)"
   ]
  },
  {
   "cell_type": "code",
   "execution_count": null,
   "metadata": {},
   "outputs": [],
   "source": []
  }
 ],
 "metadata": {
  "kernelspec": {
   "display_name": "Python 3",
   "language": "python",
   "name": "python3"
  },
  "language_info": {
   "codemirror_mode": {
    "name": "ipython",
    "version": 3
   },
   "file_extension": ".py",
   "mimetype": "text/x-python",
   "name": "python",
   "nbconvert_exporter": "python",
   "pygments_lexer": "ipython3",
   "version": "3.6.4"
  }
 },
 "nbformat": 4,
 "nbformat_minor": 2
}
