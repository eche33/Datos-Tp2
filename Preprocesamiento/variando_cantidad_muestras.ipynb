{
 "cells": [
  {
   "cell_type": "code",
   "execution_count": 1,
   "metadata": {},
   "outputs": [],
   "source": [
    "import pandas as pd\n",
    "import numpy as np\n",
    "from datetime import datetime\n",
    "from IPython.display import clear_output          \n",
    "from sklearn import preprocessing\n",
    "from sklearn.model_selection import train_test_split\n",
    "from sklearn.ensemble import RandomForestClassifier\n",
    "from sklearn.ensemble import ExtraTreesClassifier\n",
    "from sklearn.ensemble import AdaBoostClassifier\n",
    "from sklearn import tree\n",
    "from collections import Counter\n",
    "from sklearn.ensemble import GradientBoostingClassifier\n",
    "from sklearn.model_selection import GridSearchCV\n",
    "from sklearn.ensemble import BaggingClassifier\n",
    "from sklearn.model_selection import cross_val_score\n",
    "from sklearn.naive_bayes import GaussianNB\n",
    "from sklearn.neighbors import KNeighborsClassifier\n",
    "from sklearn import svm"
   ]
  },
  {
   "cell_type": "code",
   "execution_count": null,
   "metadata": {},
   "outputs": [],
   "source": []
  },
  {
   "cell_type": "code",
   "execution_count": null,
   "metadata": {},
   "outputs": [],
   "source": []
  },
  {
   "cell_type": "markdown",
   "metadata": {},
   "source": [
    "### Preparo y entreno el label encoder y el one hot encoder con la info de todos los avisos existentes"
   ]
  },
  {
   "cell_type": "code",
   "execution_count": 2,
   "metadata": {},
   "outputs": [
    {
     "name": "stdout",
     "output_type": "stream",
     "text": [
      "<class 'pandas.core.frame.DataFrame'>\n",
      "RangeIndex: 25288 entries, 0 to 25287\n",
      "Data columns (total 2 columns):\n",
      "idaviso        25288 non-null int64\n",
      "nombre_area    25288 non-null object\n",
      "dtypes: int64(1), object(1)\n",
      "memory usage: 395.2+ KB\n"
     ]
    }
   ],
   "source": [
    "avisos_totales = pd.concat([pd.read_csv('datos_navent_fiuba/fiuba_6_avisos_detalle.csv', usecols=['idaviso', 'nombre_area']), pd.read_csv('fiuba_hasta_15_abril/fiuba_6_avisos_detalle.csv', usecols=['idaviso', 'nombre_area']), pd.read_csv('Fiuba desde 15 Abril/fiuba_6_avisos_detalle.csv', usecols=['idaviso', 'nombre_area']), pd.read_csv('fiuba_6_avisos_detalle_missing_nivel_laboral.csv', usecols=['idaviso', 'nombre_area'])])\n",
    "avisos_totales.drop_duplicates(subset=['idaviso'], inplace=True)\n",
    "avisos_totales.reset_index(drop=True, inplace=True)\n",
    "avisos_totales.info()"
   ]
  },
  {
   "cell_type": "code",
   "execution_count": 3,
   "metadata": {},
   "outputs": [
    {
     "data": {
      "text/plain": [
       "188"
      ]
     },
     "execution_count": 3,
     "metadata": {},
     "output_type": "execute_result"
    }
   ],
   "source": [
    "avisos_totales['nombre_area'].value_counts().size"
   ]
  },
  {
   "cell_type": "markdown",
   "metadata": {},
   "source": [
    "- Label encoding para las 188 areas, y entreno el One Hot Encoding con esos 188 codigos (0-187)"
   ]
  },
  {
   "cell_type": "code",
   "execution_count": 4,
   "metadata": {},
   "outputs": [
    {
     "data": {
      "text/html": [
       "<div>\n",
       "<style scoped>\n",
       "    .dataframe tbody tr th:only-of-type {\n",
       "        vertical-align: middle;\n",
       "    }\n",
       "\n",
       "    .dataframe tbody tr th {\n",
       "        vertical-align: top;\n",
       "    }\n",
       "\n",
       "    .dataframe thead th {\n",
       "        text-align: right;\n",
       "    }\n",
       "</style>\n",
       "<table border=\"1\" class=\"dataframe\">\n",
       "  <thead>\n",
       "    <tr style=\"text-align: right;\">\n",
       "      <th></th>\n",
       "      <th>idaviso</th>\n",
       "      <th>nombre_area</th>\n",
       "      <th>codigo_area</th>\n",
       "    </tr>\n",
       "  </thead>\n",
       "  <tbody>\n",
       "    <tr>\n",
       "      <th>0</th>\n",
       "      <td>8725750</td>\n",
       "      <td>Comercial</td>\n",
       "      <td>30</td>\n",
       "    </tr>\n",
       "    <tr>\n",
       "      <th>1</th>\n",
       "      <td>17903700</td>\n",
       "      <td>Salud</td>\n",
       "      <td>158</td>\n",
       "    </tr>\n",
       "    <tr>\n",
       "      <th>2</th>\n",
       "      <td>1000150677</td>\n",
       "      <td>Transporte</td>\n",
       "      <td>181</td>\n",
       "    </tr>\n",
       "    <tr>\n",
       "      <th>3</th>\n",
       "      <td>1000610287</td>\n",
       "      <td>Transporte</td>\n",
       "      <td>181</td>\n",
       "    </tr>\n",
       "    <tr>\n",
       "      <th>4</th>\n",
       "      <td>1000872556</td>\n",
       "      <td>Producción</td>\n",
       "      <td>143</td>\n",
       "    </tr>\n",
       "  </tbody>\n",
       "</table>\n",
       "</div>"
      ],
      "text/plain": [
       "      idaviso nombre_area  codigo_area\n",
       "0     8725750   Comercial           30\n",
       "1    17903700       Salud          158\n",
       "2  1000150677  Transporte          181\n",
       "3  1000610287  Transporte          181\n",
       "4  1000872556  Producción          143"
      ]
     },
     "execution_count": 4,
     "metadata": {},
     "output_type": "execute_result"
    }
   ],
   "source": [
    "#Fundamental usar para el label encoder una columna DF que contenga TODOS los posibles valores categoricos del nombre de area, es decir, lo saco del DF de TODOS los anuncios.\n",
    "#Esto es para que si en un set no estan todos, igual los codifique de la misma forma. SI lo entreno con un set que no tiene todos, al ingresar un set con valores nuevos\n",
    "#va a tirar error porque no tenia esos labels entrenados\n",
    "\n",
    "#UNA VEZ ENTRENADO EL LABEL ENCODER, Y EL ONEHOTENCODER, USAR SIEMRE EL MISMO PARA EL RESTO DEL NOTEBOOK CODIFICAR LOS SETS DE DATA (TEST Y TRAIN) Y EL SET DE TEST100K\n",
    "\n",
    "le = preprocessing.LabelEncoder()\n",
    "avisos_totales['codigo_area'] = le.fit_transform(avisos_totales['nombre_area'].astype(str))\n",
    "\n",
    "#PARA EL ONE HOT ENCODING, AVISARLE QUE LA CANTIDAD DE VALORES CATEGORICOS ES EL DE TODAS LAS CATEGORIAS EN EL DF DE TODOS LOS ANUNCIOS:188\n",
    "enc = preprocessing.OneHotEncoder(188)   \n",
    "enc.fit(avisos_totales['codigo_area'].values.reshape(-1,1))\n",
    "\n",
    "avisos_totales.head()"
   ]
  },
  {
   "cell_type": "code",
   "execution_count": null,
   "metadata": {},
   "outputs": [],
   "source": []
  },
  {
   "cell_type": "code",
   "execution_count": null,
   "metadata": {},
   "outputs": [],
   "source": []
  },
  {
   "cell_type": "markdown",
   "metadata": {},
   "source": [
    "### Cargo historial de postulaciones x usuario x area, ya encodeado con One Hot Encoding"
   ]
  },
  {
   "cell_type": "code",
   "execution_count": 5,
   "metadata": {},
   "outputs": [
    {
     "name": "stdout",
     "output_type": "stream",
     "text": [
      "<class 'pandas.core.frame.DataFrame'>\n",
      "RangeIndex: 346764 entries, 0 to 346763\n",
      "Columns: 189 entries, idpostulante to 187\n",
      "dtypes: int16(188), object(1)\n",
      "memory usage: 127.0+ MB\n"
     ]
    }
   ],
   "source": [
    "users_ids_history = pd.read_csv('historial_cant_post_xuser_xarea.csv', dtype={i+1:'int16' for i in range(188)})\n",
    "users_ids_history.info()"
   ]
  },
  {
   "cell_type": "markdown",
   "metadata": {},
   "source": [
    "### Cargo Dataset y test100k para operar"
   ]
  },
  {
   "cell_type": "code",
   "execution_count": 6,
   "metadata": {},
   "outputs": [
    {
     "name": "stdout",
     "output_type": "stream",
     "text": [
      "<class 'pandas.core.frame.DataFrame'>\n",
      "RangeIndex: 11870121 entries, 0 to 11870120\n",
      "Data columns (total 21 columns):\n",
      "sepostulo           int8\n",
      "idpostulante        object\n",
      "veces_visto         int16\n",
      "sexo                int8\n",
      "edad                int8\n",
      "titulo              object\n",
      "nombre_area         category\n",
      "estudio_encurso     int8\n",
      "estudio_graduado    int8\n",
      "tipo_full-time      int8\n",
      "tipo_part-time      int8\n",
      "tipo_otro           int8\n",
      "zona_gba            int8\n",
      "zona_caba           int8\n",
      "nivel_senior        int8\n",
      "nivel_junior        int8\n",
      "nivel_otro          int8\n",
      "nivel_jefe          int8\n",
      "nivel_gerente       int8\n",
      "post_x_aviso        int32\n",
      "vistas_x_aviso      int32\n",
      "dtypes: category(1), int16(1), int32(2), int8(15), object(2)\n",
      "memory usage: 486.8+ MB\n"
     ]
    }
   ],
   "source": [
    "data_set_complete_v2 = pd.read_csv('data_set_complete_v2.csv', usecols=['sepostulo','idpostulante','veces_visto','sexo','edad','titulo','nombre_area',\\\n",
    "                                                                  'estudio_encurso','estudio_graduado','tipo_full-time','tipo_part-time','tipo_otro',\\\n",
    "                                                                  'zona_gba','zona_caba','nivel_senior','nivel_junior','nivel_otro','nivel_jefe','nivel_gerente','post_x_aviso','vistas_x_aviso'],\\\n",
    "                                dtype={'sepostulo':'int8', 'idpostulante':'object', 'veces_visto':'int16', 'sexo':'int8', 'edad':'int8', 'nombre_area':'category',\\\n",
    "                                       'estudio_encurso':'int8', 'estudio_graduado':'int8', 'tipo_full-time':'int8','tipo_part-time':'int8','tipo_otro':'int8',\\\n",
    "                                       'zona_gba':'int8','zona_caba':'int8','nivel_senior':'int8','nivel_junior':'int8','nivel_otro':'int8','nivel_jefe':'int8','nivel_gerente':'int8', 'post_x_aviso':'int32','vistas_x_aviso':'int32'})\n",
    "\n",
    "data_set_complete_v2.info()"
   ]
  },
  {
   "cell_type": "code",
   "execution_count": 7,
   "metadata": {},
   "outputs": [
    {
     "name": "stdout",
     "output_type": "stream",
     "text": [
      "<class 'pandas.core.frame.DataFrame'>\n",
      "RangeIndex: 3000000 entries, 0 to 2999999\n",
      "Data columns (total 21 columns):\n",
      "sepostulo           int8\n",
      "idpostulante        object\n",
      "veces_visto         int16\n",
      "sexo                int8\n",
      "edad                int8\n",
      "titulo              object\n",
      "nombre_area         category\n",
      "estudio_encurso     int8\n",
      "estudio_graduado    int8\n",
      "tipo_full-time      int8\n",
      "tipo_part-time      int8\n",
      "tipo_otro           int8\n",
      "zona_gba            int8\n",
      "zona_caba           int8\n",
      "nivel_senior        int8\n",
      "nivel_junior        int8\n",
      "nivel_otro          int8\n",
      "nivel_jefe          int8\n",
      "nivel_gerente       int8\n",
      "post_x_aviso        int32\n",
      "vistas_x_aviso      int32\n",
      "dtypes: category(1), int16(1), int32(2), int8(15), object(2)\n",
      "memory usage: 123.0+ MB\n"
     ]
    }
   ],
   "source": [
    "#Achico a 1 millon para maniabrabilidad en terminos de performance\n",
    "data = data_set_complete_v2.sample(1000000)\n",
    "\n",
    "del data_set_complete_v2\n",
    "\n",
    "data.reset_index(drop=True, inplace=True)\n",
    "\n",
    "data.info()"
   ]
  },
  {
   "cell_type": "code",
   "execution_count": 8,
   "metadata": {},
   "outputs": [
    {
     "name": "stdout",
     "output_type": "stream",
     "text": [
      "<class 'pandas.core.frame.DataFrame'>\n",
      "RangeIndex: 100000 entries, 0 to 99999\n",
      "Data columns (total 21 columns):\n",
      "id                  100000 non-null int64\n",
      "idpostulante        100000 non-null object\n",
      "veces_visto         100000 non-null int16\n",
      "sexo                100000 non-null int8\n",
      "edad                100000 non-null int8\n",
      "titulo              100000 non-null object\n",
      "nombre_area         100000 non-null category\n",
      "estudio_encurso     100000 non-null int8\n",
      "estudio_graduado    100000 non-null int8\n",
      "tipo_full-time      100000 non-null int8\n",
      "tipo_part-time      100000 non-null int8\n",
      "tipo_otro           100000 non-null int8\n",
      "zona_gba            100000 non-null int8\n",
      "zona_caba           100000 non-null int8\n",
      "nivel_senior        100000 non-null int8\n",
      "nivel_junior        100000 non-null int8\n",
      "nivel_otro          100000 non-null int8\n",
      "nivel_jefe          100000 non-null int8\n",
      "nivel_gerente       100000 non-null int8\n",
      "post_x_aviso        100000 non-null int32\n",
      "vistas_x_aviso      100000 non-null int32\n",
      "dtypes: category(1), int16(1), int32(2), int64(1), int8(14), object(2)\n",
      "memory usage: 4.8+ MB\n"
     ]
    }
   ],
   "source": [
    "test100k = pd.read_csv('test100k_complete_v2.csv', usecols=['id','idpostulante','veces_visto','sexo','edad','titulo','nombre_area',\\\n",
    "                                                                  'estudio_encurso','estudio_graduado','tipo_full-time','tipo_part-time','tipo_otro',\\\n",
    "                                                                  'zona_gba','zona_caba','nivel_senior','nivel_junior','nivel_otro','nivel_jefe','nivel_gerente','post_x_aviso','vistas_x_aviso'],\\\n",
    "                                dtype={'id':'int64', 'idpostulante':'object', 'veces_visto':'int16', 'sexo':'int8', 'edad':'int8', 'nombre_area':'category',\\\n",
    "                                       'estudio_encurso':'int8', 'estudio_graduado':'int8', 'tipo_full-time':'int8','tipo_part-time':'int8','tipo_otro':'int8',\\\n",
    "                                       'zona_gba':'int8','zona_caba':'int8','nivel_senior':'int8','nivel_junior':'int8','nivel_otro':'int8','nivel_jefe':'int8','nivel_gerente':'int8','post_x_aviso':'int32','vistas_x_aviso':'int32'})\n",
    "\n",
    "test100k.info()"
   ]
  },
  {
   "cell_type": "markdown",
   "metadata": {},
   "source": [
    "### Uso label encoding para nombre_area"
   ]
  },
  {
   "cell_type": "code",
   "execution_count": 9,
   "metadata": {},
   "outputs": [],
   "source": [
    "data['nombre_area'] = (le.transform(data['nombre_area'].astype(str))).astype('int16')"
   ]
  },
  {
   "cell_type": "code",
   "execution_count": 10,
   "metadata": {},
   "outputs": [],
   "source": [
    "test100k['nombre_area'] = (le.transform(test100k['nombre_area'].astype(str))).astype('int16')"
   ]
  },
  {
   "cell_type": "markdown",
   "metadata": {},
   "source": [
    "### One Hot Encoding para nombre_area"
   ]
  },
  {
   "cell_type": "code",
   "execution_count": 11,
   "metadata": {},
   "outputs": [
    {
     "name": "stdout",
     "output_type": "stream",
     "text": [
      "<class 'pandas.core.frame.DataFrame'>\n",
      "RangeIndex: 3000000 entries, 0 to 2999999\n",
      "Columns: 209 entries, sepostulo to 187\n",
      "dtypes: int16(2), int32(2), int8(203), object(2)\n",
      "memory usage: 660.9+ MB\n"
     ]
    }
   ],
   "source": [
    "encoded_areas = enc.transform(data['nombre_area'].values.reshape(-1,1))\n",
    "encoded_areas_df = pd.DataFrame(encoded_areas.toarray()).astype('int8')\n",
    "\n",
    "data = data.merge(encoded_areas_df, left_index=True, right_index=True)\n",
    "\n",
    "del encoded_areas, encoded_areas_df\n",
    "\n",
    "data.info()"
   ]
  },
  {
   "cell_type": "code",
   "execution_count": 12,
   "metadata": {},
   "outputs": [
    {
     "data": {
      "text/html": [
       "<div>\n",
       "<style scoped>\n",
       "    .dataframe tbody tr th:only-of-type {\n",
       "        vertical-align: middle;\n",
       "    }\n",
       "\n",
       "    .dataframe tbody tr th {\n",
       "        vertical-align: top;\n",
       "    }\n",
       "\n",
       "    .dataframe thead th {\n",
       "        text-align: right;\n",
       "    }\n",
       "</style>\n",
       "<table border=\"1\" class=\"dataframe\">\n",
       "  <thead>\n",
       "    <tr style=\"text-align: right;\">\n",
       "      <th></th>\n",
       "      <th>sepostulo</th>\n",
       "      <th>idpostulante</th>\n",
       "      <th>veces_visto</th>\n",
       "      <th>sexo</th>\n",
       "      <th>edad</th>\n",
       "      <th>titulo</th>\n",
       "      <th>nombre_area</th>\n",
       "      <th>estudio_encurso</th>\n",
       "      <th>estudio_graduado</th>\n",
       "      <th>tipo_full-time</th>\n",
       "      <th>...</th>\n",
       "      <th>178</th>\n",
       "      <th>179</th>\n",
       "      <th>180</th>\n",
       "      <th>181</th>\n",
       "      <th>182</th>\n",
       "      <th>183</th>\n",
       "      <th>184</th>\n",
       "      <th>185</th>\n",
       "      <th>186</th>\n",
       "      <th>187</th>\n",
       "    </tr>\n",
       "  </thead>\n",
       "  <tbody>\n",
       "    <tr>\n",
       "      <th>0</th>\n",
       "      <td>0</td>\n",
       "      <td>bOJWLN9</td>\n",
       "      <td>0</td>\n",
       "      <td>0</td>\n",
       "      <td>26</td>\n",
       "      <td>ADMINISTRATIVO DE COMERCIO EXTERIOR</td>\n",
       "      <td>186</td>\n",
       "      <td>3</td>\n",
       "      <td>1</td>\n",
       "      <td>1</td>\n",
       "      <td>...</td>\n",
       "      <td>0</td>\n",
       "      <td>0</td>\n",
       "      <td>0</td>\n",
       "      <td>0</td>\n",
       "      <td>0</td>\n",
       "      <td>0</td>\n",
       "      <td>0</td>\n",
       "      <td>0</td>\n",
       "      <td>1</td>\n",
       "      <td>0</td>\n",
       "    </tr>\n",
       "    <tr>\n",
       "      <th>1</th>\n",
       "      <td>0</td>\n",
       "      <td>KBzokGX</td>\n",
       "      <td>0</td>\n",
       "      <td>1</td>\n",
       "      <td>27</td>\n",
       "      <td>Estudiantes en búsqueda de Primer Empleo (Vent...</td>\n",
       "      <td>26</td>\n",
       "      <td>0</td>\n",
       "      <td>1</td>\n",
       "      <td>0</td>\n",
       "      <td>...</td>\n",
       "      <td>0</td>\n",
       "      <td>0</td>\n",
       "      <td>0</td>\n",
       "      <td>0</td>\n",
       "      <td>0</td>\n",
       "      <td>0</td>\n",
       "      <td>0</td>\n",
       "      <td>0</td>\n",
       "      <td>0</td>\n",
       "      <td>0</td>\n",
       "    </tr>\n",
       "    <tr>\n",
       "      <th>2</th>\n",
       "      <td>1</td>\n",
       "      <td>EzeqjKz</td>\n",
       "      <td>0</td>\n",
       "      <td>0</td>\n",
       "      <td>38</td>\n",
       "      <td>OPERADORES TELEFÓNICOS DE ATENCIÓN AL CLIENTE</td>\n",
       "      <td>14</td>\n",
       "      <td>4</td>\n",
       "      <td>0</td>\n",
       "      <td>0</td>\n",
       "      <td>...</td>\n",
       "      <td>0</td>\n",
       "      <td>0</td>\n",
       "      <td>0</td>\n",
       "      <td>0</td>\n",
       "      <td>0</td>\n",
       "      <td>0</td>\n",
       "      <td>0</td>\n",
       "      <td>0</td>\n",
       "      <td>0</td>\n",
       "      <td>0</td>\n",
       "    </tr>\n",
       "    <tr>\n",
       "      <th>3</th>\n",
       "      <td>0</td>\n",
       "      <td>5ZxpWk</td>\n",
       "      <td>0</td>\n",
       "      <td>0</td>\n",
       "      <td>38</td>\n",
       "      <td>Asistente de Marketing</td>\n",
       "      <td>120</td>\n",
       "      <td>3</td>\n",
       "      <td>0</td>\n",
       "      <td>1</td>\n",
       "      <td>...</td>\n",
       "      <td>0</td>\n",
       "      <td>0</td>\n",
       "      <td>0</td>\n",
       "      <td>0</td>\n",
       "      <td>0</td>\n",
       "      <td>0</td>\n",
       "      <td>0</td>\n",
       "      <td>0</td>\n",
       "      <td>0</td>\n",
       "      <td>0</td>\n",
       "    </tr>\n",
       "    <tr>\n",
       "      <th>4</th>\n",
       "      <td>0</td>\n",
       "      <td>eK0DPr</td>\n",
       "      <td>0</td>\n",
       "      <td>1</td>\n",
       "      <td>33</td>\n",
       "      <td>Lider de compras de insumos</td>\n",
       "      <td>34</td>\n",
       "      <td>0</td>\n",
       "      <td>1</td>\n",
       "      <td>1</td>\n",
       "      <td>...</td>\n",
       "      <td>0</td>\n",
       "      <td>0</td>\n",
       "      <td>0</td>\n",
       "      <td>0</td>\n",
       "      <td>0</td>\n",
       "      <td>0</td>\n",
       "      <td>0</td>\n",
       "      <td>0</td>\n",
       "      <td>0</td>\n",
       "      <td>0</td>\n",
       "    </tr>\n",
       "  </tbody>\n",
       "</table>\n",
       "<p>5 rows × 209 columns</p>\n",
       "</div>"
      ],
      "text/plain": [
       "   sepostulo idpostulante  veces_visto  sexo  edad  \\\n",
       "0          0      bOJWLN9            0     0    26   \n",
       "1          0      KBzokGX            0     1    27   \n",
       "2          1      EzeqjKz            0     0    38   \n",
       "3          0       5ZxpWk            0     0    38   \n",
       "4          0       eK0DPr            0     1    33   \n",
       "\n",
       "                                              titulo  nombre_area  \\\n",
       "0                ADMINISTRATIVO DE COMERCIO EXTERIOR          186   \n",
       "1  Estudiantes en búsqueda de Primer Empleo (Vent...           26   \n",
       "2      OPERADORES TELEFÓNICOS DE ATENCIÓN AL CLIENTE           14   \n",
       "3                             Asistente de Marketing          120   \n",
       "4                        Lider de compras de insumos           34   \n",
       "\n",
       "   estudio_encurso  estudio_graduado  tipo_full-time ...   178  179  180  181  \\\n",
       "0                3                 1               1 ...     0    0    0    0   \n",
       "1                0                 1               0 ...     0    0    0    0   \n",
       "2                4                 0               0 ...     0    0    0    0   \n",
       "3                3                 0               1 ...     0    0    0    0   \n",
       "4                0                 1               1 ...     0    0    0    0   \n",
       "\n",
       "   182  183  184  185  186  187  \n",
       "0    0    0    0    0    1    0  \n",
       "1    0    0    0    0    0    0  \n",
       "2    0    0    0    0    0    0  \n",
       "3    0    0    0    0    0    0  \n",
       "4    0    0    0    0    0    0  \n",
       "\n",
       "[5 rows x 209 columns]"
      ]
     },
     "execution_count": 12,
     "metadata": {},
     "output_type": "execute_result"
    }
   ],
   "source": [
    "data.head()"
   ]
  },
  {
   "cell_type": "code",
   "execution_count": 13,
   "metadata": {},
   "outputs": [
    {
     "name": "stdout",
     "output_type": "stream",
     "text": [
      "<class 'pandas.core.frame.DataFrame'>\n",
      "RangeIndex: 100000 entries, 0 to 99999\n",
      "Columns: 209 entries, id to 187\n",
      "dtypes: int16(2), int32(2), int64(1), int8(202), object(2)\n",
      "memory usage: 22.7+ MB\n"
     ]
    }
   ],
   "source": [
    "encoded_areas = enc.transform(test100k['nombre_area'].values.reshape(-1,1))\n",
    "encoded_areas_df = pd.DataFrame(encoded_areas.toarray()).astype('int8')\n",
    "\n",
    "test100k = test100k.merge(encoded_areas_df, left_index=True, right_index=True)\n",
    "\n",
    "del encoded_areas, encoded_areas_df\n",
    "\n",
    "test100k.info()"
   ]
  },
  {
   "cell_type": "code",
   "execution_count": 14,
   "metadata": {},
   "outputs": [
    {
     "data": {
      "text/html": [
       "<div>\n",
       "<style scoped>\n",
       "    .dataframe tbody tr th:only-of-type {\n",
       "        vertical-align: middle;\n",
       "    }\n",
       "\n",
       "    .dataframe tbody tr th {\n",
       "        vertical-align: top;\n",
       "    }\n",
       "\n",
       "    .dataframe thead th {\n",
       "        text-align: right;\n",
       "    }\n",
       "</style>\n",
       "<table border=\"1\" class=\"dataframe\">\n",
       "  <thead>\n",
       "    <tr style=\"text-align: right;\">\n",
       "      <th></th>\n",
       "      <th>id</th>\n",
       "      <th>idpostulante</th>\n",
       "      <th>veces_visto</th>\n",
       "      <th>sexo</th>\n",
       "      <th>edad</th>\n",
       "      <th>titulo</th>\n",
       "      <th>nombre_area</th>\n",
       "      <th>estudio_encurso</th>\n",
       "      <th>estudio_graduado</th>\n",
       "      <th>tipo_full-time</th>\n",
       "      <th>...</th>\n",
       "      <th>178</th>\n",
       "      <th>179</th>\n",
       "      <th>180</th>\n",
       "      <th>181</th>\n",
       "      <th>182</th>\n",
       "      <th>183</th>\n",
       "      <th>184</th>\n",
       "      <th>185</th>\n",
       "      <th>186</th>\n",
       "      <th>187</th>\n",
       "    </tr>\n",
       "  </thead>\n",
       "  <tbody>\n",
       "    <tr>\n",
       "      <th>0</th>\n",
       "      <td>0</td>\n",
       "      <td>6M9ZQR</td>\n",
       "      <td>0</td>\n",
       "      <td>0</td>\n",
       "      <td>42</td>\n",
       "      <td>Asistente Comercial</td>\n",
       "      <td>30</td>\n",
       "      <td>0</td>\n",
       "      <td>7</td>\n",
       "      <td>1</td>\n",
       "      <td>...</td>\n",
       "      <td>0</td>\n",
       "      <td>0</td>\n",
       "      <td>0</td>\n",
       "      <td>0</td>\n",
       "      <td>0</td>\n",
       "      <td>0</td>\n",
       "      <td>0</td>\n",
       "      <td>0</td>\n",
       "      <td>0</td>\n",
       "      <td>0</td>\n",
       "    </tr>\n",
       "    <tr>\n",
       "      <th>1</th>\n",
       "      <td>1</td>\n",
       "      <td>6v1xdL</td>\n",
       "      <td>0</td>\n",
       "      <td>1</td>\n",
       "      <td>30</td>\n",
       "      <td>Asistente Comercial</td>\n",
       "      <td>30</td>\n",
       "      <td>2</td>\n",
       "      <td>3</td>\n",
       "      <td>1</td>\n",
       "      <td>...</td>\n",
       "      <td>0</td>\n",
       "      <td>0</td>\n",
       "      <td>0</td>\n",
       "      <td>0</td>\n",
       "      <td>0</td>\n",
       "      <td>0</td>\n",
       "      <td>0</td>\n",
       "      <td>0</td>\n",
       "      <td>0</td>\n",
       "      <td>0</td>\n",
       "    </tr>\n",
       "    <tr>\n",
       "      <th>2</th>\n",
       "      <td>2</td>\n",
       "      <td>ezRKm9</td>\n",
       "      <td>0</td>\n",
       "      <td>0</td>\n",
       "      <td>36</td>\n",
       "      <td>Asistente Comercial</td>\n",
       "      <td>30</td>\n",
       "      <td>0</td>\n",
       "      <td>4</td>\n",
       "      <td>1</td>\n",
       "      <td>...</td>\n",
       "      <td>0</td>\n",
       "      <td>0</td>\n",
       "      <td>0</td>\n",
       "      <td>0</td>\n",
       "      <td>0</td>\n",
       "      <td>0</td>\n",
       "      <td>0</td>\n",
       "      <td>0</td>\n",
       "      <td>0</td>\n",
       "      <td>0</td>\n",
       "    </tr>\n",
       "    <tr>\n",
       "      <th>3</th>\n",
       "      <td>3</td>\n",
       "      <td>1Q35ej</td>\n",
       "      <td>0</td>\n",
       "      <td>1</td>\n",
       "      <td>68</td>\n",
       "      <td>Oracle Financials Sr. Application Developer</td>\n",
       "      <td>170</td>\n",
       "      <td>0</td>\n",
       "      <td>5</td>\n",
       "      <td>1</td>\n",
       "      <td>...</td>\n",
       "      <td>0</td>\n",
       "      <td>0</td>\n",
       "      <td>0</td>\n",
       "      <td>0</td>\n",
       "      <td>0</td>\n",
       "      <td>0</td>\n",
       "      <td>0</td>\n",
       "      <td>0</td>\n",
       "      <td>0</td>\n",
       "      <td>0</td>\n",
       "    </tr>\n",
       "    <tr>\n",
       "      <th>4</th>\n",
       "      <td>4</td>\n",
       "      <td>EAN4J6</td>\n",
       "      <td>0</td>\n",
       "      <td>0</td>\n",
       "      <td>32</td>\n",
       "      <td>Oracle Financials Sr. Application Developer</td>\n",
       "      <td>170</td>\n",
       "      <td>4</td>\n",
       "      <td>0</td>\n",
       "      <td>1</td>\n",
       "      <td>...</td>\n",
       "      <td>0</td>\n",
       "      <td>0</td>\n",
       "      <td>0</td>\n",
       "      <td>0</td>\n",
       "      <td>0</td>\n",
       "      <td>0</td>\n",
       "      <td>0</td>\n",
       "      <td>0</td>\n",
       "      <td>0</td>\n",
       "      <td>0</td>\n",
       "    </tr>\n",
       "  </tbody>\n",
       "</table>\n",
       "<p>5 rows × 209 columns</p>\n",
       "</div>"
      ],
      "text/plain": [
       "   id idpostulante  veces_visto  sexo  edad  \\\n",
       "0   0       6M9ZQR            0     0    42   \n",
       "1   1       6v1xdL            0     1    30   \n",
       "2   2       ezRKm9            0     0    36   \n",
       "3   3       1Q35ej            0     1    68   \n",
       "4   4       EAN4J6            0     0    32   \n",
       "\n",
       "                                        titulo  nombre_area  estudio_encurso  \\\n",
       "0                          Asistente Comercial           30                0   \n",
       "1                          Asistente Comercial           30                2   \n",
       "2                          Asistente Comercial           30                0   \n",
       "3  Oracle Financials Sr. Application Developer          170                0   \n",
       "4  Oracle Financials Sr. Application Developer          170                4   \n",
       "\n",
       "   estudio_graduado  tipo_full-time ...   178  179  180  181  182  183  184  \\\n",
       "0                 7               1 ...     0    0    0    0    0    0    0   \n",
       "1                 3               1 ...     0    0    0    0    0    0    0   \n",
       "2                 4               1 ...     0    0    0    0    0    0    0   \n",
       "3                 5               1 ...     0    0    0    0    0    0    0   \n",
       "4                 0               1 ...     0    0    0    0    0    0    0   \n",
       "\n",
       "   185  186  187  \n",
       "0    0    0    0  \n",
       "1    0    0    0  \n",
       "2    0    0    0  \n",
       "3    0    0    0  \n",
       "4    0    0    0  \n",
       "\n",
       "[5 rows x 209 columns]"
      ]
     },
     "execution_count": 14,
     "metadata": {},
     "output_type": "execute_result"
    }
   ],
   "source": [
    "test100k.head()"
   ]
  },
  {
   "cell_type": "code",
   "execution_count": null,
   "metadata": {},
   "outputs": [],
   "source": []
  },
  {
   "cell_type": "code",
   "execution_count": null,
   "metadata": {},
   "outputs": [],
   "source": []
  },
  {
   "cell_type": "markdown",
   "metadata": {},
   "source": [
    "### Merge del historial con One Hot Coding"
   ]
  },
  {
   "cell_type": "code",
   "execution_count": 15,
   "metadata": {},
   "outputs": [
    {
     "name": "stdout",
     "output_type": "stream",
     "text": [
      "<class 'pandas.core.frame.DataFrame'>\n",
      "RangeIndex: 3000000 entries, 0 to 2999999\n",
      "Columns: 397 entries, sepostulo to 187\n",
      "dtypes: int16(190), int32(2), int8(203), object(2)\n",
      "memory usage: 1.7+ GB\n"
     ]
    }
   ],
   "source": [
    "# Aca meto la info del historial (matriz de 188 con el one hot encoding)\n",
    "data = data.merge((data['idpostulante'].to_frame().merge(users_ids_history, how='left', on='idpostulante').drop(columns='idpostulante').fillna(value=0).astype('int16', copy=False)), left_index=True, right_index=True)\n",
    "\n",
    "data.info()"
   ]
  },
  {
   "cell_type": "code",
   "execution_count": 16,
   "metadata": {},
   "outputs": [
    {
     "data": {
      "text/html": [
       "<div>\n",
       "<style scoped>\n",
       "    .dataframe tbody tr th:only-of-type {\n",
       "        vertical-align: middle;\n",
       "    }\n",
       "\n",
       "    .dataframe tbody tr th {\n",
       "        vertical-align: top;\n",
       "    }\n",
       "\n",
       "    .dataframe thead th {\n",
       "        text-align: right;\n",
       "    }\n",
       "</style>\n",
       "<table border=\"1\" class=\"dataframe\">\n",
       "  <thead>\n",
       "    <tr style=\"text-align: right;\">\n",
       "      <th></th>\n",
       "      <th>sepostulo</th>\n",
       "      <th>idpostulante</th>\n",
       "      <th>veces_visto</th>\n",
       "      <th>sexo</th>\n",
       "      <th>edad</th>\n",
       "      <th>titulo</th>\n",
       "      <th>nombre_area</th>\n",
       "      <th>estudio_encurso</th>\n",
       "      <th>estudio_graduado</th>\n",
       "      <th>tipo_full-time</th>\n",
       "      <th>...</th>\n",
       "      <th>178</th>\n",
       "      <th>179</th>\n",
       "      <th>180</th>\n",
       "      <th>181</th>\n",
       "      <th>182</th>\n",
       "      <th>183</th>\n",
       "      <th>184</th>\n",
       "      <th>185</th>\n",
       "      <th>186</th>\n",
       "      <th>187</th>\n",
       "    </tr>\n",
       "  </thead>\n",
       "  <tbody>\n",
       "    <tr>\n",
       "      <th>0</th>\n",
       "      <td>0</td>\n",
       "      <td>bOJWLN9</td>\n",
       "      <td>0</td>\n",
       "      <td>0</td>\n",
       "      <td>26</td>\n",
       "      <td>ADMINISTRATIVO DE COMERCIO EXTERIOR</td>\n",
       "      <td>186</td>\n",
       "      <td>3</td>\n",
       "      <td>1</td>\n",
       "      <td>1</td>\n",
       "      <td>...</td>\n",
       "      <td>0</td>\n",
       "      <td>0</td>\n",
       "      <td>0</td>\n",
       "      <td>0</td>\n",
       "      <td>0</td>\n",
       "      <td>0</td>\n",
       "      <td>0</td>\n",
       "      <td>4</td>\n",
       "      <td>0</td>\n",
       "      <td>0</td>\n",
       "    </tr>\n",
       "    <tr>\n",
       "      <th>1</th>\n",
       "      <td>0</td>\n",
       "      <td>KBzokGX</td>\n",
       "      <td>0</td>\n",
       "      <td>1</td>\n",
       "      <td>27</td>\n",
       "      <td>Estudiantes en búsqueda de Primer Empleo (Vent...</td>\n",
       "      <td>26</td>\n",
       "      <td>0</td>\n",
       "      <td>1</td>\n",
       "      <td>0</td>\n",
       "      <td>...</td>\n",
       "      <td>0</td>\n",
       "      <td>0</td>\n",
       "      <td>0</td>\n",
       "      <td>0</td>\n",
       "      <td>0</td>\n",
       "      <td>0</td>\n",
       "      <td>0</td>\n",
       "      <td>0</td>\n",
       "      <td>0</td>\n",
       "      <td>0</td>\n",
       "    </tr>\n",
       "    <tr>\n",
       "      <th>2</th>\n",
       "      <td>1</td>\n",
       "      <td>EzeqjKz</td>\n",
       "      <td>0</td>\n",
       "      <td>0</td>\n",
       "      <td>38</td>\n",
       "      <td>OPERADORES TELEFÓNICOS DE ATENCIÓN AL CLIENTE</td>\n",
       "      <td>14</td>\n",
       "      <td>4</td>\n",
       "      <td>0</td>\n",
       "      <td>0</td>\n",
       "      <td>...</td>\n",
       "      <td>0</td>\n",
       "      <td>0</td>\n",
       "      <td>0</td>\n",
       "      <td>0</td>\n",
       "      <td>0</td>\n",
       "      <td>0</td>\n",
       "      <td>1</td>\n",
       "      <td>28</td>\n",
       "      <td>0</td>\n",
       "      <td>0</td>\n",
       "    </tr>\n",
       "    <tr>\n",
       "      <th>3</th>\n",
       "      <td>0</td>\n",
       "      <td>5ZxpWk</td>\n",
       "      <td>0</td>\n",
       "      <td>0</td>\n",
       "      <td>38</td>\n",
       "      <td>Asistente de Marketing</td>\n",
       "      <td>120</td>\n",
       "      <td>3</td>\n",
       "      <td>0</td>\n",
       "      <td>1</td>\n",
       "      <td>...</td>\n",
       "      <td>0</td>\n",
       "      <td>0</td>\n",
       "      <td>0</td>\n",
       "      <td>0</td>\n",
       "      <td>0</td>\n",
       "      <td>0</td>\n",
       "      <td>0</td>\n",
       "      <td>0</td>\n",
       "      <td>0</td>\n",
       "      <td>0</td>\n",
       "    </tr>\n",
       "    <tr>\n",
       "      <th>4</th>\n",
       "      <td>0</td>\n",
       "      <td>eK0DPr</td>\n",
       "      <td>0</td>\n",
       "      <td>1</td>\n",
       "      <td>33</td>\n",
       "      <td>Lider de compras de insumos</td>\n",
       "      <td>34</td>\n",
       "      <td>0</td>\n",
       "      <td>1</td>\n",
       "      <td>1</td>\n",
       "      <td>...</td>\n",
       "      <td>0</td>\n",
       "      <td>0</td>\n",
       "      <td>0</td>\n",
       "      <td>0</td>\n",
       "      <td>0</td>\n",
       "      <td>0</td>\n",
       "      <td>0</td>\n",
       "      <td>12</td>\n",
       "      <td>0</td>\n",
       "      <td>0</td>\n",
       "    </tr>\n",
       "  </tbody>\n",
       "</table>\n",
       "<p>5 rows × 397 columns</p>\n",
       "</div>"
      ],
      "text/plain": [
       "   sepostulo idpostulante  veces_visto  sexo  edad  \\\n",
       "0          0      bOJWLN9            0     0    26   \n",
       "1          0      KBzokGX            0     1    27   \n",
       "2          1      EzeqjKz            0     0    38   \n",
       "3          0       5ZxpWk            0     0    38   \n",
       "4          0       eK0DPr            0     1    33   \n",
       "\n",
       "                                              titulo  nombre_area  \\\n",
       "0                ADMINISTRATIVO DE COMERCIO EXTERIOR          186   \n",
       "1  Estudiantes en búsqueda de Primer Empleo (Vent...           26   \n",
       "2      OPERADORES TELEFÓNICOS DE ATENCIÓN AL CLIENTE           14   \n",
       "3                             Asistente de Marketing          120   \n",
       "4                        Lider de compras de insumos           34   \n",
       "\n",
       "   estudio_encurso  estudio_graduado  tipo_full-time ...   178  179  180  181  \\\n",
       "0                3                 1               1 ...     0    0    0    0   \n",
       "1                0                 1               0 ...     0    0    0    0   \n",
       "2                4                 0               0 ...     0    0    0    0   \n",
       "3                3                 0               1 ...     0    0    0    0   \n",
       "4                0                 1               1 ...     0    0    0    0   \n",
       "\n",
       "   182  183  184  185  186  187  \n",
       "0    0    0    0    4    0    0  \n",
       "1    0    0    0    0    0    0  \n",
       "2    0    0    1   28    0    0  \n",
       "3    0    0    0    0    0    0  \n",
       "4    0    0    0   12    0    0  \n",
       "\n",
       "[5 rows x 397 columns]"
      ]
     },
     "execution_count": 16,
     "metadata": {},
     "output_type": "execute_result"
    }
   ],
   "source": [
    "data.head()"
   ]
  },
  {
   "cell_type": "code",
   "execution_count": 17,
   "metadata": {},
   "outputs": [
    {
     "name": "stdout",
     "output_type": "stream",
     "text": [
      "<class 'pandas.core.frame.DataFrame'>\n",
      "RangeIndex: 100000 entries, 0 to 99999\n",
      "Columns: 397 entries, id to 187\n",
      "dtypes: int16(190), int32(2), int64(1), int8(202), object(2)\n",
      "memory usage: 58.6+ MB\n"
     ]
    }
   ],
   "source": [
    "# Aca meto la info del historial (matriz de 188 con el one hot encoding)\n",
    "test100k = test100k.merge((test100k['idpostulante'].to_frame().merge(users_ids_history, how='left', on='idpostulante').drop(columns='idpostulante').fillna(value=0).astype('int16', copy=False)), left_index=True, right_index=True)\n",
    "\n",
    "test100k.info()"
   ]
  },
  {
   "cell_type": "code",
   "execution_count": 18,
   "metadata": {},
   "outputs": [
    {
     "data": {
      "text/html": [
       "<div>\n",
       "<style scoped>\n",
       "    .dataframe tbody tr th:only-of-type {\n",
       "        vertical-align: middle;\n",
       "    }\n",
       "\n",
       "    .dataframe tbody tr th {\n",
       "        vertical-align: top;\n",
       "    }\n",
       "\n",
       "    .dataframe thead th {\n",
       "        text-align: right;\n",
       "    }\n",
       "</style>\n",
       "<table border=\"1\" class=\"dataframe\">\n",
       "  <thead>\n",
       "    <tr style=\"text-align: right;\">\n",
       "      <th></th>\n",
       "      <th>id</th>\n",
       "      <th>idpostulante</th>\n",
       "      <th>veces_visto</th>\n",
       "      <th>sexo</th>\n",
       "      <th>edad</th>\n",
       "      <th>titulo</th>\n",
       "      <th>nombre_area</th>\n",
       "      <th>estudio_encurso</th>\n",
       "      <th>estudio_graduado</th>\n",
       "      <th>tipo_full-time</th>\n",
       "      <th>...</th>\n",
       "      <th>178</th>\n",
       "      <th>179</th>\n",
       "      <th>180</th>\n",
       "      <th>181</th>\n",
       "      <th>182</th>\n",
       "      <th>183</th>\n",
       "      <th>184</th>\n",
       "      <th>185</th>\n",
       "      <th>186</th>\n",
       "      <th>187</th>\n",
       "    </tr>\n",
       "  </thead>\n",
       "  <tbody>\n",
       "    <tr>\n",
       "      <th>0</th>\n",
       "      <td>0</td>\n",
       "      <td>6M9ZQR</td>\n",
       "      <td>0</td>\n",
       "      <td>0</td>\n",
       "      <td>42</td>\n",
       "      <td>Asistente Comercial</td>\n",
       "      <td>30</td>\n",
       "      <td>0</td>\n",
       "      <td>7</td>\n",
       "      <td>1</td>\n",
       "      <td>...</td>\n",
       "      <td>0</td>\n",
       "      <td>0</td>\n",
       "      <td>0</td>\n",
       "      <td>0</td>\n",
       "      <td>0</td>\n",
       "      <td>0</td>\n",
       "      <td>0</td>\n",
       "      <td>0</td>\n",
       "      <td>0</td>\n",
       "      <td>0</td>\n",
       "    </tr>\n",
       "    <tr>\n",
       "      <th>1</th>\n",
       "      <td>1</td>\n",
       "      <td>6v1xdL</td>\n",
       "      <td>0</td>\n",
       "      <td>1</td>\n",
       "      <td>30</td>\n",
       "      <td>Asistente Comercial</td>\n",
       "      <td>30</td>\n",
       "      <td>2</td>\n",
       "      <td>3</td>\n",
       "      <td>1</td>\n",
       "      <td>...</td>\n",
       "      <td>0</td>\n",
       "      <td>0</td>\n",
       "      <td>0</td>\n",
       "      <td>0</td>\n",
       "      <td>0</td>\n",
       "      <td>0</td>\n",
       "      <td>0</td>\n",
       "      <td>4</td>\n",
       "      <td>0</td>\n",
       "      <td>0</td>\n",
       "    </tr>\n",
       "    <tr>\n",
       "      <th>2</th>\n",
       "      <td>2</td>\n",
       "      <td>ezRKm9</td>\n",
       "      <td>0</td>\n",
       "      <td>0</td>\n",
       "      <td>36</td>\n",
       "      <td>Asistente Comercial</td>\n",
       "      <td>30</td>\n",
       "      <td>0</td>\n",
       "      <td>4</td>\n",
       "      <td>1</td>\n",
       "      <td>...</td>\n",
       "      <td>0</td>\n",
       "      <td>0</td>\n",
       "      <td>0</td>\n",
       "      <td>0</td>\n",
       "      <td>0</td>\n",
       "      <td>0</td>\n",
       "      <td>0</td>\n",
       "      <td>0</td>\n",
       "      <td>0</td>\n",
       "      <td>0</td>\n",
       "    </tr>\n",
       "    <tr>\n",
       "      <th>3</th>\n",
       "      <td>3</td>\n",
       "      <td>1Q35ej</td>\n",
       "      <td>0</td>\n",
       "      <td>1</td>\n",
       "      <td>68</td>\n",
       "      <td>Oracle Financials Sr. Application Developer</td>\n",
       "      <td>170</td>\n",
       "      <td>0</td>\n",
       "      <td>5</td>\n",
       "      <td>1</td>\n",
       "      <td>...</td>\n",
       "      <td>0</td>\n",
       "      <td>0</td>\n",
       "      <td>0</td>\n",
       "      <td>0</td>\n",
       "      <td>0</td>\n",
       "      <td>0</td>\n",
       "      <td>0</td>\n",
       "      <td>0</td>\n",
       "      <td>0</td>\n",
       "      <td>0</td>\n",
       "    </tr>\n",
       "    <tr>\n",
       "      <th>4</th>\n",
       "      <td>4</td>\n",
       "      <td>EAN4J6</td>\n",
       "      <td>0</td>\n",
       "      <td>0</td>\n",
       "      <td>32</td>\n",
       "      <td>Oracle Financials Sr. Application Developer</td>\n",
       "      <td>170</td>\n",
       "      <td>4</td>\n",
       "      <td>0</td>\n",
       "      <td>1</td>\n",
       "      <td>...</td>\n",
       "      <td>0</td>\n",
       "      <td>0</td>\n",
       "      <td>0</td>\n",
       "      <td>0</td>\n",
       "      <td>0</td>\n",
       "      <td>0</td>\n",
       "      <td>0</td>\n",
       "      <td>0</td>\n",
       "      <td>0</td>\n",
       "      <td>0</td>\n",
       "    </tr>\n",
       "  </tbody>\n",
       "</table>\n",
       "<p>5 rows × 397 columns</p>\n",
       "</div>"
      ],
      "text/plain": [
       "   id idpostulante  veces_visto  sexo  edad  \\\n",
       "0   0       6M9ZQR            0     0    42   \n",
       "1   1       6v1xdL            0     1    30   \n",
       "2   2       ezRKm9            0     0    36   \n",
       "3   3       1Q35ej            0     1    68   \n",
       "4   4       EAN4J6            0     0    32   \n",
       "\n",
       "                                        titulo  nombre_area  estudio_encurso  \\\n",
       "0                          Asistente Comercial           30                0   \n",
       "1                          Asistente Comercial           30                2   \n",
       "2                          Asistente Comercial           30                0   \n",
       "3  Oracle Financials Sr. Application Developer          170                0   \n",
       "4  Oracle Financials Sr. Application Developer          170                4   \n",
       "\n",
       "   estudio_graduado  tipo_full-time ...   178  179  180  181  182  183  184  \\\n",
       "0                 7               1 ...     0    0    0    0    0    0    0   \n",
       "1                 3               1 ...     0    0    0    0    0    0    0   \n",
       "2                 4               1 ...     0    0    0    0    0    0    0   \n",
       "3                 5               1 ...     0    0    0    0    0    0    0   \n",
       "4                 0               1 ...     0    0    0    0    0    0    0   \n",
       "\n",
       "   185  186  187  \n",
       "0    0    0    0  \n",
       "1    4    0    0  \n",
       "2    0    0    0  \n",
       "3    0    0    0  \n",
       "4    0    0    0  \n",
       "\n",
       "[5 rows x 397 columns]"
      ]
     },
     "execution_count": 18,
     "metadata": {},
     "output_type": "execute_result"
    }
   ],
   "source": [
    "test100k.head()"
   ]
  },
  {
   "cell_type": "code",
   "execution_count": null,
   "metadata": {},
   "outputs": [],
   "source": []
  },
  {
   "cell_type": "markdown",
   "metadata": {},
   "source": [
    "### Pruebo con Random Forest"
   ]
  },
  {
   "cell_type": "code",
   "execution_count": 19,
   "metadata": {},
   "outputs": [],
   "source": [
    "#Saco edad porque vimos que resta score\n",
    "#del train_set, test_set, train_classes, test_classes\n",
    "train_set, test_set, train_classes, test_classes = train_test_split(data.drop(columns=['edad','sepostulo','idpostulante', 'titulo']), data['sepostulo'], test_size=0.3)"
   ]
  },
  {
   "cell_type": "code",
   "execution_count": 38,
   "metadata": {},
   "outputs": [
    {
     "name": "stdout",
     "output_type": "stream",
     "text": [
      "Test: 0.9022588888888889 Entrenamiento: 0.9179080952380952\n"
     ]
    }
   ],
   "source": [
    "clf = RandomForestClassifier(n_estimators=40, min_samples_leaf=7, min_samples_split=4, n_jobs=-1).fit(train_set, train_classes)\n",
    "print('Test:', clf.score(test_set, test_classes), 'Entrenamiento:', clf.score(train_set, train_classes))"
   ]
  },
  {
   "cell_type": "code",
   "execution_count": 39,
   "metadata": {},
   "outputs": [],
   "source": [
    "test100k['sepostulo'] = clf.predict(test100k.drop(columns=['edad','id','idpostulante', 'titulo']))"
   ]
  },
  {
   "cell_type": "code",
   "execution_count": 40,
   "metadata": {},
   "outputs": [],
   "source": [
    "test100k[['id','sepostulo']].to_csv('Resultados/2nuevasfeatures_historialint16_3M_n60.csv', index=False)"
   ]
  },
  {
   "cell_type": "code",
   "execution_count": null,
   "metadata": {},
   "outputs": [],
   "source": []
  },
  {
   "cell_type": "markdown",
   "metadata": {},
   "source": [
    "### GridSearch"
   ]
  },
  {
   "cell_type": "code",
   "execution_count": 31,
   "metadata": {},
   "outputs": [
    {
     "data": {
      "text/plain": [
       "{'min_samples_leaf': 5, 'min_samples_split': 3, 'n_estimators': 40}"
      ]
     },
     "execution_count": 31,
     "metadata": {},
     "output_type": "execute_result"
    }
   ],
   "source": [
    "#GRID SEARCH\n",
    "parameters = {'n_estimators':[20,30,40],'min_samples_leaf':[5,6,7,8,9], 'min_samples_split':[2,3,4,5,6]}\n",
    "rndforst = RandomForestClassifier(n_jobs=-1)\n",
    "clfGS =  GridSearchCV(rndforst, parameters)\n",
    "clfGS.fit(train_set, train_classes)\n",
    "clfGS.best_params_ "
   ]
  },
  {
   "cell_type": "code",
   "execution_count": 32,
   "metadata": {},
   "outputs": [
    {
     "name": "stdout",
     "output_type": "stream",
     "text": [
      "Test: 0.8946266666666667 Entrenamiento: 0.9184957142857143\n"
     ]
    }
   ],
   "source": [
    "print('Test:', clfGS.score(test_set, test_classes), 'Entrenamiento:', clfGS.score(train_set, train_classes))"
   ]
  },
  {
   "cell_type": "code",
   "execution_count": 35,
   "metadata": {},
   "outputs": [],
   "source": [
    "test100k['sepostulo'] = clfGS.predict(test100k.drop(columns=['edad', 'sepostulo','id','idpostulante', 'titulo']))"
   ]
  },
  {
   "cell_type": "code",
   "execution_count": 36,
   "metadata": {},
   "outputs": [],
   "source": [
    "test100k[['id','sepostulo']].to_csv('Resultados/grid_search_2nuevasfeatures.csv', index=False)"
   ]
  },
  {
   "cell_type": "code",
   "execution_count": null,
   "metadata": {},
   "outputs": [],
   "source": []
  },
  {
   "cell_type": "markdown",
   "metadata": {},
   "source": [
    "### Ultimos resultados"
   ]
  },
  {
   "cell_type": "markdown",
   "metadata": {},
   "source": [
    "- Con post_x_aviso, vistas_x_aviso, historial correcto int16\n",
    "    - GridSearch 1M rows\n",
    "        - parameters = {'n_estimators':[20,30,40],'min_samples_leaf':[5,6,7,8,9], 'min_samples_split':[2,3,4,5,6]}\n",
    "        - .best_params_ {'min_samples_leaf': 5, 'min_samples_split': 3, 'n_estimators': 40}\n",
    "        - Test: 0.8946266666666667 Entrenamiento: 0.9184957142857143\n",
    "        - Kaggle:\n",
    "        - test100k[['id','sepostulo']].to_csv('Resultados/grid_search_2nuevasfeatures.csv', index=False)\n",
    "    - 3M rows\n",
    "        - (n_estimators=40, min_samples_leaf=7, min_samples_split=4, n_jobs=-1)\n",
    "            - Test: 0.9018566666666666 Entrenamiento: 0.9173366666666667\n",
    "            - test100k[['id','sepostulo']].to_csv('Resultados/2nuevasfeatures_historialint16_3M.csv', index=False)\n",
    "        - (n_estimators=60, min_samples_leaf=7, min_samples_split=4, n_jobs=-1)\n",
    "            - Test: 0.9022588888888889 Entrenamiento: 0.9179080952380952\n",
    "            - test100k[['id','sepostulo']].to_csv('Resultados/2nuevasfeatures_historialint16_3M_n60.csv', index=False)\n",
    "        - GS params (n_estimators=40, min_samples_leaf=5, min_samples_split=3, n_jobs=-1)\n",
    "            - Test: 0.9046566666666667 Entrenamiento: 0.9254180952380953\n",
    "            - test100k[['id','sepostulo']].to_csv('Resultados/2nuevasfeatures_historialint16_3M_conGSparam.csv', index=False)\n",
    "        - GS params + 20n (n_estimators=60, min_samples_leaf=5, min_samples_split=3, n_jobs=-1)\n",
    "            - Test: 0.9052088888888888 Entrenamiento: 0.9260247619047619\n",
    "            - test100k[['id','sepostulo']].to_csv('Resultados/2nuevasfeatures_historialint16_3M_conGSparam_n60.csv', index=False)"
   ]
  },
  {
   "cell_type": "markdown",
   "metadata": {},
   "source": [
    "### Resultados para ver aporte de vistas_x_aviso y post_x_aviso"
   ]
  },
  {
   "cell_type": "markdown",
   "metadata": {},
   "source": [
    "- RandomForestClassifier(n_estimators=40, min_samples_leaf=7, min_samples_split=4, n_jobs=-1)\n",
    "    - Sin post_x_aviso \n",
    "        - Test: 0.8871733333333334 Entrenamiento: 0.90157\n",
    "    - Con post_x_aviso\n",
    "        - Test: 0.8901833333333333 Entrenamiento: 0.9061214285714285\n",
    "            - Sin vistas_x_aviso\n",
    "                - Test: 0.8898566666666666 Entrenamiento: 0.9059657142857143\n",
    "            - Con vistas_x_aviso\n",
    "                - Test: 0.89138 Entrenamiento: 0.9097014285714285\n",
    "                    - Con historial incorrecto\n",
    "                        - Test: 0.89138 Entrenamiento: 0.9097014285714285\n",
    "                    - Con historial correcto\n",
    "                        - Test: Test: 0.8910966666666666 Entrenamiento: 0.90924\n",
    "                    - Con historial mixto correcto vistas+post\n",
    "                        - Test: 0.8286833333333333 Entrenamiento: 0.8529514285714286"
   ]
  },
  {
   "cell_type": "markdown",
   "metadata": {},
   "source": [
    "### Resultados para ver la diferencia con el historial con error, el correcto con int16, y otros"
   ]
  },
  {
   "cell_type": "markdown",
   "metadata": {},
   "source": [
    "- Sin post_x_aviso, vistas_x_aviso, edad\n",
    "    - Con historiales negativos:\n",
    "        - (n_estimators=40, min_samples_leaf=7, min_samples_split=4, n_jobs=-1)\n",
    "            - Test: 0.8863633333333333 Entrenamiento: 0.9017185714285715\n",
    "            - Kaggle: 0.86702\n",
    "\n",
    "    - Con historial \"pseudo-fix\"\n",
    "        - (n_estimators=40, min_samples_leaf=7, min_samples_split=4, n_jobs=-1)\n",
    "            - Test: 0.8865466666666667 Entrenamiento: 0.9016171428571429\n",
    "        - (n_estimators=30, min_samples_leaf=7, min_samples_split=4, n_jobs=-1)\n",
    "            - Test: 0.88608 Entrenamiento: 0.90129\n",
    "        - (n_estimators=40, min_samples_leaf=6, min_samples_split=5, n_jobs=-1)\n",
    "            - Test: 0.88909 Entrenamiento: 0.9064142857142857    \n",
    "            - Kaggle: 0.87545\n",
    "\n",
    "    - Con historial correcto int16:\n",
    "        - (n_estimators=40, min_samples_leaf=7, min_samples_split=4, n_jobs=-1)\n",
    "            - Test: 0.8875633333333334 Entrenamiento: 0.9020371428571429\n",
    "    - Con historial mixto int16 vistas+post\n",
    "        - (n_estimators=40, min_samples_leaf=7, min_samples_split=4, n_jobs=-1)\n",
    "            - Test: 0.8156833333333333 Entrenamiento: 0.8367371428571428 "
   ]
  },
  {
   "cell_type": "markdown",
   "metadata": {},
   "source": [
    "### Resultados para ver diferencia con y sin One Hot Encoding (188 columnas en 1/0) de los labels (codificados de 0-187 por el LabelEncoder) de nombre_area"
   ]
  },
  {
   "cell_type": "markdown",
   "metadata": {},
   "source": [
    "- Sin post_x_aviso, vistas_x_aviso, edad\n",
    "    - Sin One Hot Encoding en nombre_areas\n",
    "        - (n_estimators=40, min_samples_leaf=7, min_samples_split=4, n_jobs=-1)\n",
    "            - Test: 0.8612533333333333 Entrenamiento: 0.8845785714285714\n",
    "    - Con One Hot Encoding en nombres_areas\n",
    "        - (n_estimators=40, min_samples_leaf=7, min_samples_split=4, n_jobs=-1)\n",
    "            - Test: 0.8863633333333333 Entrenamiento: 0.9017185714285715"
   ]
  },
  {
   "cell_type": "markdown",
   "metadata": {},
   "source": [
    "### Resultados para ver la variacion del score segun el tamanio del set a utilizar"
   ]
  },
  {
   "cell_type": "markdown",
   "metadata": {},
   "source": [
    "- Sin post_x_aviso, vistas_x_aviso, edad\n",
    "    - 350m rows\n",
    "        - (n_estimators=30, min_samples_leaf=5, min_samples_split=4, n_jobs=-1)\n",
    "            - Test: 0.876752380952381 Entrenamiento: 0.9021428571428571\n",
    "        - Grid Search \n",
    "            - parameters = {'n_estimators':[30],'min_samples_leaf':[6,7,8,9], 'min_samples_split':[3,4,5,6]}\n",
    "            - .best_params_ {'min_samples_leaf': 6, 'min_samples_split': 5}\n",
    "            - Test: 0.8759047619047619 Entrenamiento: 0.8957755102040816\n",
    "            - Kaggle: 0.86963\n",
    "            - test100k[['id','sepostulo']].to_csv('Resultados/con_info_actualizada_v2_350msamples_gridserach.csv', index=False)\n",
    "    - (n_estimators=30, min_samples_leaf=7, min_samples_split=4, n_jobs=-1)\n",
    "        - 1M rows (lo de siempre)\n",
    "            - Test: 0.8863633333333333 Entrenamiento: 0.9017185714285715\n",
    "            - Kaggle: 0.86702\n",
    "        - 2M rows\n",
    "            - Test: 0.892795 Entrenamiento: 0.9068257142857142\n",
    "            - Kaggle: 0.87659\n",
    "            - test100k[['id','sepostulo']].to_csv('Resultados/con_info_actualizada_v2_OHEncod_Hist_RndTree_2Msamples.csv', index=False)\n",
    "        - 3M rows\n",
    "            - Test: 0.8969855555555556 Entrenamiento: 0.9096571428571428\n",
    "            - Kaggle: 0.88024\n",
    "            - test100k[['id','sepostulo']].to_csv('Resultados/con_info_actualizada_v2_OHEncod_Hist_RndTree_3Msamples.csv', index=False)\n",
    "    - DecisionTreeClassifier()\n",
    "        - Test: 0.8704633333333334 Entrenamiento: 0.9947728571428571\n",
    "        - Kaggle: 0.84400\n",
    "        - test100k[['id','sepostulo']].to_csv('Resultados/con_info_actualizada_v2_OHEncod_Hist_NewParameters_GridS_DecisTree.csv', index=False)"
   ]
  },
  {
   "cell_type": "code",
   "execution_count": null,
   "metadata": {},
   "outputs": [],
   "source": []
  },
  {
   "cell_type": "code",
   "execution_count": 52,
   "metadata": {},
   "outputs": [
    {
     "data": {
      "text/plain": [
       "[('S.A.', 80594),\n",
       " ('Adecco', 69531),\n",
       " ('Grupo', 50929),\n",
       " ('SA', 47919),\n",
       " ('-Región', 44707),\n",
       " ('&', 37446),\n",
       " ('Manpower', 36582),\n",
       " ('Argentina', 36200),\n",
       " ('RANDSTAD', 34875),\n",
       " ('SRL', 34716),\n",
       " ('de', 32268),\n",
       " ('-', 31862),\n",
       " ('Gestión', 29407),\n",
       " ('Consultores', 27782),\n",
       " ('Office', 26439),\n",
       " ('Assistem', 24876),\n",
       " ('Servicios', 24065),\n",
       " ('GBA', 23887),\n",
       " ('Group', 23475),\n",
       " ('RRHH', 22330),\n",
       " ('Recursos', 20547),\n",
       " ('BBVA', 20144),\n",
       " ('Francés', 20144),\n",
       " ('Humanos', 19297),\n",
       " ('Farmacity', 19182),\n",
       " ('Pullmen', 17841),\n",
       " ('Empresarios', 17841),\n",
       " ('BAYTON', 16546),\n",
       " ('S.R.L.', 16358),\n",
       " ('S.A', 15879),\n",
       " ('y', 15613),\n",
       " ('RH', 14903),\n",
       " ('SUR', 14594),\n",
       " ('Región', 13908),\n",
       " ('Consultora', 12718),\n",
       " ('Suministra', 12585),\n",
       " ('Consulting', 12490),\n",
       " ('OESTE', 11951),\n",
       " ('NORTE', 11883),\n",
       " ('ARGENTINA', 11801),\n",
       " ('Suple', 11761),\n",
       " ('Complement', 10654),\n",
       " ('(holding)', 10654),\n",
       " ('Asociados', 10442),\n",
       " ('Laboral', 9937),\n",
       " ('Marketing', 9838),\n",
       " ('DE', 9795),\n",
       " ('en', 9597),\n",
       " ('Medical', 8785),\n",
       " ('Talentum', 8713),\n",
       " ('Empresas', 8545),\n",
       " ('-Sales', 8512),\n",
       " ('S', 8354),\n",
       " ('S.R.L', 7821),\n",
       " ('HuCap', 7773),\n",
       " ('CONSULTORES', 7699),\n",
       " ('Swiss', 7517),\n",
       " ('A', 7413),\n",
       " ('Asoko', 7269),\n",
       " ('Tempo', 7269),\n",
       " ('Banco', 6924),\n",
       " ('Excelencia', 6902),\n",
       " ('Center', 6864),\n",
       " ('COTO', 6849),\n",
       " ('cicsa', 6849),\n",
       " ('Garbarino', 6602),\n",
       " ('Musimundo', 6587),\n",
       " ('Empresa', 6580),\n",
       " ('Cosmos', 6326),\n",
       " ('GROUP', 6176),\n",
       " ('EN', 5772),\n",
       " ('Humano', 5714),\n",
       " ('Y', 5681),\n",
       " ('EAYA', 5512),\n",
       " ('Baires', 5354),\n",
       " ('BANCO', 5294),\n",
       " ('MACRO', 5294),\n",
       " ('Select', 5263),\n",
       " ('Contact', 5100),\n",
       " ('Oeste', 4810),\n",
       " ('Litoral', 4766),\n",
       " ('Fundación', 4747),\n",
       " ('Activo', 4617),\n",
       " ('Capital', 4498),\n",
       " ('Farmacias', 4431),\n",
       " ('CONA', 4418),\n",
       " ('HR', 4398),\n",
       " ('Importante', 4287),\n",
       " ('Unión', 4268),\n",
       " ('Personal', 4268),\n",
       " ('AB', 4246),\n",
       " ('InBev', 4246),\n",
       " ('Cervecería', 4246),\n",
       " ('Maltería', 4246),\n",
       " ('Quilmes', 4246),\n",
       " ('Atento', 4191),\n",
       " ('Central', 4101),\n",
       " ('con', 4022),\n",
       " ('PROSEGUR', 3919),\n",
       " ('APPLICA', 3863),\n",
       " ('Buenos', 3839),\n",
       " ('Aires', 3839),\n",
       " ('Services', 3772),\n",
       " ('Favaloro', 3761),\n",
       " ('IT', 3712),\n",
       " ('Collections', 3671),\n",
       " ('Frávega', 3645),\n",
       " ('&amp;', 3645),\n",
       " ('SERVICIOS', 3595),\n",
       " ('GI', 3516),\n",
       " ('Teleperformance', 3512),\n",
       " ('ConfiaRH', 3504),\n",
       " ('Eventuales', 3488),\n",
       " ('PSA', 3451),\n",
       " ('Norte', 3424),\n",
       " ('Deloitte', 3423),\n",
       " ('Mook´s', 3361),\n",
       " ('Ciudad', 3361),\n",
       " ('Co.', 3342),\n",
       " ('La', 3306),\n",
       " ('Mimo', 3300),\n",
       " ('Megatlon', 3255),\n",
       " ('Centro', 3195),\n",
       " ('la', 3098),\n",
       " ('Focalizar', 3005),\n",
       " ('Columbia', 2961),\n",
       " ('Estudio', 2933),\n",
       " ('FALABELLA', 2909),\n",
       " ('DISTRIBUIDORA', 2908),\n",
       " ('Gobierno', 2904),\n",
       " ('TALENT', 2852),\n",
       " ('Instituto', 2851),\n",
       " ('MO&PC', 2768),\n",
       " ('Gentile', 2712),\n",
       " ('ASOCIADOS', 2694),\n",
       " ('PRÜNE', 2618),\n",
       " ('Estrategia', 2613),\n",
       " (\"D'arc\", 2589),\n",
       " ('EXTRAMEN', 2582),\n",
       " ('EVENTUALES', 2582),\n",
       " ('Pepsico', 2569),\n",
       " ('SOCIEDAD', 2541),\n",
       " ('Talent', 2514),\n",
       " ('OSDEPYM', 2486),\n",
       " ('ELECTRO', 2484),\n",
       " ('Solutions', 2417),\n",
       " ('C', 2338),\n",
       " ('GMS', 2297),\n",
       " ('Agro.', 2296),\n",
       " ('Universidad', 2256)]"
      ]
     },
     "execution_count": 52,
     "metadata": {},
     "output_type": "execute_result"
    }
   ],
   "source": [
    "#Counter(\" \".join(data[\"denominacion_empresa\"].astype(str)).split()).most_common(150)"
   ]
  },
  {
   "cell_type": "code",
   "execution_count": null,
   "metadata": {},
   "outputs": [],
   "source": []
  },
  {
   "cell_type": "code",
   "execution_count": null,
   "metadata": {},
   "outputs": [],
   "source": []
  },
  {
   "cell_type": "markdown",
   "metadata": {},
   "source": [
    "### Probamos SVM"
   ]
  },
  {
   "cell_type": "markdown",
   "metadata": {},
   "source": [
    "- SVM\n",
    "    - LinearSVC()\n",
    "        - Test: 0.7825833333333333 Entrenamiento: 0.7822107142857143\n",
    "    - LinearSVC(C=1.4)\n",
    "        - Test: 0.73895 Entrenamiento: 0.737025\n",
    "    - LinearSVC(C=1.2)\n",
    "        - Test: 0.7725916666666667 Entrenamiento: 0.7719678571428571\n",
    "    - LinearSVC(C=0.8)\n",
    "        - Test: 0.5775583333333333 Entrenamiento: 0.5793035714285715\n",
    "    - LinearSVC(C=0.6)\n",
    "        - 0.7768833333333334 Entrenamiento: 0.7756821428571429"
   ]
  },
  {
   "cell_type": "code",
   "execution_count": 20,
   "metadata": {},
   "outputs": [],
   "source": [
    "small_data = data.sample(400000)\n",
    "#del train_set, test_set, train_classes, test_classes\n",
    "train_set, test_set, train_classes, test_classes = train_test_split(small_data.drop(columns=['edad','sepostulo','idpostulante', 'titulo']), small_data['sepostulo'], test_size=0.3)"
   ]
  },
  {
   "cell_type": "code",
   "execution_count": 23,
   "metadata": {},
   "outputs": [
    {
     "name": "stdout",
     "output_type": "stream",
     "text": [
      "Test: 0.7825833333333333 Entrenamiento: 0.7822107142857143\n"
     ]
    }
   ],
   "source": [
    "svmclf = svm.LinearSVC().fit(train_set, train_classes)\n",
    "print('Test:', svmclf.score(test_set, test_classes), 'Entrenamiento:', svmclf.score(train_set, train_classes))"
   ]
  },
  {
   "cell_type": "code",
   "execution_count": null,
   "metadata": {},
   "outputs": [],
   "source": []
  },
  {
   "cell_type": "code",
   "execution_count": 24,
   "metadata": {},
   "outputs": [
    {
     "name": "stdout",
     "output_type": "stream",
     "text": [
      "Test: 0.7725916666666667 Entrenamiento: 0.7719678571428571\n"
     ]
    }
   ],
   "source": [
    "svmclf2 = svm.LinearSVC(C=1.2).fit(train_set, train_classes)\n",
    "print('Test:', svmclf2.score(test_set, test_classes), 'Entrenamiento:', svmclf2.score(train_set, train_classes))"
   ]
  },
  {
   "cell_type": "code",
   "execution_count": null,
   "metadata": {},
   "outputs": [],
   "source": []
  },
  {
   "cell_type": "code",
   "execution_count": 25,
   "metadata": {},
   "outputs": [
    {
     "name": "stdout",
     "output_type": "stream",
     "text": [
      "Test: 0.5775583333333333 Entrenamiento: 0.5793035714285715\n"
     ]
    }
   ],
   "source": [
    "svmclf3 = svm.LinearSVC(C=0.8).fit(train_set, train_classes)\n",
    "print('Test:', svmclf3.score(test_set, test_classes), 'Entrenamiento:', svmclf3.score(train_set, train_classes))"
   ]
  },
  {
   "cell_type": "code",
   "execution_count": null,
   "metadata": {},
   "outputs": [],
   "source": []
  },
  {
   "cell_type": "code",
   "execution_count": 26,
   "metadata": {},
   "outputs": [
    {
     "name": "stdout",
     "output_type": "stream",
     "text": [
      "Test: 0.7768833333333334 Entrenamiento: 0.7756821428571429\n"
     ]
    }
   ],
   "source": [
    "svmclf4 = svm.LinearSVC(C=0.6).fit(train_set, train_classes)\n",
    "print('Test:', svmclf4.score(test_set, test_classes), 'Entrenamiento:', svmclf4.score(train_set, train_classes))"
   ]
  },
  {
   "cell_type": "code",
   "execution_count": null,
   "metadata": {},
   "outputs": [],
   "source": []
  },
  {
   "cell_type": "code",
   "execution_count": 27,
   "metadata": {},
   "outputs": [
    {
     "name": "stdout",
     "output_type": "stream",
     "text": [
      "Test: 0.73895 Entrenamiento: 0.737025\n"
     ]
    }
   ],
   "source": [
    "svmclf5 = svm.LinearSVC(C=1.4).fit(train_set, train_classes)\n",
    "print('Test:', svmclf5.score(test_set, test_classes), 'Entrenamiento:', svmclf5.score(train_set, train_classes))"
   ]
  },
  {
   "cell_type": "code",
   "execution_count": null,
   "metadata": {},
   "outputs": [],
   "source": []
  },
  {
   "cell_type": "code",
   "execution_count": null,
   "metadata": {},
   "outputs": [],
   "source": []
  },
  {
   "cell_type": "code",
   "execution_count": null,
   "metadata": {},
   "outputs": [],
   "source": []
  },
  {
   "cell_type": "code",
   "execution_count": null,
   "metadata": {},
   "outputs": [],
   "source": []
  },
  {
   "cell_type": "code",
   "execution_count": null,
   "metadata": {},
   "outputs": [],
   "source": [
    "#GRID SEARCH\n",
    "parameters = {'n_estimators':[100,150,200], 'learning_rate':[1.0,0.8,0.6,1.2,1.4], 'min_samples_split':[3,4,5,6,7], 'min_samples_leaf':[1,5,7,10,15]}\n",
    "gboost = GradientBoostingClassifier()\n",
    "gboostclfGS = GridSearchCV(gboost, parameters)\n",
    "gboostclfGS.fit(train_set, train_classes)\n",
    "gboostclfGS.best_params_"
   ]
  },
  {
   "cell_type": "code",
   "execution_count": null,
   "metadata": {},
   "outputs": [],
   "source": [
    "print('Test:', gboostclfGS.score(test_set, test_classes), 'Entrenamiento:', gboostclfGS.score(train_set, train_classes))"
   ]
  },
  {
   "cell_type": "code",
   "execution_count": null,
   "metadata": {},
   "outputs": [],
   "source": []
  },
  {
   "cell_type": "code",
   "execution_count": null,
   "metadata": {},
   "outputs": [],
   "source": [
    "knnclf = KNeighborsClassifier(n_jobs=-1, n_neighbors=7, algorithm='ball_tree').fit(train_set, train_classes)\n",
    "print('Test:', knnclf.score(test_set, test_classes), 'Entrenamiento:', knnclf.score(train_set, train_classes))"
   ]
  },
  {
   "cell_type": "code",
   "execution_count": null,
   "metadata": {},
   "outputs": [],
   "source": []
  },
  {
   "cell_type": "code",
   "execution_count": null,
   "metadata": {},
   "outputs": [],
   "source": [
    "#GRID SEARCH\n",
    "\n",
    "parameters = {'algorithm':('ball_tree', 'kd_tree', 'brute'), 'n_neighbors':[3,4,5,6,7,8,9,10]}\n",
    "knnclf = KNeighborsClassifier(n_jobs=-1)\n",
    "knnclfGS = GridSearchCV(knnclf, parameters)\n",
    "knnclfGS.fit(train_set, train_classes)\n",
    "knnclfGS.best_params_"
   ]
  },
  {
   "cell_type": "code",
   "execution_count": null,
   "metadata": {},
   "outputs": [],
   "source": [
    "print('Test:', knnclfGS.score(test_set, test_classes), 'Entrenamiento:', knnclfGS.score(train_set, train_classes))"
   ]
  },
  {
   "cell_type": "code",
   "execution_count": null,
   "metadata": {},
   "outputs": [],
   "source": []
  },
  {
   "cell_type": "code",
   "execution_count": null,
   "metadata": {},
   "outputs": [],
   "source": []
  },
  {
   "cell_type": "code",
   "execution_count": null,
   "metadata": {},
   "outputs": [],
   "source": [
    "from sklearn.neural_network import MLPClassifier"
   ]
  },
  {
   "cell_type": "code",
   "execution_count": null,
   "metadata": {},
   "outputs": [],
   "source": [
    "from sklearn.linear_model import LogisticRegression"
   ]
  },
  {
   "cell_type": "code",
   "execution_count": null,
   "metadata": {},
   "outputs": [],
   "source": []
  },
  {
   "cell_type": "code",
   "execution_count": null,
   "metadata": {},
   "outputs": [],
   "source": [
    "logreg = LogisticRegression(max_iter=200, n_jobs=-1, solver='saga').fit(train_set, train_classes)\n",
    "print('Test:',logreg.score(test_set, test_classes), 'Entrenamiento:', logreg.score(train_set, train_classes))"
   ]
  },
  {
   "cell_type": "code",
   "execution_count": null,
   "metadata": {},
   "outputs": [],
   "source": []
  },
  {
   "cell_type": "code",
   "execution_count": null,
   "metadata": {},
   "outputs": [],
   "source": [
    "neural=MLPClassifier().fit(train_set, train_classes)\n",
    "print('Test:',neural.score(test_set, test_classes), 'Entrenamiento:', neural.score(train_set, train_classes))"
   ]
  },
  {
   "cell_type": "code",
   "execution_count": null,
   "metadata": {},
   "outputs": [],
   "source": []
  }
 ],
 "metadata": {
  "kernelspec": {
   "display_name": "Python 3",
   "language": "python",
   "name": "python3"
  },
  "language_info": {
   "codemirror_mode": {
    "name": "ipython",
    "version": 3
   },
   "file_extension": ".py",
   "mimetype": "text/x-python",
   "name": "python",
   "nbconvert_exporter": "python",
   "pygments_lexer": "ipython3",
   "version": "3.6.4"
  }
 },
 "nbformat": 4,
 "nbformat_minor": 2
}
