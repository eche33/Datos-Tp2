{
 "cells": [
  {
   "cell_type": "code",
   "execution_count": 1,
   "metadata": {},
   "outputs": [],
   "source": [
    "import pandas as pd\n",
    "import numpy as np\n",
    "from datetime import datetime         \n",
    "from sklearn import preprocessing"
   ]
  },
  {
   "cell_type": "markdown",
   "metadata": {},
   "source": [
    "### Incorporo feature cuantas postulaciones totales tuvo ese anuncio, una suerte de \"popularidad del anuncio en terminos de postulaciones\""
   ]
  },
  {
   "cell_type": "code",
   "execution_count": 2,
   "metadata": {},
   "outputs": [
    {
     "data": {
      "text/html": [
       "<div>\n",
       "<style scoped>\n",
       "    .dataframe tbody tr th:only-of-type {\n",
       "        vertical-align: middle;\n",
       "    }\n",
       "\n",
       "    .dataframe tbody tr th {\n",
       "        vertical-align: top;\n",
       "    }\n",
       "\n",
       "    .dataframe thead th {\n",
       "        text-align: right;\n",
       "    }\n",
       "</style>\n",
       "<table border=\"1\" class=\"dataframe\">\n",
       "  <thead>\n",
       "    <tr style=\"text-align: right;\">\n",
       "      <th></th>\n",
       "      <th>idaviso</th>\n",
       "      <th>post_x_aviso</th>\n",
       "    </tr>\n",
       "  </thead>\n",
       "  <tbody>\n",
       "    <tr>\n",
       "      <th>0</th>\n",
       "      <td>1112334791</td>\n",
       "      <td>24420</td>\n",
       "    </tr>\n",
       "    <tr>\n",
       "      <th>1</th>\n",
       "      <td>1112094756</td>\n",
       "      <td>22424</td>\n",
       "    </tr>\n",
       "    <tr>\n",
       "      <th>2</th>\n",
       "      <td>1112033906</td>\n",
       "      <td>20570</td>\n",
       "    </tr>\n",
       "    <tr>\n",
       "      <th>3</th>\n",
       "      <td>1112334788</td>\n",
       "      <td>16687</td>\n",
       "    </tr>\n",
       "    <tr>\n",
       "      <th>4</th>\n",
       "      <td>1112196813</td>\n",
       "      <td>13619</td>\n",
       "    </tr>\n",
       "  </tbody>\n",
       "</table>\n",
       "</div>"
      ],
      "text/plain": [
       "      idaviso  post_x_aviso\n",
       "0  1112334791         24420\n",
       "1  1112094756         22424\n",
       "2  1112033906         20570\n",
       "3  1112334788         16687\n",
       "4  1112196813         13619"
      ]
     },
     "execution_count": 2,
     "metadata": {},
     "output_type": "execute_result"
    }
   ],
   "source": [
    "post_totales = pd.concat([pd.read_csv('datos_navent_fiuba/fiuba_4_postulaciones.csv'), pd.read_csv('fiuba_hasta_15_abril/fiuba_4_postulaciones.csv')])\n",
    "post_totales.drop(columns='fechapostulacion', inplace=True)\n",
    "post_totales.drop_duplicates(inplace=True)\n",
    "post_totales.reset_index(drop=True, inplace=True)\n",
    "\n",
    "post_por_avisos = post_totales.groupby(by='idaviso').count()\n",
    "post_por_avisos.rename(columns={'idpostulante':'post_x_aviso'},inplace=True)\n",
    "post_por_avisos.sort_values(by=['post_x_aviso'], ascending=False, inplace=True)\n",
    "post_por_avisos.reset_index(drop=False, inplace=True)\n",
    "\n",
    "del post_totales\n",
    "\n",
    "post_por_avisos.head()"
   ]
  },
  {
   "cell_type": "code",
   "execution_count": null,
   "metadata": {},
   "outputs": [],
   "source": []
  },
  {
   "cell_type": "code",
   "execution_count": null,
   "metadata": {},
   "outputs": [],
   "source": []
  },
  {
   "cell_type": "markdown",
   "metadata": {},
   "source": [
    "### Incorporo feature cuantas vistas totales tuvo ese anuncio, una suerte de \"popularidad del anuncio en terminos de vistas\""
   ]
  },
  {
   "cell_type": "code",
   "execution_count": 3,
   "metadata": {},
   "outputs": [
    {
     "data": {
      "text/html": [
       "<div>\n",
       "<style scoped>\n",
       "    .dataframe tbody tr th:only-of-type {\n",
       "        vertical-align: middle;\n",
       "    }\n",
       "\n",
       "    .dataframe tbody tr th {\n",
       "        vertical-align: top;\n",
       "    }\n",
       "\n",
       "    .dataframe thead th {\n",
       "        text-align: right;\n",
       "    }\n",
       "</style>\n",
       "<table border=\"1\" class=\"dataframe\">\n",
       "  <thead>\n",
       "    <tr style=\"text-align: right;\">\n",
       "      <th></th>\n",
       "      <th>idaviso</th>\n",
       "      <th>vistas_x_aviso</th>\n",
       "    </tr>\n",
       "  </thead>\n",
       "  <tbody>\n",
       "    <tr>\n",
       "      <th>0</th>\n",
       "      <td>1112094756</td>\n",
       "      <td>28064</td>\n",
       "    </tr>\n",
       "    <tr>\n",
       "      <th>1</th>\n",
       "      <td>1806525</td>\n",
       "      <td>18720</td>\n",
       "    </tr>\n",
       "    <tr>\n",
       "      <th>2</th>\n",
       "      <td>1112196813</td>\n",
       "      <td>18529</td>\n",
       "    </tr>\n",
       "    <tr>\n",
       "      <th>3</th>\n",
       "      <td>1112334791</td>\n",
       "      <td>16293</td>\n",
       "    </tr>\n",
       "    <tr>\n",
       "      <th>4</th>\n",
       "      <td>1806178</td>\n",
       "      <td>15252</td>\n",
       "    </tr>\n",
       "  </tbody>\n",
       "</table>\n",
       "</div>"
      ],
      "text/plain": [
       "      idaviso  vistas_x_aviso\n",
       "0  1112094756           28064\n",
       "1     1806525           18720\n",
       "2  1112196813           18529\n",
       "3  1112334791           16293\n",
       "4     1806178           15252"
      ]
     },
     "execution_count": 3,
     "metadata": {},
     "output_type": "execute_result"
    }
   ],
   "source": [
    "vistas_totales = pd.concat([pd.read_csv('datos_navent_fiuba/fiuba_3_vistas.csv'), pd.read_csv('fiuba_hasta_15_abril/fiuba_3_vistas.csv'), pd.read_csv('Fiuba desde 15 Abril/fiuba_3_vistas.csv')])\n",
    "vistas_totales.drop(columns='timestamp', inplace=True)\n",
    "vistas_totales.drop_duplicates(inplace=True)\n",
    "vistas_totales.rename(columns={'idAviso':'idaviso'}, inplace=True)\n",
    "\n",
    "vistas_por_avisos = vistas_totales.groupby(by='idaviso').count()\n",
    "vistas_por_avisos.rename(columns={'idpostulante':'vistas_x_aviso'},inplace=True)\n",
    "vistas_por_avisos.sort_values(by=['vistas_x_aviso'], ascending=False, inplace=True)\n",
    "vistas_por_avisos.reset_index(drop=False, inplace=True)\n",
    "\n",
    "del vistas_totales\n",
    "\n",
    "vistas_por_avisos.head()"
   ]
  },
  {
   "cell_type": "code",
   "execution_count": null,
   "metadata": {},
   "outputs": [],
   "source": []
  },
  {
   "cell_type": "code",
   "execution_count": null,
   "metadata": {},
   "outputs": [],
   "source": []
  },
  {
   "cell_type": "markdown",
   "metadata": {},
   "source": [
    "### Cargo data y test100k, actualizo features y guardo"
   ]
  },
  {
   "cell_type": "code",
   "execution_count": 4,
   "metadata": {},
   "outputs": [
    {
     "name": "stdout",
     "output_type": "stream",
     "text": [
      "<class 'pandas.core.frame.DataFrame'>\n",
      "RangeIndex: 11870121 entries, 0 to 11870120\n",
      "Data columns (total 25 columns):\n",
      "sepostulo               int64\n",
      "idaviso                 int64\n",
      "idpostulante            object\n",
      "fechapostulacion        object\n",
      "ultima_vista            object\n",
      "veces_visto             int64\n",
      "sexo                    int64\n",
      "edad                    int64\n",
      "titulo                  object\n",
      "tipo_de_trabajo         object\n",
      "nivel_laboral           object\n",
      "nombre_area             object\n",
      "denominacion_empresa    object\n",
      "estudio_encurso         int64\n",
      "estudio_graduado        int64\n",
      "tipo_full-time          int64\n",
      "tipo_part-time          int64\n",
      "tipo_otro               int64\n",
      "zona_gba                int64\n",
      "zona_caba               int64\n",
      "nivel_senior            int64\n",
      "nivel_junior            int64\n",
      "nivel_otro              int64\n",
      "nivel_jefe              int64\n",
      "nivel_gerente           int64\n",
      "dtypes: int64(17), object(8)\n",
      "memory usage: 2.2+ GB\n"
     ]
    }
   ],
   "source": [
    "data_set_complete = pd.read_csv('old_data_set_complete_v2.csv', low_memory=False)\n",
    "data_set_complete.info()"
   ]
  },
  {
   "cell_type": "code",
   "execution_count": 5,
   "metadata": {},
   "outputs": [
    {
     "name": "stdout",
     "output_type": "stream",
     "text": [
      "<class 'pandas.core.frame.DataFrame'>\n",
      "Int64Index: 11870121 entries, 0 to 11870120\n",
      "Data columns (total 26 columns):\n",
      "sepostulo               int64\n",
      "idaviso                 int64\n",
      "idpostulante            object\n",
      "fechapostulacion        object\n",
      "ultima_vista            object\n",
      "veces_visto             int64\n",
      "sexo                    int64\n",
      "edad                    int64\n",
      "titulo                  object\n",
      "tipo_de_trabajo         object\n",
      "nivel_laboral           object\n",
      "nombre_area             object\n",
      "denominacion_empresa    object\n",
      "estudio_encurso         int64\n",
      "estudio_graduado        int64\n",
      "tipo_full-time          int64\n",
      "tipo_part-time          int64\n",
      "tipo_otro               int64\n",
      "zona_gba                int64\n",
      "zona_caba               int64\n",
      "nivel_senior            int64\n",
      "nivel_junior            int64\n",
      "nivel_otro              int64\n",
      "nivel_jefe              int64\n",
      "nivel_gerente           int64\n",
      "post_x_aviso            int64\n",
      "dtypes: int64(18), object(8)\n",
      "memory usage: 2.4+ GB\n"
     ]
    }
   ],
   "source": [
    "data_set_complete = data_set_complete.merge(post_por_avisos, how='left', on='idaviso')\n",
    "\n",
    "if(data_set_complete['post_x_aviso'].hasnans):\n",
    "    data_set_complete['post_x_aviso'].fillna(value=0, inplace=True)\n",
    "\n",
    "data_set_complete['post_x_aviso'] = data_set_complete['post_x_aviso'].astype(int)\n",
    "\n",
    "data_set_complete.info()"
   ]
  },
  {
   "cell_type": "code",
   "execution_count": 6,
   "metadata": {},
   "outputs": [
    {
     "name": "stdout",
     "output_type": "stream",
     "text": [
      "<class 'pandas.core.frame.DataFrame'>\n",
      "Int64Index: 11870121 entries, 0 to 11870120\n",
      "Data columns (total 27 columns):\n",
      "sepostulo               int64\n",
      "idaviso                 int64\n",
      "idpostulante            object\n",
      "fechapostulacion        object\n",
      "ultima_vista            object\n",
      "veces_visto             int64\n",
      "sexo                    int64\n",
      "edad                    int64\n",
      "titulo                  object\n",
      "tipo_de_trabajo         object\n",
      "nivel_laboral           object\n",
      "nombre_area             object\n",
      "denominacion_empresa    object\n",
      "estudio_encurso         int64\n",
      "estudio_graduado        int64\n",
      "tipo_full-time          int64\n",
      "tipo_part-time          int64\n",
      "tipo_otro               int64\n",
      "zona_gba                int64\n",
      "zona_caba               int64\n",
      "nivel_senior            int64\n",
      "nivel_junior            int64\n",
      "nivel_otro              int64\n",
      "nivel_jefe              int64\n",
      "nivel_gerente           int64\n",
      "post_x_aviso            int64\n",
      "vistas_x_aviso          int64\n",
      "dtypes: int64(19), object(8)\n",
      "memory usage: 2.5+ GB\n"
     ]
    }
   ],
   "source": [
    "data_set_complete = data_set_complete.merge(vistas_por_avisos, how='left', on='idaviso')\n",
    "\n",
    "if(data_set_complete['vistas_x_aviso'].hasnans):\n",
    "    data_set_complete['vistas_x_aviso'].fillna(value=0, inplace=True)\n",
    "\n",
    "data_set_complete['vistas_x_aviso'] = data_set_complete['vistas_x_aviso'].astype(int)\n",
    "\n",
    "data_set_complete.info()"
   ]
  },
  {
   "cell_type": "code",
   "execution_count": 15,
   "metadata": {},
   "outputs": [],
   "source": [
    "#data_set_complete.to_csv('data_set_complete_v2.csv', index=False)"
   ]
  },
  {
   "cell_type": "code",
   "execution_count": null,
   "metadata": {},
   "outputs": [],
   "source": []
  },
  {
   "cell_type": "code",
   "execution_count": null,
   "metadata": {},
   "outputs": [],
   "source": []
  },
  {
   "cell_type": "code",
   "execution_count": 8,
   "metadata": {},
   "outputs": [
    {
     "name": "stdout",
     "output_type": "stream",
     "text": [
      "<class 'pandas.core.frame.DataFrame'>\n",
      "RangeIndex: 100000 entries, 0 to 99999\n",
      "Data columns (total 25 columns):\n",
      "id                      100000 non-null int64\n",
      "idaviso                 100000 non-null int64\n",
      "idpostulante            100000 non-null object\n",
      "fechapostulacion        0 non-null float64\n",
      "ultima_vista            34161 non-null object\n",
      "veces_visto             100000 non-null int64\n",
      "sexo                    100000 non-null int64\n",
      "edad                    100000 non-null int64\n",
      "titulo                  100000 non-null object\n",
      "tipo_de_trabajo         100000 non-null object\n",
      "nivel_laboral           100000 non-null object\n",
      "nombre_area             100000 non-null object\n",
      "denominacion_empresa    99988 non-null object\n",
      "estudio_encurso         100000 non-null int64\n",
      "estudio_graduado        100000 non-null int64\n",
      "tipo_full-time          100000 non-null int64\n",
      "tipo_part-time          100000 non-null int64\n",
      "tipo_otro               100000 non-null int64\n",
      "zona_gba                100000 non-null int64\n",
      "zona_caba               100000 non-null int64\n",
      "nivel_senior            100000 non-null int64\n",
      "nivel_junior            100000 non-null int64\n",
      "nivel_otro              100000 non-null int64\n",
      "nivel_jefe              100000 non-null int64\n",
      "nivel_gerente           100000 non-null int64\n",
      "dtypes: float64(1), int64(17), object(7)\n",
      "memory usage: 19.1+ MB\n"
     ]
    }
   ],
   "source": [
    "test100k = pd.read_csv('old_test100k_complete_v2.csv', low_memory=False)\n",
    "test100k.info()"
   ]
  },
  {
   "cell_type": "code",
   "execution_count": 9,
   "metadata": {},
   "outputs": [
    {
     "name": "stdout",
     "output_type": "stream",
     "text": [
      "<class 'pandas.core.frame.DataFrame'>\n",
      "Int64Index: 100000 entries, 0 to 99999\n",
      "Data columns (total 26 columns):\n",
      "id                      100000 non-null int64\n",
      "idaviso                 100000 non-null int64\n",
      "idpostulante            100000 non-null object\n",
      "fechapostulacion        0 non-null float64\n",
      "ultima_vista            34161 non-null object\n",
      "veces_visto             100000 non-null int64\n",
      "sexo                    100000 non-null int64\n",
      "edad                    100000 non-null int64\n",
      "titulo                  100000 non-null object\n",
      "tipo_de_trabajo         100000 non-null object\n",
      "nivel_laboral           100000 non-null object\n",
      "nombre_area             100000 non-null object\n",
      "denominacion_empresa    99988 non-null object\n",
      "estudio_encurso         100000 non-null int64\n",
      "estudio_graduado        100000 non-null int64\n",
      "tipo_full-time          100000 non-null int64\n",
      "tipo_part-time          100000 non-null int64\n",
      "tipo_otro               100000 non-null int64\n",
      "zona_gba                100000 non-null int64\n",
      "zona_caba               100000 non-null int64\n",
      "nivel_senior            100000 non-null int64\n",
      "nivel_junior            100000 non-null int64\n",
      "nivel_otro              100000 non-null int64\n",
      "nivel_jefe              100000 non-null int64\n",
      "nivel_gerente           100000 non-null int64\n",
      "post_x_aviso            100000 non-null int64\n",
      "dtypes: float64(1), int64(18), object(7)\n",
      "memory usage: 20.6+ MB\n"
     ]
    }
   ],
   "source": [
    "test100k = test100k.merge(post_por_avisos, how='left', on='idaviso')\n",
    "\n",
    "if(test100k['post_x_aviso'].hasnans):\n",
    "    test100k['post_x_aviso'].fillna(value=0, inplace=True)\n",
    "\n",
    "test100k['post_x_aviso'] = test100k['post_x_aviso'].astype(int)\n",
    "\n",
    "test100k.info()"
   ]
  },
  {
   "cell_type": "code",
   "execution_count": 10,
   "metadata": {},
   "outputs": [
    {
     "name": "stdout",
     "output_type": "stream",
     "text": [
      "<class 'pandas.core.frame.DataFrame'>\n",
      "Int64Index: 100000 entries, 0 to 99999\n",
      "Data columns (total 27 columns):\n",
      "id                      100000 non-null int64\n",
      "idaviso                 100000 non-null int64\n",
      "idpostulante            100000 non-null object\n",
      "fechapostulacion        0 non-null float64\n",
      "ultima_vista            34161 non-null object\n",
      "veces_visto             100000 non-null int64\n",
      "sexo                    100000 non-null int64\n",
      "edad                    100000 non-null int64\n",
      "titulo                  100000 non-null object\n",
      "tipo_de_trabajo         100000 non-null object\n",
      "nivel_laboral           100000 non-null object\n",
      "nombre_area             100000 non-null object\n",
      "denominacion_empresa    99988 non-null object\n",
      "estudio_encurso         100000 non-null int64\n",
      "estudio_graduado        100000 non-null int64\n",
      "tipo_full-time          100000 non-null int64\n",
      "tipo_part-time          100000 non-null int64\n",
      "tipo_otro               100000 non-null int64\n",
      "zona_gba                100000 non-null int64\n",
      "zona_caba               100000 non-null int64\n",
      "nivel_senior            100000 non-null int64\n",
      "nivel_junior            100000 non-null int64\n",
      "nivel_otro              100000 non-null int64\n",
      "nivel_jefe              100000 non-null int64\n",
      "nivel_gerente           100000 non-null int64\n",
      "post_x_aviso            100000 non-null int64\n",
      "vistas_x_aviso          100000 non-null int64\n",
      "dtypes: float64(1), int64(19), object(7)\n",
      "memory usage: 21.4+ MB\n"
     ]
    }
   ],
   "source": [
    "test100k = test100k.merge(vistas_por_avisos, how='left', on='idaviso')\n",
    "\n",
    "if(test100k['vistas_x_aviso'].hasnans):\n",
    "    test100k['vistas_x_aviso'].fillna(value=0, inplace=True)\n",
    "\n",
    "test100k['vistas_x_aviso'] = test100k['vistas_x_aviso'].astype(int)\n",
    "\n",
    "test100k.info()"
   ]
  },
  {
   "cell_type": "code",
   "execution_count": 16,
   "metadata": {},
   "outputs": [],
   "source": [
    "#test100k.to_csv('test100k_complete_v2.csv', index=False)"
   ]
  },
  {
   "cell_type": "code",
   "execution_count": null,
   "metadata": {},
   "outputs": [],
   "source": []
  }
 ],
 "metadata": {
  "kernelspec": {
   "display_name": "Python 3",
   "language": "python",
   "name": "python3"
  },
  "language_info": {
   "codemirror_mode": {
    "name": "ipython",
    "version": 3
   },
   "file_extension": ".py",
   "mimetype": "text/x-python",
   "name": "python",
   "nbconvert_exporter": "python",
   "pygments_lexer": "ipython3",
   "version": "3.5.2"
  }
 },
 "nbformat": 4,
 "nbformat_minor": 2
}
