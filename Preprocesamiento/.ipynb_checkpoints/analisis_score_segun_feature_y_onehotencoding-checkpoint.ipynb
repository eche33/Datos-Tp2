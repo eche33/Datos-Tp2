{
 "cells": [
  {
   "cell_type": "code",
   "execution_count": 1,
   "metadata": {},
   "outputs": [],
   "source": [
    "import pandas as pd\n",
    "import numpy as np\n",
    "from datetime import datetime\n",
    "            \n",
    "from sklearn import preprocessing\n",
    "from sklearn.model_selection import train_test_split\n",
    "from sklearn.ensemble import RandomForestClassifier\n",
    "from sklearn.ensemble import ExtraTreesClassifier\n",
    "from sklearn.ensemble import AdaBoostClassifier\n",
    "from sklearn import tree\n",
    "from collections import Counter\n",
    "from sklearn.ensemble import GradientBoostingClassifier\n",
    "from sklearn.model_selection import GridSearchCV\n",
    "from sklearn.ensemble import BaggingClassifier\n",
    "from sklearn.model_selection import cross_val_score\n",
    "from sklearn.naive_bayes import GaussianNB\n",
    "from collections import Counter\n",
    "from sklearn.neighbors import KNeighborsClassifier"
   ]
  },
  {
   "cell_type": "code",
   "execution_count": null,
   "metadata": {},
   "outputs": [],
   "source": [
    "        "
   ]
  },
  {
   "cell_type": "code",
   "execution_count": null,
   "metadata": {},
   "outputs": [],
   "source": [
    "    "
   ]
  },
  {
   "cell_type": "markdown",
   "metadata": {},
   "source": [
    "### Cargo dataset completo, borro filas con rows nulas, tomo rapidamente muestra de tamanio menor para ahorrar memoria, y borro el original"
   ]
  },
  {
   "cell_type": "code",
   "execution_count": 2,
   "metadata": {},
   "outputs": [
    {
     "name": "stdout",
     "output_type": "stream",
     "text": [
      "<class 'pandas.core.frame.DataFrame'>\n",
      "RangeIndex: 13208286 entries, 0 to 13208285\n",
      "Data columns (total 16 columns):\n",
      "sepostulo               int8\n",
      "idaviso                 int64\n",
      "idpostulante            object\n",
      "fechapostulacion        datetime64[ns]\n",
      "ultima_vista            datetime64[ns]\n",
      "veces_visto             int16\n",
      "estudios                category\n",
      "estado                  category\n",
      "sexo                    category\n",
      "edad                    int8\n",
      "titulo                  object\n",
      "nombre_zona             category\n",
      "tipo_de_trabajo         category\n",
      "nivel_laboral           category\n",
      "nombre_area             category\n",
      "denominacion_empresa    object\n",
      "dtypes: category(7), datetime64[ns](2), int16(1), int64(1), int8(2), object(3)\n",
      "memory usage: 755.8+ MB\n"
     ]
    }
   ],
   "source": [
    "data_set_complete = pd.read_csv('data_set_complete.csv', parse_dates=['fechapostulacion', 'ultima_vista'], dtype={'sepostulo':'int8', 'idaviso':'int64', 'idpostulante':'object', 'veces_visto':'int16', 'estudios':'category', 'estado':'category', 'edad':'int8', 'sexo':'category','nombre_zona':'category', 'tipo_de_trabajo':'category', 'nivel_laboral':'category', 'nombre_area':'category'})\n",
    "data_set_complete.info()"
   ]
  },
  {
   "cell_type": "code",
   "execution_count": 3,
   "metadata": {},
   "outputs": [],
   "source": [
    "data_set_complete.dropna(subset=['estudios','estado','sexo','edad','nombre_zona','tipo_de_trabajo','nivel_laboral','nombre_area'], inplace=True)\n",
    "data_set_complete = data_set_complete[data_set_complete['sexo']!='NO_DECLARA']\n",
    "data = data_set_complete.sample(1000000)\n",
    "del data_set_complete"
   ]
  },
  {
   "cell_type": "code",
   "execution_count": null,
   "metadata": {},
   "outputs": [],
   "source": []
  },
  {
   "cell_type": "markdown",
   "metadata": {},
   "source": [
    "### Concateno toda la info de educacion"
   ]
  },
  {
   "cell_type": "code",
   "execution_count": 103,
   "metadata": {},
   "outputs": [
    {
     "data": {
      "text/html": [
       "<div>\n",
       "<style scoped>\n",
       "    .dataframe tbody tr th:only-of-type {\n",
       "        vertical-align: middle;\n",
       "    }\n",
       "\n",
       "    .dataframe tbody tr th {\n",
       "        vertical-align: top;\n",
       "    }\n",
       "\n",
       "    .dataframe thead th {\n",
       "        text-align: right;\n",
       "    }\n",
       "</style>\n",
       "<table border=\"1\" class=\"dataframe\">\n",
       "  <thead>\n",
       "    <tr style=\"text-align: right;\">\n",
       "      <th></th>\n",
       "      <th>idpostulante</th>\n",
       "      <th>encurso</th>\n",
       "      <th>estudio_encurso</th>\n",
       "      <th>graduado</th>\n",
       "      <th>estudio_graduado</th>\n",
       "    </tr>\n",
       "  </thead>\n",
       "  <tbody>\n",
       "    <tr>\n",
       "      <th>0</th>\n",
       "      <td>0zB028M</td>\n",
       "      <td>Terciario/Técnico</td>\n",
       "      <td>3.0</td>\n",
       "      <td>Otro</td>\n",
       "      <td>2.0</td>\n",
       "    </tr>\n",
       "    <tr>\n",
       "      <th>1</th>\n",
       "      <td>0zB03O9</td>\n",
       "      <td>Terciario/Técnico</td>\n",
       "      <td>3.0</td>\n",
       "      <td>Secundario</td>\n",
       "      <td>1.0</td>\n",
       "    </tr>\n",
       "    <tr>\n",
       "      <th>2</th>\n",
       "      <td>0zB0PLa</td>\n",
       "      <td>Universitario</td>\n",
       "      <td>4.0</td>\n",
       "      <td>Secundario</td>\n",
       "      <td>1.0</td>\n",
       "    </tr>\n",
       "    <tr>\n",
       "      <th>3</th>\n",
       "      <td>0zB0WZE</td>\n",
       "      <td>Universitario</td>\n",
       "      <td>4.0</td>\n",
       "      <td>NaN</td>\n",
       "      <td>NaN</td>\n",
       "    </tr>\n",
       "    <tr>\n",
       "      <th>4</th>\n",
       "      <td>0zB0Xwd</td>\n",
       "      <td>Universitario</td>\n",
       "      <td>4.0</td>\n",
       "      <td>Secundario</td>\n",
       "      <td>1.0</td>\n",
       "    </tr>\n",
       "  </tbody>\n",
       "</table>\n",
       "</div>"
      ],
      "text/plain": [
       "  idpostulante            encurso  estudio_encurso    graduado  \\\n",
       "0      0zB028M  Terciario/Técnico              3.0        Otro   \n",
       "1      0zB03O9  Terciario/Técnico              3.0  Secundario   \n",
       "2      0zB0PLa      Universitario              4.0  Secundario   \n",
       "3      0zB0WZE      Universitario              4.0         NaN   \n",
       "4      0zB0Xwd      Universitario              4.0  Secundario   \n",
       "\n",
       "   estudio_graduado  \n",
       "0               2.0  \n",
       "1               1.0  \n",
       "2               1.0  \n",
       "3               NaN  \n",
       "4               1.0  "
      ]
     },
     "execution_count": 103,
     "metadata": {},
     "output_type": "execute_result"
    }
   ],
   "source": [
    "edu_totales = pd.concat([pd.read_csv('datos_navent_fiuba/fiuba_1_postulantes_educacion.csv'), pd.read_csv('fiuba_hasta_15_abril/fiuba_1_postulantes_educacion.csv'), pd.read_csv('Fiuba desde 15 Abril/fiuba_1_postulantes_educacion.csv')])\n",
    "edu_totales.drop_duplicates(inplace=True)\n",
    "\n",
    "edu_totales = edu_totales.rename(columns={'nombre':'estudios'})\n",
    "edu_totales['estudios'] = edu_totales['estudios'].astype('category')\n",
    "edu_totales['estado'] = edu_totales['estado'].astype('category')\n",
    "\n",
    "#Saco abandonados y me separo graduados de en curso\n",
    "\n",
    "edu_graduados = edu_totales[edu_totales['estado']=='Graduado'].drop(columns='estado')\n",
    "edu_encurso = edu_totales[edu_totales['estado']=='En Curso'].drop(columns='estado')\n",
    "\n",
    "del edu_totales\n",
    "\n",
    "# Creo nuevas columnas indicando el orden del nivel del estudio\n",
    "\n",
    "edu_estudios_list = ['Ninguno','Secundario', 'Otro', 'Terciario/Técnico', 'Universitario', 'Posgrado', 'Master', 'Doctorado']\n",
    "\n",
    "edu_graduados['estudio_graduado'] = edu_graduados['estudios'].apply(lambda x: edu_estudios_list.index(x)).astype('int8')\n",
    "edu_graduados.sort_values('estudio_graduado', ascending=True, inplace=True)\n",
    "edu_graduados.drop_duplicates(subset=['idpostulante'], keep='last', inplace=True)\n",
    "edu_graduados.sort_values(by=['idpostulante'], ascending=True, inplace=True)\n",
    "edu_graduados.rename(columns={'estudios':'graduado'}, inplace=True)\n",
    "edu_graduados.reset_index(drop=True, inplace=True)\n",
    "\n",
    "edu_encurso['estudio_encurso'] = edu_encurso['estudios'].apply(lambda x: edu_estudios_list.index(x)).astype('int8')\n",
    "edu_encurso.sort_values('estudio_encurso', ascending=True, inplace=True)\n",
    "edu_encurso.drop_duplicates(subset=['idpostulante'], keep='last', inplace=True)\n",
    "edu_encurso.sort_values(by=['idpostulante'], ascending=True, inplace=True)\n",
    "edu_encurso.rename(columns={'estudios':'encurso'}, inplace=True)\n",
    "edu_encurso.reset_index(drop=True, inplace=True)\n",
    "\n",
    "edu_totales = pd.merge(edu_encurso, edu_graduados, how='outer', on='idpostulante')\n",
    "\n",
    "del edu_graduados, edu_encurso\n",
    "\n",
    "edu_totales.head()"
   ]
  },
  {
   "cell_type": "code",
   "execution_count": null,
   "metadata": {},
   "outputs": [],
   "source": []
  },
  {
   "cell_type": "code",
   "execution_count": null,
   "metadata": {},
   "outputs": [],
   "source": []
  },
  {
   "cell_type": "markdown",
   "metadata": {},
   "source": [
    "### Concateno todos los set de vistas y calculo cantidad de vistas de cada usuario a cada anuncio"
   ]
  },
  {
   "cell_type": "code",
   "execution_count": 104,
   "metadata": {},
   "outputs": [
    {
     "data": {
      "text/html": [
       "<div>\n",
       "<style scoped>\n",
       "    .dataframe tbody tr th:only-of-type {\n",
       "        vertical-align: middle;\n",
       "    }\n",
       "\n",
       "    .dataframe tbody tr th {\n",
       "        vertical-align: top;\n",
       "    }\n",
       "\n",
       "    .dataframe thead th {\n",
       "        text-align: right;\n",
       "    }\n",
       "</style>\n",
       "<table border=\"1\" class=\"dataframe\">\n",
       "  <thead>\n",
       "    <tr style=\"text-align: right;\">\n",
       "      <th></th>\n",
       "      <th>idaviso</th>\n",
       "      <th>idpostulante</th>\n",
       "      <th>veces_visto</th>\n",
       "    </tr>\n",
       "  </thead>\n",
       "  <tbody>\n",
       "    <tr>\n",
       "      <th>0</th>\n",
       "      <td>18</td>\n",
       "      <td>BolNL</td>\n",
       "      <td>2</td>\n",
       "    </tr>\n",
       "    <tr>\n",
       "      <th>1</th>\n",
       "      <td>48375</td>\n",
       "      <td>RwVdKR</td>\n",
       "      <td>1</td>\n",
       "    </tr>\n",
       "    <tr>\n",
       "      <th>2</th>\n",
       "      <td>169730</td>\n",
       "      <td>1KjXB</td>\n",
       "      <td>2</td>\n",
       "    </tr>\n",
       "    <tr>\n",
       "      <th>3</th>\n",
       "      <td>169730</td>\n",
       "      <td>2AKzxa</td>\n",
       "      <td>2</td>\n",
       "    </tr>\n",
       "    <tr>\n",
       "      <th>4</th>\n",
       "      <td>169730</td>\n",
       "      <td>6LJ64</td>\n",
       "      <td>1</td>\n",
       "    </tr>\n",
       "  </tbody>\n",
       "</table>\n",
       "</div>"
      ],
      "text/plain": [
       "   idaviso idpostulante  veces_visto\n",
       "0       18        BolNL            2\n",
       "1    48375       RwVdKR            1\n",
       "2   169730        1KjXB            2\n",
       "3   169730       2AKzxa            2\n",
       "4   169730        6LJ64            1"
      ]
     },
     "execution_count": 104,
     "metadata": {},
     "output_type": "execute_result"
    }
   ],
   "source": [
    "vistas_totales = pd.concat([pd.read_csv('datos_navent_fiuba/fiuba_3_vistas.csv'), pd.read_csv('fiuba_hasta_15_abril/fiuba_3_vistas.csv'), pd.read_csv('Fiuba desde 15 Abril/fiuba_3_vistas.csv')])\n",
    "\n",
    "def normalize_str(date_str):\n",
    "    return (date_str[:10]+' '+date_str[11:19])\n",
    "    \n",
    "vistas_totales['timestamp'] = vistas_totales['timestamp'].apply(normalize_str)\n",
    "vistas_totales['timestamp'] = pd.to_datetime(vistas_totales['timestamp'])\n",
    "\n",
    "vistas_totales.drop_duplicates(inplace=True)\n",
    "\n",
    "vistas_totales.rename(columns={'idAviso':'idaviso'}, inplace=True)\n",
    "\n",
    "#Calculo cantidad de vistas de cada usuario a cada anuncio\n",
    "\n",
    "vistas_totales_count = vistas_totales.groupby(by=['idaviso', 'idpostulante']).count()\n",
    "vistas_totales_count.reset_index(drop=False, inplace=True)\n",
    "vistas_totales_count.rename(columns={'timestamp':'veces_visto'}, inplace=True)\n",
    "\n",
    "del vistas_totales\n",
    "\n",
    "vistas_totales_count.head()"
   ]
  },
  {
   "cell_type": "code",
   "execution_count": null,
   "metadata": {},
   "outputs": [],
   "source": []
  },
  {
   "cell_type": "code",
   "execution_count": null,
   "metadata": {},
   "outputs": [],
   "source": []
  },
  {
   "cell_type": "markdown",
   "metadata": {},
   "source": [
    "### Trabajo sobre la data, realizo one hot encoding manual"
   ]
  },
  {
   "cell_type": "code",
   "execution_count": 7,
   "metadata": {},
   "outputs": [],
   "source": [
    "data.drop(columns=['estudios', 'estado'], inplace=True)\n",
    "data = data.merge(edu_totales[['idpostulante','estudio_encurso','estudio_graduado']], on='idpostulante', how='left')\n",
    "\n",
    "data['estudio_encurso'] = data['estudio_encurso'].fillna(value=0).astype('int8')\n",
    "data['estudio_graduado'] = data['estudio_graduado'].fillna(value=0).astype('int8')"
   ]
  },
  {
   "cell_type": "code",
   "execution_count": 8,
   "metadata": {},
   "outputs": [
    {
     "data": {
      "text/plain": [
       "Full-time          847667\n",
       "Part-time          136942\n",
       "Pasantia             4904\n",
       "Por Horas            3483\n",
       "Temporario           2687\n",
       "Por Contrato         1454\n",
       "Fines de Semana      1450\n",
       "Teletrabajo          1021\n",
       "Primer empleo         342\n",
       "Voluntario             50\n",
       "Name: tipo_de_trabajo, dtype: int64"
      ]
     },
     "execution_count": 8,
     "metadata": {},
     "output_type": "execute_result"
    }
   ],
   "source": [
    "data['tipo_de_trabajo'].value_counts()"
   ]
  },
  {
   "cell_type": "code",
   "execution_count": 9,
   "metadata": {},
   "outputs": [],
   "source": [
    "data['tipo_full-time'] = data['tipo_de_trabajo'].apply(lambda x: 1 if (x=='Full-time') else 0).astype('int8')\n",
    "data['tipo_part-time'] = data['tipo_de_trabajo'].apply(lambda x: 1 if (x=='Part-time') else 0).astype('int8')\n",
    "data['tipo_otro'] = data['tipo_de_trabajo'].apply(lambda x: 1 if ((x != 'Full-time') & (x != 'Part-time')) else 0).astype('int8')\n",
    "\n",
    "data.drop(columns='tipo_de_trabajo', inplace=True)"
   ]
  },
  {
   "cell_type": "code",
   "execution_count": 10,
   "metadata": {},
   "outputs": [],
   "source": [
    "data['zona_gba'] = data['nombre_zona'].apply(lambda x: 1 if ((x=='Gran Buenos Aires') or (x=='GBA Oeste')) else 0).astype('int8')\n",
    "data['zona_caba'] = data['nombre_zona'].apply(lambda x: 1 if (x=='Capital Federal') else 0).astype('int8')\n",
    "\n",
    "data.drop(columns='nombre_zona', inplace=True)"
   ]
  },
  {
   "cell_type": "code",
   "execution_count": 11,
   "metadata": {},
   "outputs": [],
   "source": [
    "data['nivel_senior'] = data['nivel_laboral'].apply(lambda x: 1 if (x=='Senior / Semi-Senior') else 0).astype('int8')\n",
    "data['nivel_junior'] = data['nivel_laboral'].apply(lambda x: 1 if (x=='Junior') else 0).astype('int8')\n",
    "data['nivel_otro'] = data['nivel_laboral'].apply(lambda x: 1 if (x=='Otro') else 0).astype('int8')\n",
    "data['nivel_jefe'] = data['nivel_laboral'].apply(lambda x: 1 if (x=='Jefe / Supervisor / Responsable') else 0).astype('int8')\n",
    "data['nivel_gerente'] = data['nivel_laboral'].apply(lambda x: 1 if (x=='Gerencia / Alta Gerencia / Dirección') else 0).astype('int8')\n",
    "\n",
    "data.drop(columns='nivel_laboral', inplace=True)"
   ]
  },
  {
   "cell_type": "code",
   "execution_count": 12,
   "metadata": {},
   "outputs": [
    {
     "data": {
      "text/html": [
       "<div>\n",
       "<style scoped>\n",
       "    .dataframe tbody tr th:only-of-type {\n",
       "        vertical-align: middle;\n",
       "    }\n",
       "\n",
       "    .dataframe tbody tr th {\n",
       "        vertical-align: top;\n",
       "    }\n",
       "\n",
       "    .dataframe thead th {\n",
       "        text-align: right;\n",
       "    }\n",
       "</style>\n",
       "<table border=\"1\" class=\"dataframe\">\n",
       "  <thead>\n",
       "    <tr style=\"text-align: right;\">\n",
       "      <th></th>\n",
       "      <th>sepostulo</th>\n",
       "      <th>idaviso</th>\n",
       "      <th>idpostulante</th>\n",
       "      <th>fechapostulacion</th>\n",
       "      <th>ultima_vista</th>\n",
       "      <th>veces_visto</th>\n",
       "      <th>sexo</th>\n",
       "      <th>edad</th>\n",
       "      <th>titulo</th>\n",
       "      <th>nombre_area</th>\n",
       "      <th>...</th>\n",
       "      <th>tipo_full-time</th>\n",
       "      <th>tipo_part-time</th>\n",
       "      <th>tipo_otro</th>\n",
       "      <th>zona_gba</th>\n",
       "      <th>zona_caba</th>\n",
       "      <th>nivel_senior</th>\n",
       "      <th>nivel_junior</th>\n",
       "      <th>nivel_otro</th>\n",
       "      <th>nivel_jefe</th>\n",
       "      <th>nivel_gerente</th>\n",
       "    </tr>\n",
       "  </thead>\n",
       "  <tbody>\n",
       "    <tr>\n",
       "      <th>0</th>\n",
       "      <td>1</td>\n",
       "      <td>1112254546</td>\n",
       "      <td>xkv1PwK</td>\n",
       "      <td>2018-01-29 10:35:55</td>\n",
       "      <td>NaT</td>\n",
       "      <td>1</td>\n",
       "      <td>1</td>\n",
       "      <td>18</td>\n",
       "      <td>Banco Líder en Argentina busca Jóvenes Profesi...</td>\n",
       "      <td>Comercial</td>\n",
       "      <td>...</td>\n",
       "      <td>1</td>\n",
       "      <td>0</td>\n",
       "      <td>0</td>\n",
       "      <td>1</td>\n",
       "      <td>0</td>\n",
       "      <td>1</td>\n",
       "      <td>0</td>\n",
       "      <td>0</td>\n",
       "      <td>0</td>\n",
       "      <td>0</td>\n",
       "    </tr>\n",
       "    <tr>\n",
       "      <th>1</th>\n",
       "      <td>0</td>\n",
       "      <td>1112359015</td>\n",
       "      <td>pzYWb3m</td>\n",
       "      <td>NaT</td>\n",
       "      <td>NaT</td>\n",
       "      <td>0</td>\n",
       "      <td>1</td>\n",
       "      <td>41</td>\n",
       "      <td>Customer Service Specialist</td>\n",
       "      <td>Atención al Cliente</td>\n",
       "      <td>...</td>\n",
       "      <td>1</td>\n",
       "      <td>0</td>\n",
       "      <td>0</td>\n",
       "      <td>1</td>\n",
       "      <td>0</td>\n",
       "      <td>0</td>\n",
       "      <td>0</td>\n",
       "      <td>0</td>\n",
       "      <td>1</td>\n",
       "      <td>0</td>\n",
       "    </tr>\n",
       "    <tr>\n",
       "      <th>2</th>\n",
       "      <td>0</td>\n",
       "      <td>1112420704</td>\n",
       "      <td>A3XaYrD</td>\n",
       "      <td>NaT</td>\n",
       "      <td>NaT</td>\n",
       "      <td>0</td>\n",
       "      <td>0</td>\n",
       "      <td>21</td>\n",
       "      <td>Analista de Créditos y Cobranzas, CABA</td>\n",
       "      <td>Créditos y Cobranzas</td>\n",
       "      <td>...</td>\n",
       "      <td>1</td>\n",
       "      <td>0</td>\n",
       "      <td>0</td>\n",
       "      <td>1</td>\n",
       "      <td>0</td>\n",
       "      <td>1</td>\n",
       "      <td>0</td>\n",
       "      <td>0</td>\n",
       "      <td>0</td>\n",
       "      <td>0</td>\n",
       "    </tr>\n",
       "    <tr>\n",
       "      <th>3</th>\n",
       "      <td>0</td>\n",
       "      <td>1112280950</td>\n",
       "      <td>YjrJ8kr</td>\n",
       "      <td>NaT</td>\n",
       "      <td>NaT</td>\n",
       "      <td>0</td>\n",
       "      <td>1</td>\n",
       "      <td>27</td>\n",
       "      <td>Camareros/as</td>\n",
       "      <td>Camareros</td>\n",
       "      <td>...</td>\n",
       "      <td>1</td>\n",
       "      <td>0</td>\n",
       "      <td>0</td>\n",
       "      <td>1</td>\n",
       "      <td>0</td>\n",
       "      <td>0</td>\n",
       "      <td>1</td>\n",
       "      <td>0</td>\n",
       "      <td>0</td>\n",
       "      <td>0</td>\n",
       "    </tr>\n",
       "    <tr>\n",
       "      <th>4</th>\n",
       "      <td>1</td>\n",
       "      <td>1112343030</td>\n",
       "      <td>W9AmwVa</td>\n",
       "      <td>2018-03-03 13:59:55</td>\n",
       "      <td>NaT</td>\n",
       "      <td>1</td>\n",
       "      <td>0</td>\n",
       "      <td>33</td>\n",
       "      <td>ABASTECEDOR DE DEPÓSITO</td>\n",
       "      <td>Almacén / Depósito / Expedición</td>\n",
       "      <td>...</td>\n",
       "      <td>1</td>\n",
       "      <td>0</td>\n",
       "      <td>0</td>\n",
       "      <td>1</td>\n",
       "      <td>0</td>\n",
       "      <td>1</td>\n",
       "      <td>0</td>\n",
       "      <td>0</td>\n",
       "      <td>0</td>\n",
       "      <td>0</td>\n",
       "    </tr>\n",
       "  </tbody>\n",
       "</table>\n",
       "<p>5 rows × 23 columns</p>\n",
       "</div>"
      ],
      "text/plain": [
       "   sepostulo     idaviso idpostulante    fechapostulacion ultima_vista  \\\n",
       "0          1  1112254546      xkv1PwK 2018-01-29 10:35:55          NaT   \n",
       "1          0  1112359015      pzYWb3m                 NaT          NaT   \n",
       "2          0  1112420704      A3XaYrD                 NaT          NaT   \n",
       "3          0  1112280950      YjrJ8kr                 NaT          NaT   \n",
       "4          1  1112343030      W9AmwVa 2018-03-03 13:59:55          NaT   \n",
       "\n",
       "   veces_visto  sexo  edad                                             titulo  \\\n",
       "0            1     1    18  Banco Líder en Argentina busca Jóvenes Profesi...   \n",
       "1            0     1    41                        Customer Service Specialist   \n",
       "2            0     0    21             Analista de Créditos y Cobranzas, CABA   \n",
       "3            0     1    27                                       Camareros/as   \n",
       "4            1     0    33                           ABASTECEDOR DE DEPÓSITO    \n",
       "\n",
       "                       nombre_area      ...       tipo_full-time  \\\n",
       "0                        Comercial      ...                    1   \n",
       "1              Atención al Cliente      ...                    1   \n",
       "2             Créditos y Cobranzas      ...                    1   \n",
       "3                        Camareros      ...                    1   \n",
       "4  Almacén / Depósito / Expedición      ...                    1   \n",
       "\n",
       "   tipo_part-time  tipo_otro  zona_gba  zona_caba  nivel_senior  nivel_junior  \\\n",
       "0               0          0         1          0             1             0   \n",
       "1               0          0         1          0             0             0   \n",
       "2               0          0         1          0             1             0   \n",
       "3               0          0         1          0             0             1   \n",
       "4               0          0         1          0             1             0   \n",
       "\n",
       "   nivel_otro  nivel_jefe  nivel_gerente  \n",
       "0           0           0              0  \n",
       "1           0           1              0  \n",
       "2           0           0              0  \n",
       "3           0           0              0  \n",
       "4           0           0              0  \n",
       "\n",
       "[5 rows x 23 columns]"
      ]
     },
     "execution_count": 12,
     "metadata": {},
     "output_type": "execute_result"
    }
   ],
   "source": [
    "data['sexo'] = data['sexo'].apply(lambda x: 1 if (x=='MASC') else 0).astype('int8')\n",
    "data.reset_index(drop=True, inplace=True)\n",
    "data.head()"
   ]
  },
  {
   "cell_type": "code",
   "execution_count": null,
   "metadata": {},
   "outputs": [],
   "source": []
  },
  {
   "cell_type": "code",
   "execution_count": 13,
   "metadata": {},
   "outputs": [],
   "source": [
    "## TIENE QUE SER EL ENCODER CON TODAS LAS LABELS\n",
    "le = preprocessing.LabelEncoder()\n",
    "data['nombre_area'] = le.fit_transform(data['nombre_area'].astype(str))"
   ]
  },
  {
   "cell_type": "code",
   "execution_count": null,
   "metadata": {},
   "outputs": [],
   "source": []
  },
  {
   "cell_type": "markdown",
   "metadata": {},
   "source": [
    "### Con veces_visto (en inexistentes usamos default en 1 para postulantes, en 0 para no postulantes)"
   ]
  },
  {
   "cell_type": "code",
   "execution_count": 15,
   "metadata": {},
   "outputs": [],
   "source": [
    "train_set, test_set, train_classes, test_classes = train_test_split(data.drop(columns=['sepostulo','idaviso','idpostulante', 'fechapostulacion','ultima_vista','titulo', 'denominacion_empresa']), data['sepostulo'], test_size=0.3)"
   ]
  },
  {
   "cell_type": "code",
   "execution_count": 16,
   "metadata": {},
   "outputs": [
    {
     "name": "stdout",
     "output_type": "stream",
     "text": [
      "Test: 0.99923 Entrenamiento: 0.9995471428571429\n"
     ]
    }
   ],
   "source": [
    "clf = RandomForestClassifier(n_estimators=15).fit(train_set, train_classes)\n",
    "print('Test:', clf.score(test_set, test_classes), 'Entrenamiento:', clf.score(train_set, train_classes))"
   ]
  },
  {
   "cell_type": "code",
   "execution_count": null,
   "metadata": {},
   "outputs": [],
   "source": []
  },
  {
   "cell_type": "code",
   "execution_count": null,
   "metadata": {},
   "outputs": [],
   "source": []
  },
  {
   "cell_type": "markdown",
   "metadata": {},
   "source": [
    "### Con veces_visto (en inexistentes usamos default en 0 para todos)"
   ]
  },
  {
   "cell_type": "code",
   "execution_count": 43,
   "metadata": {},
   "outputs": [],
   "source": [
    "data['veces_visto'] = (pd.merge(data[['idaviso','idpostulante']], vistas_totales_count, on=['idaviso', 'idpostulante'], how='left'))['veces_visto']\n",
    "data['veces_visto'].fillna(value=0, inplace=True)\n",
    "data['veces_visto'] = data['veces_visto'].astype('int16')\n",
    "\n",
    "veces_visto_fillna_0 = data['veces_visto'] #Lo guardo para futuras comparaciones"
   ]
  },
  {
   "cell_type": "code",
   "execution_count": 44,
   "metadata": {},
   "outputs": [],
   "source": [
    "del train_set, test_set, train_classes, test_classes\n",
    "train_set, test_set, train_classes, test_classes = train_test_split(data.drop(columns=['sepostulo','idaviso','idpostulante', 'fechapostulacion','ultima_vista','titulo', 'denominacion_empresa']), data['sepostulo'], test_size=0.3)"
   ]
  },
  {
   "cell_type": "code",
   "execution_count": 45,
   "metadata": {},
   "outputs": [
    {
     "name": "stdout",
     "output_type": "stream",
     "text": [
      "Test: 0.6881266666666667 Entrenamiento: 0.7922257142857143\n"
     ]
    }
   ],
   "source": [
    "clf1 = RandomForestClassifier(n_estimators=15).fit(train_set, train_classes)\n",
    "print('Test:', clf1.score(test_set, test_classes), 'Entrenamiento:', clf1.score(train_set, train_classes))"
   ]
  },
  {
   "cell_type": "code",
   "execution_count": null,
   "metadata": {},
   "outputs": [],
   "source": []
  },
  {
   "cell_type": "code",
   "execution_count": null,
   "metadata": {},
   "outputs": [],
   "source": []
  },
  {
   "cell_type": "markdown",
   "metadata": {},
   "source": [
    "### Con veces_visto (en inexistentes usamos random 0/1 para postulaciones, 0 para no postulaciones)"
   ]
  },
  {
   "cell_type": "code",
   "execution_count": 46,
   "metadata": {},
   "outputs": [],
   "source": [
    "aux = data['sepostulo'].apply(lambda x: (np.random.randint(2)) if (x==1) else 0)\n",
    "\n",
    "data['veces_visto'] = (pd.merge(data[['idaviso','idpostulante']], vistas_totales_count, on=['idaviso', 'idpostulante'], how='left'))['veces_visto']\n",
    "data['veces_visto'].fillna(aux, inplace=True)\n",
    "data['veces_visto'] = data['veces_visto'].astype('int16')\n",
    "\n",
    "del aux\n",
    "\n",
    "veces_visto_fillna_random = data['veces_visto'] #Lo guardo para futuras comparaciones"
   ]
  },
  {
   "cell_type": "code",
   "execution_count": 47,
   "metadata": {},
   "outputs": [],
   "source": [
    "del train_set, test_set, train_classes, test_classes\n",
    "train_set, test_set, train_classes, test_classes = train_test_split(data.drop(columns=['sepostulo','idaviso','idpostulante', 'fechapostulacion','ultima_vista','titulo', 'denominacion_empresa']), data['sepostulo'], test_size=0.3)"
   ]
  },
  {
   "cell_type": "code",
   "execution_count": 48,
   "metadata": {},
   "outputs": [
    {
     "name": "stdout",
     "output_type": "stream",
     "text": [
      "Test: 0.8108666666666666 Entrenamiento: 0.8763057142857142\n"
     ]
    }
   ],
   "source": [
    "clf2 = RandomForestClassifier(n_estimators=15).fit(train_set, train_classes)\n",
    "print('Test:', clf2.score(test_set, test_classes), 'Entrenamiento:', clf2.score(train_set, train_classes))"
   ]
  },
  {
   "cell_type": "code",
   "execution_count": null,
   "metadata": {},
   "outputs": [],
   "source": []
  },
  {
   "cell_type": "code",
   "execution_count": null,
   "metadata": {},
   "outputs": [],
   "source": []
  },
  {
   "cell_type": "markdown",
   "metadata": {},
   "source": [
    "### Sin veces_visto"
   ]
  },
  {
   "cell_type": "code",
   "execution_count": 49,
   "metadata": {},
   "outputs": [],
   "source": [
    "del train_set, test_set, train_classes, test_classes\n",
    "train_set, test_set, train_classes, test_classes = train_test_split(data.drop(columns=['veces_visto','sepostulo','idaviso','idpostulante', 'fechapostulacion','ultima_vista','titulo', 'denominacion_empresa']), data['sepostulo'], test_size=0.3)"
   ]
  },
  {
   "cell_type": "code",
   "execution_count": 50,
   "metadata": {},
   "outputs": [
    {
     "name": "stdout",
     "output_type": "stream",
     "text": [
      "Test: 0.6257266666666667 Entrenamiento: 0.7466014285714285\n"
     ]
    }
   ],
   "source": [
    "clf3 = RandomForestClassifier(n_estimators=15).fit(train_set, train_classes)\n",
    "print('Test:', clf3.score(test_set, test_classes), 'Entrenamiento:', clf3.score(train_set, train_classes))"
   ]
  },
  {
   "cell_type": "code",
   "execution_count": null,
   "metadata": {},
   "outputs": [],
   "source": []
  },
  {
   "cell_type": "code",
   "execution_count": null,
   "metadata": {},
   "outputs": [],
   "source": []
  },
  {
   "cell_type": "markdown",
   "metadata": {},
   "source": [
    "### One Hot Encoding de todas las areas de los anuncios"
   ]
  },
  {
   "cell_type": "code",
   "execution_count": 51,
   "metadata": {},
   "outputs": [],
   "source": [
    "enc = preprocessing.OneHotEncoder(n_values=188)\n",
    "encoded_areas = enc.fit_transform(data['nombre_area'].values.reshape(-1,1))  "
   ]
  },
  {
   "cell_type": "code",
   "execution_count": 52,
   "metadata": {},
   "outputs": [
    {
     "name": "stdout",
     "output_type": "stream",
     "text": [
      "<class 'pandas.core.frame.DataFrame'>\n",
      "RangeIndex: 1000000 entries, 0 to 999999\n",
      "Columns: 188 entries, 0 to 187\n",
      "dtypes: int8(188)\n",
      "memory usage: 179.3 MB\n"
     ]
    }
   ],
   "source": [
    "encoded_areas_df = pd.DataFrame(encoded_areas.toarray()).astype('int8')\n",
    "encoded_areas_df.info()"
   ]
  },
  {
   "cell_type": "code",
   "execution_count": 53,
   "metadata": {},
   "outputs": [
    {
     "name": "stdout",
     "output_type": "stream",
     "text": [
      "<class 'pandas.core.frame.DataFrame'>\n",
      "RangeIndex: 1000000 entries, 0 to 999999\n",
      "Columns: 211 entries, sepostulo to 187\n",
      "dtypes: datetime64[ns](2), int16(1), int64(2), int8(203), object(3)\n",
      "memory usage: 248.9+ MB\n"
     ]
    }
   ],
   "source": [
    "data = pd.concat([data, encoded_areas_df], axis=1)\n",
    "\n",
    "del encoded_areas, encoded_areas_df\n",
    "\n",
    "data.info()"
   ]
  },
  {
   "cell_type": "code",
   "execution_count": 54,
   "metadata": {},
   "outputs": [
    {
     "data": {
      "text/html": [
       "<div>\n",
       "<style scoped>\n",
       "    .dataframe tbody tr th:only-of-type {\n",
       "        vertical-align: middle;\n",
       "    }\n",
       "\n",
       "    .dataframe tbody tr th {\n",
       "        vertical-align: top;\n",
       "    }\n",
       "\n",
       "    .dataframe thead th {\n",
       "        text-align: right;\n",
       "    }\n",
       "</style>\n",
       "<table border=\"1\" class=\"dataframe\">\n",
       "  <thead>\n",
       "    <tr style=\"text-align: right;\">\n",
       "      <th></th>\n",
       "      <th>sepostulo</th>\n",
       "      <th>idaviso</th>\n",
       "      <th>idpostulante</th>\n",
       "      <th>fechapostulacion</th>\n",
       "      <th>ultima_vista</th>\n",
       "      <th>veces_visto</th>\n",
       "      <th>sexo</th>\n",
       "      <th>edad</th>\n",
       "      <th>titulo</th>\n",
       "      <th>nombre_area</th>\n",
       "      <th>...</th>\n",
       "      <th>178</th>\n",
       "      <th>179</th>\n",
       "      <th>180</th>\n",
       "      <th>181</th>\n",
       "      <th>182</th>\n",
       "      <th>183</th>\n",
       "      <th>184</th>\n",
       "      <th>185</th>\n",
       "      <th>186</th>\n",
       "      <th>187</th>\n",
       "    </tr>\n",
       "  </thead>\n",
       "  <tbody>\n",
       "    <tr>\n",
       "      <th>0</th>\n",
       "      <td>1</td>\n",
       "      <td>1112254546</td>\n",
       "      <td>xkv1PwK</td>\n",
       "      <td>2018-01-29 10:35:55</td>\n",
       "      <td>NaT</td>\n",
       "      <td>0</td>\n",
       "      <td>1</td>\n",
       "      <td>18</td>\n",
       "      <td>Banco Líder en Argentina busca Jóvenes Profesi...</td>\n",
       "      <td>29</td>\n",
       "      <td>...</td>\n",
       "      <td>0</td>\n",
       "      <td>0</td>\n",
       "      <td>0</td>\n",
       "      <td>0</td>\n",
       "      <td>0</td>\n",
       "      <td>0</td>\n",
       "      <td>0</td>\n",
       "      <td>0</td>\n",
       "      <td>0</td>\n",
       "      <td>0</td>\n",
       "    </tr>\n",
       "    <tr>\n",
       "      <th>1</th>\n",
       "      <td>0</td>\n",
       "      <td>1112359015</td>\n",
       "      <td>pzYWb3m</td>\n",
       "      <td>NaT</td>\n",
       "      <td>NaT</td>\n",
       "      <td>0</td>\n",
       "      <td>1</td>\n",
       "      <td>41</td>\n",
       "      <td>Customer Service Specialist</td>\n",
       "      <td>14</td>\n",
       "      <td>...</td>\n",
       "      <td>0</td>\n",
       "      <td>0</td>\n",
       "      <td>0</td>\n",
       "      <td>0</td>\n",
       "      <td>0</td>\n",
       "      <td>0</td>\n",
       "      <td>0</td>\n",
       "      <td>0</td>\n",
       "      <td>0</td>\n",
       "      <td>0</td>\n",
       "    </tr>\n",
       "    <tr>\n",
       "      <th>2</th>\n",
       "      <td>0</td>\n",
       "      <td>1112420704</td>\n",
       "      <td>A3XaYrD</td>\n",
       "      <td>NaT</td>\n",
       "      <td>NaT</td>\n",
       "      <td>0</td>\n",
       "      <td>0</td>\n",
       "      <td>21</td>\n",
       "      <td>Analista de Créditos y Cobranzas, CABA</td>\n",
       "      <td>45</td>\n",
       "      <td>...</td>\n",
       "      <td>0</td>\n",
       "      <td>0</td>\n",
       "      <td>0</td>\n",
       "      <td>0</td>\n",
       "      <td>0</td>\n",
       "      <td>0</td>\n",
       "      <td>0</td>\n",
       "      <td>0</td>\n",
       "      <td>0</td>\n",
       "      <td>0</td>\n",
       "    </tr>\n",
       "    <tr>\n",
       "      <th>3</th>\n",
       "      <td>0</td>\n",
       "      <td>1112280950</td>\n",
       "      <td>YjrJ8kr</td>\n",
       "      <td>NaT</td>\n",
       "      <td>NaT</td>\n",
       "      <td>0</td>\n",
       "      <td>1</td>\n",
       "      <td>27</td>\n",
       "      <td>Camareros/as</td>\n",
       "      <td>26</td>\n",
       "      <td>...</td>\n",
       "      <td>0</td>\n",
       "      <td>0</td>\n",
       "      <td>0</td>\n",
       "      <td>0</td>\n",
       "      <td>0</td>\n",
       "      <td>0</td>\n",
       "      <td>0</td>\n",
       "      <td>0</td>\n",
       "      <td>0</td>\n",
       "      <td>0</td>\n",
       "    </tr>\n",
       "    <tr>\n",
       "      <th>4</th>\n",
       "      <td>1</td>\n",
       "      <td>1112343030</td>\n",
       "      <td>W9AmwVa</td>\n",
       "      <td>2018-03-03 13:59:55</td>\n",
       "      <td>NaT</td>\n",
       "      <td>0</td>\n",
       "      <td>0</td>\n",
       "      <td>33</td>\n",
       "      <td>ABASTECEDOR DE DEPÓSITO</td>\n",
       "      <td>5</td>\n",
       "      <td>...</td>\n",
       "      <td>0</td>\n",
       "      <td>0</td>\n",
       "      <td>0</td>\n",
       "      <td>0</td>\n",
       "      <td>0</td>\n",
       "      <td>0</td>\n",
       "      <td>0</td>\n",
       "      <td>0</td>\n",
       "      <td>0</td>\n",
       "      <td>0</td>\n",
       "    </tr>\n",
       "  </tbody>\n",
       "</table>\n",
       "<p>5 rows × 211 columns</p>\n",
       "</div>"
      ],
      "text/plain": [
       "   sepostulo     idaviso idpostulante    fechapostulacion ultima_vista  \\\n",
       "0          1  1112254546      xkv1PwK 2018-01-29 10:35:55          NaT   \n",
       "1          0  1112359015      pzYWb3m                 NaT          NaT   \n",
       "2          0  1112420704      A3XaYrD                 NaT          NaT   \n",
       "3          0  1112280950      YjrJ8kr                 NaT          NaT   \n",
       "4          1  1112343030      W9AmwVa 2018-03-03 13:59:55          NaT   \n",
       "\n",
       "   veces_visto  sexo  edad                                             titulo  \\\n",
       "0            0     1    18  Banco Líder en Argentina busca Jóvenes Profesi...   \n",
       "1            0     1    41                        Customer Service Specialist   \n",
       "2            0     0    21             Analista de Créditos y Cobranzas, CABA   \n",
       "3            0     1    27                                       Camareros/as   \n",
       "4            0     0    33                           ABASTECEDOR DE DEPÓSITO    \n",
       "\n",
       "   nombre_area ...  178  179  180  181  182  183  184  185  186  187  \n",
       "0           29 ...    0    0    0    0    0    0    0    0    0    0  \n",
       "1           14 ...    0    0    0    0    0    0    0    0    0    0  \n",
       "2           45 ...    0    0    0    0    0    0    0    0    0    0  \n",
       "3           26 ...    0    0    0    0    0    0    0    0    0    0  \n",
       "4            5 ...    0    0    0    0    0    0    0    0    0    0  \n",
       "\n",
       "[5 rows x 211 columns]"
      ]
     },
     "execution_count": 54,
     "metadata": {},
     "output_type": "execute_result"
    }
   ],
   "source": [
    "data.head()"
   ]
  },
  {
   "cell_type": "code",
   "execution_count": null,
   "metadata": {},
   "outputs": [],
   "source": []
  },
  {
   "cell_type": "code",
   "execution_count": null,
   "metadata": {},
   "outputs": [],
   "source": []
  },
  {
   "cell_type": "markdown",
   "metadata": {},
   "source": [
    "### Sin veces_visto"
   ]
  },
  {
   "cell_type": "code",
   "execution_count": 55,
   "metadata": {},
   "outputs": [],
   "source": [
    "del train_set, test_set, train_classes, test_classes\n",
    "train_set, test_set, train_classes, test_classes = train_test_split(data.drop(columns=['veces_visto','sepostulo','idaviso','idpostulante', 'fechapostulacion','ultima_vista','titulo', 'denominacion_empresa', 'nombre_area']), data['sepostulo'], test_size=0.3)"
   ]
  },
  {
   "cell_type": "code",
   "execution_count": 56,
   "metadata": {},
   "outputs": [
    {
     "name": "stdout",
     "output_type": "stream",
     "text": [
      "Test: 0.63035 Entrenamiento: 0.7464614285714286\n"
     ]
    }
   ],
   "source": [
    "clf4 = RandomForestClassifier(n_estimators=15).fit(train_set, train_classes)\n",
    "print('Test:', clf4.score(test_set, test_classes), 'Entrenamiento:', clf4.score(train_set, train_classes))"
   ]
  },
  {
   "cell_type": "code",
   "execution_count": null,
   "metadata": {},
   "outputs": [],
   "source": []
  },
  {
   "cell_type": "code",
   "execution_count": null,
   "metadata": {},
   "outputs": [],
   "source": []
  },
  {
   "cell_type": "markdown",
   "metadata": {},
   "source": [
    "### Con veces_visto (en inexistentes usamos random 0/1 para postulaciones, 0 para no postulaciones)"
   ]
  },
  {
   "cell_type": "code",
   "execution_count": 57,
   "metadata": {},
   "outputs": [],
   "source": [
    "del train_set, test_set, train_classes, test_classes\n",
    "train_set, test_set, train_classes, test_classes = train_test_split(data.drop(columns=['sepostulo','idaviso','idpostulante', 'fechapostulacion','ultima_vista','titulo', 'denominacion_empresa', 'nombre_area']), data['sepostulo'], test_size=0.3)"
   ]
  },
  {
   "cell_type": "code",
   "execution_count": 58,
   "metadata": {},
   "outputs": [
    {
     "name": "stdout",
     "output_type": "stream",
     "text": [
      "Test: 0.8113266666666666 Entrenamiento: 0.8762871428571428\n"
     ]
    }
   ],
   "source": [
    "clf5 = RandomForestClassifier(n_estimators=15).fit(train_set, train_classes)\n",
    "print('Test:', clf5.score(test_set, test_classes), 'Entrenamiento:', clf5.score(train_set, train_classes))"
   ]
  },
  {
   "cell_type": "code",
   "execution_count": null,
   "metadata": {},
   "outputs": [],
   "source": []
  },
  {
   "cell_type": "markdown",
   "metadata": {},
   "source": [
    "### Con veces_visto (en inexistentes usamos default en 0 para todos)"
   ]
  },
  {
   "cell_type": "code",
   "execution_count": 61,
   "metadata": {},
   "outputs": [],
   "source": [
    "data['veces_visto'] = veces_visto_fillna_0\n",
    "\n",
    "del train_set, test_set, train_classes, test_classes\n",
    "train_set, test_set, train_classes, test_classes = train_test_split(data.drop(columns=['sepostulo','idaviso','idpostulante', 'fechapostulacion','ultima_vista','titulo', 'denominacion_empresa', 'nombre_area']), data['sepostulo'], test_size=0.3)"
   ]
  },
  {
   "cell_type": "code",
   "execution_count": 62,
   "metadata": {},
   "outputs": [
    {
     "name": "stdout",
     "output_type": "stream",
     "text": [
      "Test: 0.6909166666666666 Entrenamiento: 0.7917971428571429\n"
     ]
    }
   ],
   "source": [
    "clf6 = RandomForestClassifier(n_estimators=15).fit(train_set, train_classes)\n",
    "print('Test:', clf6.score(test_set, test_classes), 'Entrenamiento:', clf6.score(train_set, train_classes))"
   ]
  },
  {
   "cell_type": "code",
   "execution_count": null,
   "metadata": {},
   "outputs": [],
   "source": []
  },
  {
   "cell_type": "code",
   "execution_count": null,
   "metadata": {},
   "outputs": [],
   "source": []
  },
  {
   "cell_type": "markdown",
   "metadata": {},
   "source": [
    "### One Hot Encoding de las empresas con mayor presencia"
   ]
  },
  {
   "cell_type": "code",
   "execution_count": 63,
   "metadata": {},
   "outputs": [
    {
     "name": "stdout",
     "output_type": "stream",
     "text": [
      "<class 'pandas.core.frame.DataFrame'>\n",
      "RangeIndex: 1000000 entries, 0 to 999999\n",
      "Columns: 236 entries, sepostulo to Cervecería\n",
      "dtypes: datetime64[ns](2), int16(1), int64(2), int8(228), object(3)\n",
      "memory usage: 272.8+ MB\n"
     ]
    }
   ],
   "source": [
    "#Chequear si mejora si el top100 lo saco de avisos\n",
    "\n",
    "data['Adecco'] = data['denominacion_empresa'].astype(str).apply(lambda x: 1 if('Adecco' in x) else 0).astype('int8')\n",
    "data['Manpower'] = data['denominacion_empresa'].astype(str).apply(lambda x: 1 if('Manpower' in x) else 0).astype('int8')\n",
    "data['RANDSTAD'] = data['denominacion_empresa'].astype(str).apply(lambda x: 1 if('RANDSTAD' in x) else 0).astype('int8')\n",
    "data['Assistem'] = data['denominacion_empresa'].astype(str).apply(lambda x: 1 if('Assistem' in x) else 0).astype('int8')\n",
    "data['Pullmen'] = data['denominacion_empresa'].astype(str).apply(lambda x: 1 if('Pullmen' in x) else 0).astype('int8')\n",
    "data['BAYTON'] = data['denominacion_empresa'].astype(str).apply(lambda x: 1 if('BAYTON' in x) else 0).astype('int8')\n",
    "data['Suple'] = data['denominacion_empresa'].astype(str).apply(lambda x: 1 if('Suple' in x) else 0).astype('int8')\n",
    "data['Medical'] = data['denominacion_empresa'].astype(str).apply(lambda x: 1 if('Medical' in x) else 0).astype('int8')\n",
    "data['Talentum'] = data['denominacion_empresa'].astype(str).apply(lambda x: 1 if('Talentum' in x) else 0).astype('int8')\n",
    "data['HuCap'] = data['denominacion_empresa'].astype(str).apply(lambda x: 1 if('HuCap' in x) else 0).astype('int8')\n",
    "data['Asoko'] = data['denominacion_empresa'].astype(str).apply(lambda x: 1 if('Asoko' in x) else 0).astype('int8')\n",
    "data['COTO'] = data['denominacion_empresa'].astype(str).apply(lambda x: 1 if('COTO' in x) else 0).astype('int8')\n",
    "data['EAYA'] = data['denominacion_empresa'].astype(str).apply(lambda x: 1 if('EAYA' in x) else 0).astype('int8')\n",
    "data['Personal'] = data['denominacion_empresa'].astype(str).apply(lambda x: 1 if('Personal' in x) else 0).astype('int8')\n",
    "data['CONA'] = data['denominacion_empresa'].astype(str).apply(lambda x: 1 if('CONA' in x) else 0).astype('int8')\n",
    "data['InBev'] = data['denominacion_empresa'].astype(str).apply(lambda x: 1 if('InBev' in x) else 0).astype('int8')\n",
    "data['APPLICA'] = data['denominacion_empresa'].astype(str).apply(lambda x: 1 if('APPLICA' in x) else 0).astype('int8')\n",
    "data['Favaloro'] = data['denominacion_empresa'].astype(str).apply(lambda x: 1 if('Favaloro' in x) else 0).astype('int8')\n",
    "data['Teleperformance'] = data['denominacion_empresa'].astype(str).apply(lambda x: 1 if('Teleperformance' in x) else 0).astype('int8')\n",
    "data['ConfiaRH'] = data['denominacion_empresa'].astype(str).apply(lambda x: 1 if('ConfiaRH' in x) else 0).astype('int8')\n",
    "data['PROSEGUR'] = data['denominacion_empresa'].astype(str).apply(lambda x: 1 if('PROSEGUR' in x) else 0).astype('int8')\n",
    "data['Banco'] = data['denominacion_empresa'].astype(str).apply(lambda x: 1 if(('BBVA' in x) or ('Banco' in x)) else 0).astype('int8')\n",
    "data['Farmacias'] = data['denominacion_empresa'].astype(str).apply(lambda x: 1 if(('Farmacity' in x) or ('Farmacias' in x)) else 0).astype('int8')\n",
    "data['VentaTecno'] = data['denominacion_empresa'].astype(str).apply(lambda x: 1 if(('Garbarino' in x) or ('Musimundo' in x) or ('Frávega' in x)) else 0).astype('int8')\n",
    "data['Cervecería'] = data['denominacion_empresa'].astype(str).apply(lambda x: 1 if(('Cervecería' in x) or ('Maltería' in x) or ('Quilmes' in x)) else 0).astype('int8')\n",
    "\n",
    "data.info()"
   ]
  },
  {
   "cell_type": "code",
   "execution_count": 64,
   "metadata": {},
   "outputs": [
    {
     "data": {
      "text/html": [
       "<div>\n",
       "<style scoped>\n",
       "    .dataframe tbody tr th:only-of-type {\n",
       "        vertical-align: middle;\n",
       "    }\n",
       "\n",
       "    .dataframe tbody tr th {\n",
       "        vertical-align: top;\n",
       "    }\n",
       "\n",
       "    .dataframe thead th {\n",
       "        text-align: right;\n",
       "    }\n",
       "</style>\n",
       "<table border=\"1\" class=\"dataframe\">\n",
       "  <thead>\n",
       "    <tr style=\"text-align: right;\">\n",
       "      <th></th>\n",
       "      <th>sepostulo</th>\n",
       "      <th>idaviso</th>\n",
       "      <th>idpostulante</th>\n",
       "      <th>fechapostulacion</th>\n",
       "      <th>ultima_vista</th>\n",
       "      <th>veces_visto</th>\n",
       "      <th>sexo</th>\n",
       "      <th>edad</th>\n",
       "      <th>titulo</th>\n",
       "      <th>nombre_area</th>\n",
       "      <th>...</th>\n",
       "      <th>InBev</th>\n",
       "      <th>APPLICA</th>\n",
       "      <th>Favaloro</th>\n",
       "      <th>Teleperformance</th>\n",
       "      <th>ConfiaRH</th>\n",
       "      <th>PROSEGUR</th>\n",
       "      <th>Banco</th>\n",
       "      <th>Farmacias</th>\n",
       "      <th>VentaTecno</th>\n",
       "      <th>Cervecería</th>\n",
       "    </tr>\n",
       "  </thead>\n",
       "  <tbody>\n",
       "    <tr>\n",
       "      <th>0</th>\n",
       "      <td>1</td>\n",
       "      <td>1112254546</td>\n",
       "      <td>xkv1PwK</td>\n",
       "      <td>2018-01-29 10:35:55</td>\n",
       "      <td>NaT</td>\n",
       "      <td>0</td>\n",
       "      <td>1</td>\n",
       "      <td>18</td>\n",
       "      <td>Banco Líder en Argentina busca Jóvenes Profesi...</td>\n",
       "      <td>29</td>\n",
       "      <td>...</td>\n",
       "      <td>0</td>\n",
       "      <td>0</td>\n",
       "      <td>0</td>\n",
       "      <td>0</td>\n",
       "      <td>0</td>\n",
       "      <td>0</td>\n",
       "      <td>0</td>\n",
       "      <td>0</td>\n",
       "      <td>0</td>\n",
       "      <td>0</td>\n",
       "    </tr>\n",
       "    <tr>\n",
       "      <th>1</th>\n",
       "      <td>0</td>\n",
       "      <td>1112359015</td>\n",
       "      <td>pzYWb3m</td>\n",
       "      <td>NaT</td>\n",
       "      <td>NaT</td>\n",
       "      <td>0</td>\n",
       "      <td>1</td>\n",
       "      <td>41</td>\n",
       "      <td>Customer Service Specialist</td>\n",
       "      <td>14</td>\n",
       "      <td>...</td>\n",
       "      <td>1</td>\n",
       "      <td>0</td>\n",
       "      <td>0</td>\n",
       "      <td>0</td>\n",
       "      <td>0</td>\n",
       "      <td>0</td>\n",
       "      <td>0</td>\n",
       "      <td>0</td>\n",
       "      <td>0</td>\n",
       "      <td>1</td>\n",
       "    </tr>\n",
       "    <tr>\n",
       "      <th>2</th>\n",
       "      <td>0</td>\n",
       "      <td>1112420704</td>\n",
       "      <td>A3XaYrD</td>\n",
       "      <td>NaT</td>\n",
       "      <td>NaT</td>\n",
       "      <td>0</td>\n",
       "      <td>0</td>\n",
       "      <td>21</td>\n",
       "      <td>Analista de Créditos y Cobranzas, CABA</td>\n",
       "      <td>45</td>\n",
       "      <td>...</td>\n",
       "      <td>0</td>\n",
       "      <td>0</td>\n",
       "      <td>0</td>\n",
       "      <td>0</td>\n",
       "      <td>0</td>\n",
       "      <td>0</td>\n",
       "      <td>0</td>\n",
       "      <td>0</td>\n",
       "      <td>0</td>\n",
       "      <td>0</td>\n",
       "    </tr>\n",
       "    <tr>\n",
       "      <th>3</th>\n",
       "      <td>0</td>\n",
       "      <td>1112280950</td>\n",
       "      <td>YjrJ8kr</td>\n",
       "      <td>NaT</td>\n",
       "      <td>NaT</td>\n",
       "      <td>0</td>\n",
       "      <td>1</td>\n",
       "      <td>27</td>\n",
       "      <td>Camareros/as</td>\n",
       "      <td>26</td>\n",
       "      <td>...</td>\n",
       "      <td>0</td>\n",
       "      <td>0</td>\n",
       "      <td>0</td>\n",
       "      <td>0</td>\n",
       "      <td>0</td>\n",
       "      <td>0</td>\n",
       "      <td>0</td>\n",
       "      <td>0</td>\n",
       "      <td>0</td>\n",
       "      <td>0</td>\n",
       "    </tr>\n",
       "    <tr>\n",
       "      <th>4</th>\n",
       "      <td>1</td>\n",
       "      <td>1112343030</td>\n",
       "      <td>W9AmwVa</td>\n",
       "      <td>2018-03-03 13:59:55</td>\n",
       "      <td>NaT</td>\n",
       "      <td>0</td>\n",
       "      <td>0</td>\n",
       "      <td>33</td>\n",
       "      <td>ABASTECEDOR DE DEPÓSITO</td>\n",
       "      <td>5</td>\n",
       "      <td>...</td>\n",
       "      <td>0</td>\n",
       "      <td>0</td>\n",
       "      <td>0</td>\n",
       "      <td>0</td>\n",
       "      <td>0</td>\n",
       "      <td>0</td>\n",
       "      <td>0</td>\n",
       "      <td>0</td>\n",
       "      <td>0</td>\n",
       "      <td>0</td>\n",
       "    </tr>\n",
       "  </tbody>\n",
       "</table>\n",
       "<p>5 rows × 236 columns</p>\n",
       "</div>"
      ],
      "text/plain": [
       "   sepostulo     idaviso idpostulante    fechapostulacion ultima_vista  \\\n",
       "0          1  1112254546      xkv1PwK 2018-01-29 10:35:55          NaT   \n",
       "1          0  1112359015      pzYWb3m                 NaT          NaT   \n",
       "2          0  1112420704      A3XaYrD                 NaT          NaT   \n",
       "3          0  1112280950      YjrJ8kr                 NaT          NaT   \n",
       "4          1  1112343030      W9AmwVa 2018-03-03 13:59:55          NaT   \n",
       "\n",
       "   veces_visto  sexo  edad                                             titulo  \\\n",
       "0            0     1    18  Banco Líder en Argentina busca Jóvenes Profesi...   \n",
       "1            0     1    41                        Customer Service Specialist   \n",
       "2            0     0    21             Analista de Créditos y Cobranzas, CABA   \n",
       "3            0     1    27                                       Camareros/as   \n",
       "4            0     0    33                           ABASTECEDOR DE DEPÓSITO    \n",
       "\n",
       "   nombre_area     ...     InBev  APPLICA  Favaloro  Teleperformance  \\\n",
       "0           29     ...         0        0         0                0   \n",
       "1           14     ...         1        0         0                0   \n",
       "2           45     ...         0        0         0                0   \n",
       "3           26     ...         0        0         0                0   \n",
       "4            5     ...         0        0         0                0   \n",
       "\n",
       "   ConfiaRH  PROSEGUR  Banco  Farmacias  VentaTecno  Cervecería  \n",
       "0         0         0      0          0           0           0  \n",
       "1         0         0      0          0           0           1  \n",
       "2         0         0      0          0           0           0  \n",
       "3         0         0      0          0           0           0  \n",
       "4         0         0      0          0           0           0  \n",
       "\n",
       "[5 rows x 236 columns]"
      ]
     },
     "execution_count": 64,
     "metadata": {},
     "output_type": "execute_result"
    }
   ],
   "source": [
    "data.head()"
   ]
  },
  {
   "cell_type": "code",
   "execution_count": null,
   "metadata": {},
   "outputs": [],
   "source": []
  },
  {
   "cell_type": "code",
   "execution_count": null,
   "metadata": {},
   "outputs": [],
   "source": []
  },
  {
   "cell_type": "markdown",
   "metadata": {},
   "source": [
    "### Sin veces_visto"
   ]
  },
  {
   "cell_type": "code",
   "execution_count": 65,
   "metadata": {},
   "outputs": [],
   "source": [
    "del train_set, test_set, train_classes, test_classes\n",
    "train_set, test_set, train_classes, test_classes = train_test_split(data.drop(columns=['veces_visto','sepostulo','idaviso','idpostulante', 'fechapostulacion','ultima_vista','titulo', 'denominacion_empresa', 'nombre_area']), data['sepostulo'], test_size=0.3)"
   ]
  },
  {
   "cell_type": "code",
   "execution_count": 66,
   "metadata": {},
   "outputs": [
    {
     "name": "stdout",
     "output_type": "stream",
     "text": [
      "Test: 0.6230933333333334 Entrenamiento: 0.7947614285714286\n"
     ]
    }
   ],
   "source": [
    "clf7 = RandomForestClassifier(n_estimators=15).fit(train_set, train_classes)\n",
    "print('Test:', clf7.score(test_set, test_classes), 'Entrenamiento:', clf7.score(train_set, train_classes))"
   ]
  },
  {
   "cell_type": "code",
   "execution_count": null,
   "metadata": {},
   "outputs": [],
   "source": []
  },
  {
   "cell_type": "code",
   "execution_count": null,
   "metadata": {},
   "outputs": [],
   "source": []
  },
  {
   "cell_type": "markdown",
   "metadata": {},
   "source": [
    "### Con veces_visto (en inexistentes usamos default en 0 para todos)"
   ]
  },
  {
   "cell_type": "code",
   "execution_count": 67,
   "metadata": {},
   "outputs": [],
   "source": [
    "del train_set, test_set, train_classes, test_classes\n",
    "train_set, test_set, train_classes, test_classes = train_test_split(data.drop(columns=['sepostulo','idaviso','idpostulante', 'fechapostulacion','ultima_vista','titulo', 'denominacion_empresa', 'nombre_area']), data['sepostulo'], test_size=0.3)"
   ]
  },
  {
   "cell_type": "code",
   "execution_count": 68,
   "metadata": {},
   "outputs": [
    {
     "name": "stdout",
     "output_type": "stream",
     "text": [
      "Test: 0.68687 Entrenamiento: 0.83277\n"
     ]
    }
   ],
   "source": [
    "clf8 = RandomForestClassifier(n_estimators=15).fit(train_set, train_classes)\n",
    "print('Test:', clf8.score(test_set, test_classes), 'Entrenamiento:', clf8.score(train_set, train_classes))"
   ]
  },
  {
   "cell_type": "code",
   "execution_count": null,
   "metadata": {},
   "outputs": [],
   "source": []
  },
  {
   "cell_type": "code",
   "execution_count": null,
   "metadata": {},
   "outputs": [],
   "source": []
  },
  {
   "cell_type": "markdown",
   "metadata": {},
   "source": [
    "### Con veces_visto (en inexistentes usamos random 0/1 para postulaciones, 0 para no postulaciones)"
   ]
  },
  {
   "cell_type": "code",
   "execution_count": 69,
   "metadata": {},
   "outputs": [],
   "source": [
    "data['veces_visto'] = veces_visto_fillna_random\n",
    "\n",
    "del train_set, test_set, train_classes, test_classes\n",
    "train_set, test_set, train_classes, test_classes = train_test_split(data.drop(columns=['sepostulo','idaviso','idpostulante', 'fechapostulacion','ultima_vista','titulo', 'denominacion_empresa', 'nombre_area']), data['sepostulo'], test_size=0.3)"
   ]
  },
  {
   "cell_type": "code",
   "execution_count": 70,
   "metadata": {},
   "outputs": [
    {
     "name": "stdout",
     "output_type": "stream",
     "text": [
      "Test: 0.8060066666666666 Entrenamiento: 0.8999242857142857\n"
     ]
    }
   ],
   "source": [
    "clf9 = RandomForestClassifier(n_estimators=15).fit(train_set, train_classes)\n",
    "print('Test:', clf9.score(test_set, test_classes), 'Entrenamiento:', clf9.score(train_set, train_classes))"
   ]
  },
  {
   "cell_type": "code",
   "execution_count": null,
   "metadata": {},
   "outputs": [],
   "source": []
  },
  {
   "cell_type": "code",
   "execution_count": null,
   "metadata": {},
   "outputs": [],
   "source": []
  },
  {
   "cell_type": "markdown",
   "metadata": {},
   "source": [
    "### Sin campo sexo, a partir de ahora las pruebas individuales de cada feature, con veces_visto (en inexistentes usamos default en 0 para todos)"
   ]
  },
  {
   "cell_type": "code",
   "execution_count": 71,
   "metadata": {},
   "outputs": [
    {
     "data": {
      "text/html": [
       "<div>\n",
       "<style scoped>\n",
       "    .dataframe tbody tr th:only-of-type {\n",
       "        vertical-align: middle;\n",
       "    }\n",
       "\n",
       "    .dataframe tbody tr th {\n",
       "        vertical-align: top;\n",
       "    }\n",
       "\n",
       "    .dataframe thead th {\n",
       "        text-align: right;\n",
       "    }\n",
       "</style>\n",
       "<table border=\"1\" class=\"dataframe\">\n",
       "  <thead>\n",
       "    <tr style=\"text-align: right;\">\n",
       "      <th></th>\n",
       "      <th>sepostulo</th>\n",
       "      <th>idaviso</th>\n",
       "      <th>idpostulante</th>\n",
       "      <th>fechapostulacion</th>\n",
       "      <th>ultima_vista</th>\n",
       "      <th>veces_visto</th>\n",
       "      <th>sexo</th>\n",
       "      <th>edad</th>\n",
       "      <th>titulo</th>\n",
       "      <th>nombre_area</th>\n",
       "      <th>...</th>\n",
       "      <th>InBev</th>\n",
       "      <th>APPLICA</th>\n",
       "      <th>Favaloro</th>\n",
       "      <th>Teleperformance</th>\n",
       "      <th>ConfiaRH</th>\n",
       "      <th>PROSEGUR</th>\n",
       "      <th>Banco</th>\n",
       "      <th>Farmacias</th>\n",
       "      <th>VentaTecno</th>\n",
       "      <th>Cervecería</th>\n",
       "    </tr>\n",
       "  </thead>\n",
       "  <tbody>\n",
       "    <tr>\n",
       "      <th>0</th>\n",
       "      <td>1</td>\n",
       "      <td>1112254546</td>\n",
       "      <td>xkv1PwK</td>\n",
       "      <td>2018-01-29 10:35:55</td>\n",
       "      <td>NaT</td>\n",
       "      <td>0</td>\n",
       "      <td>1</td>\n",
       "      <td>18</td>\n",
       "      <td>Banco Líder en Argentina busca Jóvenes Profesi...</td>\n",
       "      <td>29</td>\n",
       "      <td>...</td>\n",
       "      <td>0</td>\n",
       "      <td>0</td>\n",
       "      <td>0</td>\n",
       "      <td>0</td>\n",
       "      <td>0</td>\n",
       "      <td>0</td>\n",
       "      <td>0</td>\n",
       "      <td>0</td>\n",
       "      <td>0</td>\n",
       "      <td>0</td>\n",
       "    </tr>\n",
       "    <tr>\n",
       "      <th>1</th>\n",
       "      <td>0</td>\n",
       "      <td>1112359015</td>\n",
       "      <td>pzYWb3m</td>\n",
       "      <td>NaT</td>\n",
       "      <td>NaT</td>\n",
       "      <td>0</td>\n",
       "      <td>1</td>\n",
       "      <td>41</td>\n",
       "      <td>Customer Service Specialist</td>\n",
       "      <td>14</td>\n",
       "      <td>...</td>\n",
       "      <td>1</td>\n",
       "      <td>0</td>\n",
       "      <td>0</td>\n",
       "      <td>0</td>\n",
       "      <td>0</td>\n",
       "      <td>0</td>\n",
       "      <td>0</td>\n",
       "      <td>0</td>\n",
       "      <td>0</td>\n",
       "      <td>1</td>\n",
       "    </tr>\n",
       "    <tr>\n",
       "      <th>2</th>\n",
       "      <td>0</td>\n",
       "      <td>1112420704</td>\n",
       "      <td>A3XaYrD</td>\n",
       "      <td>NaT</td>\n",
       "      <td>NaT</td>\n",
       "      <td>0</td>\n",
       "      <td>0</td>\n",
       "      <td>21</td>\n",
       "      <td>Analista de Créditos y Cobranzas, CABA</td>\n",
       "      <td>45</td>\n",
       "      <td>...</td>\n",
       "      <td>0</td>\n",
       "      <td>0</td>\n",
       "      <td>0</td>\n",
       "      <td>0</td>\n",
       "      <td>0</td>\n",
       "      <td>0</td>\n",
       "      <td>0</td>\n",
       "      <td>0</td>\n",
       "      <td>0</td>\n",
       "      <td>0</td>\n",
       "    </tr>\n",
       "    <tr>\n",
       "      <th>3</th>\n",
       "      <td>0</td>\n",
       "      <td>1112280950</td>\n",
       "      <td>YjrJ8kr</td>\n",
       "      <td>NaT</td>\n",
       "      <td>NaT</td>\n",
       "      <td>0</td>\n",
       "      <td>1</td>\n",
       "      <td>27</td>\n",
       "      <td>Camareros/as</td>\n",
       "      <td>26</td>\n",
       "      <td>...</td>\n",
       "      <td>0</td>\n",
       "      <td>0</td>\n",
       "      <td>0</td>\n",
       "      <td>0</td>\n",
       "      <td>0</td>\n",
       "      <td>0</td>\n",
       "      <td>0</td>\n",
       "      <td>0</td>\n",
       "      <td>0</td>\n",
       "      <td>0</td>\n",
       "    </tr>\n",
       "    <tr>\n",
       "      <th>4</th>\n",
       "      <td>1</td>\n",
       "      <td>1112343030</td>\n",
       "      <td>W9AmwVa</td>\n",
       "      <td>2018-03-03 13:59:55</td>\n",
       "      <td>NaT</td>\n",
       "      <td>0</td>\n",
       "      <td>0</td>\n",
       "      <td>33</td>\n",
       "      <td>ABASTECEDOR DE DEPÓSITO</td>\n",
       "      <td>5</td>\n",
       "      <td>...</td>\n",
       "      <td>0</td>\n",
       "      <td>0</td>\n",
       "      <td>0</td>\n",
       "      <td>0</td>\n",
       "      <td>0</td>\n",
       "      <td>0</td>\n",
       "      <td>0</td>\n",
       "      <td>0</td>\n",
       "      <td>0</td>\n",
       "      <td>0</td>\n",
       "    </tr>\n",
       "  </tbody>\n",
       "</table>\n",
       "<p>5 rows × 236 columns</p>\n",
       "</div>"
      ],
      "text/plain": [
       "   sepostulo     idaviso idpostulante    fechapostulacion ultima_vista  \\\n",
       "0          1  1112254546      xkv1PwK 2018-01-29 10:35:55          NaT   \n",
       "1          0  1112359015      pzYWb3m                 NaT          NaT   \n",
       "2          0  1112420704      A3XaYrD                 NaT          NaT   \n",
       "3          0  1112280950      YjrJ8kr                 NaT          NaT   \n",
       "4          1  1112343030      W9AmwVa 2018-03-03 13:59:55          NaT   \n",
       "\n",
       "   veces_visto  sexo  edad                                             titulo  \\\n",
       "0            0     1    18  Banco Líder en Argentina busca Jóvenes Profesi...   \n",
       "1            0     1    41                        Customer Service Specialist   \n",
       "2            0     0    21             Analista de Créditos y Cobranzas, CABA   \n",
       "3            0     1    27                                       Camareros/as   \n",
       "4            0     0    33                           ABASTECEDOR DE DEPÓSITO    \n",
       "\n",
       "   nombre_area     ...     InBev  APPLICA  Favaloro  Teleperformance  \\\n",
       "0           29     ...         0        0         0                0   \n",
       "1           14     ...         1        0         0                0   \n",
       "2           45     ...         0        0         0                0   \n",
       "3           26     ...         0        0         0                0   \n",
       "4            5     ...         0        0         0                0   \n",
       "\n",
       "   ConfiaRH  PROSEGUR  Banco  Farmacias  VentaTecno  Cervecería  \n",
       "0         0         0      0          0           0           0  \n",
       "1         0         0      0          0           0           1  \n",
       "2         0         0      0          0           0           0  \n",
       "3         0         0      0          0           0           0  \n",
       "4         0         0      0          0           0           0  \n",
       "\n",
       "[5 rows x 236 columns]"
      ]
     },
     "execution_count": 71,
     "metadata": {},
     "output_type": "execute_result"
    }
   ],
   "source": [
    "data['veces_visto'] = veces_visto_fillna_0\n",
    "data.head()"
   ]
  },
  {
   "cell_type": "code",
   "execution_count": 72,
   "metadata": {},
   "outputs": [],
   "source": [
    "del train_set, test_set, train_classes, test_classes\n",
    "train_set, test_set, train_classes, test_classes = train_test_split(data.drop(columns=['sexo','sepostulo','idaviso','idpostulante', 'fechapostulacion','ultima_vista','titulo', 'denominacion_empresa', 'nombre_area']), data['sepostulo'], test_size=0.3)"
   ]
  },
  {
   "cell_type": "code",
   "execution_count": 73,
   "metadata": {},
   "outputs": [
    {
     "name": "stdout",
     "output_type": "stream",
     "text": [
      "Test: 0.6718266666666667 Entrenamiento: 0.7984014285714286\n"
     ]
    }
   ],
   "source": [
    "clf10 = RandomForestClassifier(n_estimators=15).fit(train_set, train_classes)\n",
    "print('Test:', clf10.score(test_set, test_classes), 'Entrenamiento:', clf10.score(train_set, train_classes))"
   ]
  },
  {
   "cell_type": "markdown",
   "metadata": {},
   "source": [
    "- Con el campo: Test: 0.68687 Entrenamiento: 0.83277"
   ]
  },
  {
   "cell_type": "code",
   "execution_count": null,
   "metadata": {},
   "outputs": [],
   "source": []
  },
  {
   "cell_type": "code",
   "execution_count": null,
   "metadata": {},
   "outputs": [],
   "source": []
  },
  {
   "cell_type": "markdown",
   "metadata": {},
   "source": [
    "### Sin campo edad"
   ]
  },
  {
   "cell_type": "code",
   "execution_count": 74,
   "metadata": {},
   "outputs": [],
   "source": [
    "del train_set, test_set, train_classes, test_classes\n",
    "train_set, test_set, train_classes, test_classes = train_test_split(data.drop(columns=['edad','sepostulo','idaviso','idpostulante', 'fechapostulacion','ultima_vista','titulo', 'denominacion_empresa', 'nombre_area']), data['sepostulo'], test_size=0.3)"
   ]
  },
  {
   "cell_type": "code",
   "execution_count": 75,
   "metadata": {},
   "outputs": [
    {
     "name": "stdout",
     "output_type": "stream",
     "text": [
      "Test: 0.69919 Entrenamiento: 0.7379528571428572\n"
     ]
    }
   ],
   "source": [
    "clf11 = RandomForestClassifier(n_estimators=15).fit(train_set, train_classes)\n",
    "print('Test:', clf11.score(test_set, test_classes), 'Entrenamiento:', clf11.score(train_set, train_classes))"
   ]
  },
  {
   "cell_type": "markdown",
   "metadata": {},
   "source": [
    "- Con el campo: Test: 0.68687 Entrenamiento: 0.83277"
   ]
  },
  {
   "cell_type": "code",
   "execution_count": null,
   "metadata": {},
   "outputs": [],
   "source": []
  },
  {
   "cell_type": "code",
   "execution_count": null,
   "metadata": {},
   "outputs": [],
   "source": []
  },
  {
   "cell_type": "markdown",
   "metadata": {},
   "source": [
    "### Sin campos geograficos"
   ]
  },
  {
   "cell_type": "code",
   "execution_count": 76,
   "metadata": {},
   "outputs": [],
   "source": [
    "del train_set, test_set, train_classes, test_classes\n",
    "train_set, test_set, train_classes, test_classes = train_test_split(data.drop(columns=['zona_caba', 'zona_gba','sepostulo','idaviso','idpostulante', 'fechapostulacion','ultima_vista','titulo', 'denominacion_empresa', 'nombre_area']), data['sepostulo'], test_size=0.3)"
   ]
  },
  {
   "cell_type": "code",
   "execution_count": 77,
   "metadata": {},
   "outputs": [
    {
     "name": "stdout",
     "output_type": "stream",
     "text": [
      "Test: 0.6871566666666666 Entrenamiento: 0.82595\n"
     ]
    }
   ],
   "source": [
    "clf12 = RandomForestClassifier(n_estimators=15).fit(train_set, train_classes)\n",
    "print('Test:', clf12.score(test_set, test_classes), 'Entrenamiento:', clf12.score(train_set, train_classes))"
   ]
  },
  {
   "cell_type": "markdown",
   "metadata": {},
   "source": [
    "- Con el campo: Test: 0.68687 Entrenamiento: 0.83277"
   ]
  },
  {
   "cell_type": "code",
   "execution_count": null,
   "metadata": {},
   "outputs": [],
   "source": []
  },
  {
   "cell_type": "markdown",
   "metadata": {},
   "source": [
    "### Sin campos tipo de trabajo"
   ]
  },
  {
   "cell_type": "code",
   "execution_count": 78,
   "metadata": {},
   "outputs": [],
   "source": [
    "del train_set, test_set, train_classes, test_classes\n",
    "train_set, test_set, train_classes, test_classes = train_test_split(data.drop(columns=['tipo_full-time', 'tipo_part-time', 'tipo_otro','sepostulo','idaviso','idpostulante', 'fechapostulacion','ultima_vista','titulo', 'denominacion_empresa', 'nombre_area']), data['sepostulo'], test_size=0.3)"
   ]
  },
  {
   "cell_type": "code",
   "execution_count": 79,
   "metadata": {},
   "outputs": [
    {
     "name": "stdout",
     "output_type": "stream",
     "text": [
      "Test: 0.68722 Entrenamiento: 0.8236914285714285\n"
     ]
    }
   ],
   "source": [
    "clf13 = RandomForestClassifier(n_estimators=15).fit(train_set, train_classes)\n",
    "print('Test:', clf13.score(test_set, test_classes), 'Entrenamiento:', clf13.score(train_set, train_classes))"
   ]
  },
  {
   "cell_type": "markdown",
   "metadata": {},
   "source": [
    "- Con el campo: Test: 0.68687 Entrenamiento: 0.83277"
   ]
  },
  {
   "cell_type": "code",
   "execution_count": null,
   "metadata": {},
   "outputs": [],
   "source": []
  },
  {
   "cell_type": "markdown",
   "metadata": {},
   "source": [
    "### Sin campos estudios (ambos, en curso y graduados)"
   ]
  },
  {
   "cell_type": "code",
   "execution_count": 80,
   "metadata": {},
   "outputs": [],
   "source": [
    "del train_set, test_set, train_classes, test_classes\n",
    "train_set, test_set, train_classes, test_classes = train_test_split(data.drop(columns=['estudio_encurso', 'estudio_graduado','sepostulo','idaviso','idpostulante', 'fechapostulacion','ultima_vista','titulo', 'denominacion_empresa', 'nombre_area']), data['sepostulo'], test_size=0.3)"
   ]
  },
  {
   "cell_type": "code",
   "execution_count": 81,
   "metadata": {},
   "outputs": [
    {
     "name": "stdout",
     "output_type": "stream",
     "text": [
      "Test: 0.6639833333333334 Entrenamiento: 0.7275371428571429\n"
     ]
    }
   ],
   "source": [
    "clf14 = RandomForestClassifier(n_estimators=15).fit(train_set, train_classes)\n",
    "print('Test:', clf14.score(test_set, test_classes), 'Entrenamiento:', clf14.score(train_set, train_classes))"
   ]
  },
  {
   "cell_type": "markdown",
   "metadata": {},
   "source": [
    "- Con el campo: Test: 0.68687 Entrenamiento: 0.83277"
   ]
  },
  {
   "cell_type": "code",
   "execution_count": null,
   "metadata": {},
   "outputs": [],
   "source": []
  },
  {
   "cell_type": "markdown",
   "metadata": {},
   "source": [
    "### Sin campos estudios en curso"
   ]
  },
  {
   "cell_type": "code",
   "execution_count": 82,
   "metadata": {},
   "outputs": [],
   "source": [
    "del train_set, test_set, train_classes, test_classes\n",
    "train_set, test_set, train_classes, test_classes = train_test_split(data.drop(columns=['estudio_encurso','sepostulo','idaviso','idpostulante', 'fechapostulacion','ultima_vista','titulo', 'denominacion_empresa', 'nombre_area']), data['sepostulo'], test_size=0.3)"
   ]
  },
  {
   "cell_type": "code",
   "execution_count": 83,
   "metadata": {},
   "outputs": [
    {
     "name": "stdout",
     "output_type": "stream",
     "text": [
      "Test: 0.6780433333333333 Entrenamiento: 0.7913085714285715\n"
     ]
    }
   ],
   "source": [
    "clf15 = RandomForestClassifier(n_estimators=15).fit(train_set, train_classes)\n",
    "print('Test:', clf15.score(test_set, test_classes), 'Entrenamiento:', clf15.score(train_set, train_classes))"
   ]
  },
  {
   "cell_type": "markdown",
   "metadata": {},
   "source": [
    "- Con el campo: Test: 0.68687 Entrenamiento: 0.83277"
   ]
  },
  {
   "cell_type": "code",
   "execution_count": null,
   "metadata": {},
   "outputs": [],
   "source": []
  },
  {
   "cell_type": "markdown",
   "metadata": {},
   "source": [
    "### Sin campos estudios graduado"
   ]
  },
  {
   "cell_type": "code",
   "execution_count": 84,
   "metadata": {},
   "outputs": [],
   "source": [
    "del train_set, test_set, train_classes, test_classes\n",
    "train_set, test_set, train_classes, test_classes = train_test_split(data.drop(columns=['estudio_graduado','sepostulo','idaviso','idpostulante', 'fechapostulacion','ultima_vista','titulo', 'denominacion_empresa', 'nombre_area']), data['sepostulo'], test_size=0.3)"
   ]
  },
  {
   "cell_type": "code",
   "execution_count": 85,
   "metadata": {},
   "outputs": [
    {
     "name": "stdout",
     "output_type": "stream",
     "text": [
      "Test: 0.67129 Entrenamiento: 0.7705571428571428\n"
     ]
    }
   ],
   "source": [
    "clf16 = RandomForestClassifier(n_estimators=15).fit(train_set, train_classes)\n",
    "print('Test:', clf16.score(test_set, test_classes), 'Entrenamiento:', clf16.score(train_set, train_classes))"
   ]
  },
  {
   "cell_type": "markdown",
   "metadata": {},
   "source": [
    "- Con el campo: Test: 0.68687 Entrenamiento: 0.83277"
   ]
  },
  {
   "cell_type": "code",
   "execution_count": null,
   "metadata": {},
   "outputs": [],
   "source": []
  },
  {
   "cell_type": "code",
   "execution_count": null,
   "metadata": {},
   "outputs": [],
   "source": []
  },
  {
   "cell_type": "markdown",
   "metadata": {},
   "source": [
    "### Cargo un test100k para hacer una prueba"
   ]
  },
  {
   "cell_type": "code",
   "execution_count": 107,
   "metadata": {},
   "outputs": [],
   "source": [
    "test100k = pd.read_csv('test_final_100k_complete.csv', parse_dates=['fechapostulacion', 'ultima_vista'], dtype={'sepostulo':'int8', 'idaviso':'int64', 'idpostulante':'object', 'veces_visto':'int16', 'estudios':'category', 'estado':'category', 'edad':'int8', 'sexo':'category','nombre_zona':'category', 'tipo_de_trabajo':'category', 'nivel_laboral':'category', 'nombre_area':'category'})\n",
    "\n",
    "aux = ['MASC', 'FEM']\n",
    "test100k['sexo'] = test100k['sexo'].apply(lambda x: aux[np.random.randint(2)] if (x == 'NO_DECLARA') else x)\n",
    "del aux\n",
    "\n",
    "test100k['nombre_zona'].fillna(value='Gran Buenos Aires',inplace=True)\n",
    "test100k['tipo_de_trabajo'].fillna(value='Full-time',inplace=True)\n",
    "test100k['nivel_laboral'].fillna(value='Senior / Semi-Senior',inplace=True)\n",
    "test100k['nombre_area'].fillna(value='Ventas',inplace=True)"
   ]
  },
  {
   "cell_type": "code",
   "execution_count": 108,
   "metadata": {},
   "outputs": [],
   "source": [
    "test100k.drop(columns=['estudios', 'estado'], inplace=True)\n",
    "test100k = test100k.merge(edu_totales[['idpostulante','estudio_encurso','estudio_graduado']], on='idpostulante', how='left')\n",
    "\n",
    "test100k['estudio_encurso'] = test100k['estudio_encurso'].fillna(value=0).astype('int8')\n",
    "test100k['estudio_graduado'] = test100k['estudio_graduado'].fillna(value=0).astype('int8')"
   ]
  },
  {
   "cell_type": "code",
   "execution_count": 109,
   "metadata": {},
   "outputs": [],
   "source": [
    "test100k['tipo_full-time'] = test100k['tipo_de_trabajo'].apply(lambda x: 1 if (x=='Full-time') else 0).astype('int8')\n",
    "test100k['tipo_part-time'] = test100k['tipo_de_trabajo'].apply(lambda x: 1 if (x=='Part-time') else 0).astype('int8')\n",
    "test100k['tipo_otro'] = test100k['tipo_de_trabajo'].apply(lambda x: 1 if ((x != 'Full-time') & (x != 'Part-time')) else 0).astype('int8')\n",
    "\n",
    "test100k.drop(columns='tipo_de_trabajo', inplace=True)"
   ]
  },
  {
   "cell_type": "code",
   "execution_count": 110,
   "metadata": {},
   "outputs": [],
   "source": [
    "test100k['zona_gba'] = test100k['nombre_zona'].apply(lambda x: 1 if ((x=='Gran Buenos Aires') or (x=='GBA Oeste')) else 0).astype('int8')\n",
    "test100k['zona_caba'] = test100k['nombre_zona'].apply(lambda x: 1 if (x=='Capital Federal') else 0).astype('int8')\n",
    "\n",
    "test100k.drop(columns='nombre_zona', inplace=True)"
   ]
  },
  {
   "cell_type": "code",
   "execution_count": 111,
   "metadata": {},
   "outputs": [],
   "source": [
    "test100k['nivel_senior'] = test100k['nivel_laboral'].apply(lambda x: 1 if (x=='Senior / Semi-Senior') else 0).astype('int8')\n",
    "test100k['nivel_junior'] = test100k['nivel_laboral'].apply(lambda x: 1 if (x=='Junior') else 0).astype('int8')\n",
    "test100k['nivel_otro'] = test100k['nivel_laboral'].apply(lambda x: 1 if (x=='Otro') else 0).astype('int8')\n",
    "test100k['nivel_jefe'] = test100k['nivel_laboral'].apply(lambda x: 1 if (x=='Jefe / Supervisor / Responsable') else 0).astype('int8')\n",
    "test100k['nivel_gerente'] = test100k['nivel_laboral'].apply(lambda x: 1 if (x=='Gerencia / Alta Gerencia / Dirección') else 0).astype('int8')\n",
    "\n",
    "test100k.drop(columns='nivel_laboral', inplace=True)"
   ]
  },
  {
   "cell_type": "code",
   "execution_count": 112,
   "metadata": {},
   "outputs": [
    {
     "data": {
      "text/html": [
       "<div>\n",
       "<style scoped>\n",
       "    .dataframe tbody tr th:only-of-type {\n",
       "        vertical-align: middle;\n",
       "    }\n",
       "\n",
       "    .dataframe tbody tr th {\n",
       "        vertical-align: top;\n",
       "    }\n",
       "\n",
       "    .dataframe thead th {\n",
       "        text-align: right;\n",
       "    }\n",
       "</style>\n",
       "<table border=\"1\" class=\"dataframe\">\n",
       "  <thead>\n",
       "    <tr style=\"text-align: right;\">\n",
       "      <th></th>\n",
       "      <th>id</th>\n",
       "      <th>idaviso</th>\n",
       "      <th>idpostulante</th>\n",
       "      <th>fechapostulacion</th>\n",
       "      <th>ultima_vista</th>\n",
       "      <th>veces_visto</th>\n",
       "      <th>sexo</th>\n",
       "      <th>edad</th>\n",
       "      <th>titulo</th>\n",
       "      <th>nombre_area</th>\n",
       "      <th>...</th>\n",
       "      <th>tipo_full-time</th>\n",
       "      <th>tipo_part-time</th>\n",
       "      <th>tipo_otro</th>\n",
       "      <th>zona_gba</th>\n",
       "      <th>zona_caba</th>\n",
       "      <th>nivel_senior</th>\n",
       "      <th>nivel_junior</th>\n",
       "      <th>nivel_otro</th>\n",
       "      <th>nivel_jefe</th>\n",
       "      <th>nivel_gerente</th>\n",
       "    </tr>\n",
       "  </thead>\n",
       "  <tbody>\n",
       "    <tr>\n",
       "      <th>0</th>\n",
       "      <td>0</td>\n",
       "      <td>739260</td>\n",
       "      <td>6M9ZQR</td>\n",
       "      <td>NaT</td>\n",
       "      <td>NaT</td>\n",
       "      <td>0</td>\n",
       "      <td>0</td>\n",
       "      <td>42</td>\n",
       "      <td>Asistente Comercial</td>\n",
       "      <td>Comercial</td>\n",
       "      <td>...</td>\n",
       "      <td>1</td>\n",
       "      <td>0</td>\n",
       "      <td>0</td>\n",
       "      <td>0</td>\n",
       "      <td>1</td>\n",
       "      <td>0</td>\n",
       "      <td>0</td>\n",
       "      <td>0</td>\n",
       "      <td>1</td>\n",
       "      <td>0</td>\n",
       "    </tr>\n",
       "    <tr>\n",
       "      <th>1</th>\n",
       "      <td>1</td>\n",
       "      <td>739260</td>\n",
       "      <td>6v1xdL</td>\n",
       "      <td>NaT</td>\n",
       "      <td>NaT</td>\n",
       "      <td>0</td>\n",
       "      <td>1</td>\n",
       "      <td>30</td>\n",
       "      <td>Asistente Comercial</td>\n",
       "      <td>Comercial</td>\n",
       "      <td>...</td>\n",
       "      <td>1</td>\n",
       "      <td>0</td>\n",
       "      <td>0</td>\n",
       "      <td>0</td>\n",
       "      <td>1</td>\n",
       "      <td>0</td>\n",
       "      <td>0</td>\n",
       "      <td>0</td>\n",
       "      <td>1</td>\n",
       "      <td>0</td>\n",
       "    </tr>\n",
       "    <tr>\n",
       "      <th>2</th>\n",
       "      <td>2</td>\n",
       "      <td>739260</td>\n",
       "      <td>ezRKm9</td>\n",
       "      <td>NaT</td>\n",
       "      <td>NaT</td>\n",
       "      <td>0</td>\n",
       "      <td>0</td>\n",
       "      <td>36</td>\n",
       "      <td>Asistente Comercial</td>\n",
       "      <td>Comercial</td>\n",
       "      <td>...</td>\n",
       "      <td>1</td>\n",
       "      <td>0</td>\n",
       "      <td>0</td>\n",
       "      <td>0</td>\n",
       "      <td>1</td>\n",
       "      <td>0</td>\n",
       "      <td>0</td>\n",
       "      <td>0</td>\n",
       "      <td>1</td>\n",
       "      <td>0</td>\n",
       "    </tr>\n",
       "    <tr>\n",
       "      <th>3</th>\n",
       "      <td>3</td>\n",
       "      <td>758580</td>\n",
       "      <td>1Q35ej</td>\n",
       "      <td>NaT</td>\n",
       "      <td>NaT</td>\n",
       "      <td>0</td>\n",
       "      <td>1</td>\n",
       "      <td>68</td>\n",
       "      <td>Oracle Financials Sr. Application Developer</td>\n",
       "      <td>Tecnologia / Sistemas</td>\n",
       "      <td>...</td>\n",
       "      <td>1</td>\n",
       "      <td>0</td>\n",
       "      <td>0</td>\n",
       "      <td>0</td>\n",
       "      <td>1</td>\n",
       "      <td>0</td>\n",
       "      <td>0</td>\n",
       "      <td>1</td>\n",
       "      <td>0</td>\n",
       "      <td>0</td>\n",
       "    </tr>\n",
       "    <tr>\n",
       "      <th>4</th>\n",
       "      <td>4</td>\n",
       "      <td>758580</td>\n",
       "      <td>EAN4J6</td>\n",
       "      <td>NaT</td>\n",
       "      <td>NaT</td>\n",
       "      <td>0</td>\n",
       "      <td>0</td>\n",
       "      <td>32</td>\n",
       "      <td>Oracle Financials Sr. Application Developer</td>\n",
       "      <td>Tecnologia / Sistemas</td>\n",
       "      <td>...</td>\n",
       "      <td>1</td>\n",
       "      <td>0</td>\n",
       "      <td>0</td>\n",
       "      <td>0</td>\n",
       "      <td>1</td>\n",
       "      <td>0</td>\n",
       "      <td>0</td>\n",
       "      <td>1</td>\n",
       "      <td>0</td>\n",
       "      <td>0</td>\n",
       "    </tr>\n",
       "  </tbody>\n",
       "</table>\n",
       "<p>5 rows × 23 columns</p>\n",
       "</div>"
      ],
      "text/plain": [
       "   id  idaviso idpostulante fechapostulacion ultima_vista  veces_visto  sexo  \\\n",
       "0   0   739260       6M9ZQR              NaT          NaT            0     0   \n",
       "1   1   739260       6v1xdL              NaT          NaT            0     1   \n",
       "2   2   739260       ezRKm9              NaT          NaT            0     0   \n",
       "3   3   758580       1Q35ej              NaT          NaT            0     1   \n",
       "4   4   758580       EAN4J6              NaT          NaT            0     0   \n",
       "\n",
       "   edad                                       titulo            nombre_area  \\\n",
       "0    42                          Asistente Comercial              Comercial   \n",
       "1    30                          Asistente Comercial              Comercial   \n",
       "2    36                          Asistente Comercial              Comercial   \n",
       "3    68  Oracle Financials Sr. Application Developer  Tecnologia / Sistemas   \n",
       "4    32  Oracle Financials Sr. Application Developer  Tecnologia / Sistemas   \n",
       "\n",
       "       ...       tipo_full-time  tipo_part-time  tipo_otro  zona_gba  \\\n",
       "0      ...                    1               0          0         0   \n",
       "1      ...                    1               0          0         0   \n",
       "2      ...                    1               0          0         0   \n",
       "3      ...                    1               0          0         0   \n",
       "4      ...                    1               0          0         0   \n",
       "\n",
       "   zona_caba  nivel_senior  nivel_junior  nivel_otro  nivel_jefe  \\\n",
       "0          1             0             0           0           1   \n",
       "1          1             0             0           0           1   \n",
       "2          1             0             0           0           1   \n",
       "3          1             0             0           1           0   \n",
       "4          1             0             0           1           0   \n",
       "\n",
       "   nivel_gerente  \n",
       "0              0  \n",
       "1              0  \n",
       "2              0  \n",
       "3              0  \n",
       "4              0  \n",
       "\n",
       "[5 rows x 23 columns]"
      ]
     },
     "execution_count": 112,
     "metadata": {},
     "output_type": "execute_result"
    }
   ],
   "source": [
    "test100k['sexo'] = test100k['sexo'].apply(lambda x: 1 if (x=='MASC') else 0).astype('int8')\n",
    "test100k.reset_index(drop=True, inplace=True)\n",
    "test100k.head()"
   ]
  },
  {
   "cell_type": "code",
   "execution_count": 125,
   "metadata": {},
   "outputs": [],
   "source": [
    "test100k['nombre_area'] = le.transform(test100k['nombre_area'].astype(str))"
   ]
  },
  {
   "cell_type": "code",
   "execution_count": 127,
   "metadata": {},
   "outputs": [
    {
     "name": "stdout",
     "output_type": "stream",
     "text": [
      "<class 'pandas.core.frame.DataFrame'>\n",
      "RangeIndex: 100000 entries, 0 to 99999\n",
      "Columns: 188 entries, 0 to 187\n",
      "dtypes: int8(188)\n",
      "memory usage: 17.9 MB\n"
     ]
    }
   ],
   "source": [
    "encoded_areas = enc.transform(test100k['nombre_area'].values.reshape(-1,1))\n",
    "encoded_areas_df = pd.DataFrame(encoded_areas.toarray()).astype('int8')\n",
    "encoded_areas_df.info()"
   ]
  },
  {
   "cell_type": "code",
   "execution_count": 128,
   "metadata": {},
   "outputs": [
    {
     "name": "stdout",
     "output_type": "stream",
     "text": [
      "<class 'pandas.core.frame.DataFrame'>\n",
      "RangeIndex: 100000 entries, 0 to 99999\n",
      "Columns: 211 entries, id to 187\n",
      "dtypes: datetime64[ns](2), int16(1), int64(3), int8(202), object(3)\n",
      "memory usage: 25.6+ MB\n"
     ]
    }
   ],
   "source": [
    "test100k = pd.concat([test100k, encoded_areas_df], axis=1)\n",
    "\n",
    "del encoded_areas, encoded_areas_df\n",
    "\n",
    "test100k.info()"
   ]
  },
  {
   "cell_type": "code",
   "execution_count": 130,
   "metadata": {},
   "outputs": [
    {
     "data": {
      "text/html": [
       "<div>\n",
       "<style scoped>\n",
       "    .dataframe tbody tr th:only-of-type {\n",
       "        vertical-align: middle;\n",
       "    }\n",
       "\n",
       "    .dataframe tbody tr th {\n",
       "        vertical-align: top;\n",
       "    }\n",
       "\n",
       "    .dataframe thead th {\n",
       "        text-align: right;\n",
       "    }\n",
       "</style>\n",
       "<table border=\"1\" class=\"dataframe\">\n",
       "  <thead>\n",
       "    <tr style=\"text-align: right;\">\n",
       "      <th></th>\n",
       "      <th>id</th>\n",
       "      <th>idaviso</th>\n",
       "      <th>idpostulante</th>\n",
       "      <th>fechapostulacion</th>\n",
       "      <th>ultima_vista</th>\n",
       "      <th>veces_visto</th>\n",
       "      <th>sexo</th>\n",
       "      <th>edad</th>\n",
       "      <th>titulo</th>\n",
       "      <th>nombre_area</th>\n",
       "      <th>...</th>\n",
       "      <th>178</th>\n",
       "      <th>179</th>\n",
       "      <th>180</th>\n",
       "      <th>181</th>\n",
       "      <th>182</th>\n",
       "      <th>183</th>\n",
       "      <th>184</th>\n",
       "      <th>185</th>\n",
       "      <th>186</th>\n",
       "      <th>187</th>\n",
       "    </tr>\n",
       "  </thead>\n",
       "  <tbody>\n",
       "    <tr>\n",
       "      <th>0</th>\n",
       "      <td>0</td>\n",
       "      <td>739260</td>\n",
       "      <td>6M9ZQR</td>\n",
       "      <td>NaT</td>\n",
       "      <td>NaT</td>\n",
       "      <td>0</td>\n",
       "      <td>0</td>\n",
       "      <td>42</td>\n",
       "      <td>Asistente Comercial</td>\n",
       "      <td>29</td>\n",
       "      <td>...</td>\n",
       "      <td>0</td>\n",
       "      <td>0</td>\n",
       "      <td>0</td>\n",
       "      <td>0</td>\n",
       "      <td>0</td>\n",
       "      <td>0</td>\n",
       "      <td>0</td>\n",
       "      <td>0</td>\n",
       "      <td>0</td>\n",
       "      <td>0</td>\n",
       "    </tr>\n",
       "    <tr>\n",
       "      <th>1</th>\n",
       "      <td>1</td>\n",
       "      <td>739260</td>\n",
       "      <td>6v1xdL</td>\n",
       "      <td>NaT</td>\n",
       "      <td>NaT</td>\n",
       "      <td>0</td>\n",
       "      <td>1</td>\n",
       "      <td>30</td>\n",
       "      <td>Asistente Comercial</td>\n",
       "      <td>29</td>\n",
       "      <td>...</td>\n",
       "      <td>0</td>\n",
       "      <td>0</td>\n",
       "      <td>0</td>\n",
       "      <td>0</td>\n",
       "      <td>0</td>\n",
       "      <td>0</td>\n",
       "      <td>0</td>\n",
       "      <td>0</td>\n",
       "      <td>0</td>\n",
       "      <td>0</td>\n",
       "    </tr>\n",
       "    <tr>\n",
       "      <th>2</th>\n",
       "      <td>2</td>\n",
       "      <td>739260</td>\n",
       "      <td>ezRKm9</td>\n",
       "      <td>NaT</td>\n",
       "      <td>NaT</td>\n",
       "      <td>0</td>\n",
       "      <td>0</td>\n",
       "      <td>36</td>\n",
       "      <td>Asistente Comercial</td>\n",
       "      <td>29</td>\n",
       "      <td>...</td>\n",
       "      <td>0</td>\n",
       "      <td>0</td>\n",
       "      <td>0</td>\n",
       "      <td>0</td>\n",
       "      <td>0</td>\n",
       "      <td>0</td>\n",
       "      <td>0</td>\n",
       "      <td>0</td>\n",
       "      <td>0</td>\n",
       "      <td>0</td>\n",
       "    </tr>\n",
       "    <tr>\n",
       "      <th>3</th>\n",
       "      <td>3</td>\n",
       "      <td>758580</td>\n",
       "      <td>1Q35ej</td>\n",
       "      <td>NaT</td>\n",
       "      <td>NaT</td>\n",
       "      <td>0</td>\n",
       "      <td>1</td>\n",
       "      <td>68</td>\n",
       "      <td>Oracle Financials Sr. Application Developer</td>\n",
       "      <td>167</td>\n",
       "      <td>...</td>\n",
       "      <td>0</td>\n",
       "      <td>0</td>\n",
       "      <td>0</td>\n",
       "      <td>0</td>\n",
       "      <td>0</td>\n",
       "      <td>0</td>\n",
       "      <td>0</td>\n",
       "      <td>0</td>\n",
       "      <td>0</td>\n",
       "      <td>0</td>\n",
       "    </tr>\n",
       "    <tr>\n",
       "      <th>4</th>\n",
       "      <td>4</td>\n",
       "      <td>758580</td>\n",
       "      <td>EAN4J6</td>\n",
       "      <td>NaT</td>\n",
       "      <td>NaT</td>\n",
       "      <td>0</td>\n",
       "      <td>0</td>\n",
       "      <td>32</td>\n",
       "      <td>Oracle Financials Sr. Application Developer</td>\n",
       "      <td>167</td>\n",
       "      <td>...</td>\n",
       "      <td>0</td>\n",
       "      <td>0</td>\n",
       "      <td>0</td>\n",
       "      <td>0</td>\n",
       "      <td>0</td>\n",
       "      <td>0</td>\n",
       "      <td>0</td>\n",
       "      <td>0</td>\n",
       "      <td>0</td>\n",
       "      <td>0</td>\n",
       "    </tr>\n",
       "  </tbody>\n",
       "</table>\n",
       "<p>5 rows × 211 columns</p>\n",
       "</div>"
      ],
      "text/plain": [
       "   id  idaviso idpostulante fechapostulacion ultima_vista  veces_visto  sexo  \\\n",
       "0   0   739260       6M9ZQR              NaT          NaT            0     0   \n",
       "1   1   739260       6v1xdL              NaT          NaT            0     1   \n",
       "2   2   739260       ezRKm9              NaT          NaT            0     0   \n",
       "3   3   758580       1Q35ej              NaT          NaT            0     1   \n",
       "4   4   758580       EAN4J6              NaT          NaT            0     0   \n",
       "\n",
       "   edad                                       titulo  nombre_area ...  178  \\\n",
       "0    42                          Asistente Comercial           29 ...    0   \n",
       "1    30                          Asistente Comercial           29 ...    0   \n",
       "2    36                          Asistente Comercial           29 ...    0   \n",
       "3    68  Oracle Financials Sr. Application Developer          167 ...    0   \n",
       "4    32  Oracle Financials Sr. Application Developer          167 ...    0   \n",
       "\n",
       "   179  180  181  182  183  184  185  186  187  \n",
       "0    0    0    0    0    0    0    0    0    0  \n",
       "1    0    0    0    0    0    0    0    0    0  \n",
       "2    0    0    0    0    0    0    0    0    0  \n",
       "3    0    0    0    0    0    0    0    0    0  \n",
       "4    0    0    0    0    0    0    0    0    0  \n",
       "\n",
       "[5 rows x 211 columns]"
      ]
     },
     "execution_count": 130,
     "metadata": {},
     "output_type": "execute_result"
    }
   ],
   "source": [
    "test100k.head()"
   ]
  },
  {
   "cell_type": "code",
   "execution_count": 131,
   "metadata": {},
   "outputs": [
    {
     "name": "stdout",
     "output_type": "stream",
     "text": [
      "<class 'pandas.core.frame.DataFrame'>\n",
      "RangeIndex: 100000 entries, 0 to 99999\n",
      "Columns: 236 entries, id to Cervecería\n",
      "dtypes: datetime64[ns](2), int16(1), int64(3), int8(227), object(3)\n",
      "memory usage: 27.9+ MB\n"
     ]
    }
   ],
   "source": [
    "test100k['Adecco'] = test100k['denominacion_empresa'].astype(str).apply(lambda x: 1 if('Adecco' in x) else 0).astype('int8')\n",
    "test100k['Manpower'] = test100k['denominacion_empresa'].astype(str).apply(lambda x: 1 if('Manpower' in x) else 0).astype('int8')\n",
    "test100k['RANDSTAD'] = test100k['denominacion_empresa'].astype(str).apply(lambda x: 1 if('RANDSTAD' in x) else 0).astype('int8')\n",
    "test100k['Assistem'] = test100k['denominacion_empresa'].astype(str).apply(lambda x: 1 if('Assistem' in x) else 0).astype('int8')\n",
    "test100k['Pullmen'] = test100k['denominacion_empresa'].astype(str).apply(lambda x: 1 if('Pullmen' in x) else 0).astype('int8')\n",
    "test100k['BAYTON'] = test100k['denominacion_empresa'].astype(str).apply(lambda x: 1 if('BAYTON' in x) else 0).astype('int8')\n",
    "test100k['Suple'] = test100k['denominacion_empresa'].astype(str).apply(lambda x: 1 if('Suple' in x) else 0).astype('int8')\n",
    "test100k['Medical'] = test100k['denominacion_empresa'].astype(str).apply(lambda x: 1 if('Medical' in x) else 0).astype('int8')\n",
    "test100k['Talentum'] = test100k['denominacion_empresa'].astype(str).apply(lambda x: 1 if('Talentum' in x) else 0).astype('int8')\n",
    "test100k['HuCap'] = test100k['denominacion_empresa'].astype(str).apply(lambda x: 1 if('HuCap' in x) else 0).astype('int8')\n",
    "test100k['Asoko'] = test100k['denominacion_empresa'].astype(str).apply(lambda x: 1 if('Asoko' in x) else 0).astype('int8')\n",
    "test100k['COTO'] = test100k['denominacion_empresa'].astype(str).apply(lambda x: 1 if('COTO' in x) else 0).astype('int8')\n",
    "test100k['EAYA'] = test100k['denominacion_empresa'].astype(str).apply(lambda x: 1 if('EAYA' in x) else 0).astype('int8')\n",
    "test100k['Personal'] = test100k['denominacion_empresa'].astype(str).apply(lambda x: 1 if('Personal' in x) else 0).astype('int8')\n",
    "test100k['CONA'] = test100k['denominacion_empresa'].astype(str).apply(lambda x: 1 if('CONA' in x) else 0).astype('int8')\n",
    "test100k['InBev'] = test100k['denominacion_empresa'].astype(str).apply(lambda x: 1 if('InBev' in x) else 0).astype('int8')\n",
    "test100k['APPLICA'] = test100k['denominacion_empresa'].astype(str).apply(lambda x: 1 if('APPLICA' in x) else 0).astype('int8')\n",
    "test100k['Favaloro'] = test100k['denominacion_empresa'].astype(str).apply(lambda x: 1 if('Favaloro' in x) else 0).astype('int8')\n",
    "test100k['Teleperformance'] = test100k['denominacion_empresa'].astype(str).apply(lambda x: 1 if('Teleperformance' in x) else 0).astype('int8')\n",
    "test100k['ConfiaRH'] = test100k['denominacion_empresa'].astype(str).apply(lambda x: 1 if('ConfiaRH' in x) else 0).astype('int8')\n",
    "test100k['PROSEGUR'] = test100k['denominacion_empresa'].astype(str).apply(lambda x: 1 if('PROSEGUR' in x) else 0).astype('int8')\n",
    "test100k['Banco'] = test100k['denominacion_empresa'].astype(str).apply(lambda x: 1 if(('BBVA' in x) or ('Banco' in x)) else 0).astype('int8')\n",
    "test100k['Farmacias'] = test100k['denominacion_empresa'].astype(str).apply(lambda x: 1 if(('Farmacity' in x) or ('Farmacias' in x)) else 0).astype('int8')\n",
    "test100k['VentaTecno'] = test100k['denominacion_empresa'].astype(str).apply(lambda x: 1 if(('Garbarino' in x) or ('Musimundo' in x) or ('Frávega' in x)) else 0).astype('int8')\n",
    "test100k['Cervecería'] = test100k['denominacion_empresa'].astype(str).apply(lambda x: 1 if(('Cervecería' in x) or ('Maltería' in x) or ('Quilmes' in x)) else 0).astype('int8')\n",
    "\n",
    "test100k.info()"
   ]
  },
  {
   "cell_type": "code",
   "execution_count": 132,
   "metadata": {},
   "outputs": [
    {
     "data": {
      "text/html": [
       "<div>\n",
       "<style scoped>\n",
       "    .dataframe tbody tr th:only-of-type {\n",
       "        vertical-align: middle;\n",
       "    }\n",
       "\n",
       "    .dataframe tbody tr th {\n",
       "        vertical-align: top;\n",
       "    }\n",
       "\n",
       "    .dataframe thead th {\n",
       "        text-align: right;\n",
       "    }\n",
       "</style>\n",
       "<table border=\"1\" class=\"dataframe\">\n",
       "  <thead>\n",
       "    <tr style=\"text-align: right;\">\n",
       "      <th></th>\n",
       "      <th>id</th>\n",
       "      <th>idaviso</th>\n",
       "      <th>idpostulante</th>\n",
       "      <th>fechapostulacion</th>\n",
       "      <th>ultima_vista</th>\n",
       "      <th>veces_visto</th>\n",
       "      <th>sexo</th>\n",
       "      <th>edad</th>\n",
       "      <th>titulo</th>\n",
       "      <th>nombre_area</th>\n",
       "      <th>...</th>\n",
       "      <th>InBev</th>\n",
       "      <th>APPLICA</th>\n",
       "      <th>Favaloro</th>\n",
       "      <th>Teleperformance</th>\n",
       "      <th>ConfiaRH</th>\n",
       "      <th>PROSEGUR</th>\n",
       "      <th>Banco</th>\n",
       "      <th>Farmacias</th>\n",
       "      <th>VentaTecno</th>\n",
       "      <th>Cervecería</th>\n",
       "    </tr>\n",
       "  </thead>\n",
       "  <tbody>\n",
       "    <tr>\n",
       "      <th>0</th>\n",
       "      <td>0</td>\n",
       "      <td>739260</td>\n",
       "      <td>6M9ZQR</td>\n",
       "      <td>NaT</td>\n",
       "      <td>NaT</td>\n",
       "      <td>0</td>\n",
       "      <td>0</td>\n",
       "      <td>42</td>\n",
       "      <td>Asistente Comercial</td>\n",
       "      <td>29</td>\n",
       "      <td>...</td>\n",
       "      <td>0</td>\n",
       "      <td>0</td>\n",
       "      <td>0</td>\n",
       "      <td>0</td>\n",
       "      <td>0</td>\n",
       "      <td>0</td>\n",
       "      <td>0</td>\n",
       "      <td>0</td>\n",
       "      <td>0</td>\n",
       "      <td>0</td>\n",
       "    </tr>\n",
       "    <tr>\n",
       "      <th>1</th>\n",
       "      <td>1</td>\n",
       "      <td>739260</td>\n",
       "      <td>6v1xdL</td>\n",
       "      <td>NaT</td>\n",
       "      <td>NaT</td>\n",
       "      <td>0</td>\n",
       "      <td>1</td>\n",
       "      <td>30</td>\n",
       "      <td>Asistente Comercial</td>\n",
       "      <td>29</td>\n",
       "      <td>...</td>\n",
       "      <td>0</td>\n",
       "      <td>0</td>\n",
       "      <td>0</td>\n",
       "      <td>0</td>\n",
       "      <td>0</td>\n",
       "      <td>0</td>\n",
       "      <td>0</td>\n",
       "      <td>0</td>\n",
       "      <td>0</td>\n",
       "      <td>0</td>\n",
       "    </tr>\n",
       "    <tr>\n",
       "      <th>2</th>\n",
       "      <td>2</td>\n",
       "      <td>739260</td>\n",
       "      <td>ezRKm9</td>\n",
       "      <td>NaT</td>\n",
       "      <td>NaT</td>\n",
       "      <td>0</td>\n",
       "      <td>0</td>\n",
       "      <td>36</td>\n",
       "      <td>Asistente Comercial</td>\n",
       "      <td>29</td>\n",
       "      <td>...</td>\n",
       "      <td>0</td>\n",
       "      <td>0</td>\n",
       "      <td>0</td>\n",
       "      <td>0</td>\n",
       "      <td>0</td>\n",
       "      <td>0</td>\n",
       "      <td>0</td>\n",
       "      <td>0</td>\n",
       "      <td>0</td>\n",
       "      <td>0</td>\n",
       "    </tr>\n",
       "    <tr>\n",
       "      <th>3</th>\n",
       "      <td>3</td>\n",
       "      <td>758580</td>\n",
       "      <td>1Q35ej</td>\n",
       "      <td>NaT</td>\n",
       "      <td>NaT</td>\n",
       "      <td>0</td>\n",
       "      <td>1</td>\n",
       "      <td>68</td>\n",
       "      <td>Oracle Financials Sr. Application Developer</td>\n",
       "      <td>167</td>\n",
       "      <td>...</td>\n",
       "      <td>0</td>\n",
       "      <td>0</td>\n",
       "      <td>0</td>\n",
       "      <td>0</td>\n",
       "      <td>0</td>\n",
       "      <td>0</td>\n",
       "      <td>0</td>\n",
       "      <td>0</td>\n",
       "      <td>0</td>\n",
       "      <td>0</td>\n",
       "    </tr>\n",
       "    <tr>\n",
       "      <th>4</th>\n",
       "      <td>4</td>\n",
       "      <td>758580</td>\n",
       "      <td>EAN4J6</td>\n",
       "      <td>NaT</td>\n",
       "      <td>NaT</td>\n",
       "      <td>0</td>\n",
       "      <td>0</td>\n",
       "      <td>32</td>\n",
       "      <td>Oracle Financials Sr. Application Developer</td>\n",
       "      <td>167</td>\n",
       "      <td>...</td>\n",
       "      <td>0</td>\n",
       "      <td>0</td>\n",
       "      <td>0</td>\n",
       "      <td>0</td>\n",
       "      <td>0</td>\n",
       "      <td>0</td>\n",
       "      <td>0</td>\n",
       "      <td>0</td>\n",
       "      <td>0</td>\n",
       "      <td>0</td>\n",
       "    </tr>\n",
       "  </tbody>\n",
       "</table>\n",
       "<p>5 rows × 236 columns</p>\n",
       "</div>"
      ],
      "text/plain": [
       "   id  idaviso idpostulante fechapostulacion ultima_vista  veces_visto  sexo  \\\n",
       "0   0   739260       6M9ZQR              NaT          NaT            0     0   \n",
       "1   1   739260       6v1xdL              NaT          NaT            0     1   \n",
       "2   2   739260       ezRKm9              NaT          NaT            0     0   \n",
       "3   3   758580       1Q35ej              NaT          NaT            0     1   \n",
       "4   4   758580       EAN4J6              NaT          NaT            0     0   \n",
       "\n",
       "   edad                                       titulo  nombre_area     ...      \\\n",
       "0    42                          Asistente Comercial           29     ...       \n",
       "1    30                          Asistente Comercial           29     ...       \n",
       "2    36                          Asistente Comercial           29     ...       \n",
       "3    68  Oracle Financials Sr. Application Developer          167     ...       \n",
       "4    32  Oracle Financials Sr. Application Developer          167     ...       \n",
       "\n",
       "  InBev  APPLICA  Favaloro  Teleperformance  ConfiaRH  PROSEGUR  Banco  \\\n",
       "0     0        0         0                0         0         0      0   \n",
       "1     0        0         0                0         0         0      0   \n",
       "2     0        0         0                0         0         0      0   \n",
       "3     0        0         0                0         0         0      0   \n",
       "4     0        0         0                0         0         0      0   \n",
       "\n",
       "   Farmacias  VentaTecno  Cervecería  \n",
       "0          0           0           0  \n",
       "1          0           0           0  \n",
       "2          0           0           0  \n",
       "3          0           0           0  \n",
       "4          0           0           0  \n",
       "\n",
       "[5 rows x 236 columns]"
      ]
     },
     "execution_count": 132,
     "metadata": {},
     "output_type": "execute_result"
    }
   ],
   "source": [
    "test100k.head()"
   ]
  },
  {
   "cell_type": "code",
   "execution_count": null,
   "metadata": {},
   "outputs": [],
   "source": []
  },
  {
   "cell_type": "code",
   "execution_count": null,
   "metadata": {},
   "outputs": [],
   "source": []
  },
  {
   "cell_type": "markdown",
   "metadata": {},
   "source": [
    "- Ahora entrenamos un clasificador sin el campo 'edad', que vimos que nos baja el score, y veces_visto con fillna random en las postulaciones"
   ]
  },
  {
   "cell_type": "code",
   "execution_count": 133,
   "metadata": {},
   "outputs": [],
   "source": [
    "data['veces_visto'] = veces_visto_fillna_random\n",
    "\n",
    "del train_set, test_set, train_classes, test_classes\n",
    "train_set, test_set, train_classes, test_classes = train_test_split(data.drop(columns=['edad','sepostulo','idaviso','idpostulante', 'fechapostulacion','ultima_vista','titulo', 'denominacion_empresa', 'nombre_area']), data['sepostulo'], test_size=0.3)"
   ]
  },
  {
   "cell_type": "code",
   "execution_count": 134,
   "metadata": {},
   "outputs": [
    {
     "name": "stdout",
     "output_type": "stream",
     "text": [
      "Test: 0.8197833333333333 Entrenamiento: 0.84514\n"
     ]
    }
   ],
   "source": [
    "clf17 = RandomForestClassifier(n_estimators=15).fit(train_set, train_classes)\n",
    "print('Test:', clf17.score(test_set, test_classes), 'Entrenamiento:', clf17.score(train_set, train_classes))"
   ]
  },
  {
   "cell_type": "markdown",
   "metadata": {},
   "source": [
    "- Y predecimos el test100k, ya formatiado con las features numericas y one hot encoding como el set de data con el que se entreno el clasificador"
   ]
  },
  {
   "cell_type": "code",
   "execution_count": 135,
   "metadata": {},
   "outputs": [
    {
     "data": {
      "text/plain": [
       "0.41539"
      ]
     },
     "execution_count": 135,
     "metadata": {},
     "output_type": "execute_result"
    }
   ],
   "source": [
    "test100k['sepostulo'] = clf17.predict(test100k.drop(columns=['id','edad', 'idaviso','idpostulante', 'fechapostulacion','ultima_vista','titulo', 'denominacion_empresa', 'nombre_area']))\n",
    "test100k['sepostulo'].mean()"
   ]
  },
  {
   "cell_type": "code",
   "execution_count": 136,
   "metadata": {},
   "outputs": [],
   "source": [
    "test100k[['id','sepostulo']].to_csv('Resultados/randforest_convecesvistorandom_sinedad_onehotencodingallareas_partialempresas.csv', index=False)"
   ]
  },
  {
   "cell_type": "code",
   "execution_count": null,
   "metadata": {},
   "outputs": [],
   "source": []
  },
  {
   "cell_type": "code",
   "execution_count": null,
   "metadata": {},
   "outputs": [],
   "source": []
  },
  {
   "cell_type": "markdown",
   "metadata": {},
   "source": [
    "- Pruebo con fillna en postulaciones, con 66% probabilidad para 1, 33% para 0"
   ]
  },
  {
   "cell_type": "code",
   "execution_count": 157,
   "metadata": {},
   "outputs": [],
   "source": [
    "prob = [1,1,0]\n",
    "\n",
    "aux = data['sepostulo'].apply(lambda x: (prob[np.random.randint(3)]) if (x==1) else 0)\n",
    "\n",
    "data['veces_visto'] = (pd.merge(data[['idaviso','idpostulante']], vistas_totales_count, on=['idaviso', 'idpostulante'], how='left'))['veces_visto']\n",
    "data['veces_visto'].fillna(aux, inplace=True)\n",
    "data['veces_visto'] = data['veces_visto'].astype('int16')\n",
    "\n",
    "del aux"
   ]
  },
  {
   "cell_type": "code",
   "execution_count": 158,
   "metadata": {},
   "outputs": [],
   "source": [
    "del train_set, test_set, train_classes, test_classes\n",
    "train_set, test_set, train_classes, test_classes = train_test_split(data.drop(columns=['edad','sepostulo','idaviso','idpostulante', 'fechapostulacion','ultima_vista','titulo', 'denominacion_empresa', 'nombre_area']), data['sepostulo'], test_size=0.3)"
   ]
  },
  {
   "cell_type": "code",
   "execution_count": 159,
   "metadata": {},
   "outputs": [
    {
     "name": "stdout",
     "output_type": "stream",
     "text": [
      "Test: 0.8752333333333333 Entrenamiento: 0.8930528571428571\n"
     ]
    }
   ],
   "source": [
    "clf18 = RandomForestClassifier(n_estimators=15).fit(train_set, train_classes)\n",
    "print('Test:', clf18.score(test_set, test_classes), 'Entrenamiento:', clf18.score(train_set, train_classes))"
   ]
  },
  {
   "cell_type": "markdown",
   "metadata": {},
   "source": [
    "- Y predecimos el test100k, ya formatiado con las features numericas y one hot encoding como el set de data con el que se entreno el clasificador"
   ]
  },
  {
   "cell_type": "code",
   "execution_count": 161,
   "metadata": {},
   "outputs": [
    {
     "data": {
      "text/plain": [
       "0.37258"
      ]
     },
     "execution_count": 161,
     "metadata": {},
     "output_type": "execute_result"
    }
   ],
   "source": [
    "test100k['sepostulo'] = clf18.predict(test100k.drop(columns=['id', 'sepostulo','edad', 'idaviso','idpostulante', 'fechapostulacion','ultima_vista','titulo', 'denominacion_empresa', 'nombre_area']))\n",
    "test100k['sepostulo'].mean()"
   ]
  },
  {
   "cell_type": "code",
   "execution_count": 162,
   "metadata": {},
   "outputs": [],
   "source": [
    "test100k[['id','sepostulo']].to_csv('Resultados/randforest_convecesvistorandom66_sinedad_onehotencodingallareas_partialempresas.csv', index=False)"
   ]
  },
  {
   "cell_type": "code",
   "execution_count": null,
   "metadata": {},
   "outputs": [],
   "source": []
  },
  {
   "cell_type": "code",
   "execution_count": null,
   "metadata": {},
   "outputs": [],
   "source": []
  },
  {
   "cell_type": "markdown",
   "metadata": {},
   "source": [
    "- Probamos KNN"
   ]
  },
  {
   "cell_type": "code",
   "execution_count": 196,
   "metadata": {},
   "outputs": [],
   "source": [
    "data['veces_visto'] = veces_visto_fillna_random\n",
    "\n",
    "del train_set, test_set, train_classes, test_classes\n",
    "train_set, test_set, train_classes, test_classes = train_test_split(data.drop(columns=['edad','sepostulo','idaviso','idpostulante', 'fechapostulacion','ultima_vista','titulo', 'denominacion_empresa', 'nombre_area']), data['sepostulo'], test_size=0.3)"
   ]
  },
  {
   "cell_type": "code",
   "execution_count": 202,
   "metadata": {},
   "outputs": [
    {
     "name": "stdout",
     "output_type": "stream",
     "text": [
      "Test: 0.8019733333333333 Entrenamiento: 0.8200357142857143\n"
     ]
    }
   ],
   "source": [
    "knn = KNeighborsClassifier()\n",
    "knn.fit(train_set, train_classes)\n",
    "print('Test:', knn.score(test_set, test_classes), 'Entrenamiento:', knn.score(train_set, train_classes))"
   ]
  },
  {
   "cell_type": "code",
   "execution_count": null,
   "metadata": {},
   "outputs": [],
   "source": []
  },
  {
   "cell_type": "code",
   "execution_count": null,
   "metadata": {},
   "outputs": [],
   "source": []
  },
  {
   "cell_type": "code",
   "execution_count": null,
   "metadata": {},
   "outputs": [],
   "source": []
  },
  {
   "cell_type": "code",
   "execution_count": null,
   "metadata": {},
   "outputs": [],
   "source": []
  },
  {
   "cell_type": "code",
   "execution_count": null,
   "metadata": {},
   "outputs": [],
   "source": []
  },
  {
   "cell_type": "code",
   "execution_count": 52,
   "metadata": {},
   "outputs": [
    {
     "data": {
      "text/plain": [
       "[('S.A.', 80594),\n",
       " ('Adecco', 69531),\n",
       " ('Grupo', 50929),\n",
       " ('SA', 47919),\n",
       " ('-Región', 44707),\n",
       " ('&', 37446),\n",
       " ('Manpower', 36582),\n",
       " ('Argentina', 36200),\n",
       " ('RANDSTAD', 34875),\n",
       " ('SRL', 34716),\n",
       " ('de', 32268),\n",
       " ('-', 31862),\n",
       " ('Gestión', 29407),\n",
       " ('Consultores', 27782),\n",
       " ('Office', 26439),\n",
       " ('Assistem', 24876),\n",
       " ('Servicios', 24065),\n",
       " ('GBA', 23887),\n",
       " ('Group', 23475),\n",
       " ('RRHH', 22330),\n",
       " ('Recursos', 20547),\n",
       " ('BBVA', 20144),\n",
       " ('Francés', 20144),\n",
       " ('Humanos', 19297),\n",
       " ('Farmacity', 19182),\n",
       " ('Pullmen', 17841),\n",
       " ('Empresarios', 17841),\n",
       " ('BAYTON', 16546),\n",
       " ('S.R.L.', 16358),\n",
       " ('S.A', 15879),\n",
       " ('y', 15613),\n",
       " ('RH', 14903),\n",
       " ('SUR', 14594),\n",
       " ('Región', 13908),\n",
       " ('Consultora', 12718),\n",
       " ('Suministra', 12585),\n",
       " ('Consulting', 12490),\n",
       " ('OESTE', 11951),\n",
       " ('NORTE', 11883),\n",
       " ('ARGENTINA', 11801),\n",
       " ('Suple', 11761),\n",
       " ('Complement', 10654),\n",
       " ('(holding)', 10654),\n",
       " ('Asociados', 10442),\n",
       " ('Laboral', 9937),\n",
       " ('Marketing', 9838),\n",
       " ('DE', 9795),\n",
       " ('en', 9597),\n",
       " ('Medical', 8785),\n",
       " ('Talentum', 8713),\n",
       " ('Empresas', 8545),\n",
       " ('-Sales', 8512),\n",
       " ('S', 8354),\n",
       " ('S.R.L', 7821),\n",
       " ('HuCap', 7773),\n",
       " ('CONSULTORES', 7699),\n",
       " ('Swiss', 7517),\n",
       " ('A', 7413),\n",
       " ('Asoko', 7269),\n",
       " ('Tempo', 7269),\n",
       " ('Banco', 6924),\n",
       " ('Excelencia', 6902),\n",
       " ('Center', 6864),\n",
       " ('COTO', 6849),\n",
       " ('cicsa', 6849),\n",
       " ('Garbarino', 6602),\n",
       " ('Musimundo', 6587),\n",
       " ('Empresa', 6580),\n",
       " ('Cosmos', 6326),\n",
       " ('GROUP', 6176),\n",
       " ('EN', 5772),\n",
       " ('Humano', 5714),\n",
       " ('Y', 5681),\n",
       " ('EAYA', 5512),\n",
       " ('Baires', 5354),\n",
       " ('BANCO', 5294),\n",
       " ('MACRO', 5294),\n",
       " ('Select', 5263),\n",
       " ('Contact', 5100),\n",
       " ('Oeste', 4810),\n",
       " ('Litoral', 4766),\n",
       " ('Fundación', 4747),\n",
       " ('Activo', 4617),\n",
       " ('Capital', 4498),\n",
       " ('Farmacias', 4431),\n",
       " ('CONA', 4418),\n",
       " ('HR', 4398),\n",
       " ('Importante', 4287),\n",
       " ('Unión', 4268),\n",
       " ('Personal', 4268),\n",
       " ('AB', 4246),\n",
       " ('InBev', 4246),\n",
       " ('Cervecería', 4246),\n",
       " ('Maltería', 4246),\n",
       " ('Quilmes', 4246),\n",
       " ('Atento', 4191),\n",
       " ('Central', 4101),\n",
       " ('con', 4022),\n",
       " ('PROSEGUR', 3919),\n",
       " ('APPLICA', 3863),\n",
       " ('Buenos', 3839),\n",
       " ('Aires', 3839),\n",
       " ('Services', 3772),\n",
       " ('Favaloro', 3761),\n",
       " ('IT', 3712),\n",
       " ('Collections', 3671),\n",
       " ('Frávega', 3645),\n",
       " ('&amp;', 3645),\n",
       " ('SERVICIOS', 3595),\n",
       " ('GI', 3516),\n",
       " ('Teleperformance', 3512),\n",
       " ('ConfiaRH', 3504),\n",
       " ('Eventuales', 3488),\n",
       " ('PSA', 3451),\n",
       " ('Norte', 3424),\n",
       " ('Deloitte', 3423),\n",
       " ('Mook´s', 3361),\n",
       " ('Ciudad', 3361),\n",
       " ('Co.', 3342),\n",
       " ('La', 3306),\n",
       " ('Mimo', 3300),\n",
       " ('Megatlon', 3255),\n",
       " ('Centro', 3195),\n",
       " ('la', 3098),\n",
       " ('Focalizar', 3005),\n",
       " ('Columbia', 2961),\n",
       " ('Estudio', 2933),\n",
       " ('FALABELLA', 2909),\n",
       " ('DISTRIBUIDORA', 2908),\n",
       " ('Gobierno', 2904),\n",
       " ('TALENT', 2852),\n",
       " ('Instituto', 2851),\n",
       " ('MO&PC', 2768),\n",
       " ('Gentile', 2712),\n",
       " ('ASOCIADOS', 2694),\n",
       " ('PRÜNE', 2618),\n",
       " ('Estrategia', 2613),\n",
       " (\"D'arc\", 2589),\n",
       " ('EXTRAMEN', 2582),\n",
       " ('EVENTUALES', 2582),\n",
       " ('Pepsico', 2569),\n",
       " ('SOCIEDAD', 2541),\n",
       " ('Talent', 2514),\n",
       " ('OSDEPYM', 2486),\n",
       " ('ELECTRO', 2484),\n",
       " ('Solutions', 2417),\n",
       " ('C', 2338),\n",
       " ('GMS', 2297),\n",
       " ('Agro.', 2296),\n",
       " ('Universidad', 2256)]"
      ]
     },
     "execution_count": 52,
     "metadata": {},
     "output_type": "execute_result"
    }
   ],
   "source": [
    "#Counter(\" \".join(data[\"denominacion_empresa\"].astype(str)).split()).most_common(150)"
   ]
  },
  {
   "cell_type": "code",
   "execution_count": null,
   "metadata": {},
   "outputs": [],
   "source": []
  },
  {
   "cell_type": "code",
   "execution_count": null,
   "metadata": {},
   "outputs": [],
   "source": []
  },
  {
   "cell_type": "code",
   "execution_count": null,
   "metadata": {},
   "outputs": [],
   "source": [
    "parameters = {'splitter':('best', 'random'), 'min_samples_split':[2,20,200,2000,20000,0.01,0.05,0.1,0.15,0.20], 'min_samples_leaf':[1,10,100,1000,10000,0.01,0.05,0.1,0.15,0.20]}\n",
    "tree_clf = tree.DecisionTreeClassifier()\n",
    "clf2 = GridSearchCV(tree_clf, parameters)\n",
    "clf2.fit(train_set, train_classes)"
   ]
  },
  {
   "cell_type": "code",
   "execution_count": null,
   "metadata": {},
   "outputs": [],
   "source": [
    "clf2.cv_results_"
   ]
  },
  {
   "cell_type": "code",
   "execution_count": null,
   "metadata": {},
   "outputs": [],
   "source": [
    "clf2.score(test_set, test_classes)"
   ]
  },
  {
   "cell_type": "code",
   "execution_count": null,
   "metadata": {},
   "outputs": [],
   "source": []
  },
  {
   "cell_type": "code",
   "execution_count": 18,
   "metadata": {},
   "outputs": [
    {
     "data": {
      "text/plain": [
       "0.6270366666666667"
      ]
     },
     "execution_count": 18,
     "metadata": {},
     "output_type": "execute_result"
    }
   ],
   "source": [
    "clf3=BaggingClassifier().fit(train_set,train_classes)\n",
    "clf3.score(test_set, test_classes)"
   ]
  },
  {
   "cell_type": "code",
   "execution_count": 19,
   "metadata": {},
   "outputs": [
    {
     "data": {
      "text/plain": [
       "0.6246733333333333"
      ]
     },
     "execution_count": 19,
     "metadata": {},
     "output_type": "execute_result"
    }
   ],
   "source": [
    "clf4=RandomForestClassifier().fit(train_set,train_classes)\n",
    "clf4.score(test_set, test_classes)"
   ]
  },
  {
   "cell_type": "code",
   "execution_count": 20,
   "metadata": {},
   "outputs": [
    {
     "data": {
      "text/plain": [
       "0.6234266666666667"
      ]
     },
     "execution_count": 20,
     "metadata": {},
     "output_type": "execute_result"
    }
   ],
   "source": [
    "clf5=ExtraTreesClassifier().fit(train_set,train_classes)\n",
    "clf5.score(test_set, test_classes)"
   ]
  },
  {
   "cell_type": "code",
   "execution_count": null,
   "metadata": {},
   "outputs": [],
   "source": [
    "clf6 = ExtraTreesClassifier()\n",
    "scores = cross_val_score(clf6,train_set,train_classes)\n",
    "scores"
   ]
  },
  {
   "cell_type": "code",
   "execution_count": null,
   "metadata": {},
   "outputs": [],
   "source": []
  },
  {
   "cell_type": "code",
   "execution_count": 21,
   "metadata": {},
   "outputs": [
    {
     "data": {
      "text/plain": [
       "0.5928966666666666"
      ]
     },
     "execution_count": 21,
     "metadata": {},
     "output_type": "execute_result"
    }
   ],
   "source": [
    "clf7 = GradientBoostingClassifier().fit(train_set,train_classes)\n",
    "clf7.score(test_set, test_classes)"
   ]
  },
  {
   "cell_type": "code",
   "execution_count": 22,
   "metadata": {},
   "outputs": [
    {
     "data": {
      "text/plain": [
       "0.5366933333333334"
      ]
     },
     "execution_count": 22,
     "metadata": {},
     "output_type": "execute_result"
    }
   ],
   "source": [
    "clf8 = GaussianNB().fit(train_set,train_classes)\n",
    "clf8.score(test_set, test_classes)"
   ]
  },
  {
   "cell_type": "code",
   "execution_count": null,
   "metadata": {},
   "outputs": [],
   "source": [
    "clf4=RandomForestClassifier().fit(train_set,train_classes)\n",
    "clf4.score(test_set, test_classes)"
   ]
  },
  {
   "cell_type": "code",
   "execution_count": null,
   "metadata": {},
   "outputs": [],
   "source": [
    "train_set, test_set, train_classes, test_classes = train_test_split(data.drop(columns=['sepostulo','idaviso','idpostulante', 'fechapostulacion','ultima_vista','titulo']), data['sepostulo'], test_size=0.3)"
   ]
  },
  {
   "cell_type": "code",
   "execution_count": null,
   "metadata": {},
   "outputs": [],
   "source": [
    "parameters = {'n_estimators':[10], 'min_samples_split':[2,20,200,2000,20000,0.01,0.05,0.1,0.15,0.20], 'min_samples_leaf':[1,10,100,1000,10000,0.01,0.05,0.1,0.15,0.20]}\n",
    "tree_clf9 = RandomForestClassifier()\n",
    "clf9 = GridSearchCV(tree_clf9, parameters)\n",
    "clf9.fit(train_set, train_classes)"
   ]
  },
  {
   "cell_type": "code",
   "execution_count": null,
   "metadata": {},
   "outputs": [],
   "source": [
    "clf9.score(test_set, test_classes)"
   ]
  },
  {
   "cell_type": "code",
   "execution_count": null,
   "metadata": {},
   "outputs": [],
   "source": []
  }
 ],
 "metadata": {
  "kernelspec": {
   "display_name": "Python 3",
   "language": "python",
   "name": "python3"
  },
  "language_info": {
   "codemirror_mode": {
    "name": "ipython",
    "version": 3
   },
   "file_extension": ".py",
   "mimetype": "text/x-python",
   "name": "python",
   "nbconvert_exporter": "python",
   "pygments_lexer": "ipython3",
   "version": "3.5.2"
  }
 },
 "nbformat": 4,
 "nbformat_minor": 2
}
