{
 "cells": [
  {
   "cell_type": "code",
   "execution_count": 1,
   "metadata": {},
   "outputs": [],
   "source": [
    "import pandas as pd\n",
    "import numpy as np\n",
    "from datetime import datetime\n",
    "\n",
    "from sklearn import tree\n",
    "from sklearn import preprocessing"
   ]
  },
  {
   "cell_type": "code",
   "execution_count": 11,
   "metadata": {},
   "outputs": [
    {
     "data": {
      "text/html": [
       "<div>\n",
       "<style scoped>\n",
       "    .dataframe tbody tr th:only-of-type {\n",
       "        vertical-align: middle;\n",
       "    }\n",
       "\n",
       "    .dataframe tbody tr th {\n",
       "        vertical-align: top;\n",
       "    }\n",
       "\n",
       "    .dataframe thead th {\n",
       "        text-align: right;\n",
       "    }\n",
       "</style>\n",
       "<table border=\"1\" class=\"dataframe\">\n",
       "  <thead>\n",
       "    <tr style=\"text-align: right;\">\n",
       "      <th></th>\n",
       "      <th>sepostulo</th>\n",
       "      <th>idaviso</th>\n",
       "      <th>idpostulante</th>\n",
       "      <th>fechapostulacion</th>\n",
       "      <th>ultima_vista</th>\n",
       "      <th>veces_visto</th>\n",
       "      <th>estudios</th>\n",
       "      <th>estado</th>\n",
       "      <th>sexo</th>\n",
       "      <th>edad</th>\n",
       "      <th>titulo</th>\n",
       "      <th>nombre_zona</th>\n",
       "      <th>tipo_de_trabajo</th>\n",
       "      <th>nivel_laboral</th>\n",
       "      <th>nombre_area</th>\n",
       "      <th>denominacion_empresa</th>\n",
       "    </tr>\n",
       "  </thead>\n",
       "  <tbody>\n",
       "    <tr>\n",
       "      <th>0</th>\n",
       "      <td>1</td>\n",
       "      <td>1112094756</td>\n",
       "      <td>4rNk8PM</td>\n",
       "      <td>2018-04-14 10:06:05</td>\n",
       "      <td>2018-04-14 10:20:38</td>\n",
       "      <td>3</td>\n",
       "      <td>Universitario</td>\n",
       "      <td>En Curso</td>\n",
       "      <td>FEM</td>\n",
       "      <td>28</td>\n",
       "      <td>Representante de Atencion al Cliente/ Banco</td>\n",
       "      <td>Gran Buenos Aires</td>\n",
       "      <td>Part-time</td>\n",
       "      <td>Senior / Semi-Senior</td>\n",
       "      <td>Call Center</td>\n",
       "      <td>RANDSTAD</td>\n",
       "    </tr>\n",
       "    <tr>\n",
       "      <th>1</th>\n",
       "      <td>1</td>\n",
       "      <td>1112334791</td>\n",
       "      <td>vVe1KDQ</td>\n",
       "      <td>2018-02-20 08:37:18</td>\n",
       "      <td>NaT</td>\n",
       "      <td>1</td>\n",
       "      <td>Secundario</td>\n",
       "      <td>Graduado</td>\n",
       "      <td>MASC</td>\n",
       "      <td>26</td>\n",
       "      <td>Cajero/a - Part Time</td>\n",
       "      <td>Gran Buenos Aires</td>\n",
       "      <td>Full-time</td>\n",
       "      <td>Senior / Semi-Senior</td>\n",
       "      <td>Comercial</td>\n",
       "      <td>Farmacity</td>\n",
       "    </tr>\n",
       "    <tr>\n",
       "      <th>2</th>\n",
       "      <td>0</td>\n",
       "      <td>1112296457</td>\n",
       "      <td>akjGq0D</td>\n",
       "      <td>NaT</td>\n",
       "      <td>NaT</td>\n",
       "      <td>0</td>\n",
       "      <td>Secundario</td>\n",
       "      <td>Abandonado</td>\n",
       "      <td>MASC</td>\n",
       "      <td>45</td>\n",
       "      <td>OPERARIO DE PRODUCCIÓN</td>\n",
       "      <td>Gran Buenos Aires</td>\n",
       "      <td>Full-time</td>\n",
       "      <td>Senior / Semi-Senior</td>\n",
       "      <td>Producción</td>\n",
       "      <td>Adecco - Región NORTE &amp; OESTE GBA</td>\n",
       "    </tr>\n",
       "    <tr>\n",
       "      <th>3</th>\n",
       "      <td>0</td>\n",
       "      <td>1112322128</td>\n",
       "      <td>owz3QPa</td>\n",
       "      <td>NaT</td>\n",
       "      <td>NaT</td>\n",
       "      <td>0</td>\n",
       "      <td>Secundario</td>\n",
       "      <td>Graduado</td>\n",
       "      <td>MASC</td>\n",
       "      <td>27</td>\n",
       "      <td>NaN</td>\n",
       "      <td>NaN</td>\n",
       "      <td>NaN</td>\n",
       "      <td>NaN</td>\n",
       "      <td>NaN</td>\n",
       "      <td>NaN</td>\n",
       "    </tr>\n",
       "    <tr>\n",
       "      <th>4</th>\n",
       "      <td>1</td>\n",
       "      <td>1112317075</td>\n",
       "      <td>8MZ9LGj</td>\n",
       "      <td>2018-02-06 17:08:43</td>\n",
       "      <td>NaT</td>\n",
       "      <td>1</td>\n",
       "      <td>Universitario</td>\n",
       "      <td>Graduado</td>\n",
       "      <td>FEM</td>\n",
       "      <td>27</td>\n",
       "      <td>NaN</td>\n",
       "      <td>NaN</td>\n",
       "      <td>NaN</td>\n",
       "      <td>NaN</td>\n",
       "      <td>NaN</td>\n",
       "      <td>NaN</td>\n",
       "    </tr>\n",
       "  </tbody>\n",
       "</table>\n",
       "</div>"
      ],
      "text/plain": [
       "   sepostulo     idaviso idpostulante    fechapostulacion        ultima_vista  \\\n",
       "0          1  1112094756      4rNk8PM 2018-04-14 10:06:05 2018-04-14 10:20:38   \n",
       "1          1  1112334791      vVe1KDQ 2018-02-20 08:37:18                 NaT   \n",
       "2          0  1112296457      akjGq0D                 NaT                 NaT   \n",
       "3          0  1112322128      owz3QPa                 NaT                 NaT   \n",
       "4          1  1112317075      8MZ9LGj 2018-02-06 17:08:43                 NaT   \n",
       "\n",
       "   veces_visto       estudios      estado  sexo  edad  \\\n",
       "0            3  Universitario    En Curso   FEM    28   \n",
       "1            1     Secundario    Graduado  MASC    26   \n",
       "2            0     Secundario  Abandonado  MASC    45   \n",
       "3            0     Secundario    Graduado  MASC    27   \n",
       "4            1  Universitario    Graduado   FEM    27   \n",
       "\n",
       "                                        titulo        nombre_zona  \\\n",
       "0  Representante de Atencion al Cliente/ Banco  Gran Buenos Aires   \n",
       "1                        Cajero/a - Part Time   Gran Buenos Aires   \n",
       "2                      OPERARIO DE PRODUCCIÓN   Gran Buenos Aires   \n",
       "3                                          NaN                NaN   \n",
       "4                                          NaN                NaN   \n",
       "\n",
       "  tipo_de_trabajo         nivel_laboral  nombre_area  \\\n",
       "0       Part-time  Senior / Semi-Senior  Call Center   \n",
       "1       Full-time  Senior / Semi-Senior    Comercial   \n",
       "2       Full-time  Senior / Semi-Senior   Producción   \n",
       "3             NaN                   NaN          NaN   \n",
       "4             NaN                   NaN          NaN   \n",
       "\n",
       "                denominacion_empresa  \n",
       "0                           RANDSTAD  \n",
       "1                          Farmacity  \n",
       "2  Adecco - Región NORTE & OESTE GBA  \n",
       "3                                NaN  \n",
       "4                                NaN  "
      ]
     },
     "execution_count": 11,
     "metadata": {},
     "output_type": "execute_result"
    }
   ],
   "source": [
    "train_set.head()"
   ]
  },
  {
   "cell_type": "code",
   "execution_count": 37,
   "metadata": {},
   "outputs": [],
   "source": [
    "train_sample = train_set.sample(frac=0.7)\n",
    "train_sample_classes = train_sample['sepostulo']"
   ]
  },
  {
   "cell_type": "code",
   "execution_count": 38,
   "metadata": {},
   "outputs": [],
   "source": [
    "train_sample.drop(columns=['sepostulo', 'idaviso', 'idpostulante','titulo', 'denominacion_empresa'], inplace=True)\n",
    "train_sample.drop(columns=['fechapostulacion', 'ultima_vista'], inplace=True)"
   ]
  },
  {
   "cell_type": "code",
   "execution_count": 39,
   "metadata": {},
   "outputs": [
    {
     "data": {
      "text/html": [
       "<div>\n",
       "<style scoped>\n",
       "    .dataframe tbody tr th:only-of-type {\n",
       "        vertical-align: middle;\n",
       "    }\n",
       "\n",
       "    .dataframe tbody tr th {\n",
       "        vertical-align: top;\n",
       "    }\n",
       "\n",
       "    .dataframe thead th {\n",
       "        text-align: right;\n",
       "    }\n",
       "</style>\n",
       "<table border=\"1\" class=\"dataframe\">\n",
       "  <thead>\n",
       "    <tr style=\"text-align: right;\">\n",
       "      <th></th>\n",
       "      <th>veces_visto</th>\n",
       "      <th>estudios</th>\n",
       "      <th>estado</th>\n",
       "      <th>sexo</th>\n",
       "      <th>edad</th>\n",
       "      <th>nombre_zona</th>\n",
       "      <th>tipo_de_trabajo</th>\n",
       "      <th>nivel_laboral</th>\n",
       "      <th>nombre_area</th>\n",
       "    </tr>\n",
       "  </thead>\n",
       "  <tbody>\n",
       "    <tr>\n",
       "      <th>9275680</th>\n",
       "      <td>0</td>\n",
       "      <td>Terciario/Técnico</td>\n",
       "      <td>Graduado</td>\n",
       "      <td>FEM</td>\n",
       "      <td>24</td>\n",
       "      <td>NaN</td>\n",
       "      <td>NaN</td>\n",
       "      <td>NaN</td>\n",
       "      <td>NaN</td>\n",
       "    </tr>\n",
       "    <tr>\n",
       "      <th>9507944</th>\n",
       "      <td>1</td>\n",
       "      <td>Terciario/Técnico</td>\n",
       "      <td>Graduado</td>\n",
       "      <td>MASC</td>\n",
       "      <td>34</td>\n",
       "      <td>Gran Buenos Aires</td>\n",
       "      <td>Full-time</td>\n",
       "      <td>Senior / Semi-Senior</td>\n",
       "      <td>Ventas</td>\n",
       "    </tr>\n",
       "    <tr>\n",
       "      <th>5499227</th>\n",
       "      <td>0</td>\n",
       "      <td>Terciario/Técnico</td>\n",
       "      <td>Graduado</td>\n",
       "      <td>FEM</td>\n",
       "      <td>25</td>\n",
       "      <td>NaN</td>\n",
       "      <td>NaN</td>\n",
       "      <td>NaN</td>\n",
       "      <td>NaN</td>\n",
       "    </tr>\n",
       "    <tr>\n",
       "      <th>5389629</th>\n",
       "      <td>1</td>\n",
       "      <td>Universitario</td>\n",
       "      <td>Graduado</td>\n",
       "      <td>FEM</td>\n",
       "      <td>30</td>\n",
       "      <td>NaN</td>\n",
       "      <td>NaN</td>\n",
       "      <td>NaN</td>\n",
       "      <td>NaN</td>\n",
       "    </tr>\n",
       "    <tr>\n",
       "      <th>7744358</th>\n",
       "      <td>0</td>\n",
       "      <td>Universitario</td>\n",
       "      <td>Graduado</td>\n",
       "      <td>FEM</td>\n",
       "      <td>25</td>\n",
       "      <td>Gran Buenos Aires</td>\n",
       "      <td>Part-time</td>\n",
       "      <td>Senior / Semi-Senior</td>\n",
       "      <td>Atención al Cliente</td>\n",
       "    </tr>\n",
       "  </tbody>\n",
       "</table>\n",
       "</div>"
      ],
      "text/plain": [
       "         veces_visto           estudios    estado  sexo  edad  \\\n",
       "9275680            0  Terciario/Técnico  Graduado   FEM    24   \n",
       "9507944            1  Terciario/Técnico  Graduado  MASC    34   \n",
       "5499227            0  Terciario/Técnico  Graduado   FEM    25   \n",
       "5389629            1      Universitario  Graduado   FEM    30   \n",
       "7744358            0      Universitario  Graduado   FEM    25   \n",
       "\n",
       "               nombre_zona tipo_de_trabajo         nivel_laboral  \\\n",
       "9275680                NaN             NaN                   NaN   \n",
       "9507944  Gran Buenos Aires       Full-time  Senior / Semi-Senior   \n",
       "5499227                NaN             NaN                   NaN   \n",
       "5389629                NaN             NaN                   NaN   \n",
       "7744358  Gran Buenos Aires       Part-time  Senior / Semi-Senior   \n",
       "\n",
       "                 nombre_area  \n",
       "9275680                  NaN  \n",
       "9507944               Ventas  \n",
       "5499227                  NaN  \n",
       "5389629                  NaN  \n",
       "7744358  Atención al Cliente  "
      ]
     },
     "execution_count": 39,
     "metadata": {},
     "output_type": "execute_result"
    }
   ],
   "source": [
    "train_sample.head()"
   ]
  },
  {
   "cell_type": "code",
   "execution_count": 40,
   "metadata": {},
   "outputs": [],
   "source": [
    "for column in train_sample.columns:\n",
    "    if train_sample[column].dtype == type(object):\n",
    "        le = preprocessing.LabelEncoder()\n",
    "        train_sample[column] = le.fit_transform(train_sample[column].astype(str))"
   ]
  },
  {
   "cell_type": "code",
   "execution_count": 41,
   "metadata": {},
   "outputs": [],
   "source": [
    "clf = tree.DecisionTreeClassifier()\n",
    "clf = clf.fit(train_sample, train_sample_classes)"
   ]
  },
  {
   "cell_type": "code",
   "execution_count": 42,
   "metadata": {},
   "outputs": [
    {
     "data": {
      "text/plain": [
       "0.9994398537714422"
      ]
     },
     "execution_count": 42,
     "metadata": {},
     "output_type": "execute_result"
    }
   ],
   "source": [
    "clf.score(train_sample, train_sample_classes)"
   ]
  },
  {
   "cell_type": "code",
   "execution_count": 43,
   "metadata": {},
   "outputs": [],
   "source": [
    "train_set = train_set.drop(train_sample.index)\n",
    "test_classes= train_set['sepostulo']\n",
    "train_set.drop(columns=['sepostulo'], inplace=True)"
   ]
  },
  {
   "cell_type": "code",
   "execution_count": 45,
   "metadata": {},
   "outputs": [],
   "source": [
    "train_set.drop(columns=['idaviso', 'idpostulante','titulo', 'denominacion_empresa'], inplace=True)\n",
    "train_set.drop(columns=['fechapostulacion', 'ultima_vista'], inplace=True)"
   ]
  },
  {
   "cell_type": "code",
   "execution_count": 50,
   "metadata": {},
   "outputs": [],
   "source": [
    "for column in train_set.columns:\n",
    "    if train_set[column].dtype == type(object):\n",
    "        le = preprocessing.LabelEncoder()\n",
    "        train_set[column] = le.fit_transform(train_set[column].astype(str))"
   ]
  },
  {
   "cell_type": "code",
   "execution_count": 51,
   "metadata": {},
   "outputs": [
    {
     "data": {
      "text/plain": [
       "0.9991232776595299"
      ]
     },
     "execution_count": 51,
     "metadata": {},
     "output_type": "execute_result"
    }
   ],
   "source": [
    "clf.score(train_set, test_classes)"
   ]
  },
  {
   "cell_type": "code",
   "execution_count": 55,
   "metadata": {},
   "outputs": [],
   "source": [
    "test100k = pd.read_csv('test_final_100k_complete.csv', low_memory=False)"
   ]
  },
  {
   "cell_type": "code",
   "execution_count": 62,
   "metadata": {},
   "outputs": [],
   "source": [
    "for column in test100k.columns:\n",
    "    if test100k[column].dtype == type(object):\n",
    "        le = preprocessing.LabelEncoder()\n",
    "        test100k[column] = le.fit_transform(test100k[column].astype(str))"
   ]
  },
  {
   "cell_type": "code",
   "execution_count": 64,
   "metadata": {},
   "outputs": [],
   "source": [
    "results=clf.predict(test100k)"
   ]
  },
  {
   "cell_type": "code",
   "execution_count": 65,
   "metadata": {},
   "outputs": [
    {
     "data": {
      "text/plain": [
       "array([0, 0, 0, ..., 0, 0, 0], dtype=int8)"
      ]
     },
     "execution_count": 65,
     "metadata": {},
     "output_type": "execute_result"
    }
   ],
   "source": [
    "results"
   ]
  },
  {
   "cell_type": "code",
   "execution_count": 77,
   "metadata": {},
   "outputs": [
    {
     "data": {
      "text/plain": [
       "0.34088"
      ]
     },
     "execution_count": 77,
     "metadata": {},
     "output_type": "execute_result"
    }
   ],
   "source": [
    "results.mean()"
   ]
  },
  {
   "cell_type": "code",
   "execution_count": 71,
   "metadata": {},
   "outputs": [],
   "source": [
    "test100k=test100k.reset_index(drop=False)"
   ]
  },
  {
   "cell_type": "code",
   "execution_count": 68,
   "metadata": {},
   "outputs": [],
   "source": [
    "test100k['sepostulo']=0"
   ]
  },
  {
   "cell_type": "code",
   "execution_count": 73,
   "metadata": {},
   "outputs": [],
   "source": [
    "resultado_100k=test100k[['index','sepostulo']]"
   ]
  },
  {
   "cell_type": "code",
   "execution_count": 75,
   "metadata": {},
   "outputs": [
    {
     "name": "stderr",
     "output_type": "stream",
     "text": [
      "/home/maximiliano/anaconda3/lib/python3.6/site-packages/pandas/core/frame.py:3027: SettingWithCopyWarning: \n",
      "A value is trying to be set on a copy of a slice from a DataFrame\n",
      "\n",
      "See the caveats in the documentation: http://pandas.pydata.org/pandas-docs/stable/indexing.html#indexing-view-versus-copy\n",
      "  return super(DataFrame, self).rename(**kwargs)\n"
     ]
    }
   ],
   "source": [
    "resultado_100k.rename(columns={'index':'id'}, inplace=True)"
   ]
  },
  {
   "cell_type": "code",
   "execution_count": 78,
   "metadata": {},
   "outputs": [
    {
     "name": "stderr",
     "output_type": "stream",
     "text": [
      "/home/maximiliano/anaconda3/lib/python3.6/site-packages/ipykernel_launcher.py:1: SettingWithCopyWarning: \n",
      "A value is trying to be set on a copy of a slice from a DataFrame.\n",
      "Try using .loc[row_indexer,col_indexer] = value instead\n",
      "\n",
      "See the caveats in the documentation: http://pandas.pydata.org/pandas-docs/stable/indexing.html#indexing-view-versus-copy\n",
      "  \"\"\"Entry point for launching an IPython kernel.\n"
     ]
    }
   ],
   "source": [
    "resultado_100k['sepostulo']=results"
   ]
  },
  {
   "cell_type": "code",
   "execution_count": 82,
   "metadata": {},
   "outputs": [],
   "source": [
    "resultado_100k.to_csv('100k_decisiontree1.csv', index=False)"
   ]
  },
  {
   "cell_type": "code",
   "execution_count": null,
   "metadata": {},
   "outputs": [],
   "source": []
  }
 ],
 "metadata": {
  "kernelspec": {
   "display_name": "Python 3",
   "language": "python",
   "name": "python3"
  },
  "language_info": {
   "codemirror_mode": {
    "name": "ipython",
    "version": 3
   },
   "file_extension": ".py",
   "mimetype": "text/x-python",
   "name": "python",
   "nbconvert_exporter": "python",
   "pygments_lexer": "ipython3",
   "version": "3.6.4"
  }
 },
 "nbformat": 4,
 "nbformat_minor": 2
}
