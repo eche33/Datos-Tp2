{
 "cells": [
  {
   "cell_type": "code",
   "execution_count": 1,
   "metadata": {},
   "outputs": [],
   "source": [
    "import pandas as pd\n",
    "import numpy as np\n",
    "from datetime import datetime\n",
    "from IPython.display import clear_output          \n",
    "from sklearn import preprocessing\n",
    "from sklearn.model_selection import train_test_split\n",
    "from sklearn.ensemble import RandomForestClassifier\n",
    "from sklearn.ensemble import ExtraTreesClassifier\n",
    "from sklearn.ensemble import AdaBoostClassifier\n",
    "from sklearn import tree\n",
    "from collections import Counter\n",
    "from sklearn.ensemble import GradientBoostingClassifier\n",
    "from sklearn.model_selection import GridSearchCV\n",
    "from sklearn.ensemble import BaggingClassifier\n",
    "from sklearn.model_selection import cross_val_score\n",
    "from sklearn.naive_bayes import GaussianNB\n",
    "from sklearn.neighbors import KNeighborsClassifier"
   ]
  },
  {
   "cell_type": "markdown",
   "metadata": {},
   "source": [
    "## Cargo el historial"
   ]
  },
  {
   "cell_type": "code",
   "execution_count": 2,
   "metadata": {},
   "outputs": [
    {
     "name": "stdout",
     "output_type": "stream",
     "text": [
      "<class 'pandas.core.frame.DataFrame'>\n",
      "RangeIndex: 346764 entries, 0 to 346763\n",
      "Columns: 189 entries, idpostulante to 187\n",
      "dtypes: int8(188), object(1)\n",
      "memory usage: 64.8+ MB\n"
     ]
    }
   ],
   "source": [
    "users_ids_history = pd.read_csv('/home/rodrigo/ENV/Notebooks/Tp2/Datos-Tp2/Csvs/historial_cant_post_xuser_xarea.csv', dtype={i+1:'int8' for i in range(188)})\n",
    "users_ids_history.info()"
   ]
  },
  {
   "cell_type": "markdown",
   "metadata": {},
   "source": [
    "## Cargo set de datos"
   ]
  },
  {
   "cell_type": "code",
   "execution_count": null,
   "metadata": {},
   "outputs": [],
   "source": [
    "data_set_complete_v2 = pd.read_csv('/home/rodrigo/ENV/Notebooks/Tp2/Datos-Tp2/Csvs/data_set_complete_v2.csv', usecols=['sepostulo','idpostulante','veces_visto','sexo','edad','titulo','nombre_area',\\\n",
    "                                                                  'estudio_encurso','estudio_graduado','tipo_full-time','tipo_part-time','tipo_otro',\\\n",
    "                                                                  'zona_gba','zona_caba','nivel_senior','nivel_junior','nivel_otro','nivel_jefe','nivel_gerente'],\\\n",
    "                                dtype={'sepostulo':'int8', 'idpostulante':'object', 'veces_visto':'int16', 'sexo':'int8', 'edad':'int8', 'nombre_area':'category',\\\n",
    "                                       'estudio_encurso':'int8', 'estudio_graduado':'int8', 'tipo_full-time':'int8','tipo_part-time':'int8','tipo_otro':'int8',\\\n",
    "                                       'zona_gba':'int8','zona_caba':'int8','nivel_senior':'int8','nivel_junior':'int8','nivel_otro':'int8','nivel_jefe':'int8','nivel_gerente':'int8'})\n",
    "\n",
    "data_set_complete_v2.info()"
   ]
  },
  {
   "cell_type": "markdown",
   "metadata": {},
   "source": [
    "Reduzco el set de datos"
   ]
  },
  {
   "cell_type": "code",
   "execution_count": null,
   "metadata": {},
   "outputs": [],
   "source": [
    "data = data_set_complete_v2.sample(1000000)\n",
    "\n",
    "del data_set_complete_v2\n",
    "\n",
    "data.reset_index(drop=True, inplace=True)\n",
    "\n",
    "data.info()"
   ]
  },
  {
   "cell_type": "markdown",
   "metadata": {},
   "source": [
    "Veamos los datos hasta este momento"
   ]
  },
  {
   "cell_type": "code",
   "execution_count": null,
   "metadata": {},
   "outputs": [],
   "source": [
    "data.head()"
   ]
  },
  {
   "cell_type": "markdown",
   "metadata": {},
   "source": [
    "## Cargo el test100k"
   ]
  },
  {
   "cell_type": "code",
   "execution_count": null,
   "metadata": {},
   "outputs": [],
   "source": [
    "test100k = pd.read_csv('/home/rodrigo/ENV/Notebooks/Tp2/Datos-Tp2/Csvs/test100k_complete_v2.csv', usecols=['id','idpostulante','veces_visto','sexo','edad','titulo','nombre_area',\\\n",
    "                                                                  'estudio_encurso','estudio_graduado','tipo_full-time','tipo_part-time','tipo_otro',\\\n",
    "                                                                  'zona_gba','zona_caba','nivel_senior','nivel_junior','nivel_otro','nivel_jefe','nivel_gerente'],\\\n",
    "                                dtype={'id':'int64', 'idpostulante':'object', 'veces_visto':'int16', 'sexo':'int8', 'edad':'int8', 'nombre_area':'category',\\\n",
    "                                       'estudio_encurso':'int8', 'estudio_graduado':'int8', 'tipo_full-time':'int8','tipo_part-time':'int8','tipo_otro':'int8',\\\n",
    "                                       'zona_gba':'int8','zona_caba':'int8','nivel_senior':'int8','nivel_junior':'int8','nivel_otro':'int8','nivel_jefe':'int8','nivel_gerente':'int8'})\n",
    "\n",
    "test100k.info()"
   ]
  },
  {
   "cell_type": "markdown",
   "metadata": {},
   "source": [
    "Chequeo que el test tenga misma estructura"
   ]
  },
  {
   "cell_type": "code",
   "execution_count": null,
   "metadata": {},
   "outputs": [],
   "source": [
    "test100k.head()"
   ]
  },
  {
   "cell_type": "markdown",
   "metadata": {},
   "source": [
    "## Taking care of nombre_area"
   ]
  },
  {
   "cell_type": "markdown",
   "metadata": {},
   "source": [
    "#### Primero encoders para eso"
   ]
  },
  {
   "cell_type": "code",
   "execution_count": null,
   "metadata": {},
   "outputs": [],
   "source": [
    "avisos_totales = pd.concat([pd.read_csv('/home/rodrigo/ENV/Notebooks/Tp2/Datos-Tp2/Data/datos_navent_fiuba/fiuba_6_avisos_detalle.csv', usecols=['idaviso', 'nombre_area']), pd.read_csv('/home/rodrigo/ENV/Notebooks/Tp2/Datos-Tp2/Data/fiuba_hasta_15_abril/fiuba_6_avisos_detalle.csv', usecols=['idaviso', 'nombre_area']), pd.read_csv('/home/rodrigo/ENV/Notebooks/Tp2/Datos-Tp2/Data/Fiuba desde 15 Abril/fiuba_6_avisos_detalle.csv', usecols=['idaviso', 'nombre_area']), pd.read_csv('/home/rodrigo/ENV/Notebooks/Tp2/Datos-Tp2/Data/fiuba_6_avisos_detalle_missing_nivel_laboral.csv', usecols=['idaviso', 'nombre_area'])])\n",
    "avisos_totales.drop_duplicates(subset=['idaviso'], inplace=True)\n",
    "avisos_totales.reset_index(drop=True, inplace=True)\n",
    "avisos_totales.info()"
   ]
  },
  {
   "cell_type": "code",
   "execution_count": null,
   "metadata": {},
   "outputs": [],
   "source": [
    "avisos_totales['nombre_area'].value_counts().size"
   ]
  },
  {
   "cell_type": "code",
   "execution_count": null,
   "metadata": {},
   "outputs": [],
   "source": [
    "le = preprocessing.LabelEncoder()\n",
    "avisos_totales['codigo_area'] = le.fit_transform(avisos_totales['nombre_area'].astype(str))\n",
    "\n",
    "#PARA EL ONE HOT ENCODING, AVISARLE QUE LA CANTIDAD DE VALORES CATEGORICOS ES EL DE TODAS LAS CATEGORIAS EN EL DF DE TODOS LOS ANUNCIOS:188\n",
    "enc = preprocessing.OneHotEncoder(188)   \n",
    "enc.fit(avisos_totales['codigo_area'].values.reshape(-1,1))\n",
    "\n",
    "avisos_totales.head()"
   ]
  },
  {
   "cell_type": "code",
   "execution_count": null,
   "metadata": {},
   "outputs": [],
   "source": [
    "data['nombre_area'] = le.transform(data['nombre_area'].astype(str))\n",
    "test100k['nombre_area'] = le.transform(test100k['nombre_area'].astype(str))"
   ]
  },
  {
   "cell_type": "code",
   "execution_count": null,
   "metadata": {},
   "outputs": [],
   "source": [
    "encoded_areas = enc.transform(data['nombre_area'].values.reshape(-1,1))\n",
    "encoded_areas_df = pd.DataFrame(encoded_areas.toarray()).astype('int8')\n",
    "\n",
    "data = data.merge(encoded_areas_df, left_index=True, right_index=True)\n",
    "\n",
    "del encoded_areas, encoded_areas_df\n",
    "\n",
    "data.info()"
   ]
  },
  {
   "cell_type": "code",
   "execution_count": null,
   "metadata": {},
   "outputs": [],
   "source": [
    "encoded_areas = enc.transform(test100k['nombre_area'].values.reshape(-1,1))\n",
    "encoded_areas_df = pd.DataFrame(encoded_areas.toarray()).astype('int8')\n",
    "\n",
    "test100k = test100k.merge(encoded_areas_df, left_index=True, right_index=True)\n",
    "\n",
    "del encoded_areas, encoded_areas_df\n",
    "\n",
    "test100k.info()"
   ]
  },
  {
   "cell_type": "markdown",
   "metadata": {},
   "source": [
    "Veamos como quedo todo despues de los encoders"
   ]
  },
  {
   "cell_type": "code",
   "execution_count": null,
   "metadata": {},
   "outputs": [],
   "source": [
    "data.head()"
   ]
  },
  {
   "cell_type": "code",
   "execution_count": null,
   "metadata": {},
   "outputs": [],
   "source": [
    "test100k.head()"
   ]
  },
  {
   "cell_type": "markdown",
   "metadata": {},
   "source": [
    "## Mergeo con el historial"
   ]
  },
  {
   "cell_type": "code",
   "execution_count": null,
   "metadata": {},
   "outputs": [],
   "source": [
    "data = data.merge((data['idpostulante'].to_frame().merge(users_ids_history, how='left', on='idpostulante').drop(columns='idpostulante').fillna(value=0).astype('int8', copy=False)), left_index=True, right_index=True)\n",
    "\n",
    "data.info()"
   ]
  },
  {
   "cell_type": "code",
   "execution_count": null,
   "metadata": {},
   "outputs": [],
   "source": [
    "test100k = test100k.merge((test100k['idpostulante'].to_frame().merge(users_ids_history, how='left', on='idpostulante').drop(columns='idpostulante').fillna(value=0).astype('int8', copy=False)), left_index=True, right_index=True)\n",
    "\n",
    "test100k.info()"
   ]
  },
  {
   "cell_type": "markdown",
   "metadata": {},
   "source": [
    "### Estos serian nuestros set de datos y test finales"
   ]
  },
  {
   "cell_type": "code",
   "execution_count": null,
   "metadata": {},
   "outputs": [],
   "source": [
    "data.head()"
   ]
  },
  {
   "cell_type": "code",
   "execution_count": null,
   "metadata": {},
   "outputs": [],
   "source": [
    "test100k.head()"
   ]
  },
  {
   "cell_type": "code",
   "execution_count": null,
   "metadata": {},
   "outputs": [],
   "source": []
  },
  {
   "cell_type": "code",
   "execution_count": null,
   "metadata": {},
   "outputs": [],
   "source": []
  },
  {
   "cell_type": "code",
   "execution_count": null,
   "metadata": {},
   "outputs": [],
   "source": []
  }
 ],
 "metadata": {
  "kernelspec": {
   "display_name": "Python 3",
   "language": "python",
   "name": "python3"
  },
  "language_info": {
   "codemirror_mode": {
    "name": "ipython",
    "version": 3
   },
   "file_extension": ".py",
   "mimetype": "text/x-python",
   "name": "python",
   "nbconvert_exporter": "python",
   "pygments_lexer": "ipython3",
   "version": "3.5.2"
  }
 },
 "nbformat": 4,
 "nbformat_minor": 2
}
