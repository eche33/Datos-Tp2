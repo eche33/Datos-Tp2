{
 "cells": [
  {
   "cell_type": "code",
   "execution_count": 43,
   "metadata": {},
   "outputs": [],
   "source": [
    "\n",
    "# importacion general de librerias y de visualizacion (matplotlib y seaborn)# import \n",
    "import pandas as pd\n",
    "import numpy as np\n",
    "import matplotlib.pyplot as plt\n",
    "import seaborn as sns\n",
    "import datetime as datetime\n",
    "\n",
    "%matplotlib inline\n",
    "\n",
    "plt.style.use('default') # haciendo los graficos un poco mas bonitos en matplotlib\n",
    "#plt.rcParams['figure.figsize'] = (20, 10)\n",
    "\n",
    "sns.set(style=\"whitegrid\") # seteando tipo de grid en seaborn"
   ]
  },
  {
   "cell_type": "markdown",
   "metadata": {},
   "source": [
    "# Data Tp1"
   ]
  },
  {
   "cell_type": "code",
   "execution_count": 2,
   "metadata": {},
   "outputs": [],
   "source": [
    "postulaciones = pd.read_csv('/home/rodrigo/ENV/Data/Tp2/datos_navent_fiuba/fiuba_4_postulaciones.csv', low_memory=False)\n",
    "educacion = pd.read_csv('/home/rodrigo/ENV/Data/Tp2/datos_navent_fiuba/fiuba_1_postulantes_educacion.csv', low_memory=False)\n",
    "genero_y_edad = pd.read_csv('/home/rodrigo/ENV/Data/Tp2/datos_navent_fiuba/fiuba_2_postulantes_genero_y_edad.csv', low_memory=False)\n",
    "vistas = pd.read_csv('/home/rodrigo/ENV/Data/Tp2/datos_navent_fiuba/fiuba_3_vistas.csv', low_memory=False)\n",
    "avisos_online = pd.read_csv('/home/rodrigo/ENV/Data/Tp2/datos_navent_fiuba/fiuba_5_avisos_online.csv', low_memory=False)\n",
    "detale = pd.read_csv('/home/rodrigo/ENV/Data/Tp2/datos_navent_fiuba/fiuba_6_avisos_detalle.csv', low_memory=False)"
   ]
  },
  {
   "cell_type": "markdown",
   "metadata": {},
   "source": [
    "# Data hasta 15 de abril"
   ]
  },
  {
   "cell_type": "code",
   "execution_count": 3,
   "metadata": {},
   "outputs": [],
   "source": [
    "postulaciones_abril = pd.read_csv('/home/rodrigo/ENV/Data/Tp2/hasta_15_abril/fiuba_4_postulaciones.csv', low_memory=False)\n",
    "educacion_abril = pd.read_csv('/home/rodrigo/ENV/Data/Tp2/hasta_15_abril/fiuba_1_postulantes_educacion.csv', low_memory=False)\n",
    "genero_y_edad_abril = pd.read_csv('/home/rodrigo/ENV/Data/Tp2/hasta_15_abril/fiuba_2_postulantes_genero_y_edad.csv', low_memory=False)\n",
    "vistas_abril = pd.read_csv('/home/rodrigo/ENV/Data/Tp2/hasta_15_abril/fiuba_3_vistas.csv', low_memory=False)\n",
    "avisos_online_abril = pd.read_csv('/home/rodrigo/ENV/Data/Tp2/hasta_15_abril/fiuba_5_avisos_online.csv', low_memory=False)\n",
    "detale_abril = pd.read_csv('/home/rodrigo/ENV/Data/Tp2/hasta_15_abril/fiuba_6_avisos_detalle.csv', low_memory=False)"
   ]
  },
  {
   "cell_type": "markdown",
   "metadata": {},
   "source": [
    "# Data post 15 de abril"
   ]
  },
  {
   "cell_type": "code",
   "execution_count": 4,
   "metadata": {},
   "outputs": [],
   "source": [
    "educacion_post_abril = pd.read_csv('/home/rodrigo/ENV/Data/Tp2/desde_15_abril/fiuba_1_postulantes_educacion.csv', low_memory=False)\n",
    "genero_y_edad_post_abril = pd.read_csv('/home/rodrigo/ENV/Data/Tp2/desde_15_abril/fiuba_2_postulantes_genero_y_edad.csv', low_memory=False)\n",
    "vistas_post_abril = pd.read_csv('/home/rodrigo/ENV/Data/Tp2/desde_15_abril/fiuba_3_vistas.csv', low_memory=False)\n",
    "detale_post_abril = pd.read_csv('/home/rodrigo/ENV/Data/Tp2/desde_15_abril/fiuba_6_avisos_detalle.csv', low_memory=False)"
   ]
  },
  {
   "cell_type": "markdown",
   "metadata": {},
   "source": [
    "# Test final"
   ]
  },
  {
   "cell_type": "code",
   "execution_count": 5,
   "metadata": {},
   "outputs": [],
   "source": [
    "test_final = pd.read_csv('/home/rodrigo/ENV/Data/Tp2/test_final_100k.csv', low_memory=False)"
   ]
  },
  {
   "cell_type": "markdown",
   "metadata": {},
   "source": [
    "## Tratando de unificar\n",
    "\n",
    "Trato de juntar la info de los 3 sets en uno"
   ]
  },
  {
   "cell_type": "code",
   "execution_count": 6,
   "metadata": {},
   "outputs": [],
   "source": [
    "lista_educacion = [educacion, educacion_abril, educacion_post_abril]\n",
    "educacion_total = pd.concat(lista_educacion)\n",
    "\n",
    "lista_genero = [genero_y_edad, genero_y_edad_abril, genero_y_edad_post_abril]\n",
    "genero_total = pd.concat(lista_genero)\n",
    "\n",
    "lista_vistas = [vistas, vistas_abril, vistas_post_abril]\n",
    "vistas_total = pd.concat(lista_vistas)\n",
    "\n",
    "detalle_faltante = pd.read_csv('/home/rodrigo/ENV/Data/Tp2/fiuba_6_avisos_detalle_missing_nivel_laboral.csv', low_memory=False)\n",
    "lista_detalle = [detale, detale_abril, detale_post_abril, detalle_faltante]\n",
    "detalle_total = pd.concat(lista_detalle)"
   ]
  },
  {
   "cell_type": "markdown",
   "metadata": {},
   "source": [
    "## Saco duplicados"
   ]
  },
  {
   "cell_type": "code",
   "execution_count": 7,
   "metadata": {},
   "outputs": [],
   "source": [
    "educacion_total = educacion_total.drop_duplicates(subset=['idpostulante','nombre', 'estado'])"
   ]
  },
  {
   "cell_type": "code",
   "execution_count": 8,
   "metadata": {},
   "outputs": [],
   "source": [
    "genero_total = genero_total.drop_duplicates(subset='idpostulante')"
   ]
  },
  {
   "cell_type": "code",
   "execution_count": 9,
   "metadata": {},
   "outputs": [],
   "source": [
    "vistas_total = vistas_total.drop_duplicates(subset=['idAviso', 'timestamp', 'idpostulante'])"
   ]
  },
  {
   "cell_type": "code",
   "execution_count": 10,
   "metadata": {},
   "outputs": [],
   "source": [
    "detalle_total = detalle_total.drop_duplicates(subset='idaviso')"
   ]
  },
  {
   "cell_type": "markdown",
   "metadata": {},
   "source": [
    "Chequeando que todo lo de test este en los otros sets. Un chico ya lo habia hecho en piazza, asi que solo controle que dieron los mismos numeros"
   ]
  },
  {
   "cell_type": "code",
   "execution_count": 11,
   "metadata": {},
   "outputs": [
    {
     "name": "stdout",
     "output_type": "stream",
     "text": [
      "<class 'pandas.core.frame.DataFrame'>\n",
      "Int64Index: 64646 entries, 0 to 64645\n",
      "Data columns (total 5 columns):\n",
      "idpostulante       64646 non-null object\n",
      "fechanacimiento    62179 non-null object\n",
      "sexo               64646 non-null object\n",
      "id                 64646 non-null int64\n",
      "idaviso            64646 non-null int64\n",
      "dtypes: int64(2), object(3)\n",
      "memory usage: 3.0+ MB\n"
     ]
    }
   ],
   "source": [
    "genero_total.merge(test_final.drop_duplicates(subset='idpostulante'), on='idpostulante', how='inner').info()"
   ]
  },
  {
   "cell_type": "code",
   "execution_count": 12,
   "metadata": {},
   "outputs": [
    {
     "name": "stdout",
     "output_type": "stream",
     "text": [
      "<class 'pandas.core.frame.DataFrame'>\n",
      "Int64Index: 14140 entries, 0 to 14139\n",
      "Data columns (total 13 columns):\n",
      "idaviso                 14140 non-null int64\n",
      "idpais                  14140 non-null int64\n",
      "titulo                  14140 non-null object\n",
      "descripcion             14140 non-null object\n",
      "nombre_zona             14140 non-null object\n",
      "ciudad                  114 non-null object\n",
      "mapacalle               1292 non-null object\n",
      "tipo_de_trabajo         14140 non-null object\n",
      "nivel_laboral           13805 non-null object\n",
      "nombre_area             14140 non-null object\n",
      "denominacion_empresa    14137 non-null object\n",
      "id                      14140 non-null int64\n",
      "idpostulante            14140 non-null object\n",
      "dtypes: int64(3), object(10)\n",
      "memory usage: 1.5+ MB\n"
     ]
    }
   ],
   "source": [
    "detalle_total.merge(test_final.drop_duplicates(subset='idaviso'),on='idaviso', how='inner').info()"
   ]
  },
  {
   "cell_type": "markdown",
   "metadata": {},
   "source": [
    "# KNN \n",
    "## Set de entrenamiento"
   ]
  },
  {
   "cell_type": "code",
   "execution_count": 56,
   "metadata": {},
   "outputs": [],
   "source": [
    "entrenamiento_genero = pd.concat([genero_y_edad,genero_y_edad_abril])\n",
    "entrenamiento_genero = entrenamiento_genero.drop_duplicates(subset='idpostulante')\n",
    "\n",
    "entrenamiento_educacion = pd.concat([educacion,educacion_abril])\n",
    "entrenamiento_educacion = entrenamiento_educacion.drop_duplicates(subset=['idpostulante','nombre','estado'])\n",
    "\n",
    "entrenamiento_vistas = pd.concat([vistas,vistas_abril])\n",
    "entrenamiento_vistas = entrenamiento_vistas.drop_duplicates(subset=['idAviso','timestamp','ispotulante'])\n",
    "\n",
    "entrenamiento_detalle = pd.concat([detale,detale_abril,detalle_faltante])\n",
    "entrenamiento_detalle = entrenamiento_detalle.drop_duplicates(subset='idaviso')\n",
    "\n",
    "entrenamiento_postulaciones = pd.concat([postulaciones,postulaciones_abril])\n",
    "entrenamiento_postulaciones = entrenamiento_postulaciones.drop_duplicates(subset=['idaviso','idpostulante','fechapostulacion'])"
   ]
  },
  {
   "cell_type": "markdown",
   "metadata": {},
   "source": [
    "Vamos a probar en funcion del genero y edad"
   ]
  },
  {
   "cell_type": "code",
   "execution_count": 57,
   "metadata": {},
   "outputs": [
    {
     "data": {
      "text/plain": [
       "idpostulante           0\n",
       "fechanacimiento    19644\n",
       "sexo                   0\n",
       "dtype: int64"
      ]
     },
     "execution_count": 57,
     "metadata": {},
     "output_type": "execute_result"
    }
   ],
   "source": [
    "entrenamiento_genero.isnull().sum()"
   ]
  },
  {
   "cell_type": "code",
   "execution_count": 58,
   "metadata": {},
   "outputs": [],
   "source": [
    "entrenamiento_genero = entrenamiento_genero.dropna()"
   ]
  },
  {
   "cell_type": "code",
   "execution_count": 59,
   "metadata": {},
   "outputs": [
    {
     "data": {
      "text/plain": [
       "idpostulante       0\n",
       "fechanacimiento    0\n",
       "sexo               0\n",
       "dtype: int64"
      ]
     },
     "execution_count": 59,
     "metadata": {},
     "output_type": "execute_result"
    }
   ],
   "source": [
    "entrenamiento_genero.isnull().sum()"
   ]
  },
  {
   "cell_type": "code",
   "execution_count": 60,
   "metadata": {},
   "outputs": [],
   "source": [
    "entrenamiento_genero['fechanacimiento'] = pd.to_datetime(entrenamiento_genero['fechanacimiento'], errors='coerce')"
   ]
  },
  {
   "cell_type": "code",
   "execution_count": 61,
   "metadata": {},
   "outputs": [],
   "source": [
    "now = pd.Timestamp(datetime.datetime.now())"
   ]
  },
  {
   "cell_type": "code",
   "execution_count": 70,
   "metadata": {},
   "outputs": [
    {
     "data": {
      "text/plain": [
       "idpostulante        0\n",
       "fechanacimiento    27\n",
       "sexo                0\n",
       "dtype: int64"
      ]
     },
     "execution_count": 70,
     "metadata": {},
     "output_type": "execute_result"
    }
   ],
   "source": [
    "entrenamiento_genero.isnull().sum()"
   ]
  },
  {
   "cell_type": "markdown",
   "metadata": {},
   "source": [
    "Son las fechas que no pudieron pasarse a dateTime"
   ]
  },
  {
   "cell_type": "code",
   "execution_count": 71,
   "metadata": {},
   "outputs": [],
   "source": [
    "entrenamiento_genero = entrenamiento_genero.dropna()"
   ]
  },
  {
   "cell_type": "code",
   "execution_count": 72,
   "metadata": {},
   "outputs": [
    {
     "data": {
      "text/plain": [
       "idpostulante       0\n",
       "fechanacimiento    0\n",
       "sexo               0\n",
       "dtype: int64"
      ]
     },
     "execution_count": 72,
     "metadata": {},
     "output_type": "execute_result"
    }
   ],
   "source": [
    "entrenamiento_genero.isnull().sum()"
   ]
  },
  {
   "cell_type": "code",
   "execution_count": 73,
   "metadata": {},
   "outputs": [
    {
     "name": "stderr",
     "output_type": "stream",
     "text": [
      "/home/rodrigo/ENV/lib/python3.5/site-packages/ipykernel_launcher.py:1: SettingWithCopyWarning: \n",
      "A value is trying to be set on a copy of a slice from a DataFrame.\n",
      "Try using .loc[row_indexer,col_indexer] = value instead\n",
      "\n",
      "See the caveats in the documentation: http://pandas.pydata.org/pandas-docs/stable/indexing.html#indexing-view-versus-copy\n",
      "  \"\"\"Entry point for launching an IPython kernel.\n"
     ]
    }
   ],
   "source": [
    "entrenamiento_genero['age'] = (now - entrenamiento_genero['fechanacimiento']).astype('timedelta64[Y]').astype(int)"
   ]
  },
  {
   "cell_type": "code",
   "execution_count": 75,
   "metadata": {},
   "outputs": [
    {
     "data": {
      "text/plain": [
       "242"
      ]
     },
     "execution_count": 75,
     "metadata": {},
     "output_type": "execute_result"
    }
   ],
   "source": [
    "entrenamiento_genero['age'].max()"
   ]
  },
  {
   "cell_type": "code",
   "execution_count": 76,
   "metadata": {},
   "outputs": [
    {
     "data": {
      "text/plain": [
       "9"
      ]
     },
     "execution_count": 76,
     "metadata": {},
     "output_type": "execute_result"
    }
   ],
   "source": [
    "entrenamiento_genero['age'].min()"
   ]
  },
  {
   "cell_type": "markdown",
   "metadata": {},
   "source": [
    "Voy a quedarme con las personas de 18 o mas y de 125 o menos"
   ]
  },
  {
   "cell_type": "code",
   "execution_count": 78,
   "metadata": {},
   "outputs": [],
   "source": [
    "entrenamiento_genero = entrenamiento_genero[entrenamiento_genero['age'] <= 125]\n",
    "entrenamiento_genero = entrenamiento_genero[entrenamiento_genero['age'] >= 18]"
   ]
  },
  {
   "cell_type": "code",
   "execution_count": 79,
   "metadata": {},
   "outputs": [
    {
     "data": {
      "text/plain": [
       "116"
      ]
     },
     "execution_count": 79,
     "metadata": {},
     "output_type": "execute_result"
    }
   ],
   "source": [
    "entrenamiento_genero['age'].max()"
   ]
  },
  {
   "cell_type": "code",
   "execution_count": 80,
   "metadata": {},
   "outputs": [
    {
     "data": {
      "text/plain": [
       "18"
      ]
     },
     "execution_count": 80,
     "metadata": {},
     "output_type": "execute_result"
    }
   ],
   "source": [
    "entrenamiento_genero['age'].min()"
   ]
  },
  {
   "cell_type": "code",
   "execution_count": 81,
   "metadata": {},
   "outputs": [
    {
     "data": {
      "text/plain": [
       "FEM           203684\n",
       "MASC          183580\n",
       "NO_DECLARA       943\n",
       "0.0                1\n",
       "Name: sexo, dtype: int64"
      ]
     },
     "execution_count": 81,
     "metadata": {},
     "output_type": "execute_result"
    }
   ],
   "source": [
    "entrenamiento_genero['sexo'].value_counts()"
   ]
  },
  {
   "cell_type": "code",
   "execution_count": 83,
   "metadata": {},
   "outputs": [],
   "source": [
    "entrenamiento_genero = entrenamiento_genero[entrenamiento_genero['sexo'] != '0.0']"
   ]
  },
  {
   "cell_type": "code",
   "execution_count": 84,
   "metadata": {},
   "outputs": [
    {
     "data": {
      "text/plain": [
       "FEM           203684\n",
       "MASC          183580\n",
       "NO_DECLARA       943\n",
       "Name: sexo, dtype: int64"
      ]
     },
     "execution_count": 84,
     "metadata": {},
     "output_type": "execute_result"
    }
   ],
   "source": [
    "entrenamiento_genero['sexo'].value_counts()"
   ]
  },
  {
   "cell_type": "code",
   "execution_count": 85,
   "metadata": {},
   "outputs": [
    {
     "name": "stdout",
     "output_type": "stream",
     "text": [
      "<class 'pandas.core.frame.DataFrame'>\n",
      "Int64Index: 388207 entries, 0 to 297745\n",
      "Data columns (total 4 columns):\n",
      "idpostulante       388207 non-null object\n",
      "fechanacimiento    388207 non-null datetime64[ns]\n",
      "sexo               388207 non-null object\n",
      "age                388207 non-null int64\n",
      "dtypes: datetime64[ns](1), int64(1), object(2)\n",
      "memory usage: 14.8+ MB\n"
     ]
    }
   ],
   "source": [
    "entrenamiento_genero.info()"
   ]
  },
  {
   "cell_type": "code",
   "execution_count": 88,
   "metadata": {},
   "outputs": [
    {
     "data": {
      "text/plain": [
       "idaviso             0\n",
       "idpostulante        0\n",
       "fechapostulacion    0\n",
       "dtype: int64"
      ]
     },
     "execution_count": 88,
     "metadata": {},
     "output_type": "execute_result"
    }
   ],
   "source": [
    "entrenamiento_postulaciones.isnull().sum()"
   ]
  },
  {
   "cell_type": "code",
   "execution_count": 90,
   "metadata": {},
   "outputs": [],
   "source": [
    "entrenamiento_genero = entrenamiento_genero.merge(entrenamiento_postulaciones, on='idpostulante', how='left')"
   ]
  },
  {
   "cell_type": "code",
   "execution_count": 98,
   "metadata": {},
   "outputs": [
    {
     "name": "stdout",
     "output_type": "stream",
     "text": [
      "<class 'pandas.core.frame.DataFrame'>\n",
      "Int64Index: 6548759 entries, 0 to 6548758\n",
      "Data columns (total 6 columns):\n",
      "idpostulante        object\n",
      "fechanacimiento     datetime64[ns]\n",
      "sexo                object\n",
      "age                 int64\n",
      "idaviso             float64\n",
      "fechapostulacion    object\n",
      "dtypes: datetime64[ns](1), float64(1), int64(1), object(3)\n",
      "memory usage: 349.7+ MB\n"
     ]
    }
   ],
   "source": [
    "entrenamiento_genero.info()"
   ]
  },
  {
   "cell_type": "code",
   "execution_count": 99,
   "metadata": {},
   "outputs": [],
   "source": [
    "entrenamiento_genero = entrenamiento_genero.drop_duplicates(subset=['idpostulante','idaviso'])"
   ]
  },
  {
   "cell_type": "code",
   "execution_count": 101,
   "metadata": {},
   "outputs": [
    {
     "name": "stdout",
     "output_type": "stream",
     "text": [
      "<class 'pandas.core.frame.DataFrame'>\n",
      "Int64Index: 6547990 entries, 0 to 6548758\n",
      "Data columns (total 6 columns):\n",
      "idpostulante        object\n",
      "fechanacimiento     datetime64[ns]\n",
      "sexo                object\n",
      "age                 int64\n",
      "idaviso             float64\n",
      "fechapostulacion    object\n",
      "dtypes: datetime64[ns](1), float64(1), int64(1), object(3)\n",
      "memory usage: 349.7+ MB\n"
     ]
    }
   ],
   "source": [
    "entrenamiento_genero.info()"
   ]
  },
  {
   "cell_type": "code",
   "execution_count": 103,
   "metadata": {},
   "outputs": [
    {
     "data": {
      "text/html": [
       "<div>\n",
       "<style scoped>\n",
       "    .dataframe tbody tr th:only-of-type {\n",
       "        vertical-align: middle;\n",
       "    }\n",
       "\n",
       "    .dataframe tbody tr th {\n",
       "        vertical-align: top;\n",
       "    }\n",
       "\n",
       "    .dataframe thead th {\n",
       "        text-align: right;\n",
       "    }\n",
       "</style>\n",
       "<table border=\"1\" class=\"dataframe\">\n",
       "  <thead>\n",
       "    <tr style=\"text-align: right;\">\n",
       "      <th></th>\n",
       "      <th>idpostulante</th>\n",
       "      <th>fechanacimiento</th>\n",
       "      <th>sexo</th>\n",
       "      <th>age</th>\n",
       "      <th>idaviso</th>\n",
       "      <th>fechapostulacion</th>\n",
       "    </tr>\n",
       "  </thead>\n",
       "  <tbody>\n",
       "    <tr>\n",
       "      <th>0</th>\n",
       "      <td>NM5M</td>\n",
       "      <td>1970-12-03</td>\n",
       "      <td>FEM</td>\n",
       "      <td>47</td>\n",
       "      <td>1.112257e+09</td>\n",
       "      <td>2018-01-15 16:22:34</td>\n",
       "    </tr>\n",
       "    <tr>\n",
       "      <th>1</th>\n",
       "      <td>NM5M</td>\n",
       "      <td>1970-12-03</td>\n",
       "      <td>FEM</td>\n",
       "      <td>47</td>\n",
       "      <td>1.111921e+09</td>\n",
       "      <td>2018-02-06 09:04:50</td>\n",
       "    </tr>\n",
       "    <tr>\n",
       "      <th>2</th>\n",
       "      <td>NM5M</td>\n",
       "      <td>1970-12-03</td>\n",
       "      <td>FEM</td>\n",
       "      <td>47</td>\n",
       "      <td>1.112347e+09</td>\n",
       "      <td>2018-02-22 09:04:47</td>\n",
       "    </tr>\n",
       "    <tr>\n",
       "      <th>3</th>\n",
       "      <td>NM5M</td>\n",
       "      <td>1970-12-03</td>\n",
       "      <td>FEM</td>\n",
       "      <td>47</td>\n",
       "      <td>1.112346e+09</td>\n",
       "      <td>2018-02-22 09:04:59</td>\n",
       "    </tr>\n",
       "    <tr>\n",
       "      <th>4</th>\n",
       "      <td>5awk</td>\n",
       "      <td>1962-12-04</td>\n",
       "      <td>FEM</td>\n",
       "      <td>55</td>\n",
       "      <td>1.112238e+09</td>\n",
       "      <td>2018-01-25 18:55:03</td>\n",
       "    </tr>\n",
       "    <tr>\n",
       "      <th>5</th>\n",
       "      <td>5awk</td>\n",
       "      <td>1962-12-04</td>\n",
       "      <td>FEM</td>\n",
       "      <td>55</td>\n",
       "      <td>1.112278e+09</td>\n",
       "      <td>2018-01-29 13:34:44</td>\n",
       "    </tr>\n",
       "    <tr>\n",
       "      <th>6</th>\n",
       "      <td>5awk</td>\n",
       "      <td>1962-12-04</td>\n",
       "      <td>FEM</td>\n",
       "      <td>55</td>\n",
       "      <td>1.112302e+09</td>\n",
       "      <td>2018-02-07 20:49:22</td>\n",
       "    </tr>\n",
       "    <tr>\n",
       "      <th>7</th>\n",
       "      <td>5awk</td>\n",
       "      <td>1962-12-04</td>\n",
       "      <td>FEM</td>\n",
       "      <td>55</td>\n",
       "      <td>1.112291e+09</td>\n",
       "      <td>2018-02-07 20:50:13</td>\n",
       "    </tr>\n",
       "    <tr>\n",
       "      <th>8</th>\n",
       "      <td>5awk</td>\n",
       "      <td>1962-12-04</td>\n",
       "      <td>FEM</td>\n",
       "      <td>55</td>\n",
       "      <td>1.112304e+09</td>\n",
       "      <td>2018-02-07 20:51:15</td>\n",
       "    </tr>\n",
       "    <tr>\n",
       "      <th>9</th>\n",
       "      <td>5awk</td>\n",
       "      <td>1962-12-04</td>\n",
       "      <td>FEM</td>\n",
       "      <td>55</td>\n",
       "      <td>1.112326e+09</td>\n",
       "      <td>2018-02-09 20:24:57</td>\n",
       "    </tr>\n",
       "    <tr>\n",
       "      <th>10</th>\n",
       "      <td>5awk</td>\n",
       "      <td>1962-12-04</td>\n",
       "      <td>FEM</td>\n",
       "      <td>55</td>\n",
       "      <td>1.112304e+09</td>\n",
       "      <td>2018-02-18 23:49:34</td>\n",
       "    </tr>\n",
       "    <tr>\n",
       "      <th>11</th>\n",
       "      <td>5awk</td>\n",
       "      <td>1962-12-04</td>\n",
       "      <td>FEM</td>\n",
       "      <td>55</td>\n",
       "      <td>1.112315e+09</td>\n",
       "      <td>2018-02-19 00:01:20</td>\n",
       "    </tr>\n",
       "    <tr>\n",
       "      <th>12</th>\n",
       "      <td>5awk</td>\n",
       "      <td>1962-12-04</td>\n",
       "      <td>FEM</td>\n",
       "      <td>55</td>\n",
       "      <td>1.112315e+09</td>\n",
       "      <td>2018-02-28 15:54:28</td>\n",
       "    </tr>\n",
       "    <tr>\n",
       "      <th>13</th>\n",
       "      <td>5awk</td>\n",
       "      <td>1962-12-04</td>\n",
       "      <td>FEM</td>\n",
       "      <td>55</td>\n",
       "      <td>1.112347e+09</td>\n",
       "      <td>2018-02-28 15:54:47</td>\n",
       "    </tr>\n",
       "    <tr>\n",
       "      <th>14</th>\n",
       "      <td>5awk</td>\n",
       "      <td>1962-12-04</td>\n",
       "      <td>FEM</td>\n",
       "      <td>55</td>\n",
       "      <td>1.112331e+09</td>\n",
       "      <td>2018-02-28 15:56:43</td>\n",
       "    </tr>\n",
       "    <tr>\n",
       "      <th>15</th>\n",
       "      <td>5awk</td>\n",
       "      <td>1962-12-04</td>\n",
       "      <td>FEM</td>\n",
       "      <td>55</td>\n",
       "      <td>1.112307e+09</td>\n",
       "      <td>2018-02-28 15:57:35</td>\n",
       "    </tr>\n",
       "    <tr>\n",
       "      <th>16</th>\n",
       "      <td>5awk</td>\n",
       "      <td>1962-12-04</td>\n",
       "      <td>FEM</td>\n",
       "      <td>55</td>\n",
       "      <td>1.112315e+09</td>\n",
       "      <td>2018-02-28 15:59:14</td>\n",
       "    </tr>\n",
       "    <tr>\n",
       "      <th>17</th>\n",
       "      <td>5awk</td>\n",
       "      <td>1962-12-04</td>\n",
       "      <td>FEM</td>\n",
       "      <td>55</td>\n",
       "      <td>1.111800e+09</td>\n",
       "      <td>2018-02-28 16:00:06</td>\n",
       "    </tr>\n",
       "    <tr>\n",
       "      <th>18</th>\n",
       "      <td>5awk</td>\n",
       "      <td>1962-12-04</td>\n",
       "      <td>FEM</td>\n",
       "      <td>55</td>\n",
       "      <td>1.112323e+09</td>\n",
       "      <td>2018-02-28 16:00:41</td>\n",
       "    </tr>\n",
       "    <tr>\n",
       "      <th>19</th>\n",
       "      <td>5awk</td>\n",
       "      <td>1962-12-04</td>\n",
       "      <td>FEM</td>\n",
       "      <td>55</td>\n",
       "      <td>1.112305e+09</td>\n",
       "      <td>2018-02-28 16:02:15</td>\n",
       "    </tr>\n",
       "    <tr>\n",
       "      <th>20</th>\n",
       "      <td>ZaO5</td>\n",
       "      <td>1978-08-10</td>\n",
       "      <td>FEM</td>\n",
       "      <td>39</td>\n",
       "      <td>1.112287e+09</td>\n",
       "      <td>2018-01-24 15:07:39</td>\n",
       "    </tr>\n",
       "    <tr>\n",
       "      <th>21</th>\n",
       "      <td>ZaO5</td>\n",
       "      <td>1978-08-10</td>\n",
       "      <td>FEM</td>\n",
       "      <td>39</td>\n",
       "      <td>1.112272e+09</td>\n",
       "      <td>2018-01-24 15:20:10</td>\n",
       "    </tr>\n",
       "    <tr>\n",
       "      <th>22</th>\n",
       "      <td>ZaO5</td>\n",
       "      <td>1978-08-10</td>\n",
       "      <td>FEM</td>\n",
       "      <td>39</td>\n",
       "      <td>1.112288e+09</td>\n",
       "      <td>2018-01-26 08:37:04</td>\n",
       "    </tr>\n",
       "    <tr>\n",
       "      <th>23</th>\n",
       "      <td>ZaO5</td>\n",
       "      <td>1978-08-10</td>\n",
       "      <td>FEM</td>\n",
       "      <td>39</td>\n",
       "      <td>1.112301e+09</td>\n",
       "      <td>2018-01-30 13:35:48</td>\n",
       "    </tr>\n",
       "    <tr>\n",
       "      <th>24</th>\n",
       "      <td>ZaO5</td>\n",
       "      <td>1978-08-10</td>\n",
       "      <td>FEM</td>\n",
       "      <td>39</td>\n",
       "      <td>1.112293e+09</td>\n",
       "      <td>2018-01-31 08:41:05</td>\n",
       "    </tr>\n",
       "    <tr>\n",
       "      <th>25</th>\n",
       "      <td>ZaO5</td>\n",
       "      <td>1978-08-10</td>\n",
       "      <td>FEM</td>\n",
       "      <td>39</td>\n",
       "      <td>1.112301e+09</td>\n",
       "      <td>2018-01-31 08:55:20</td>\n",
       "    </tr>\n",
       "    <tr>\n",
       "      <th>26</th>\n",
       "      <td>ZaO5</td>\n",
       "      <td>1978-08-10</td>\n",
       "      <td>FEM</td>\n",
       "      <td>39</td>\n",
       "      <td>1.112310e+09</td>\n",
       "      <td>2018-02-03 15:55:15</td>\n",
       "    </tr>\n",
       "    <tr>\n",
       "      <th>27</th>\n",
       "      <td>ZaO5</td>\n",
       "      <td>1978-08-10</td>\n",
       "      <td>FEM</td>\n",
       "      <td>39</td>\n",
       "      <td>1.112317e+09</td>\n",
       "      <td>2018-02-07 09:56:22</td>\n",
       "    </tr>\n",
       "    <tr>\n",
       "      <th>28</th>\n",
       "      <td>ZaO5</td>\n",
       "      <td>1978-08-10</td>\n",
       "      <td>FEM</td>\n",
       "      <td>39</td>\n",
       "      <td>1.112322e+09</td>\n",
       "      <td>2018-02-09 10:29:54</td>\n",
       "    </tr>\n",
       "    <tr>\n",
       "      <th>29</th>\n",
       "      <td>ZaO5</td>\n",
       "      <td>1978-08-10</td>\n",
       "      <td>FEM</td>\n",
       "      <td>39</td>\n",
       "      <td>1.112327e+09</td>\n",
       "      <td>2018-02-11 17:49:26</td>\n",
       "    </tr>\n",
       "    <tr>\n",
       "      <th>...</th>\n",
       "      <td>...</td>\n",
       "      <td>...</td>\n",
       "      <td>...</td>\n",
       "      <td>...</td>\n",
       "      <td>...</td>\n",
       "      <td>...</td>\n",
       "    </tr>\n",
       "    <tr>\n",
       "      <th>6548729</th>\n",
       "      <td>96XkbDP</td>\n",
       "      <td>1973-06-22</td>\n",
       "      <td>MASC</td>\n",
       "      <td>44</td>\n",
       "      <td>NaN</td>\n",
       "      <td>NaN</td>\n",
       "    </tr>\n",
       "    <tr>\n",
       "      <th>6548730</th>\n",
       "      <td>xkd83Aa</td>\n",
       "      <td>1999-04-07</td>\n",
       "      <td>MASC</td>\n",
       "      <td>19</td>\n",
       "      <td>NaN</td>\n",
       "      <td>NaN</td>\n",
       "    </tr>\n",
       "    <tr>\n",
       "      <th>6548731</th>\n",
       "      <td>QNrAbJz</td>\n",
       "      <td>1996-09-27</td>\n",
       "      <td>FEM</td>\n",
       "      <td>21</td>\n",
       "      <td>1.112366e+09</td>\n",
       "      <td>2018-04-15 23:18:31</td>\n",
       "    </tr>\n",
       "    <tr>\n",
       "      <th>6548732</th>\n",
       "      <td>QNrAbJz</td>\n",
       "      <td>1996-09-27</td>\n",
       "      <td>FEM</td>\n",
       "      <td>21</td>\n",
       "      <td>1.112414e+09</td>\n",
       "      <td>2018-04-15 23:19:43</td>\n",
       "    </tr>\n",
       "    <tr>\n",
       "      <th>6548733</th>\n",
       "      <td>W9WwMxN</td>\n",
       "      <td>1998-05-07</td>\n",
       "      <td>MASC</td>\n",
       "      <td>20</td>\n",
       "      <td>1.112463e+09</td>\n",
       "      <td>2018-04-15 23:53:36</td>\n",
       "    </tr>\n",
       "    <tr>\n",
       "      <th>6548734</th>\n",
       "      <td>W9WwMxN</td>\n",
       "      <td>1998-05-07</td>\n",
       "      <td>MASC</td>\n",
       "      <td>20</td>\n",
       "      <td>1.112458e+09</td>\n",
       "      <td>2018-04-16 00:00:16</td>\n",
       "    </tr>\n",
       "    <tr>\n",
       "      <th>6548735</th>\n",
       "      <td>W9WwMxN</td>\n",
       "      <td>1998-05-07</td>\n",
       "      <td>MASC</td>\n",
       "      <td>20</td>\n",
       "      <td>1.112451e+09</td>\n",
       "      <td>2018-04-16 00:04:13</td>\n",
       "    </tr>\n",
       "    <tr>\n",
       "      <th>6548736</th>\n",
       "      <td>W9WwMxN</td>\n",
       "      <td>1998-05-07</td>\n",
       "      <td>MASC</td>\n",
       "      <td>20</td>\n",
       "      <td>1.112364e+09</td>\n",
       "      <td>2018-04-16 00:05:21</td>\n",
       "    </tr>\n",
       "    <tr>\n",
       "      <th>6548737</th>\n",
       "      <td>W9WwMxN</td>\n",
       "      <td>1998-05-07</td>\n",
       "      <td>MASC</td>\n",
       "      <td>20</td>\n",
       "      <td>1.112441e+09</td>\n",
       "      <td>2018-04-16 00:06:41</td>\n",
       "    </tr>\n",
       "    <tr>\n",
       "      <th>6548738</th>\n",
       "      <td>Bm5WNd0</td>\n",
       "      <td>1996-07-26</td>\n",
       "      <td>FEM</td>\n",
       "      <td>21</td>\n",
       "      <td>1.112451e+09</td>\n",
       "      <td>2018-04-15 23:10:14</td>\n",
       "    </tr>\n",
       "    <tr>\n",
       "      <th>6548739</th>\n",
       "      <td>xkd83wV</td>\n",
       "      <td>1993-03-23</td>\n",
       "      <td>MASC</td>\n",
       "      <td>25</td>\n",
       "      <td>NaN</td>\n",
       "      <td>NaN</td>\n",
       "    </tr>\n",
       "    <tr>\n",
       "      <th>6548740</th>\n",
       "      <td>NzrvX34</td>\n",
       "      <td>1995-05-26</td>\n",
       "      <td>MASC</td>\n",
       "      <td>23</td>\n",
       "      <td>1.112447e+09</td>\n",
       "      <td>2018-04-15 23:18:22</td>\n",
       "    </tr>\n",
       "    <tr>\n",
       "      <th>6548741</th>\n",
       "      <td>VNr4WR2</td>\n",
       "      <td>1995-10-03</td>\n",
       "      <td>FEM</td>\n",
       "      <td>22</td>\n",
       "      <td>NaN</td>\n",
       "      <td>NaN</td>\n",
       "    </tr>\n",
       "    <tr>\n",
       "      <th>6548742</th>\n",
       "      <td>5mPjX3G</td>\n",
       "      <td>1999-01-10</td>\n",
       "      <td>FEM</td>\n",
       "      <td>19</td>\n",
       "      <td>NaN</td>\n",
       "      <td>NaN</td>\n",
       "    </tr>\n",
       "    <tr>\n",
       "      <th>6548743</th>\n",
       "      <td>MVrowkr</td>\n",
       "      <td>2000-03-03</td>\n",
       "      <td>MASC</td>\n",
       "      <td>18</td>\n",
       "      <td>NaN</td>\n",
       "      <td>NaN</td>\n",
       "    </tr>\n",
       "    <tr>\n",
       "      <th>6548744</th>\n",
       "      <td>DrXZDeL</td>\n",
       "      <td>1994-11-20</td>\n",
       "      <td>FEM</td>\n",
       "      <td>23</td>\n",
       "      <td>NaN</td>\n",
       "      <td>NaN</td>\n",
       "    </tr>\n",
       "    <tr>\n",
       "      <th>6548745</th>\n",
       "      <td>zvaAYbk</td>\n",
       "      <td>1973-01-11</td>\n",
       "      <td>FEM</td>\n",
       "      <td>45</td>\n",
       "      <td>1.112465e+09</td>\n",
       "      <td>2018-04-15 23:55:22</td>\n",
       "    </tr>\n",
       "    <tr>\n",
       "      <th>6548746</th>\n",
       "      <td>zvaAYbk</td>\n",
       "      <td>1973-01-11</td>\n",
       "      <td>FEM</td>\n",
       "      <td>45</td>\n",
       "      <td>1.112458e+09</td>\n",
       "      <td>2018-04-16 00:11:51</td>\n",
       "    </tr>\n",
       "    <tr>\n",
       "      <th>6548747</th>\n",
       "      <td>zvaAYbk</td>\n",
       "      <td>1973-01-11</td>\n",
       "      <td>FEM</td>\n",
       "      <td>45</td>\n",
       "      <td>1.112426e+09</td>\n",
       "      <td>2018-04-16 00:14:45</td>\n",
       "    </tr>\n",
       "    <tr>\n",
       "      <th>6548748</th>\n",
       "      <td>zvaAYbk</td>\n",
       "      <td>1973-01-11</td>\n",
       "      <td>FEM</td>\n",
       "      <td>45</td>\n",
       "      <td>1.112452e+09</td>\n",
       "      <td>2018-04-16 00:29:59</td>\n",
       "    </tr>\n",
       "    <tr>\n",
       "      <th>6548749</th>\n",
       "      <td>zvaAYbk</td>\n",
       "      <td>1973-01-11</td>\n",
       "      <td>FEM</td>\n",
       "      <td>45</td>\n",
       "      <td>1.112455e+09</td>\n",
       "      <td>2018-04-16 00:32:48</td>\n",
       "    </tr>\n",
       "    <tr>\n",
       "      <th>6548750</th>\n",
       "      <td>PmGx0vJ</td>\n",
       "      <td>1997-02-27</td>\n",
       "      <td>FEM</td>\n",
       "      <td>21</td>\n",
       "      <td>NaN</td>\n",
       "      <td>NaN</td>\n",
       "    </tr>\n",
       "    <tr>\n",
       "      <th>6548751</th>\n",
       "      <td>3NPqmBx</td>\n",
       "      <td>1990-01-08</td>\n",
       "      <td>FEM</td>\n",
       "      <td>28</td>\n",
       "      <td>NaN</td>\n",
       "      <td>NaN</td>\n",
       "    </tr>\n",
       "    <tr>\n",
       "      <th>6548752</th>\n",
       "      <td>wVkvPrQ</td>\n",
       "      <td>1994-02-24</td>\n",
       "      <td>MASC</td>\n",
       "      <td>24</td>\n",
       "      <td>1.112463e+09</td>\n",
       "      <td>2018-04-15 23:41:20</td>\n",
       "    </tr>\n",
       "    <tr>\n",
       "      <th>6548753</th>\n",
       "      <td>wVkvPrQ</td>\n",
       "      <td>1994-02-24</td>\n",
       "      <td>MASC</td>\n",
       "      <td>24</td>\n",
       "      <td>1.112457e+09</td>\n",
       "      <td>2018-04-15 23:44:04</td>\n",
       "    </tr>\n",
       "    <tr>\n",
       "      <th>6548754</th>\n",
       "      <td>wVkvPrQ</td>\n",
       "      <td>1994-02-24</td>\n",
       "      <td>MASC</td>\n",
       "      <td>24</td>\n",
       "      <td>1.112429e+09</td>\n",
       "      <td>2018-04-15 23:44:29</td>\n",
       "    </tr>\n",
       "    <tr>\n",
       "      <th>6548755</th>\n",
       "      <td>wVkvPrQ</td>\n",
       "      <td>1994-02-24</td>\n",
       "      <td>MASC</td>\n",
       "      <td>24</td>\n",
       "      <td>1.112420e+09</td>\n",
       "      <td>2018-04-16 00:39:57</td>\n",
       "    </tr>\n",
       "    <tr>\n",
       "      <th>6548756</th>\n",
       "      <td>MVrow99</td>\n",
       "      <td>1999-09-27</td>\n",
       "      <td>FEM</td>\n",
       "      <td>18</td>\n",
       "      <td>1.112464e+09</td>\n",
       "      <td>2018-04-15 23:41:37</td>\n",
       "    </tr>\n",
       "    <tr>\n",
       "      <th>6548757</th>\n",
       "      <td>X95z68O</td>\n",
       "      <td>1998-10-29</td>\n",
       "      <td>MASC</td>\n",
       "      <td>19</td>\n",
       "      <td>1.112453e+09</td>\n",
       "      <td>2018-04-15 23:49:08</td>\n",
       "    </tr>\n",
       "    <tr>\n",
       "      <th>6548758</th>\n",
       "      <td>X95z68O</td>\n",
       "      <td>1998-10-29</td>\n",
       "      <td>MASC</td>\n",
       "      <td>19</td>\n",
       "      <td>1.112469e+09</td>\n",
       "      <td>2018-04-16 21:17:24</td>\n",
       "    </tr>\n",
       "  </tbody>\n",
       "</table>\n",
       "<p>6547990 rows × 6 columns</p>\n",
       "</div>"
      ],
      "text/plain": [
       "        idpostulante fechanacimiento  sexo  age       idaviso  \\\n",
       "0               NM5M      1970-12-03   FEM   47  1.112257e+09   \n",
       "1               NM5M      1970-12-03   FEM   47  1.111921e+09   \n",
       "2               NM5M      1970-12-03   FEM   47  1.112347e+09   \n",
       "3               NM5M      1970-12-03   FEM   47  1.112346e+09   \n",
       "4               5awk      1962-12-04   FEM   55  1.112238e+09   \n",
       "5               5awk      1962-12-04   FEM   55  1.112278e+09   \n",
       "6               5awk      1962-12-04   FEM   55  1.112302e+09   \n",
       "7               5awk      1962-12-04   FEM   55  1.112291e+09   \n",
       "8               5awk      1962-12-04   FEM   55  1.112304e+09   \n",
       "9               5awk      1962-12-04   FEM   55  1.112326e+09   \n",
       "10              5awk      1962-12-04   FEM   55  1.112304e+09   \n",
       "11              5awk      1962-12-04   FEM   55  1.112315e+09   \n",
       "12              5awk      1962-12-04   FEM   55  1.112315e+09   \n",
       "13              5awk      1962-12-04   FEM   55  1.112347e+09   \n",
       "14              5awk      1962-12-04   FEM   55  1.112331e+09   \n",
       "15              5awk      1962-12-04   FEM   55  1.112307e+09   \n",
       "16              5awk      1962-12-04   FEM   55  1.112315e+09   \n",
       "17              5awk      1962-12-04   FEM   55  1.111800e+09   \n",
       "18              5awk      1962-12-04   FEM   55  1.112323e+09   \n",
       "19              5awk      1962-12-04   FEM   55  1.112305e+09   \n",
       "20              ZaO5      1978-08-10   FEM   39  1.112287e+09   \n",
       "21              ZaO5      1978-08-10   FEM   39  1.112272e+09   \n",
       "22              ZaO5      1978-08-10   FEM   39  1.112288e+09   \n",
       "23              ZaO5      1978-08-10   FEM   39  1.112301e+09   \n",
       "24              ZaO5      1978-08-10   FEM   39  1.112293e+09   \n",
       "25              ZaO5      1978-08-10   FEM   39  1.112301e+09   \n",
       "26              ZaO5      1978-08-10   FEM   39  1.112310e+09   \n",
       "27              ZaO5      1978-08-10   FEM   39  1.112317e+09   \n",
       "28              ZaO5      1978-08-10   FEM   39  1.112322e+09   \n",
       "29              ZaO5      1978-08-10   FEM   39  1.112327e+09   \n",
       "...              ...             ...   ...  ...           ...   \n",
       "6548729      96XkbDP      1973-06-22  MASC   44           NaN   \n",
       "6548730      xkd83Aa      1999-04-07  MASC   19           NaN   \n",
       "6548731      QNrAbJz      1996-09-27   FEM   21  1.112366e+09   \n",
       "6548732      QNrAbJz      1996-09-27   FEM   21  1.112414e+09   \n",
       "6548733      W9WwMxN      1998-05-07  MASC   20  1.112463e+09   \n",
       "6548734      W9WwMxN      1998-05-07  MASC   20  1.112458e+09   \n",
       "6548735      W9WwMxN      1998-05-07  MASC   20  1.112451e+09   \n",
       "6548736      W9WwMxN      1998-05-07  MASC   20  1.112364e+09   \n",
       "6548737      W9WwMxN      1998-05-07  MASC   20  1.112441e+09   \n",
       "6548738      Bm5WNd0      1996-07-26   FEM   21  1.112451e+09   \n",
       "6548739      xkd83wV      1993-03-23  MASC   25           NaN   \n",
       "6548740      NzrvX34      1995-05-26  MASC   23  1.112447e+09   \n",
       "6548741      VNr4WR2      1995-10-03   FEM   22           NaN   \n",
       "6548742      5mPjX3G      1999-01-10   FEM   19           NaN   \n",
       "6548743      MVrowkr      2000-03-03  MASC   18           NaN   \n",
       "6548744      DrXZDeL      1994-11-20   FEM   23           NaN   \n",
       "6548745      zvaAYbk      1973-01-11   FEM   45  1.112465e+09   \n",
       "6548746      zvaAYbk      1973-01-11   FEM   45  1.112458e+09   \n",
       "6548747      zvaAYbk      1973-01-11   FEM   45  1.112426e+09   \n",
       "6548748      zvaAYbk      1973-01-11   FEM   45  1.112452e+09   \n",
       "6548749      zvaAYbk      1973-01-11   FEM   45  1.112455e+09   \n",
       "6548750      PmGx0vJ      1997-02-27   FEM   21           NaN   \n",
       "6548751      3NPqmBx      1990-01-08   FEM   28           NaN   \n",
       "6548752      wVkvPrQ      1994-02-24  MASC   24  1.112463e+09   \n",
       "6548753      wVkvPrQ      1994-02-24  MASC   24  1.112457e+09   \n",
       "6548754      wVkvPrQ      1994-02-24  MASC   24  1.112429e+09   \n",
       "6548755      wVkvPrQ      1994-02-24  MASC   24  1.112420e+09   \n",
       "6548756      MVrow99      1999-09-27   FEM   18  1.112464e+09   \n",
       "6548757      X95z68O      1998-10-29  MASC   19  1.112453e+09   \n",
       "6548758      X95z68O      1998-10-29  MASC   19  1.112469e+09   \n",
       "\n",
       "            fechapostulacion  \n",
       "0        2018-01-15 16:22:34  \n",
       "1        2018-02-06 09:04:50  \n",
       "2        2018-02-22 09:04:47  \n",
       "3        2018-02-22 09:04:59  \n",
       "4        2018-01-25 18:55:03  \n",
       "5        2018-01-29 13:34:44  \n",
       "6        2018-02-07 20:49:22  \n",
       "7        2018-02-07 20:50:13  \n",
       "8        2018-02-07 20:51:15  \n",
       "9        2018-02-09 20:24:57  \n",
       "10       2018-02-18 23:49:34  \n",
       "11       2018-02-19 00:01:20  \n",
       "12       2018-02-28 15:54:28  \n",
       "13       2018-02-28 15:54:47  \n",
       "14       2018-02-28 15:56:43  \n",
       "15       2018-02-28 15:57:35  \n",
       "16       2018-02-28 15:59:14  \n",
       "17       2018-02-28 16:00:06  \n",
       "18       2018-02-28 16:00:41  \n",
       "19       2018-02-28 16:02:15  \n",
       "20       2018-01-24 15:07:39  \n",
       "21       2018-01-24 15:20:10  \n",
       "22       2018-01-26 08:37:04  \n",
       "23       2018-01-30 13:35:48  \n",
       "24       2018-01-31 08:41:05  \n",
       "25       2018-01-31 08:55:20  \n",
       "26       2018-02-03 15:55:15  \n",
       "27       2018-02-07 09:56:22  \n",
       "28       2018-02-09 10:29:54  \n",
       "29       2018-02-11 17:49:26  \n",
       "...                      ...  \n",
       "6548729                  NaN  \n",
       "6548730                  NaN  \n",
       "6548731  2018-04-15 23:18:31  \n",
       "6548732  2018-04-15 23:19:43  \n",
       "6548733  2018-04-15 23:53:36  \n",
       "6548734  2018-04-16 00:00:16  \n",
       "6548735  2018-04-16 00:04:13  \n",
       "6548736  2018-04-16 00:05:21  \n",
       "6548737  2018-04-16 00:06:41  \n",
       "6548738  2018-04-15 23:10:14  \n",
       "6548739                  NaN  \n",
       "6548740  2018-04-15 23:18:22  \n",
       "6548741                  NaN  \n",
       "6548742                  NaN  \n",
       "6548743                  NaN  \n",
       "6548744                  NaN  \n",
       "6548745  2018-04-15 23:55:22  \n",
       "6548746  2018-04-16 00:11:51  \n",
       "6548747  2018-04-16 00:14:45  \n",
       "6548748  2018-04-16 00:29:59  \n",
       "6548749  2018-04-16 00:32:48  \n",
       "6548750                  NaN  \n",
       "6548751                  NaN  \n",
       "6548752  2018-04-15 23:41:20  \n",
       "6548753  2018-04-15 23:44:04  \n",
       "6548754  2018-04-15 23:44:29  \n",
       "6548755  2018-04-16 00:39:57  \n",
       "6548756  2018-04-15 23:41:37  \n",
       "6548757  2018-04-15 23:49:08  \n",
       "6548758  2018-04-16 21:17:24  \n",
       "\n",
       "[6547990 rows x 6 columns]"
      ]
     },
     "execution_count": 103,
     "metadata": {},
     "output_type": "execute_result"
    }
   ],
   "source": [
    "entrenamiento_genero"
   ]
  },
  {
   "cell_type": "code",
   "execution_count": null,
   "metadata": {},
   "outputs": [],
   "source": []
  }
 ],
 "metadata": {
  "kernelspec": {
   "display_name": "Python 3",
   "language": "python",
   "name": "python3"
  },
  "language_info": {
   "codemirror_mode": {
    "name": "ipython",
    "version": 3
   },
   "file_extension": ".py",
   "mimetype": "text/x-python",
   "name": "python",
   "nbconvert_exporter": "python",
   "pygments_lexer": "ipython3",
   "version": "3.5.2"
  }
 },
 "nbformat": 4,
 "nbformat_minor": 2
}
