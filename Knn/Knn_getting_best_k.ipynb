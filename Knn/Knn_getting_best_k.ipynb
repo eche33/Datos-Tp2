{
 "cells": [
  {
   "cell_type": "code",
   "execution_count": 1,
   "metadata": {},
   "outputs": [
    {
     "name": "stdout",
     "output_type": "stream",
     "text": [
      "Populating the interactive namespace from numpy and matplotlib\n"
     ]
    },
    {
     "name": "stderr",
     "output_type": "stream",
     "text": [
      "/home/rodrigo/ENV/lib/python3.5/site-packages/IPython/core/magics/pylab.py:160: UserWarning: pylab import has clobbered these variables: ['datetime']\n",
      "`%matplotlib` prevents importing * from pylab and numpy\n",
      "  \"\\n`%matplotlib` prevents importing * from pylab and numpy\"\n"
     ]
    }
   ],
   "source": [
    "from __future__ import print_function\n",
    "from sklearn.model_selection import train_test_split\n",
    "from sklearn.neighbors import KNeighborsClassifier\n",
    "from sklearn.metrics import classification_report\n",
    "from sklearn import datasets\n",
    "from sklearn import preprocessing\n",
    "import numpy as np\n",
    "import pandas as pd\n",
    "from datetime import datetime\n",
    "%pylab inline\n",
    "import matplotlib.pyplot as plt\n",
    "import matplotlib.image as mpimg\n",
    "from sklearn.metrics import accuracy_score"
   ]
  },
  {
   "cell_type": "markdown",
   "metadata": {},
   "source": [
    "## Importo el set de entrenamiento"
   ]
  },
  {
   "cell_type": "code",
   "execution_count": 2,
   "metadata": {},
   "outputs": [
    {
     "name": "stdout",
     "output_type": "stream",
     "text": [
      "<class 'pandas.core.frame.DataFrame'>\n",
      "RangeIndex: 13208286 entries, 0 to 13208285\n",
      "Data columns (total 16 columns):\n",
      "sepostulo               int8\n",
      "idaviso                 int64\n",
      "idpostulante            object\n",
      "fechapostulacion        datetime64[ns]\n",
      "ultima_vista            datetime64[ns]\n",
      "veces_visto             int16\n",
      "estudios                category\n",
      "estado                  category\n",
      "sexo                    category\n",
      "edad                    int8\n",
      "titulo                  object\n",
      "nombre_zona             category\n",
      "tipo_de_trabajo         category\n",
      "nivel_laboral           category\n",
      "nombre_area             category\n",
      "denominacion_empresa    object\n",
      "dtypes: category(7), datetime64[ns](2), int16(1), int64(1), int8(2), object(3)\n",
      "memory usage: 755.8+ MB\n"
     ]
    }
   ],
   "source": [
    "data_set_complete = pd.read_csv('/home/rodrigo/ENV/Notebooks/Tp2/Datos-Tp2/Csvs/data_set_complete.csv', parse_dates=['fechapostulacion', 'ultima_vista'], dtype={'sepostulo':'int8', 'idaviso':'int64', 'idpostulante':'object', 'veces_visto':'int16', 'estudios':'category', 'estado':'category', 'edad':'int8', 'sexo':'category','nombre_zona':'category', 'tipo_de_trabajo':'category', 'nivel_laboral':'category', 'nombre_area':'category'})\n",
    "data_set_complete.info()"
   ]
  },
  {
   "cell_type": "markdown",
   "metadata": {},
   "source": [
    "## Encoders"
   ]
  },
  {
   "cell_type": "code",
   "execution_count": 3,
   "metadata": {},
   "outputs": [],
   "source": [
    "def df_encode_categorical_vars(df):\n",
    "    for column in df.columns:\n",
    "        if (df[column].dtype.name == 'category'):\n",
    "            le = preprocessing.LabelEncoder()\n",
    "            df[column] = le.fit_transform(df[column].astype(str))"
   ]
  },
  {
   "cell_type": "code",
   "execution_count": 4,
   "metadata": {},
   "outputs": [],
   "source": [
    "def df_encode_object_vars(df):\n",
    "    for column in df.columns:\n",
    "        if (df[column].dtype == type(object)):\n",
    "            le = preprocessing.LabelEncoder()\n",
    "            df[column] = le.fit_transform(df[column].astype(str))"
   ]
  },
  {
   "cell_type": "markdown",
   "metadata": {},
   "source": [
    "## Para trabajr solo me voy a cadar con una muestra del set de entrenamiento"
   ]
  },
  {
   "cell_type": "code",
   "execution_count": 5,
   "metadata": {},
   "outputs": [],
   "source": [
    "muestra = data_set_complete.sample(500000)"
   ]
  },
  {
   "cell_type": "code",
   "execution_count": 6,
   "metadata": {},
   "outputs": [
    {
     "name": "stdout",
     "output_type": "stream",
     "text": [
      "<class 'pandas.core.frame.DataFrame'>\n",
      "Int64Index: 500000 entries, 8388141 to 4986737\n",
      "Data columns (total 16 columns):\n",
      "sepostulo               500000 non-null int8\n",
      "idaviso                 500000 non-null int64\n",
      "idpostulante            500000 non-null object\n",
      "fechapostulacion        249803 non-null datetime64[ns]\n",
      "ultima_vista            67497 non-null datetime64[ns]\n",
      "veces_visto             500000 non-null int16\n",
      "estudios                492349 non-null category\n",
      "estado                  492349 non-null category\n",
      "sexo                    500000 non-null category\n",
      "edad                    500000 non-null int8\n",
      "titulo                  468636 non-null object\n",
      "nombre_zona             468636 non-null category\n",
      "tipo_de_trabajo         468636 non-null category\n",
      "nivel_laboral           457414 non-null category\n",
      "nombre_area             468636 non-null category\n",
      "denominacion_empresa    468611 non-null object\n",
      "dtypes: category(7), datetime64[ns](2), int16(1), int64(1), int8(2), object(3)\n",
      "memory usage: 32.4+ MB\n"
     ]
    }
   ],
   "source": [
    "muestra.info()"
   ]
  },
  {
   "cell_type": "code",
   "execution_count": 7,
   "metadata": {},
   "outputs": [],
   "source": [
    "df_encode_categorical_vars(muestra)"
   ]
  },
  {
   "cell_type": "code",
   "execution_count": 8,
   "metadata": {},
   "outputs": [
    {
     "name": "stdout",
     "output_type": "stream",
     "text": [
      "<class 'pandas.core.frame.DataFrame'>\n",
      "Int64Index: 500000 entries, 8388141 to 4986737\n",
      "Data columns (total 16 columns):\n",
      "sepostulo               500000 non-null int8\n",
      "idaviso                 500000 non-null int64\n",
      "idpostulante            500000 non-null object\n",
      "fechapostulacion        249803 non-null datetime64[ns]\n",
      "ultima_vista            67497 non-null datetime64[ns]\n",
      "veces_visto             500000 non-null int16\n",
      "estudios                500000 non-null int64\n",
      "estado                  500000 non-null int64\n",
      "sexo                    500000 non-null int64\n",
      "edad                    500000 non-null int8\n",
      "titulo                  468636 non-null object\n",
      "nombre_zona             500000 non-null int64\n",
      "tipo_de_trabajo         500000 non-null int64\n",
      "nivel_laboral           500000 non-null int64\n",
      "nombre_area             500000 non-null int64\n",
      "denominacion_empresa    468611 non-null object\n",
      "dtypes: datetime64[ns](2), int16(1), int64(8), int8(2), object(3)\n",
      "memory usage: 55.3+ MB\n"
     ]
    }
   ],
   "source": [
    "muestra.info()"
   ]
  },
  {
   "cell_type": "markdown",
   "metadata": {},
   "source": [
    "### Saco las variables que no son numericas"
   ]
  },
  {
   "cell_type": "code",
   "execution_count": 9,
   "metadata": {},
   "outputs": [],
   "source": [
    "muestra.drop(columns=['idaviso','idpostulante','fechapostulacion','ultima_vista','titulo','denominacion_empresa'], inplace=True)"
   ]
  },
  {
   "cell_type": "code",
   "execution_count": 10,
   "metadata": {},
   "outputs": [
    {
     "data": {
      "text/html": [
       "<div>\n",
       "<style scoped>\n",
       "    .dataframe tbody tr th:only-of-type {\n",
       "        vertical-align: middle;\n",
       "    }\n",
       "\n",
       "    .dataframe tbody tr th {\n",
       "        vertical-align: top;\n",
       "    }\n",
       "\n",
       "    .dataframe thead th {\n",
       "        text-align: right;\n",
       "    }\n",
       "</style>\n",
       "<table border=\"1\" class=\"dataframe\">\n",
       "  <thead>\n",
       "    <tr style=\"text-align: right;\">\n",
       "      <th></th>\n",
       "      <th>sepostulo</th>\n",
       "      <th>veces_visto</th>\n",
       "      <th>estudios</th>\n",
       "      <th>estado</th>\n",
       "      <th>sexo</th>\n",
       "      <th>edad</th>\n",
       "      <th>nombre_zona</th>\n",
       "      <th>tipo_de_trabajo</th>\n",
       "      <th>nivel_laboral</th>\n",
       "      <th>nombre_area</th>\n",
       "    </tr>\n",
       "  </thead>\n",
       "  <tbody>\n",
       "    <tr>\n",
       "      <th>8388141</th>\n",
       "      <td>0</td>\n",
       "      <td>0</td>\n",
       "      <td>6</td>\n",
       "      <td>2</td>\n",
       "      <td>1</td>\n",
       "      <td>30</td>\n",
       "      <td>6</td>\n",
       "      <td>10</td>\n",
       "      <td>5</td>\n",
       "      <td>181</td>\n",
       "    </tr>\n",
       "    <tr>\n",
       "      <th>2961750</th>\n",
       "      <td>1</td>\n",
       "      <td>1</td>\n",
       "      <td>5</td>\n",
       "      <td>0</td>\n",
       "      <td>1</td>\n",
       "      <td>36</td>\n",
       "      <td>6</td>\n",
       "      <td>10</td>\n",
       "      <td>5</td>\n",
       "      <td>181</td>\n",
       "    </tr>\n",
       "    <tr>\n",
       "      <th>11856127</th>\n",
       "      <td>0</td>\n",
       "      <td>0</td>\n",
       "      <td>4</td>\n",
       "      <td>2</td>\n",
       "      <td>0</td>\n",
       "      <td>21</td>\n",
       "      <td>5</td>\n",
       "      <td>1</td>\n",
       "      <td>4</td>\n",
       "      <td>29</td>\n",
       "    </tr>\n",
       "    <tr>\n",
       "      <th>7702901</th>\n",
       "      <td>0</td>\n",
       "      <td>0</td>\n",
       "      <td>6</td>\n",
       "      <td>2</td>\n",
       "      <td>1</td>\n",
       "      <td>56</td>\n",
       "      <td>5</td>\n",
       "      <td>1</td>\n",
       "      <td>4</td>\n",
       "      <td>138</td>\n",
       "    </tr>\n",
       "    <tr>\n",
       "      <th>1044600</th>\n",
       "      <td>1</td>\n",
       "      <td>1</td>\n",
       "      <td>6</td>\n",
       "      <td>2</td>\n",
       "      <td>1</td>\n",
       "      <td>41</td>\n",
       "      <td>5</td>\n",
       "      <td>1</td>\n",
       "      <td>1</td>\n",
       "      <td>4</td>\n",
       "    </tr>\n",
       "  </tbody>\n",
       "</table>\n",
       "</div>"
      ],
      "text/plain": [
       "          sepostulo  veces_visto  estudios  estado  sexo  edad  nombre_zona  \\\n",
       "8388141           0            0         6       2     1    30            6   \n",
       "2961750           1            1         5       0     1    36            6   \n",
       "11856127          0            0         4       2     0    21            5   \n",
       "7702901           0            0         6       2     1    56            5   \n",
       "1044600           1            1         6       2     1    41            5   \n",
       "\n",
       "          tipo_de_trabajo  nivel_laboral  nombre_area  \n",
       "8388141                10              5          181  \n",
       "2961750                10              5          181  \n",
       "11856127                1              4           29  \n",
       "7702901                 1              4          138  \n",
       "1044600                 1              1            4  "
      ]
     },
     "execution_count": 10,
     "metadata": {},
     "output_type": "execute_result"
    }
   ],
   "source": [
    "muestra.head()"
   ]
  },
  {
   "cell_type": "code",
   "execution_count": 11,
   "metadata": {},
   "outputs": [
    {
     "data": {
      "text/plain": [
       "0    250197\n",
       "1    249803\n",
       "Name: sepostulo, dtype: int64"
      ]
     },
     "execution_count": 11,
     "metadata": {},
     "output_type": "execute_result"
    }
   ],
   "source": [
    "muestra['sepostulo'].value_counts()"
   ]
  },
  {
   "cell_type": "markdown",
   "metadata": {},
   "source": [
    "## Defino train y test"
   ]
  },
  {
   "cell_type": "code",
   "execution_count": 12,
   "metadata": {},
   "outputs": [],
   "source": [
    "train_set, test_set, train_classes, test_classes = train_test_split(muestra, muestra['sepostulo'], test_size=0.3)"
   ]
  },
  {
   "cell_type": "code",
   "execution_count": 13,
   "metadata": {},
   "outputs": [
    {
     "name": "stderr",
     "output_type": "stream",
     "text": [
      "/home/rodrigo/ENV/lib/python3.5/site-packages/ipykernel_launcher.py:1: SettingWithCopyWarning: \n",
      "A value is trying to be set on a copy of a slice from a DataFrame\n",
      "\n",
      "See the caveats in the documentation: http://pandas.pydata.org/pandas-docs/stable/indexing.html#indexing-view-versus-copy\n",
      "  \"\"\"Entry point for launching an IPython kernel.\n",
      "/home/rodrigo/ENV/lib/python3.5/site-packages/ipykernel_launcher.py:2: SettingWithCopyWarning: \n",
      "A value is trying to be set on a copy of a slice from a DataFrame\n",
      "\n",
      "See the caveats in the documentation: http://pandas.pydata.org/pandas-docs/stable/indexing.html#indexing-view-versus-copy\n",
      "  \n"
     ]
    }
   ],
   "source": [
    "train_set.drop(columns=['sepostulo'], inplace=True)\n",
    "test_set.drop(columns=['sepostulo'], inplace=True)\n",
    "train_classes.drop(columns=['sepostulo'], inplace=True)\n",
    "test_classes.drop(columns=['sepostulo'], inplace=True)"
   ]
  },
  {
   "cell_type": "markdown",
   "metadata": {},
   "source": [
    "## Analicemos el mejor valor de K"
   ]
  },
  {
   "cell_type": "code",
   "execution_count": 14,
   "metadata": {},
   "outputs": [
    {
     "name": "stdout",
     "output_type": "stream",
     "text": [
      "k=1, accuracy=97.43%\n",
      "k=3, accuracy=97.39%\n",
      "k=5, accuracy=97.40%\n",
      "k=7, accuracy=97.37%\n",
      "k=9, accuracy=97.31%\n",
      "k=11, accuracy=97.21%\n",
      "k=13, accuracy=97.25%\n",
      "k=15, accuracy=97.16%\n",
      "k=17, accuracy=97.08%\n",
      "k=19, accuracy=97.01%\n",
      "k=21, accuracy=96.89%\n",
      "k=23, accuracy=96.79%\n",
      "k=25, accuracy=96.69%\n",
      "k=27, accuracy=96.61%\n",
      "k=29, accuracy=96.55%\n",
      "k=31, accuracy=96.47%\n",
      "k=33, accuracy=96.44%\n",
      "k=35, accuracy=96.39%\n",
      "k=37, accuracy=96.33%\n",
      "k=39, accuracy=96.25%\n",
      "k=41, accuracy=96.19%\n",
      "k=43, accuracy=96.14%\n",
      "k=45, accuracy=96.09%\n",
      "k=47, accuracy=96.00%\n",
      "k=49, accuracy=95.93%\n",
      "k=51, accuracy=95.86%\n",
      "k=53, accuracy=95.82%\n",
      "k=55, accuracy=95.81%\n",
      "k=57, accuracy=95.72%\n",
      "k=59, accuracy=95.67%\n"
     ]
    }
   ],
   "source": [
    "# Lista de valores de K impares (1,3,5,7,9..39)\n",
    "kVals = range(1, 60, 2)\n",
    "accuracies = []\n",
    "\n",
    "#En este loop vamos a ver la precision del algoritmo en funcion de K\n",
    "\n",
    "for k in kVals:\n",
    "    #Inicializacion del modelo\n",
    "    model = KNeighborsClassifier(n_neighbors=k)\n",
    "    model.fit(train_set, train_classes)\n",
    "\n",
    "    \n",
    "    score = model.score(test_set, test_classes)\n",
    "    print(\"k=%d, accuracy=%.2f%%\" % (k, score * 100))\n",
    "    accuracies.append(score)"
   ]
  },
  {
   "cell_type": "code",
   "execution_count": 15,
   "metadata": {},
   "outputs": [
    {
     "data": {
      "image/png": "[encoded data removed]",
      "text/plain": [
       "<Figure size 432x288 with 1 Axes>"
      ]
     },
     "metadata": {},
     "output_type": "display_data"
    }
   ],
   "source": [
    "#Grafico la precisión vs el valor de K\n",
    "plt.plot(kVals, accuracies)\n",
    "plt.ylabel('Accuracy')\n",
    "plt.xlabel('K')\n",
    "plt.title('Accuracy vs K')\n",
    "plt.show()"
   ]
  },
  {
   "cell_type": "markdown",
   "metadata": {},
   "source": [
    "Pareciera ser que alrededor de k=5 estan los mejores valores\n"
   ]
  },
  {
   "cell_type": "code",
   "execution_count": null,
   "metadata": {},
   "outputs": [],
   "source": []
  }
 ],
 "metadata": {
  "kernelspec": {
   "display_name": "Python 3",
   "language": "python",
   "name": "python3"
  },
  "language_info": {
   "codemirror_mode": {
    "name": "ipython",
    "version": 3
   },
   "file_extension": ".py",
   "mimetype": "text/x-python",
   "name": "python",
   "nbconvert_exporter": "python",
   "pygments_lexer": "ipython3",
   "version": "3.5.2"
  }
 },
 "nbformat": 4,
 "nbformat_minor": 2
}
